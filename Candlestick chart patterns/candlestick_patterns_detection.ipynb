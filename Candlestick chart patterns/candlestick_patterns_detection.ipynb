{
 "cells": [
  {
   "cell_type": "code",
   "execution_count": 1,
   "id": "42813728",
   "metadata": {},
   "outputs": [
    {
     "data": {
      "text/html": [
       "        <script type=\"text/javascript\">\n",
       "        window.PlotlyConfig = {MathJaxConfig: 'local'};\n",
       "        if (window.MathJax) {MathJax.Hub.Config({SVG: {font: \"STIX-Web\"}});}\n",
       "        if (typeof require !== 'undefined') {\n",
       "        require.undef(\"plotly\");\n",
       "        requirejs.config({\n",
       "            paths: {\n",
       "                'plotly': ['https://cdn.plot.ly/plotly-2.11.1.min']\n",
       "            }\n",
       "        });\n",
       "        require(['plotly'], function(Plotly) {\n",
       "            window._Plotly = Plotly;\n",
       "        });\n",
       "        }\n",
       "        </script>\n",
       "        "
      ]
     },
     "metadata": {},
     "output_type": "display_data"
    }
   ],
   "source": [
    "import ccxt\n",
    "import talib\n",
    "\n",
    "from datetime import date, datetime\n",
    "import time\n",
    "\n",
    "import pandas as pd\n",
    "import numpy as np\n",
    "\n",
    "import plotly\n",
    "import plotly.express as px\n",
    "from plotly.offline import download_plotlyjs, init_notebook_mode, plot, iplot\n",
    "from plotly.subplots import make_subplots\n",
    "import plotly.graph_objs as go\n",
    "init_notebook_mode(connected=True)\n",
    "\n",
    "pd.set_option('display.max_rows', None)"
   ]
  },
  {
   "cell_type": "markdown",
   "id": "ce2f86f6",
   "metadata": {},
   "source": [
    "# Candlestick Patterns Detection"
   ]
  },
  {
   "cell_type": "markdown",
   "id": "de34e424",
   "metadata": {},
   "source": [
    "\n",
    "* [1. Obtaining Historical Data](#1-bullet)\n",
    "* [2. Patterns Recognition](#2-bullet)\n",
    "* [3. Dive Into BTC ](#3-bullet)\n",
    "* [4. Altcoins Summary](#4-bullet)\n",
    "* [5. Results](#5-bullet)"
   ]
  },
  {
   "cell_type": "markdown",
   "id": "134b5d0b",
   "metadata": {},
   "source": [
    "## Obtaining historical data <a id='1-bullet'></a>\n",
    "\n",
    "Getting prices from January 2021 as this is the starting point of the current cycle"
   ]
  },
  {
   "cell_type": "code",
   "execution_count": 2,
   "id": "aaff6984",
   "metadata": {},
   "outputs": [],
   "source": [
    "coins = ['BTCUSDT', 'ETHUSDT', 'SOLUSDT', 'DOGEUSDT', 'NEARUSDT',\n",
    "         'ONEUSDT', 'BNBUSDT', 'XRPUSDT', 'ADAUSDT', 'DOTUSDT',\n",
    "         'ATOMUSDT', 'FTTUSDT', 'LTCUSDT', 'AVAXUSDT', 'MATICUSDT']"
   ]
  },
  {
   "cell_type": "code",
   "execution_count": 3,
   "id": "235a9274",
   "metadata": {},
   "outputs": [],
   "source": [
    "binance = ccxt.binance()\n",
    "\n",
    "startDate = \"2021-01-01\"\n",
    "startDate = datetime.strptime(startDate, \"%Y-%m-%d\")\n",
    "startDate = datetime.timestamp(startDate)\n",
    "startDate = int(startDate) * 1000\n",
    "\n",
    "if binance.has['fetchOHLCV']:\n",
    "    for symbol in coins:\n",
    "        ohlcv = binance.fetch_ohlcv(symbol, '4h', since=startDate, limit=1000)\n",
    "        #ohlcv = ohlcv[:-1] # removing last - still open - candlestick\n",
    "        vars()[symbol] = pd.DataFrame(ohlcv, columns = ['Time', 'Open', 'High', 'Low', 'Close', 'Volume'])\n",
    "        vars()[symbol]['Time'] = [datetime.fromtimestamp(float(time)/1000) for time in vars()[symbol]['Time']]"
   ]
  },
  {
   "cell_type": "code",
   "execution_count": 4,
   "id": "e64bfc8a",
   "metadata": {},
   "outputs": [
    {
     "data": {
      "text/html": [
       "<div>\n",
       "<style scoped>\n",
       "    .dataframe tbody tr th:only-of-type {\n",
       "        vertical-align: middle;\n",
       "    }\n",
       "\n",
       "    .dataframe tbody tr th {\n",
       "        vertical-align: top;\n",
       "    }\n",
       "\n",
       "    .dataframe thead th {\n",
       "        text-align: right;\n",
       "    }\n",
       "</style>\n",
       "<table border=\"1\" class=\"dataframe\">\n",
       "  <thead>\n",
       "    <tr style=\"text-align: right;\">\n",
       "      <th></th>\n",
       "      <th>Time</th>\n",
       "      <th>Open</th>\n",
       "      <th>High</th>\n",
       "      <th>Low</th>\n",
       "      <th>Close</th>\n",
       "      <th>Volume</th>\n",
       "    </tr>\n",
       "  </thead>\n",
       "  <tbody>\n",
       "    <tr>\n",
       "      <th>0</th>\n",
       "      <td>2021-01-01 03:00:00</td>\n",
       "      <td>28923.63</td>\n",
       "      <td>29470.00</td>\n",
       "      <td>28690.17</td>\n",
       "      <td>29278.40</td>\n",
       "      <td>11560.456553</td>\n",
       "    </tr>\n",
       "    <tr>\n",
       "      <th>1</th>\n",
       "      <td>2021-01-01 07:00:00</td>\n",
       "      <td>29278.41</td>\n",
       "      <td>29395.00</td>\n",
       "      <td>28806.54</td>\n",
       "      <td>29092.83</td>\n",
       "      <td>7308.910274</td>\n",
       "    </tr>\n",
       "    <tr>\n",
       "      <th>2</th>\n",
       "      <td>2021-01-01 11:00:00</td>\n",
       "      <td>29092.84</td>\n",
       "      <td>29402.57</td>\n",
       "      <td>28872.24</td>\n",
       "      <td>29313.49</td>\n",
       "      <td>8283.705319</td>\n",
       "    </tr>\n",
       "    <tr>\n",
       "      <th>3</th>\n",
       "      <td>2021-01-01 15:00:00</td>\n",
       "      <td>29313.49</td>\n",
       "      <td>29600.00</td>\n",
       "      <td>29030.14</td>\n",
       "      <td>29188.67</td>\n",
       "      <td>11794.949515</td>\n",
       "    </tr>\n",
       "    <tr>\n",
       "      <th>4</th>\n",
       "      <td>2021-01-01 19:00:00</td>\n",
       "      <td>29188.67</td>\n",
       "      <td>29360.00</td>\n",
       "      <td>28624.57</td>\n",
       "      <td>29029.04</td>\n",
       "      <td>9850.965345</td>\n",
       "    </tr>\n",
       "  </tbody>\n",
       "</table>\n",
       "</div>"
      ],
      "text/plain": [
       "                 Time      Open      High       Low     Close        Volume\n",
       "0 2021-01-01 03:00:00  28923.63  29470.00  28690.17  29278.40  11560.456553\n",
       "1 2021-01-01 07:00:00  29278.41  29395.00  28806.54  29092.83   7308.910274\n",
       "2 2021-01-01 11:00:00  29092.84  29402.57  28872.24  29313.49   8283.705319\n",
       "3 2021-01-01 15:00:00  29313.49  29600.00  29030.14  29188.67  11794.949515\n",
       "4 2021-01-01 19:00:00  29188.67  29360.00  28624.57  29029.04   9850.965345"
      ]
     },
     "execution_count": 4,
     "metadata": {},
     "output_type": "execute_result"
    }
   ],
   "source": [
    "BTCUSDT.head()"
   ]
  },
  {
   "cell_type": "code",
   "execution_count": 5,
   "id": "5de34beb",
   "metadata": {},
   "outputs": [],
   "source": [
    "#BTCUSDT.to_csv('BTCUSDT_4h.csv', index=False)"
   ]
  },
  {
   "cell_type": "markdown",
   "id": "af7a670c",
   "metadata": {},
   "source": [
    "## Patterns Recognition <a id='2-bullet'></a>\n",
    " \n",
    "Now let's detect patterns\n",
    "\n",
    "[TA-lib](https://mrjbq7.github.io/ta-lib/func_groups/pattern_recognition.html)"
   ]
  },
  {
   "cell_type": "code",
   "execution_count": 6,
   "id": "dfe57bf7",
   "metadata": {},
   "outputs": [
    {
     "data": {
      "text/html": [
       "<div>\n",
       "<style scoped>\n",
       "    .dataframe tbody tr th:only-of-type {\n",
       "        vertical-align: middle;\n",
       "    }\n",
       "\n",
       "    .dataframe tbody tr th {\n",
       "        vertical-align: top;\n",
       "    }\n",
       "\n",
       "    .dataframe thead th {\n",
       "        text-align: right;\n",
       "    }\n",
       "</style>\n",
       "<table border=\"1\" class=\"dataframe\">\n",
       "  <thead>\n",
       "    <tr style=\"text-align: right;\">\n",
       "      <th></th>\n",
       "      <th>Time</th>\n",
       "      <th>Open</th>\n",
       "      <th>High</th>\n",
       "      <th>Low</th>\n",
       "      <th>Close</th>\n",
       "      <th>Volume</th>\n",
       "    </tr>\n",
       "  </thead>\n",
       "  <tbody>\n",
       "    <tr>\n",
       "      <th>0</th>\n",
       "      <td>2021-01-01 03:00:00</td>\n",
       "      <td>28923.63</td>\n",
       "      <td>29470.00</td>\n",
       "      <td>28690.17</td>\n",
       "      <td>29278.40</td>\n",
       "      <td>11560.456553</td>\n",
       "    </tr>\n",
       "    <tr>\n",
       "      <th>1</th>\n",
       "      <td>2021-01-01 07:00:00</td>\n",
       "      <td>29278.41</td>\n",
       "      <td>29395.00</td>\n",
       "      <td>28806.54</td>\n",
       "      <td>29092.83</td>\n",
       "      <td>7308.910274</td>\n",
       "    </tr>\n",
       "    <tr>\n",
       "      <th>2</th>\n",
       "      <td>2021-01-01 11:00:00</td>\n",
       "      <td>29092.84</td>\n",
       "      <td>29402.57</td>\n",
       "      <td>28872.24</td>\n",
       "      <td>29313.49</td>\n",
       "      <td>8283.705319</td>\n",
       "    </tr>\n",
       "    <tr>\n",
       "      <th>3</th>\n",
       "      <td>2021-01-01 15:00:00</td>\n",
       "      <td>29313.49</td>\n",
       "      <td>29600.00</td>\n",
       "      <td>29030.14</td>\n",
       "      <td>29188.67</td>\n",
       "      <td>11794.949515</td>\n",
       "    </tr>\n",
       "    <tr>\n",
       "      <th>4</th>\n",
       "      <td>2021-01-01 19:00:00</td>\n",
       "      <td>29188.67</td>\n",
       "      <td>29360.00</td>\n",
       "      <td>28624.57</td>\n",
       "      <td>29029.04</td>\n",
       "      <td>9850.965345</td>\n",
       "    </tr>\n",
       "  </tbody>\n",
       "</table>\n",
       "</div>"
      ],
      "text/plain": [
       "                  Time      Open      High       Low     Close        Volume\n",
       "0  2021-01-01 03:00:00  28923.63  29470.00  28690.17  29278.40  11560.456553\n",
       "1  2021-01-01 07:00:00  29278.41  29395.00  28806.54  29092.83   7308.910274\n",
       "2  2021-01-01 11:00:00  29092.84  29402.57  28872.24  29313.49   8283.705319\n",
       "3  2021-01-01 15:00:00  29313.49  29600.00  29030.14  29188.67  11794.949515\n",
       "4  2021-01-01 19:00:00  29188.67  29360.00  28624.57  29029.04   9850.965345"
      ]
     },
     "execution_count": 6,
     "metadata": {},
     "output_type": "execute_result"
    }
   ],
   "source": [
    "crypto_df = pd.read_csv('BTCUSDT_4h.csv')\n",
    "crypto_df.head()"
   ]
  },
  {
   "cell_type": "code",
   "execution_count": 7,
   "id": "b2ea2828",
   "metadata": {},
   "outputs": [],
   "source": [
    "# list of all available patterns\n",
    "pattern_names = talib.get_function_groups()['Pattern Recognition']"
   ]
  },
  {
   "cell_type": "code",
   "execution_count": 8,
   "id": "6256b9b9",
   "metadata": {},
   "outputs": [],
   "source": [
    "# Extract OHLC data\n",
    "open = crypto_df['Open']\n",
    "high = crypto_df['High']\n",
    "low = crypto_df['Low']\n",
    "close = crypto_df['Close']"
   ]
  },
  {
   "cell_type": "code",
   "execution_count": 9,
   "id": "c701d82c",
   "metadata": {},
   "outputs": [],
   "source": [
    "def seeking_patterns(dataframe):\n",
    "    \n",
    "    for pattern in pattern_names:\n",
    "        dataframe[pattern] = getattr(talib, pattern)(open, high, low, close)\n",
    "        \n",
    "    for i in dataframe.index:\n",
    "        for cd in pattern_names:\n",
    "            if dataframe.loc[i, cd] == -100:\n",
    "                dataframe.loc[i, cd] = 'Bearish'\n",
    "            if dataframe.loc[i, cd] == 100:\n",
    "                dataframe.loc[i, cd] = 'Bullish'\n",
    "                \n",
    "    return dataframe"
   ]
  },
  {
   "cell_type": "code",
   "execution_count": 10,
   "id": "c25babb8",
   "metadata": {},
   "outputs": [
    {
     "data": {
      "text/html": [
       "<div>\n",
       "<style scoped>\n",
       "    .dataframe tbody tr th:only-of-type {\n",
       "        vertical-align: middle;\n",
       "    }\n",
       "\n",
       "    .dataframe tbody tr th {\n",
       "        vertical-align: top;\n",
       "    }\n",
       "\n",
       "    .dataframe thead th {\n",
       "        text-align: right;\n",
       "    }\n",
       "</style>\n",
       "<table border=\"1\" class=\"dataframe\">\n",
       "  <thead>\n",
       "    <tr style=\"text-align: right;\">\n",
       "      <th></th>\n",
       "      <th>Time</th>\n",
       "      <th>Open</th>\n",
       "      <th>High</th>\n",
       "      <th>Low</th>\n",
       "      <th>Close</th>\n",
       "      <th>Volume</th>\n",
       "      <th>CDL2CROWS</th>\n",
       "      <th>CDL3BLACKCROWS</th>\n",
       "      <th>CDL3INSIDE</th>\n",
       "      <th>CDL3LINESTRIKE</th>\n",
       "      <th>CDL3OUTSIDE</th>\n",
       "      <th>CDL3STARSINSOUTH</th>\n",
       "      <th>CDL3WHITESOLDIERS</th>\n",
       "      <th>CDLABANDONEDBABY</th>\n",
       "      <th>CDLADVANCEBLOCK</th>\n",
       "      <th>CDLBELTHOLD</th>\n",
       "      <th>CDLBREAKAWAY</th>\n",
       "      <th>CDLCLOSINGMARUBOZU</th>\n",
       "      <th>CDLCONCEALBABYSWALL</th>\n",
       "      <th>CDLCOUNTERATTACK</th>\n",
       "      <th>CDLDARKCLOUDCOVER</th>\n",
       "      <th>CDLDOJI</th>\n",
       "      <th>CDLDOJISTAR</th>\n",
       "      <th>CDLDRAGONFLYDOJI</th>\n",
       "      <th>CDLENGULFING</th>\n",
       "      <th>CDLEVENINGDOJISTAR</th>\n",
       "      <th>CDLEVENINGSTAR</th>\n",
       "      <th>CDLGAPSIDESIDEWHITE</th>\n",
       "      <th>CDLGRAVESTONEDOJI</th>\n",
       "      <th>CDLHAMMER</th>\n",
       "      <th>CDLHANGINGMAN</th>\n",
       "      <th>CDLHARAMI</th>\n",
       "      <th>CDLHARAMICROSS</th>\n",
       "      <th>CDLHIGHWAVE</th>\n",
       "      <th>CDLHIKKAKE</th>\n",
       "      <th>CDLHIKKAKEMOD</th>\n",
       "      <th>CDLHOMINGPIGEON</th>\n",
       "      <th>CDLIDENTICAL3CROWS</th>\n",
       "      <th>CDLINNECK</th>\n",
       "      <th>CDLINVERTEDHAMMER</th>\n",
       "      <th>CDLKICKING</th>\n",
       "      <th>CDLKICKINGBYLENGTH</th>\n",
       "      <th>CDLLADDERBOTTOM</th>\n",
       "      <th>CDLLONGLEGGEDDOJI</th>\n",
       "      <th>CDLLONGLINE</th>\n",
       "      <th>CDLMARUBOZU</th>\n",
       "      <th>CDLMATCHINGLOW</th>\n",
       "      <th>CDLMATHOLD</th>\n",
       "      <th>CDLMORNINGDOJISTAR</th>\n",
       "      <th>CDLMORNINGSTAR</th>\n",
       "      <th>CDLONNECK</th>\n",
       "      <th>CDLPIERCING</th>\n",
       "      <th>CDLRICKSHAWMAN</th>\n",
       "      <th>CDLRISEFALL3METHODS</th>\n",
       "      <th>CDLSEPARATINGLINES</th>\n",
       "      <th>CDLSHOOTINGSTAR</th>\n",
       "      <th>CDLSHORTLINE</th>\n",
       "      <th>CDLSPINNINGTOP</th>\n",
       "      <th>CDLSTALLEDPATTERN</th>\n",
       "      <th>CDLSTICKSANDWICH</th>\n",
       "      <th>CDLTAKURI</th>\n",
       "      <th>CDLTASUKIGAP</th>\n",
       "      <th>CDLTHRUSTING</th>\n",
       "      <th>CDLTRISTAR</th>\n",
       "      <th>CDLUNIQUE3RIVER</th>\n",
       "      <th>CDLUPSIDEGAP2CROWS</th>\n",
       "      <th>CDLXSIDEGAP3METHODS</th>\n",
       "    </tr>\n",
       "  </thead>\n",
       "  <tbody>\n",
       "    <tr>\n",
       "      <th>0</th>\n",
       "      <td>2021-01-01 03:00:00</td>\n",
       "      <td>28923.63</td>\n",
       "      <td>29470.00</td>\n",
       "      <td>28690.17</td>\n",
       "      <td>29278.40</td>\n",
       "      <td>11560.456553</td>\n",
       "      <td>0</td>\n",
       "      <td>0</td>\n",
       "      <td>0</td>\n",
       "      <td>0</td>\n",
       "      <td>0</td>\n",
       "      <td>0</td>\n",
       "      <td>0</td>\n",
       "      <td>0</td>\n",
       "      <td>0</td>\n",
       "      <td>0</td>\n",
       "      <td>0</td>\n",
       "      <td>0</td>\n",
       "      <td>0</td>\n",
       "      <td>0</td>\n",
       "      <td>0</td>\n",
       "      <td>0</td>\n",
       "      <td>0</td>\n",
       "      <td>0</td>\n",
       "      <td>0</td>\n",
       "      <td>0</td>\n",
       "      <td>0</td>\n",
       "      <td>0</td>\n",
       "      <td>0</td>\n",
       "      <td>0</td>\n",
       "      <td>0</td>\n",
       "      <td>0</td>\n",
       "      <td>0</td>\n",
       "      <td>0</td>\n",
       "      <td>0</td>\n",
       "      <td>0</td>\n",
       "      <td>0</td>\n",
       "      <td>0</td>\n",
       "      <td>0</td>\n",
       "      <td>0</td>\n",
       "      <td>0</td>\n",
       "      <td>0</td>\n",
       "      <td>0</td>\n",
       "      <td>0</td>\n",
       "      <td>0</td>\n",
       "      <td>0</td>\n",
       "      <td>0</td>\n",
       "      <td>0</td>\n",
       "      <td>0</td>\n",
       "      <td>0</td>\n",
       "      <td>0</td>\n",
       "      <td>0</td>\n",
       "      <td>0</td>\n",
       "      <td>0</td>\n",
       "      <td>0</td>\n",
       "      <td>0</td>\n",
       "      <td>0</td>\n",
       "      <td>0</td>\n",
       "      <td>0</td>\n",
       "      <td>0</td>\n",
       "      <td>0</td>\n",
       "      <td>0</td>\n",
       "      <td>0</td>\n",
       "      <td>0</td>\n",
       "      <td>0</td>\n",
       "      <td>0</td>\n",
       "      <td>0</td>\n",
       "    </tr>\n",
       "    <tr>\n",
       "      <th>1</th>\n",
       "      <td>2021-01-01 07:00:00</td>\n",
       "      <td>29278.41</td>\n",
       "      <td>29395.00</td>\n",
       "      <td>28806.54</td>\n",
       "      <td>29092.83</td>\n",
       "      <td>7308.910274</td>\n",
       "      <td>0</td>\n",
       "      <td>0</td>\n",
       "      <td>0</td>\n",
       "      <td>0</td>\n",
       "      <td>0</td>\n",
       "      <td>0</td>\n",
       "      <td>0</td>\n",
       "      <td>0</td>\n",
       "      <td>0</td>\n",
       "      <td>0</td>\n",
       "      <td>0</td>\n",
       "      <td>0</td>\n",
       "      <td>0</td>\n",
       "      <td>0</td>\n",
       "      <td>0</td>\n",
       "      <td>0</td>\n",
       "      <td>0</td>\n",
       "      <td>0</td>\n",
       "      <td>0</td>\n",
       "      <td>0</td>\n",
       "      <td>0</td>\n",
       "      <td>0</td>\n",
       "      <td>0</td>\n",
       "      <td>0</td>\n",
       "      <td>0</td>\n",
       "      <td>0</td>\n",
       "      <td>0</td>\n",
       "      <td>0</td>\n",
       "      <td>0</td>\n",
       "      <td>0</td>\n",
       "      <td>0</td>\n",
       "      <td>0</td>\n",
       "      <td>0</td>\n",
       "      <td>0</td>\n",
       "      <td>0</td>\n",
       "      <td>0</td>\n",
       "      <td>0</td>\n",
       "      <td>0</td>\n",
       "      <td>0</td>\n",
       "      <td>0</td>\n",
       "      <td>0</td>\n",
       "      <td>0</td>\n",
       "      <td>0</td>\n",
       "      <td>0</td>\n",
       "      <td>0</td>\n",
       "      <td>0</td>\n",
       "      <td>0</td>\n",
       "      <td>0</td>\n",
       "      <td>0</td>\n",
       "      <td>0</td>\n",
       "      <td>0</td>\n",
       "      <td>0</td>\n",
       "      <td>0</td>\n",
       "      <td>0</td>\n",
       "      <td>0</td>\n",
       "      <td>0</td>\n",
       "      <td>0</td>\n",
       "      <td>0</td>\n",
       "      <td>0</td>\n",
       "      <td>0</td>\n",
       "      <td>0</td>\n",
       "    </tr>\n",
       "    <tr>\n",
       "      <th>2</th>\n",
       "      <td>2021-01-01 11:00:00</td>\n",
       "      <td>29092.84</td>\n",
       "      <td>29402.57</td>\n",
       "      <td>28872.24</td>\n",
       "      <td>29313.49</td>\n",
       "      <td>8283.705319</td>\n",
       "      <td>0</td>\n",
       "      <td>0</td>\n",
       "      <td>0</td>\n",
       "      <td>0</td>\n",
       "      <td>0</td>\n",
       "      <td>0</td>\n",
       "      <td>0</td>\n",
       "      <td>0</td>\n",
       "      <td>0</td>\n",
       "      <td>0</td>\n",
       "      <td>0</td>\n",
       "      <td>0</td>\n",
       "      <td>0</td>\n",
       "      <td>0</td>\n",
       "      <td>0</td>\n",
       "      <td>0</td>\n",
       "      <td>0</td>\n",
       "      <td>0</td>\n",
       "      <td>0</td>\n",
       "      <td>0</td>\n",
       "      <td>0</td>\n",
       "      <td>0</td>\n",
       "      <td>0</td>\n",
       "      <td>0</td>\n",
       "      <td>0</td>\n",
       "      <td>0</td>\n",
       "      <td>0</td>\n",
       "      <td>0</td>\n",
       "      <td>0</td>\n",
       "      <td>0</td>\n",
       "      <td>0</td>\n",
       "      <td>0</td>\n",
       "      <td>0</td>\n",
       "      <td>0</td>\n",
       "      <td>0</td>\n",
       "      <td>0</td>\n",
       "      <td>0</td>\n",
       "      <td>0</td>\n",
       "      <td>0</td>\n",
       "      <td>0</td>\n",
       "      <td>0</td>\n",
       "      <td>0</td>\n",
       "      <td>0</td>\n",
       "      <td>0</td>\n",
       "      <td>0</td>\n",
       "      <td>0</td>\n",
       "      <td>0</td>\n",
       "      <td>0</td>\n",
       "      <td>0</td>\n",
       "      <td>0</td>\n",
       "      <td>0</td>\n",
       "      <td>0</td>\n",
       "      <td>0</td>\n",
       "      <td>0</td>\n",
       "      <td>0</td>\n",
       "      <td>0</td>\n",
       "      <td>0</td>\n",
       "      <td>0</td>\n",
       "      <td>0</td>\n",
       "      <td>0</td>\n",
       "      <td>0</td>\n",
       "    </tr>\n",
       "    <tr>\n",
       "      <th>3</th>\n",
       "      <td>2021-01-01 15:00:00</td>\n",
       "      <td>29313.49</td>\n",
       "      <td>29600.00</td>\n",
       "      <td>29030.14</td>\n",
       "      <td>29188.67</td>\n",
       "      <td>11794.949515</td>\n",
       "      <td>0</td>\n",
       "      <td>0</td>\n",
       "      <td>0</td>\n",
       "      <td>0</td>\n",
       "      <td>0</td>\n",
       "      <td>0</td>\n",
       "      <td>0</td>\n",
       "      <td>0</td>\n",
       "      <td>0</td>\n",
       "      <td>0</td>\n",
       "      <td>0</td>\n",
       "      <td>0</td>\n",
       "      <td>0</td>\n",
       "      <td>0</td>\n",
       "      <td>0</td>\n",
       "      <td>0</td>\n",
       "      <td>0</td>\n",
       "      <td>0</td>\n",
       "      <td>0</td>\n",
       "      <td>0</td>\n",
       "      <td>0</td>\n",
       "      <td>0</td>\n",
       "      <td>0</td>\n",
       "      <td>0</td>\n",
       "      <td>0</td>\n",
       "      <td>0</td>\n",
       "      <td>0</td>\n",
       "      <td>0</td>\n",
       "      <td>0</td>\n",
       "      <td>0</td>\n",
       "      <td>0</td>\n",
       "      <td>0</td>\n",
       "      <td>0</td>\n",
       "      <td>0</td>\n",
       "      <td>0</td>\n",
       "      <td>0</td>\n",
       "      <td>0</td>\n",
       "      <td>0</td>\n",
       "      <td>0</td>\n",
       "      <td>0</td>\n",
       "      <td>0</td>\n",
       "      <td>0</td>\n",
       "      <td>0</td>\n",
       "      <td>0</td>\n",
       "      <td>0</td>\n",
       "      <td>0</td>\n",
       "      <td>0</td>\n",
       "      <td>0</td>\n",
       "      <td>0</td>\n",
       "      <td>0</td>\n",
       "      <td>0</td>\n",
       "      <td>0</td>\n",
       "      <td>0</td>\n",
       "      <td>0</td>\n",
       "      <td>0</td>\n",
       "      <td>0</td>\n",
       "      <td>0</td>\n",
       "      <td>0</td>\n",
       "      <td>0</td>\n",
       "      <td>0</td>\n",
       "      <td>0</td>\n",
       "    </tr>\n",
       "    <tr>\n",
       "      <th>4</th>\n",
       "      <td>2021-01-01 19:00:00</td>\n",
       "      <td>29188.67</td>\n",
       "      <td>29360.00</td>\n",
       "      <td>28624.57</td>\n",
       "      <td>29029.04</td>\n",
       "      <td>9850.965345</td>\n",
       "      <td>0</td>\n",
       "      <td>0</td>\n",
       "      <td>0</td>\n",
       "      <td>0</td>\n",
       "      <td>0</td>\n",
       "      <td>0</td>\n",
       "      <td>0</td>\n",
       "      <td>0</td>\n",
       "      <td>0</td>\n",
       "      <td>0</td>\n",
       "      <td>0</td>\n",
       "      <td>0</td>\n",
       "      <td>0</td>\n",
       "      <td>0</td>\n",
       "      <td>0</td>\n",
       "      <td>0</td>\n",
       "      <td>0</td>\n",
       "      <td>0</td>\n",
       "      <td>0</td>\n",
       "      <td>0</td>\n",
       "      <td>0</td>\n",
       "      <td>0</td>\n",
       "      <td>0</td>\n",
       "      <td>0</td>\n",
       "      <td>0</td>\n",
       "      <td>0</td>\n",
       "      <td>0</td>\n",
       "      <td>0</td>\n",
       "      <td>0</td>\n",
       "      <td>0</td>\n",
       "      <td>0</td>\n",
       "      <td>0</td>\n",
       "      <td>0</td>\n",
       "      <td>0</td>\n",
       "      <td>0</td>\n",
       "      <td>0</td>\n",
       "      <td>0</td>\n",
       "      <td>0</td>\n",
       "      <td>0</td>\n",
       "      <td>0</td>\n",
       "      <td>0</td>\n",
       "      <td>0</td>\n",
       "      <td>0</td>\n",
       "      <td>0</td>\n",
       "      <td>0</td>\n",
       "      <td>0</td>\n",
       "      <td>0</td>\n",
       "      <td>0</td>\n",
       "      <td>0</td>\n",
       "      <td>0</td>\n",
       "      <td>0</td>\n",
       "      <td>0</td>\n",
       "      <td>0</td>\n",
       "      <td>0</td>\n",
       "      <td>0</td>\n",
       "      <td>0</td>\n",
       "      <td>0</td>\n",
       "      <td>0</td>\n",
       "      <td>0</td>\n",
       "      <td>0</td>\n",
       "      <td>0</td>\n",
       "    </tr>\n",
       "  </tbody>\n",
       "</table>\n",
       "</div>"
      ],
      "text/plain": [
       "                  Time      Open      High       Low     Close        Volume  \\\n",
       "0  2021-01-01 03:00:00  28923.63  29470.00  28690.17  29278.40  11560.456553   \n",
       "1  2021-01-01 07:00:00  29278.41  29395.00  28806.54  29092.83   7308.910274   \n",
       "2  2021-01-01 11:00:00  29092.84  29402.57  28872.24  29313.49   8283.705319   \n",
       "3  2021-01-01 15:00:00  29313.49  29600.00  29030.14  29188.67  11794.949515   \n",
       "4  2021-01-01 19:00:00  29188.67  29360.00  28624.57  29029.04   9850.965345   \n",
       "\n",
       "   CDL2CROWS  CDL3BLACKCROWS CDL3INSIDE CDL3LINESTRIKE CDL3OUTSIDE  \\\n",
       "0          0               0          0              0           0   \n",
       "1          0               0          0              0           0   \n",
       "2          0               0          0              0           0   \n",
       "3          0               0          0              0           0   \n",
       "4          0               0          0              0           0   \n",
       "\n",
       "   CDL3STARSINSOUTH  CDL3WHITESOLDIERS  CDLABANDONEDBABY CDLADVANCEBLOCK  \\\n",
       "0                 0                  0                 0               0   \n",
       "1                 0                  0                 0               0   \n",
       "2                 0                  0                 0               0   \n",
       "3                 0                  0                 0               0   \n",
       "4                 0                  0                 0               0   \n",
       "\n",
       "  CDLBELTHOLD  CDLBREAKAWAY CDLCLOSINGMARUBOZU  CDLCONCEALBABYSWALL  \\\n",
       "0           0             0                  0                    0   \n",
       "1           0             0                  0                    0   \n",
       "2           0             0                  0                    0   \n",
       "3           0             0                  0                    0   \n",
       "4           0             0                  0                    0   \n",
       "\n",
       "   CDLCOUNTERATTACK  CDLDARKCLOUDCOVER CDLDOJI CDLDOJISTAR CDLDRAGONFLYDOJI  \\\n",
       "0                 0                  0       0           0                0   \n",
       "1                 0                  0       0           0                0   \n",
       "2                 0                  0       0           0                0   \n",
       "3                 0                  0       0           0                0   \n",
       "4                 0                  0       0           0                0   \n",
       "\n",
       "  CDLENGULFING CDLEVENINGDOJISTAR CDLEVENINGSTAR CDLGAPSIDESIDEWHITE  \\\n",
       "0            0                  0              0                   0   \n",
       "1            0                  0              0                   0   \n",
       "2            0                  0              0                   0   \n",
       "3            0                  0              0                   0   \n",
       "4            0                  0              0                   0   \n",
       "\n",
       "  CDLGRAVESTONEDOJI CDLHAMMER CDLHANGINGMAN CDLHARAMI CDLHARAMICROSS  \\\n",
       "0                 0         0             0         0              0   \n",
       "1                 0         0             0         0              0   \n",
       "2                 0         0             0         0              0   \n",
       "3                 0         0             0         0              0   \n",
       "4                 0         0             0         0              0   \n",
       "\n",
       "  CDLHIGHWAVE CDLHIKKAKE CDLHIKKAKEMOD  CDLHOMINGPIGEON CDLIDENTICAL3CROWS  \\\n",
       "0           0          0             0                0                  0   \n",
       "1           0          0             0                0                  0   \n",
       "2           0          0             0                0                  0   \n",
       "3           0          0             0                0                  0   \n",
       "4           0          0             0                0                  0   \n",
       "\n",
       "   CDLINNECK CDLINVERTEDHAMMER  CDLKICKING  CDLKICKINGBYLENGTH  \\\n",
       "0          0                 0           0                   0   \n",
       "1          0                 0           0                   0   \n",
       "2          0                 0           0                   0   \n",
       "3          0                 0           0                   0   \n",
       "4          0                 0           0                   0   \n",
       "\n",
       "   CDLLADDERBOTTOM CDLLONGLEGGEDDOJI CDLLONGLINE CDLMARUBOZU CDLMATCHINGLOW  \\\n",
       "0                0                 0           0           0              0   \n",
       "1                0                 0           0           0              0   \n",
       "2                0                 0           0           0              0   \n",
       "3                0                 0           0           0              0   \n",
       "4                0                 0           0           0              0   \n",
       "\n",
       "   CDLMATHOLD CDLMORNINGDOJISTAR CDLMORNINGSTAR  CDLONNECK  CDLPIERCING  \\\n",
       "0           0                  0              0          0            0   \n",
       "1           0                  0              0          0            0   \n",
       "2           0                  0              0          0            0   \n",
       "3           0                  0              0          0            0   \n",
       "4           0                  0              0          0            0   \n",
       "\n",
       "  CDLRICKSHAWMAN CDLRISEFALL3METHODS CDLSEPARATINGLINES CDLSHOOTINGSTAR  \\\n",
       "0              0                   0                  0               0   \n",
       "1              0                   0                  0               0   \n",
       "2              0                   0                  0               0   \n",
       "3              0                   0                  0               0   \n",
       "4              0                   0                  0               0   \n",
       "\n",
       "  CDLSHORTLINE CDLSPINNINGTOP CDLSTALLEDPATTERN  CDLSTICKSANDWICH CDLTAKURI  \\\n",
       "0            0              0                 0                 0         0   \n",
       "1            0              0                 0                 0         0   \n",
       "2            0              0                 0                 0         0   \n",
       "3            0              0                 0                 0         0   \n",
       "4            0              0                 0                 0         0   \n",
       "\n",
       "   CDLTASUKIGAP  CDLTHRUSTING  CDLTRISTAR  CDLUNIQUE3RIVER  \\\n",
       "0             0             0           0                0   \n",
       "1             0             0           0                0   \n",
       "2             0             0           0                0   \n",
       "3             0             0           0                0   \n",
       "4             0             0           0                0   \n",
       "\n",
       "   CDLUPSIDEGAP2CROWS CDLXSIDEGAP3METHODS  \n",
       "0                   0                   0  \n",
       "1                   0                   0  \n",
       "2                   0                   0  \n",
       "3                   0                   0  \n",
       "4                   0                   0  "
      ]
     },
     "execution_count": 10,
     "metadata": {},
     "output_type": "execute_result"
    }
   ],
   "source": [
    "pd.set_option('display.max_columns', None)\n",
    "crypto_df_patterns = seeking_patterns(crypto_df)\n",
    "crypto_df_patterns.head()"
   ]
  },
  {
   "cell_type": "code",
   "execution_count": 11,
   "id": "6b8109e5",
   "metadata": {},
   "outputs": [],
   "source": [
    "#crypto_df_patterns.to_csv('btc_patterns_4h.csv', index=False)"
   ]
  },
  {
   "cell_type": "markdown",
   "id": "3cdacf68",
   "metadata": {},
   "source": [
    "Now is the time to see how the patterns helped to predict the price movement. I am looking for strong reversal signals, so it is not enough for the pattern to show a good result only on the next candle. The following 4 candles (16 hours) will be taken into account.\n",
    "\n",
    "**candle_test()** function will make calculations easier\n",
    "- if *bullish* pattern: result = next selected timeframe close - signal candlestick close\n",
    "- if *bearish*: result = signal candlestick close - next selected timeframe close"
   ]
  },
  {
   "cell_type": "code",
   "execution_count": 12,
   "id": "99038e53",
   "metadata": {},
   "outputs": [],
   "source": [
    "candle_patterns_stat = []\n",
    "\n",
    "def candle_test(df, pattern, period):\n",
    "    \n",
    "    \"\"\"dataframe with patterns\n",
    "    pattern to create new df with it\n",
    "    look-forward period in candles\"\"\"\n",
    "    \n",
    "    profit = 0\n",
    "    losses = 0\n",
    "    trade_results_all = []\n",
    "    trade_results_all_prc = []\n",
    "    minus_trades = []\n",
    "    plus_trades = []\n",
    "    \n",
    "    new_df = df[['Time','Close', pattern]].copy()\n",
    "    \n",
    "    for i, row in new_df.iterrows():\n",
    "        if row[pattern] == 'Bullish':\n",
    "            try:\n",
    "                index_number = i\n",
    "                difference = new_df['Close'].iloc[i + period] - new_df['Close'].iloc[i]\n",
    "                #percent_diff = ((new_df['Close'].iloc[i + 1] - new_df['Close'].iloc[i])/new_df['Close'].iloc[i]) * 100\n",
    "                if difference > 0:\n",
    "                    profit += 1\n",
    "                else:\n",
    "                    losses += 1\n",
    "                trade_results_all.append(difference)\n",
    "                #trade_results_prc.append(percent_diff)\n",
    "                if difference > 0:\n",
    "                    plus_trades.append(difference)\n",
    "                else:\n",
    "                    minus_trades.append(difference)\n",
    "            except IndexError:\n",
    "                pass\n",
    "            continue\n",
    "            \n",
    "        if row[pattern] == 'Bearish':\n",
    "            try:\n",
    "                index_number = i\n",
    "                difference = new_df['Close'].iloc[i] - new_df['Close'].iloc[i + period]\n",
    "                #percent_diff = ((new_df['Close'].iloc[i] - new_df['Close'].iloc[i + 1])/new_df['Close'].iloc[i]) * 100\n",
    "                if difference > 0:\n",
    "                    profit += 1\n",
    "                else:\n",
    "                    losses += 1\n",
    "                trade_results_all.append(difference)\n",
    "                #trade_results_prc.append(percent_diff)\n",
    "                if difference > 0:\n",
    "                    plus_trades.append(difference)\n",
    "                else:\n",
    "                    minus_trades.append(difference)\n",
    "            except IndexError:\n",
    "                pass\n",
    "            continue\n",
    "            \n",
    "        sorted_plus_trades = sorted(plus_trades)\n",
    "        sorted_plus_trades = [round(num, 2) for num in sorted_plus_trades]\n",
    "\n",
    "        sorted_minus_trades = sorted(minus_trades, reverse=True)\n",
    "        sorted_minus_trades = [round(num, 2) for num in sorted_minus_trades]\n",
    "\n",
    "    num_trades = (profit + losses)\n",
    "\n",
    "    candle_patterns_stat.append({\n",
    "        'name': pattern,\n",
    "        'num_trades': num_trades,\n",
    "        'total_result': round(sum(trade_results_all), 2),\n",
    "        'profit_trades': profit,\n",
    "        'loss_trades': losses\n",
    "    })    \n",
    "    \n",
    "    return candle_patterns_stat"
   ]
  },
  {
   "cell_type": "code",
   "execution_count": 13,
   "id": "df5a14a1",
   "metadata": {
    "scrolled": true
   },
   "outputs": [],
   "source": [
    "for pattern in pattern_names:\n",
    "    df = pd.DataFrame(candle_test(crypto_df_patterns, pattern, 1))"
   ]
  },
  {
   "cell_type": "code",
   "execution_count": 14,
   "id": "a6f17c14",
   "metadata": {},
   "outputs": [
    {
     "name": "stdout",
     "output_type": "stream",
     "text": [
      "Patterns in work: 38\n"
     ]
    }
   ],
   "source": [
    "# selecting only excisting patterns\n",
    "worked_patterns = df.loc[df['num_trades'] > 0].copy()\n",
    "print(f\"Patterns in work: {worked_patterns.shape[0]}\")"
   ]
  },
  {
   "cell_type": "code",
   "execution_count": 15,
   "id": "c9ec3298",
   "metadata": {},
   "outputs": [
    {
     "data": {
      "text/html": [
       "<div>\n",
       "<style scoped>\n",
       "    .dataframe tbody tr th:only-of-type {\n",
       "        vertical-align: middle;\n",
       "    }\n",
       "\n",
       "    .dataframe tbody tr th {\n",
       "        vertical-align: top;\n",
       "    }\n",
       "\n",
       "    .dataframe thead th {\n",
       "        text-align: right;\n",
       "    }\n",
       "</style>\n",
       "<table border=\"1\" class=\"dataframe\">\n",
       "  <thead>\n",
       "    <tr style=\"text-align: right;\">\n",
       "      <th></th>\n",
       "      <th>name</th>\n",
       "      <th>num_trades</th>\n",
       "      <th>total_result</th>\n",
       "      <th>profit_trades</th>\n",
       "      <th>loss_trades</th>\n",
       "      <th>average_profit</th>\n",
       "      <th>prc_good_trades</th>\n",
       "    </tr>\n",
       "  </thead>\n",
       "  <tbody>\n",
       "    <tr>\n",
       "      <th>19</th>\n",
       "      <td>CDLEVENINGDOJISTAR</td>\n",
       "      <td>1</td>\n",
       "      <td>1624.13</td>\n",
       "      <td>1</td>\n",
       "      <td>0</td>\n",
       "      <td>1624.0</td>\n",
       "      <td>100.0</td>\n",
       "    </tr>\n",
       "    <tr>\n",
       "      <th>47</th>\n",
       "      <td>CDLRISEFALL3METHODS</td>\n",
       "      <td>1</td>\n",
       "      <td>406.52</td>\n",
       "      <td>1</td>\n",
       "      <td>0</td>\n",
       "      <td>407.0</td>\n",
       "      <td>100.0</td>\n",
       "    </tr>\n",
       "    <tr>\n",
       "      <th>3</th>\n",
       "      <td>CDL3LINESTRIKE</td>\n",
       "      <td>10</td>\n",
       "      <td>3885.22</td>\n",
       "      <td>8</td>\n",
       "      <td>2</td>\n",
       "      <td>486.0</td>\n",
       "      <td>80.0</td>\n",
       "    </tr>\n",
       "    <tr>\n",
       "      <th>60</th>\n",
       "      <td>CDLXSIDEGAP3METHODS</td>\n",
       "      <td>20</td>\n",
       "      <td>5587.38</td>\n",
       "      <td>14</td>\n",
       "      <td>6</td>\n",
       "      <td>399.0</td>\n",
       "      <td>70.0</td>\n",
       "    </tr>\n",
       "    <tr>\n",
       "      <th>29</th>\n",
       "      <td>CDLHIKKAKEMOD</td>\n",
       "      <td>3</td>\n",
       "      <td>243.55</td>\n",
       "      <td>2</td>\n",
       "      <td>1</td>\n",
       "      <td>122.0</td>\n",
       "      <td>67.0</td>\n",
       "    </tr>\n",
       "  </tbody>\n",
       "</table>\n",
       "</div>"
      ],
      "text/plain": [
       "                   name  num_trades  total_result  profit_trades  loss_trades  \\\n",
       "19   CDLEVENINGDOJISTAR           1       1624.13              1            0   \n",
       "47  CDLRISEFALL3METHODS           1        406.52              1            0   \n",
       "3        CDL3LINESTRIKE          10       3885.22              8            2   \n",
       "60  CDLXSIDEGAP3METHODS          20       5587.38             14            6   \n",
       "29        CDLHIKKAKEMOD           3        243.55              2            1   \n",
       "\n",
       "    average_profit  prc_good_trades  \n",
       "19          1624.0            100.0  \n",
       "47           407.0            100.0  \n",
       "3            486.0             80.0  \n",
       "60           399.0             70.0  \n",
       "29           122.0             67.0  "
      ]
     },
     "execution_count": 15,
     "metadata": {},
     "output_type": "execute_result"
    }
   ],
   "source": [
    "worked_patterns['average_profit'] = round(worked_patterns['total_result'] / worked_patterns['profit_trades'])\n",
    "worked_patterns['prc_good_trades'] = round((worked_patterns['profit_trades'] / worked_patterns['num_trades']) * 100)\n",
    "\n",
    "\n",
    "worked_patterns.sort_values(['prc_good_trades'], ascending=False, inplace=True)\n",
    "worked_patterns.head()"
   ]
  },
  {
   "cell_type": "code",
   "execution_count": 16,
   "id": "e78efc66",
   "metadata": {},
   "outputs": [],
   "source": [
    "#worked_patterns.to_csv('btc_4h_good_on_1tf.csv', index=False)"
   ]
  },
  {
   "cell_type": "markdown",
   "id": "adb8f86f",
   "metadata": {},
   "source": [
    "## Dive Into BTC <a id='3-bullet'></a>\n"
   ]
  },
  {
   "cell_type": "code",
   "execution_count": 17,
   "id": "e7e495e2",
   "metadata": {},
   "outputs": [],
   "source": [
    "def new_df(dataframe, pattern):\n",
    "    \n",
    "    \"\"\"\n",
    "    generating new dataframe for specified pattern\n",
    "    \n",
    "    \"\"\"\n",
    "    \n",
    "    new_df = dataframe[['Time', 'Open', 'High', 'Low', 'Close', pattern]].copy()\n",
    "    new_df['year_week'] = pd.to_datetime(new_df['Time']).dt.strftime('%Y-%U')\n",
    "    \n",
    "    return new_df"
   ]
  },
  {
   "cell_type": "code",
   "execution_count": 18,
   "id": "c720170e",
   "metadata": {},
   "outputs": [],
   "source": [
    "# uploading all 4 dataframes with calculated results \n",
    "\n",
    "df1tf = pd.read_csv('btc_4h_good_on_1tf.csv')\n",
    "df2tf = pd.read_csv('btc_4h_good_on_2tf.csv')\n",
    "df3tf = pd.read_csv('btc_4h_good_on_3tf.csv')\n",
    "df4tf = pd.read_csv('btc_4h_good_on_4tf.csv')\n",
    "\n",
    "price = pd.read_csv('btc_patterns_4h.csv')"
   ]
  },
  {
   "cell_type": "markdown",
   "id": "5132e6de",
   "metadata": {},
   "source": [
    "Despite 35 spotted patterns only 11 of them have more than 50% of good trades. That's not that bad actually. Traders deal with a high level of uncertainty and even a 50% probability allows to make money in the market if the rules of risk management are followed. Besides, we need signals for informative purposes, not for algorithmic trading, so the main goal is to get less bad signals. "
   ]
  },
  {
   "cell_type": "code",
   "execution_count": 19,
   "id": "8ce2012a",
   "metadata": {},
   "outputs": [
    {
     "data": {
      "text/html": [
       "<div>\n",
       "<style scoped>\n",
       "    .dataframe tbody tr th:only-of-type {\n",
       "        vertical-align: middle;\n",
       "    }\n",
       "\n",
       "    .dataframe tbody tr th {\n",
       "        vertical-align: top;\n",
       "    }\n",
       "\n",
       "    .dataframe thead th {\n",
       "        text-align: right;\n",
       "    }\n",
       "</style>\n",
       "<table border=\"1\" class=\"dataframe\">\n",
       "  <thead>\n",
       "    <tr style=\"text-align: right;\">\n",
       "      <th></th>\n",
       "      <th>name</th>\n",
       "      <th>num_trades</th>\n",
       "      <th>total_result</th>\n",
       "      <th>profit_trades</th>\n",
       "      <th>loss_trades</th>\n",
       "      <th>average_profit</th>\n",
       "      <th>prc_good_trades</th>\n",
       "    </tr>\n",
       "  </thead>\n",
       "  <tbody>\n",
       "    <tr>\n",
       "      <th>0</th>\n",
       "      <td>CDLEVENINGDOJISTAR</td>\n",
       "      <td>1</td>\n",
       "      <td>1624.13</td>\n",
       "      <td>1</td>\n",
       "      <td>0</td>\n",
       "      <td>1624.0</td>\n",
       "      <td>100.0</td>\n",
       "    </tr>\n",
       "    <tr>\n",
       "      <th>1</th>\n",
       "      <td>CDLRISEFALL3METHODS</td>\n",
       "      <td>1</td>\n",
       "      <td>406.52</td>\n",
       "      <td>1</td>\n",
       "      <td>0</td>\n",
       "      <td>407.0</td>\n",
       "      <td>100.0</td>\n",
       "    </tr>\n",
       "    <tr>\n",
       "      <th>2</th>\n",
       "      <td>CDL3LINESTRIKE</td>\n",
       "      <td>10</td>\n",
       "      <td>3885.22</td>\n",
       "      <td>8</td>\n",
       "      <td>2</td>\n",
       "      <td>486.0</td>\n",
       "      <td>80.0</td>\n",
       "    </tr>\n",
       "    <tr>\n",
       "      <th>3</th>\n",
       "      <td>CDLXSIDEGAP3METHODS</td>\n",
       "      <td>20</td>\n",
       "      <td>5587.38</td>\n",
       "      <td>14</td>\n",
       "      <td>6</td>\n",
       "      <td>399.0</td>\n",
       "      <td>70.0</td>\n",
       "    </tr>\n",
       "    <tr>\n",
       "      <th>4</th>\n",
       "      <td>CDLHIKKAKEMOD</td>\n",
       "      <td>3</td>\n",
       "      <td>243.55</td>\n",
       "      <td>2</td>\n",
       "      <td>1</td>\n",
       "      <td>122.0</td>\n",
       "      <td>67.0</td>\n",
       "    </tr>\n",
       "    <tr>\n",
       "      <th>5</th>\n",
       "      <td>CDLSHOOTINGSTAR</td>\n",
       "      <td>13</td>\n",
       "      <td>824.41</td>\n",
       "      <td>8</td>\n",
       "      <td>5</td>\n",
       "      <td>103.0</td>\n",
       "      <td>62.0</td>\n",
       "    </tr>\n",
       "    <tr>\n",
       "      <th>6</th>\n",
       "      <td>CDLHIKKAKE</td>\n",
       "      <td>434</td>\n",
       "      <td>-6479.55</td>\n",
       "      <td>232</td>\n",
       "      <td>202</td>\n",
       "      <td>-28.0</td>\n",
       "      <td>53.0</td>\n",
       "    </tr>\n",
       "    <tr>\n",
       "      <th>7</th>\n",
       "      <td>CDLHARAMI</td>\n",
       "      <td>137</td>\n",
       "      <td>2159.56</td>\n",
       "      <td>71</td>\n",
       "      <td>66</td>\n",
       "      <td>30.0</td>\n",
       "      <td>52.0</td>\n",
       "    </tr>\n",
       "    <tr>\n",
       "      <th>8</th>\n",
       "      <td>CDLSEPARATINGLINES</td>\n",
       "      <td>23</td>\n",
       "      <td>3042.46</td>\n",
       "      <td>12</td>\n",
       "      <td>11</td>\n",
       "      <td>254.0</td>\n",
       "      <td>52.0</td>\n",
       "    </tr>\n",
       "    <tr>\n",
       "      <th>9</th>\n",
       "      <td>CDLHIGHWAVE</td>\n",
       "      <td>538</td>\n",
       "      <td>-8956.18</td>\n",
       "      <td>278</td>\n",
       "      <td>260</td>\n",
       "      <td>-32.0</td>\n",
       "      <td>52.0</td>\n",
       "    </tr>\n",
       "    <tr>\n",
       "      <th>10</th>\n",
       "      <td>CDLRICKSHAWMAN</td>\n",
       "      <td>457</td>\n",
       "      <td>7370.41</td>\n",
       "      <td>233</td>\n",
       "      <td>224</td>\n",
       "      <td>32.0</td>\n",
       "      <td>51.0</td>\n",
       "    </tr>\n",
       "  </tbody>\n",
       "</table>\n",
       "</div>"
      ],
      "text/plain": [
       "                   name  num_trades  total_result  profit_trades  loss_trades  \\\n",
       "0    CDLEVENINGDOJISTAR           1       1624.13              1            0   \n",
       "1   CDLRISEFALL3METHODS           1        406.52              1            0   \n",
       "2        CDL3LINESTRIKE          10       3885.22              8            2   \n",
       "3   CDLXSIDEGAP3METHODS          20       5587.38             14            6   \n",
       "4         CDLHIKKAKEMOD           3        243.55              2            1   \n",
       "5       CDLSHOOTINGSTAR          13        824.41              8            5   \n",
       "6            CDLHIKKAKE         434      -6479.55            232          202   \n",
       "7             CDLHARAMI         137       2159.56             71           66   \n",
       "8    CDLSEPARATINGLINES          23       3042.46             12           11   \n",
       "9           CDLHIGHWAVE         538      -8956.18            278          260   \n",
       "10       CDLRICKSHAWMAN         457       7370.41            233          224   \n",
       "\n",
       "    average_profit  prc_good_trades  \n",
       "0           1624.0            100.0  \n",
       "1            407.0            100.0  \n",
       "2            486.0             80.0  \n",
       "3            399.0             70.0  \n",
       "4            122.0             67.0  \n",
       "5            103.0             62.0  \n",
       "6            -28.0             53.0  \n",
       "7             30.0             52.0  \n",
       "8            254.0             52.0  \n",
       "9            -32.0             52.0  \n",
       "10            32.0             51.0  "
      ]
     },
     "execution_count": 19,
     "metadata": {},
     "output_type": "execute_result"
    }
   ],
   "source": [
    "df1tf.loc[df1tf['prc_good_trades'] > 50]"
   ]
  },
  {
   "cell_type": "code",
   "execution_count": 20,
   "id": "823b8569",
   "metadata": {},
   "outputs": [
    {
     "name": "stdout",
     "output_type": "stream",
     "text": [
      "More than 50% of good signals: 11\n",
      "Less than 50% of good signals: 27\n"
     ]
    }
   ],
   "source": [
    "print(f\"More than 50% of good signals: {df1tf.loc[df1tf['prc_good_trades'] > 50]['name'].count()}\")\n",
    "print(f\"Less than 50% of good signals: {df1tf.loc[df1tf['prc_good_trades'] <= 50]['name'].count()}\")"
   ]
  },
  {
   "cell_type": "code",
   "execution_count": 21,
   "id": "c9faa67b",
   "metadata": {},
   "outputs": [
    {
     "data": {
      "text/html": [
       "<div>\n",
       "<style scoped>\n",
       "    .dataframe tbody tr th:only-of-type {\n",
       "        vertical-align: middle;\n",
       "    }\n",
       "\n",
       "    .dataframe tbody tr th {\n",
       "        vertical-align: top;\n",
       "    }\n",
       "\n",
       "    .dataframe thead th {\n",
       "        text-align: right;\n",
       "    }\n",
       "</style>\n",
       "<table border=\"1\" class=\"dataframe\">\n",
       "  <thead>\n",
       "    <tr style=\"text-align: right;\">\n",
       "      <th></th>\n",
       "      <th>name</th>\n",
       "      <th>prc_good_trades</th>\n",
       "      <th>num_trades</th>\n",
       "    </tr>\n",
       "  </thead>\n",
       "  <tbody>\n",
       "    <tr>\n",
       "      <th>10</th>\n",
       "      <td>CDLEVENINGDOJISTAR</td>\n",
       "      <td>100.00</td>\n",
       "      <td>1.0</td>\n",
       "    </tr>\n",
       "    <tr>\n",
       "      <th>1</th>\n",
       "      <td>CDL3LINESTRIKE</td>\n",
       "      <td>65.00</td>\n",
       "      <td>10.0</td>\n",
       "    </tr>\n",
       "    <tr>\n",
       "      <th>37</th>\n",
       "      <td>CDLXSIDEGAP3METHODS</td>\n",
       "      <td>57.50</td>\n",
       "      <td>20.0</td>\n",
       "    </tr>\n",
       "    <tr>\n",
       "      <th>32</th>\n",
       "      <td>CDLSHOOTINGSTAR</td>\n",
       "      <td>56.00</td>\n",
       "      <td>13.0</td>\n",
       "    </tr>\n",
       "    <tr>\n",
       "      <th>15</th>\n",
       "      <td>CDLHANGINGMAN</td>\n",
       "      <td>56.00</td>\n",
       "      <td>29.0</td>\n",
       "    </tr>\n",
       "    <tr>\n",
       "      <th>19</th>\n",
       "      <td>CDLHIKKAKE</td>\n",
       "      <td>54.00</td>\n",
       "      <td>434.0</td>\n",
       "    </tr>\n",
       "    <tr>\n",
       "      <th>7</th>\n",
       "      <td>CDLDOJISTAR</td>\n",
       "      <td>52.50</td>\n",
       "      <td>30.0</td>\n",
       "    </tr>\n",
       "    <tr>\n",
       "      <th>26</th>\n",
       "      <td>CDLMATCHINGLOW</td>\n",
       "      <td>51.25</td>\n",
       "      <td>65.0</td>\n",
       "    </tr>\n",
       "    <tr>\n",
       "      <th>13</th>\n",
       "      <td>CDLGRAVESTONEDOJI</td>\n",
       "      <td>51.25</td>\n",
       "      <td>47.0</td>\n",
       "    </tr>\n",
       "    <tr>\n",
       "      <th>18</th>\n",
       "      <td>CDLHIGHWAVE</td>\n",
       "      <td>51.00</td>\n",
       "      <td>537.5</td>\n",
       "    </tr>\n",
       "    <tr>\n",
       "      <th>16</th>\n",
       "      <td>CDLHARAMI</td>\n",
       "      <td>50.75</td>\n",
       "      <td>137.0</td>\n",
       "    </tr>\n",
       "  </tbody>\n",
       "</table>\n",
       "</div>"
      ],
      "text/plain": [
       "                   name  prc_good_trades  num_trades\n",
       "10   CDLEVENINGDOJISTAR           100.00         1.0\n",
       "1        CDL3LINESTRIKE            65.00        10.0\n",
       "37  CDLXSIDEGAP3METHODS            57.50        20.0\n",
       "32      CDLSHOOTINGSTAR            56.00        13.0\n",
       "15        CDLHANGINGMAN            56.00        29.0\n",
       "19           CDLHIKKAKE            54.00       434.0\n",
       "7           CDLDOJISTAR            52.50        30.0\n",
       "26       CDLMATCHINGLOW            51.25        65.0\n",
       "13    CDLGRAVESTONEDOJI            51.25        47.0\n",
       "18          CDLHIGHWAVE            51.00       537.5\n",
       "16            CDLHARAMI            50.75       137.0"
      ]
     },
     "execution_count": 21,
     "metadata": {},
     "output_type": "execute_result"
    }
   ],
   "source": [
    "# aggrigation of all results\n",
    "pdList = [df1tf, df2tf, df3tf, df4tf]\n",
    "\n",
    "btc_agg = (\n",
    "    pd.concat(pdList)\n",
    "    .groupby('name', as_index=False).agg({'prc_good_trades': 'mean', 'num_trades': 'median'})\n",
    "    .sort_values('prc_good_trades', ascending=False)\n",
    ")\n",
    "\n",
    "\n",
    "btc50 = btc_agg.loc[btc_agg['prc_good_trades'] > 50]\n",
    "btc50"
   ]
  },
  {
   "cell_type": "code",
   "execution_count": 22,
   "id": "668537c0",
   "metadata": {},
   "outputs": [
    {
     "data": {
      "text/plain": [
       "{'CDL3LINESTRIKE',\n",
       " 'CDLEVENINGDOJISTAR',\n",
       " 'CDLHARAMI',\n",
       " 'CDLHIGHWAVE',\n",
       " 'CDLHIKKAKE',\n",
       " 'CDLSHOOTINGSTAR',\n",
       " 'CDLXSIDEGAP3METHODS'}"
      ]
     },
     "execution_count": 22,
     "metadata": {},
     "output_type": "execute_result"
    }
   ],
   "source": [
    "set(df1tf.loc[df1tf['prc_good_trades'] > 50]['name']) & set(btc50['name'])"
   ]
  },
  {
   "cell_type": "markdown",
   "id": "20e7e641",
   "metadata": {},
   "source": [
    "Only 7 patterns remained from df1tf (best patterns selected on next 4h timeframe). Now we have less chance that some patterns worked due to a random short term movement"
   ]
  },
  {
   "cell_type": "code",
   "execution_count": 23,
   "id": "ffb70eac",
   "metadata": {},
   "outputs": [
    {
     "name": "stdout",
     "output_type": "stream",
     "text": [
      "More than 50% of good signals: 11\n",
      "Less than 50% of good signals: 27\n"
     ]
    }
   ],
   "source": [
    "print(f\"More than 50% of good signals: {btc_agg.loc[btc_agg['prc_good_trades'] > 50]['name'].count()}\")\n",
    "print(f\"Less than 50% of good signals: {btc_agg.loc[btc_agg['prc_good_trades'] <= 50]['name'].count()}\")"
   ]
  },
  {
   "cell_type": "markdown",
   "id": "abfc47b4",
   "metadata": {},
   "source": [
    "This is good because some of the patterns appear on the chart very often, but give false signals in more than half of the cases"
   ]
  },
  {
   "cell_type": "code",
   "execution_count": 24,
   "id": "2ca320f9",
   "metadata": {},
   "outputs": [
    {
     "data": {
      "text/html": [
       "<div>\n",
       "<style scoped>\n",
       "    .dataframe tbody tr th:only-of-type {\n",
       "        vertical-align: middle;\n",
       "    }\n",
       "\n",
       "    .dataframe tbody tr th {\n",
       "        vertical-align: top;\n",
       "    }\n",
       "\n",
       "    .dataframe thead th {\n",
       "        text-align: right;\n",
       "    }\n",
       "</style>\n",
       "<table border=\"1\" class=\"dataframe\">\n",
       "  <thead>\n",
       "    <tr style=\"text-align: right;\">\n",
       "      <th></th>\n",
       "      <th>name</th>\n",
       "      <th>prc_good_trades</th>\n",
       "      <th>num_trades</th>\n",
       "    </tr>\n",
       "  </thead>\n",
       "  <tbody>\n",
       "    <tr>\n",
       "      <th>22</th>\n",
       "      <td>CDLINVERTEDHAMMER</td>\n",
       "      <td>50.00</td>\n",
       "      <td>8.0</td>\n",
       "    </tr>\n",
       "    <tr>\n",
       "      <th>30</th>\n",
       "      <td>CDLRISEFALL3METHODS</td>\n",
       "      <td>50.00</td>\n",
       "      <td>1.0</td>\n",
       "    </tr>\n",
       "    <tr>\n",
       "      <th>20</th>\n",
       "      <td>CDLHIKKAKEMOD</td>\n",
       "      <td>50.00</td>\n",
       "      <td>3.0</td>\n",
       "    </tr>\n",
       "    <tr>\n",
       "      <th>8</th>\n",
       "      <td>CDLDRAGONFLYDOJI</td>\n",
       "      <td>49.50</td>\n",
       "      <td>51.0</td>\n",
       "    </tr>\n",
       "    <tr>\n",
       "      <th>36</th>\n",
       "      <td>CDLTAKURI</td>\n",
       "      <td>49.50</td>\n",
       "      <td>50.0</td>\n",
       "    </tr>\n",
       "    <tr>\n",
       "      <th>17</th>\n",
       "      <td>CDLHARAMICROSS</td>\n",
       "      <td>49.50</td>\n",
       "      <td>39.0</td>\n",
       "    </tr>\n",
       "    <tr>\n",
       "      <th>23</th>\n",
       "      <td>CDLLONGLEGGEDDOJI</td>\n",
       "      <td>49.25</td>\n",
       "      <td>574.5</td>\n",
       "    </tr>\n",
       "    <tr>\n",
       "      <th>6</th>\n",
       "      <td>CDLDOJI</td>\n",
       "      <td>49.25</td>\n",
       "      <td>576.5</td>\n",
       "    </tr>\n",
       "    <tr>\n",
       "      <th>4</th>\n",
       "      <td>CDLBELTHOLD</td>\n",
       "      <td>49.25</td>\n",
       "      <td>385.0</td>\n",
       "    </tr>\n",
       "    <tr>\n",
       "      <th>3</th>\n",
       "      <td>CDLADVANCEBLOCK</td>\n",
       "      <td>49.00</td>\n",
       "      <td>40.0</td>\n",
       "    </tr>\n",
       "    <tr>\n",
       "      <th>34</th>\n",
       "      <td>CDLSPINNINGTOP</td>\n",
       "      <td>48.75</td>\n",
       "      <td>901.5</td>\n",
       "    </tr>\n",
       "    <tr>\n",
       "      <th>2</th>\n",
       "      <td>CDL3OUTSIDE</td>\n",
       "      <td>48.50</td>\n",
       "      <td>91.0</td>\n",
       "    </tr>\n",
       "    <tr>\n",
       "      <th>29</th>\n",
       "      <td>CDLRICKSHAWMAN</td>\n",
       "      <td>48.25</td>\n",
       "      <td>456.5</td>\n",
       "    </tr>\n",
       "    <tr>\n",
       "      <th>14</th>\n",
       "      <td>CDLHAMMER</td>\n",
       "      <td>47.00</td>\n",
       "      <td>76.0</td>\n",
       "    </tr>\n",
       "    <tr>\n",
       "      <th>24</th>\n",
       "      <td>CDLLONGLINE</td>\n",
       "      <td>47.00</td>\n",
       "      <td>579.0</td>\n",
       "    </tr>\n",
       "    <tr>\n",
       "      <th>5</th>\n",
       "      <td>CDLCLOSINGMARUBOZU</td>\n",
       "      <td>47.00</td>\n",
       "      <td>306.0</td>\n",
       "    </tr>\n",
       "    <tr>\n",
       "      <th>33</th>\n",
       "      <td>CDLSHORTLINE</td>\n",
       "      <td>46.25</td>\n",
       "      <td>611.0</td>\n",
       "    </tr>\n",
       "    <tr>\n",
       "      <th>11</th>\n",
       "      <td>CDLEVENINGSTAR</td>\n",
       "      <td>45.75</td>\n",
       "      <td>6.0</td>\n",
       "    </tr>\n",
       "    <tr>\n",
       "      <th>9</th>\n",
       "      <td>CDLENGULFING</td>\n",
       "      <td>45.00</td>\n",
       "      <td>223.0</td>\n",
       "    </tr>\n",
       "    <tr>\n",
       "      <th>25</th>\n",
       "      <td>CDLMARUBOZU</td>\n",
       "      <td>44.50</td>\n",
       "      <td>71.0</td>\n",
       "    </tr>\n",
       "    <tr>\n",
       "      <th>28</th>\n",
       "      <td>CDLMORNINGSTAR</td>\n",
       "      <td>41.50</td>\n",
       "      <td>6.0</td>\n",
       "    </tr>\n",
       "    <tr>\n",
       "      <th>31</th>\n",
       "      <td>CDLSEPARATINGLINES</td>\n",
       "      <td>39.00</td>\n",
       "      <td>23.0</td>\n",
       "    </tr>\n",
       "    <tr>\n",
       "      <th>12</th>\n",
       "      <td>CDLGAPSIDESIDEWHITE</td>\n",
       "      <td>37.50</td>\n",
       "      <td>6.0</td>\n",
       "    </tr>\n",
       "    <tr>\n",
       "      <th>35</th>\n",
       "      <td>CDLSTALLEDPATTERN</td>\n",
       "      <td>37.50</td>\n",
       "      <td>4.0</td>\n",
       "    </tr>\n",
       "    <tr>\n",
       "      <th>0</th>\n",
       "      <td>CDL3INSIDE</td>\n",
       "      <td>35.50</td>\n",
       "      <td>26.0</td>\n",
       "    </tr>\n",
       "    <tr>\n",
       "      <th>27</th>\n",
       "      <td>CDLMORNINGDOJISTAR</td>\n",
       "      <td>0.00</td>\n",
       "      <td>1.0</td>\n",
       "    </tr>\n",
       "    <tr>\n",
       "      <th>21</th>\n",
       "      <td>CDLIDENTICAL3CROWS</td>\n",
       "      <td>0.00</td>\n",
       "      <td>1.0</td>\n",
       "    </tr>\n",
       "  </tbody>\n",
       "</table>\n",
       "</div>"
      ],
      "text/plain": [
       "                   name  prc_good_trades  num_trades\n",
       "22    CDLINVERTEDHAMMER            50.00         8.0\n",
       "30  CDLRISEFALL3METHODS            50.00         1.0\n",
       "20        CDLHIKKAKEMOD            50.00         3.0\n",
       "8      CDLDRAGONFLYDOJI            49.50        51.0\n",
       "36            CDLTAKURI            49.50        50.0\n",
       "17       CDLHARAMICROSS            49.50        39.0\n",
       "23    CDLLONGLEGGEDDOJI            49.25       574.5\n",
       "6               CDLDOJI            49.25       576.5\n",
       "4           CDLBELTHOLD            49.25       385.0\n",
       "3       CDLADVANCEBLOCK            49.00        40.0\n",
       "34       CDLSPINNINGTOP            48.75       901.5\n",
       "2           CDL3OUTSIDE            48.50        91.0\n",
       "29       CDLRICKSHAWMAN            48.25       456.5\n",
       "14            CDLHAMMER            47.00        76.0\n",
       "24          CDLLONGLINE            47.00       579.0\n",
       "5    CDLCLOSINGMARUBOZU            47.00       306.0\n",
       "33         CDLSHORTLINE            46.25       611.0\n",
       "11       CDLEVENINGSTAR            45.75         6.0\n",
       "9          CDLENGULFING            45.00       223.0\n",
       "25          CDLMARUBOZU            44.50        71.0\n",
       "28       CDLMORNINGSTAR            41.50         6.0\n",
       "31   CDLSEPARATINGLINES            39.00        23.0\n",
       "12  CDLGAPSIDESIDEWHITE            37.50         6.0\n",
       "35    CDLSTALLEDPATTERN            37.50         4.0\n",
       "0            CDL3INSIDE            35.50        26.0\n",
       "27   CDLMORNINGDOJISTAR             0.00         1.0\n",
       "21   CDLIDENTICAL3CROWS             0.00         1.0"
      ]
     },
     "execution_count": 24,
     "metadata": {},
     "output_type": "execute_result"
    }
   ],
   "source": [
    "btc_agg.loc[btc_agg['prc_good_trades'] <= 50]"
   ]
  },
  {
   "cell_type": "markdown",
   "id": "7ea68b08",
   "metadata": {},
   "source": [
    "Let's take a look at some patterns with good profit trades to all trades ratio\n",
    "\n",
    "### Evening doji star\n",
    "\n",
    "Bearish reversal pattern:\n",
    "\n",
    "- First candle in an uptrend (green body)\n",
    "- Second candle - a doji candle above the previous candle body and low price below the previous candle high price\n",
    "- Third candle (red body) below the previous candle body and closing price below the midpoint of the first candle body \n",
    "\n",
    "Very rare - only 1 appearance in two and a half years"
   ]
  },
  {
   "cell_type": "code",
   "execution_count": 25,
   "id": "b9b4cd54",
   "metadata": {},
   "outputs": [],
   "source": [
    "evening_doji_star = new_df(price, 'CDLEVENINGDOJISTAR')"
   ]
  },
  {
   "cell_type": "code",
   "execution_count": 26,
   "id": "1bf5a1f2",
   "metadata": {},
   "outputs": [
    {
     "data": {
      "text/html": [
       "<div>\n",
       "<style scoped>\n",
       "    .dataframe tbody tr th:only-of-type {\n",
       "        vertical-align: middle;\n",
       "    }\n",
       "\n",
       "    .dataframe tbody tr th {\n",
       "        vertical-align: top;\n",
       "    }\n",
       "\n",
       "    .dataframe thead th {\n",
       "        text-align: right;\n",
       "    }\n",
       "</style>\n",
       "<table border=\"1\" class=\"dataframe\">\n",
       "  <thead>\n",
       "    <tr style=\"text-align: right;\">\n",
       "      <th></th>\n",
       "      <th>Time</th>\n",
       "      <th>Open</th>\n",
       "      <th>High</th>\n",
       "      <th>Low</th>\n",
       "      <th>Close</th>\n",
       "      <th>CDLEVENINGDOJISTAR</th>\n",
       "      <th>year_week</th>\n",
       "    </tr>\n",
       "  </thead>\n",
       "  <tbody>\n",
       "    <tr>\n",
       "      <th>1026</th>\n",
       "      <td>2021-06-21 03:00:00</td>\n",
       "      <td>35600.17</td>\n",
       "      <td>35750.0</td>\n",
       "      <td>34566.82</td>\n",
       "      <td>34649.63</td>\n",
       "      <td>Bearish</td>\n",
       "      <td>2021-25</td>\n",
       "    </tr>\n",
       "  </tbody>\n",
       "</table>\n",
       "</div>"
      ],
      "text/plain": [
       "                     Time      Open     High       Low     Close  \\\n",
       "1026  2021-06-21 03:00:00  35600.17  35750.0  34566.82  34649.63   \n",
       "\n",
       "     CDLEVENINGDOJISTAR year_week  \n",
       "1026            Bearish   2021-25  "
      ]
     },
     "execution_count": 26,
     "metadata": {},
     "output_type": "execute_result"
    }
   ],
   "source": [
    "evening_doji_star.loc[(evening_doji_star['CDLEVENINGDOJISTAR'] == 'Bullish') \\\n",
    "                                      | (evening_doji_star['CDLEVENINGDOJISTAR'] == 'Bearish')]"
   ]
  },
  {
   "cell_type": "code",
   "execution_count": 27,
   "id": "843c952a",
   "metadata": {},
   "outputs": [],
   "source": [
    "# marking signals\n",
    "\n",
    "def bear_evening_doji_star(row):\n",
    "    \n",
    "    if row['CDLEVENINGDOJISTAR'] == 'Bearish':\n",
    "        return row['Open'] * 1.02\n",
    "    else:\n",
    "        return np.nan  \n",
    "    \n",
    "evening_doji_star['evening_doji_star_bearish_dot'] = evening_doji_star.apply(bear_evening_doji_star, axis=1)"
   ]
  },
  {
   "cell_type": "code",
   "execution_count": 28,
   "id": "b7e83175",
   "metadata": {},
   "outputs": [],
   "source": [
    "evening_doji_plot = evening_doji_star.loc[evening_doji_star['year_week'] == '2021-25'].copy()"
   ]
  },
  {
   "cell_type": "code",
   "execution_count": 29,
   "id": "8c6e7999",
   "metadata": {},
   "outputs": [
    {
     "data": {
      "application/vnd.plotly.v1+json": {
       "config": {
        "linkText": "Export to plot.ly",
        "plotlyServerURL": "https://plot.ly",
        "showLink": false
       },
       "data": [
        {
         "close": [
          35527.24,
          35637.71,
          33872.9,
          34422.71,
          35502.82,
          35600.16,
          34649.63,
          33025.5,
          32520.56,
          32687.99,
          32563.89,
          31608.93,
          33018.22,
          32648.98,
          31243.41,
          31708.08,
          32404.06,
          32509.56,
          33966.43,
          33982.26,
          33911.39,
          33490.14,
          32879.97,
          33678.07,
          32589.2,
          32853.74,
          33850.77,
          33886.52,
          34857.73,
          34663.09,
          35052.07,
          34283.82,
          33311.96,
          32607.07,
          32220.74,
          31584.45,
          31977.59,
          30720.37,
          31777.73,
          31523.5,
          31573.98,
          32283.65
         ],
         "high": [
          35800,
          35922,
          35693.88,
          34666,
          35700.92,
          36137.72,
          35750,
          34725.82,
          33577.12,
          33222.22,
          33000,
          32800,
          33260,
          33109.81,
          32658.63,
          31980,
          33298.78,
          32987,
          34444,
          34392.1,
          34500,
          34881,
          33947.17,
          33785.26,
          33879.99,
          33280.55,
          33930.23,
          34583.58,
          35298,
          34999.09,
          35500,
          35100,
          34480,
          33600.77,
          32910.64,
          32369,
          32268.91,
          32730,
          31883.6,
          31985,
          31910,
          32300.24
         ],
         "low": [
          35119.21,
          35363.02,
          33724.48,
          33336,
          34289,
          35380,
          34566.82,
          32266,
          31710,
          31927.91,
          32034.52,
          31251.23,
          31168,
          32479,
          31112,
          28805,
          31620,
          32150,
          31683,
          33574.11,
          33650.21,
          33400.3,
          32870.99,
          32749.01,
          32339.82,
          32286.57,
          32820.61,
          33756.04,
          33751,
          34512,
          34251,
          33961.48,
          33234.37,
          32351,
          31500,
          31275,
          31300,
          30573.77,
          30151,
          30505,
          30776.63,
          30905.78
         ],
         "name": "Price",
         "opacity": 0.5,
         "open": [
          35483.72,
          35527.25,
          35637.72,
          33870.56,
          34422.11,
          35502.83,
          35600.17,
          34651.86,
          33025.5,
          32530.68,
          32685.84,
          32563.89,
          31614.12,
          33018.21,
          32647.96,
          31236.53,
          31707.56,
          32404.06,
          32509.56,
          33969.69,
          33982.26,
          33911.4,
          33490.14,
          32882.5,
          33675.07,
          32589.2,
          32853.74,
          33850.78,
          33888.81,
          34854.63,
          34663.08,
          35057.7,
          34281.37,
          33311.96,
          32607.07,
          32222.91,
          31576.09,
          31979.71,
          30713.54,
          31777.9,
          31526.88,
          31573.97
         ],
         "type": "candlestick",
         "x": [
          "2021-06-20 03:00:00",
          "2021-06-20 07:00:00",
          "2021-06-20 11:00:00",
          "2021-06-20 15:00:00",
          "2021-06-20 19:00:00",
          "2021-06-20 23:00:00",
          "2021-06-21 03:00:00",
          "2021-06-21 07:00:00",
          "2021-06-21 11:00:00",
          "2021-06-21 15:00:00",
          "2021-06-21 19:00:00",
          "2021-06-21 23:00:00",
          "2021-06-22 03:00:00",
          "2021-06-22 07:00:00",
          "2021-06-22 11:00:00",
          "2021-06-22 15:00:00",
          "2021-06-22 19:00:00",
          "2021-06-22 23:00:00",
          "2021-06-23 03:00:00",
          "2021-06-23 07:00:00",
          "2021-06-23 11:00:00",
          "2021-06-23 15:00:00",
          "2021-06-23 19:00:00",
          "2021-06-23 23:00:00",
          "2021-06-24 03:00:00",
          "2021-06-24 07:00:00",
          "2021-06-24 11:00:00",
          "2021-06-24 15:00:00",
          "2021-06-24 19:00:00",
          "2021-06-24 23:00:00",
          "2021-06-25 03:00:00",
          "2021-06-25 07:00:00",
          "2021-06-25 11:00:00",
          "2021-06-25 15:00:00",
          "2021-06-25 19:00:00",
          "2021-06-25 23:00:00",
          "2021-06-26 03:00:00",
          "2021-06-26 07:00:00",
          "2021-06-26 11:00:00",
          "2021-06-26 15:00:00",
          "2021-06-26 19:00:00",
          "2021-06-26 23:00:00"
         ]
        },
        {
         "marker": {
          "color": "#16FF32",
          "line": {
           "color": "MediumPurple",
           "width": 2
          },
          "size": 7,
          "symbol": "6"
         },
         "mode": "markers",
         "name": "Bearish",
         "opacity": 1,
         "type": "scatter",
         "x": [
          "2021-06-20 03:00:00",
          "2021-06-20 07:00:00",
          "2021-06-20 11:00:00",
          "2021-06-20 15:00:00",
          "2021-06-20 19:00:00",
          "2021-06-20 23:00:00",
          "2021-06-21 03:00:00",
          "2021-06-21 07:00:00",
          "2021-06-21 11:00:00",
          "2021-06-21 15:00:00",
          "2021-06-21 19:00:00",
          "2021-06-21 23:00:00",
          "2021-06-22 03:00:00",
          "2021-06-22 07:00:00",
          "2021-06-22 11:00:00",
          "2021-06-22 15:00:00",
          "2021-06-22 19:00:00",
          "2021-06-22 23:00:00",
          "2021-06-23 03:00:00",
          "2021-06-23 07:00:00",
          "2021-06-23 11:00:00",
          "2021-06-23 15:00:00",
          "2021-06-23 19:00:00",
          "2021-06-23 23:00:00",
          "2021-06-24 03:00:00",
          "2021-06-24 07:00:00",
          "2021-06-24 11:00:00",
          "2021-06-24 15:00:00",
          "2021-06-24 19:00:00",
          "2021-06-24 23:00:00",
          "2021-06-25 03:00:00",
          "2021-06-25 07:00:00",
          "2021-06-25 11:00:00",
          "2021-06-25 15:00:00",
          "2021-06-25 19:00:00",
          "2021-06-25 23:00:00",
          "2021-06-26 03:00:00",
          "2021-06-26 07:00:00",
          "2021-06-26 11:00:00",
          "2021-06-26 15:00:00",
          "2021-06-26 19:00:00",
          "2021-06-26 23:00:00"
         ],
         "y": [
          null,
          null,
          null,
          null,
          null,
          null,
          36312.1734,
          null,
          null,
          null,
          null,
          null,
          null,
          null,
          null,
          null,
          null,
          null,
          null,
          null,
          null,
          null,
          null,
          null,
          null,
          null,
          null,
          null,
          null,
          null,
          null,
          null,
          null,
          null,
          null,
          null,
          null,
          null,
          null,
          null,
          null,
          null
         ]
        }
       ],
       "layout": {
        "template": {
         "data": {
          "bar": [
           {
            "error_x": {
             "color": "#2a3f5f"
            },
            "error_y": {
             "color": "#2a3f5f"
            },
            "marker": {
             "line": {
              "color": "#E5ECF6",
              "width": 0.5
             },
             "pattern": {
              "fillmode": "overlay",
              "size": 10,
              "solidity": 0.2
             }
            },
            "type": "bar"
           }
          ],
          "barpolar": [
           {
            "marker": {
             "line": {
              "color": "#E5ECF6",
              "width": 0.5
             },
             "pattern": {
              "fillmode": "overlay",
              "size": 10,
              "solidity": 0.2
             }
            },
            "type": "barpolar"
           }
          ],
          "carpet": [
           {
            "aaxis": {
             "endlinecolor": "#2a3f5f",
             "gridcolor": "white",
             "linecolor": "white",
             "minorgridcolor": "white",
             "startlinecolor": "#2a3f5f"
            },
            "baxis": {
             "endlinecolor": "#2a3f5f",
             "gridcolor": "white",
             "linecolor": "white",
             "minorgridcolor": "white",
             "startlinecolor": "#2a3f5f"
            },
            "type": "carpet"
           }
          ],
          "choropleth": [
           {
            "colorbar": {
             "outlinewidth": 0,
             "ticks": ""
            },
            "type": "choropleth"
           }
          ],
          "contour": [
           {
            "colorbar": {
             "outlinewidth": 0,
             "ticks": ""
            },
            "colorscale": [
             [
              0,
              "#0d0887"
             ],
             [
              0.1111111111111111,
              "#46039f"
             ],
             [
              0.2222222222222222,
              "#7201a8"
             ],
             [
              0.3333333333333333,
              "#9c179e"
             ],
             [
              0.4444444444444444,
              "#bd3786"
             ],
             [
              0.5555555555555556,
              "#d8576b"
             ],
             [
              0.6666666666666666,
              "#ed7953"
             ],
             [
              0.7777777777777778,
              "#fb9f3a"
             ],
             [
              0.8888888888888888,
              "#fdca26"
             ],
             [
              1,
              "#f0f921"
             ]
            ],
            "type": "contour"
           }
          ],
          "contourcarpet": [
           {
            "colorbar": {
             "outlinewidth": 0,
             "ticks": ""
            },
            "type": "contourcarpet"
           }
          ],
          "heatmap": [
           {
            "colorbar": {
             "outlinewidth": 0,
             "ticks": ""
            },
            "colorscale": [
             [
              0,
              "#0d0887"
             ],
             [
              0.1111111111111111,
              "#46039f"
             ],
             [
              0.2222222222222222,
              "#7201a8"
             ],
             [
              0.3333333333333333,
              "#9c179e"
             ],
             [
              0.4444444444444444,
              "#bd3786"
             ],
             [
              0.5555555555555556,
              "#d8576b"
             ],
             [
              0.6666666666666666,
              "#ed7953"
             ],
             [
              0.7777777777777778,
              "#fb9f3a"
             ],
             [
              0.8888888888888888,
              "#fdca26"
             ],
             [
              1,
              "#f0f921"
             ]
            ],
            "type": "heatmap"
           }
          ],
          "heatmapgl": [
           {
            "colorbar": {
             "outlinewidth": 0,
             "ticks": ""
            },
            "colorscale": [
             [
              0,
              "#0d0887"
             ],
             [
              0.1111111111111111,
              "#46039f"
             ],
             [
              0.2222222222222222,
              "#7201a8"
             ],
             [
              0.3333333333333333,
              "#9c179e"
             ],
             [
              0.4444444444444444,
              "#bd3786"
             ],
             [
              0.5555555555555556,
              "#d8576b"
             ],
             [
              0.6666666666666666,
              "#ed7953"
             ],
             [
              0.7777777777777778,
              "#fb9f3a"
             ],
             [
              0.8888888888888888,
              "#fdca26"
             ],
             [
              1,
              "#f0f921"
             ]
            ],
            "type": "heatmapgl"
           }
          ],
          "histogram": [
           {
            "marker": {
             "pattern": {
              "fillmode": "overlay",
              "size": 10,
              "solidity": 0.2
             }
            },
            "type": "histogram"
           }
          ],
          "histogram2d": [
           {
            "colorbar": {
             "outlinewidth": 0,
             "ticks": ""
            },
            "colorscale": [
             [
              0,
              "#0d0887"
             ],
             [
              0.1111111111111111,
              "#46039f"
             ],
             [
              0.2222222222222222,
              "#7201a8"
             ],
             [
              0.3333333333333333,
              "#9c179e"
             ],
             [
              0.4444444444444444,
              "#bd3786"
             ],
             [
              0.5555555555555556,
              "#d8576b"
             ],
             [
              0.6666666666666666,
              "#ed7953"
             ],
             [
              0.7777777777777778,
              "#fb9f3a"
             ],
             [
              0.8888888888888888,
              "#fdca26"
             ],
             [
              1,
              "#f0f921"
             ]
            ],
            "type": "histogram2d"
           }
          ],
          "histogram2dcontour": [
           {
            "colorbar": {
             "outlinewidth": 0,
             "ticks": ""
            },
            "colorscale": [
             [
              0,
              "#0d0887"
             ],
             [
              0.1111111111111111,
              "#46039f"
             ],
             [
              0.2222222222222222,
              "#7201a8"
             ],
             [
              0.3333333333333333,
              "#9c179e"
             ],
             [
              0.4444444444444444,
              "#bd3786"
             ],
             [
              0.5555555555555556,
              "#d8576b"
             ],
             [
              0.6666666666666666,
              "#ed7953"
             ],
             [
              0.7777777777777778,
              "#fb9f3a"
             ],
             [
              0.8888888888888888,
              "#fdca26"
             ],
             [
              1,
              "#f0f921"
             ]
            ],
            "type": "histogram2dcontour"
           }
          ],
          "mesh3d": [
           {
            "colorbar": {
             "outlinewidth": 0,
             "ticks": ""
            },
            "type": "mesh3d"
           }
          ],
          "parcoords": [
           {
            "line": {
             "colorbar": {
              "outlinewidth": 0,
              "ticks": ""
             }
            },
            "type": "parcoords"
           }
          ],
          "pie": [
           {
            "automargin": true,
            "type": "pie"
           }
          ],
          "scatter": [
           {
            "fillpattern": {
             "fillmode": "overlay",
             "size": 10,
             "solidity": 0.2
            },
            "type": "scatter"
           }
          ],
          "scatter3d": [
           {
            "line": {
             "colorbar": {
              "outlinewidth": 0,
              "ticks": ""
             }
            },
            "marker": {
             "colorbar": {
              "outlinewidth": 0,
              "ticks": ""
             }
            },
            "type": "scatter3d"
           }
          ],
          "scattercarpet": [
           {
            "marker": {
             "colorbar": {
              "outlinewidth": 0,
              "ticks": ""
             }
            },
            "type": "scattercarpet"
           }
          ],
          "scattergeo": [
           {
            "marker": {
             "colorbar": {
              "outlinewidth": 0,
              "ticks": ""
             }
            },
            "type": "scattergeo"
           }
          ],
          "scattergl": [
           {
            "marker": {
             "colorbar": {
              "outlinewidth": 0,
              "ticks": ""
             }
            },
            "type": "scattergl"
           }
          ],
          "scattermapbox": [
           {
            "marker": {
             "colorbar": {
              "outlinewidth": 0,
              "ticks": ""
             }
            },
            "type": "scattermapbox"
           }
          ],
          "scatterpolar": [
           {
            "marker": {
             "colorbar": {
              "outlinewidth": 0,
              "ticks": ""
             }
            },
            "type": "scatterpolar"
           }
          ],
          "scatterpolargl": [
           {
            "marker": {
             "colorbar": {
              "outlinewidth": 0,
              "ticks": ""
             }
            },
            "type": "scatterpolargl"
           }
          ],
          "scatterternary": [
           {
            "marker": {
             "colorbar": {
              "outlinewidth": 0,
              "ticks": ""
             }
            },
            "type": "scatterternary"
           }
          ],
          "surface": [
           {
            "colorbar": {
             "outlinewidth": 0,
             "ticks": ""
            },
            "colorscale": [
             [
              0,
              "#0d0887"
             ],
             [
              0.1111111111111111,
              "#46039f"
             ],
             [
              0.2222222222222222,
              "#7201a8"
             ],
             [
              0.3333333333333333,
              "#9c179e"
             ],
             [
              0.4444444444444444,
              "#bd3786"
             ],
             [
              0.5555555555555556,
              "#d8576b"
             ],
             [
              0.6666666666666666,
              "#ed7953"
             ],
             [
              0.7777777777777778,
              "#fb9f3a"
             ],
             [
              0.8888888888888888,
              "#fdca26"
             ],
             [
              1,
              "#f0f921"
             ]
            ],
            "type": "surface"
           }
          ],
          "table": [
           {
            "cells": {
             "fill": {
              "color": "#EBF0F8"
             },
             "line": {
              "color": "white"
             }
            },
            "header": {
             "fill": {
              "color": "#C8D4E3"
             },
             "line": {
              "color": "white"
             }
            },
            "type": "table"
           }
          ]
         },
         "layout": {
          "annotationdefaults": {
           "arrowcolor": "#2a3f5f",
           "arrowhead": 0,
           "arrowwidth": 1
          },
          "autotypenumbers": "strict",
          "coloraxis": {
           "colorbar": {
            "outlinewidth": 0,
            "ticks": ""
           }
          },
          "colorscale": {
           "diverging": [
            [
             0,
             "#8e0152"
            ],
            [
             0.1,
             "#c51b7d"
            ],
            [
             0.2,
             "#de77ae"
            ],
            [
             0.3,
             "#f1b6da"
            ],
            [
             0.4,
             "#fde0ef"
            ],
            [
             0.5,
             "#f7f7f7"
            ],
            [
             0.6,
             "#e6f5d0"
            ],
            [
             0.7,
             "#b8e186"
            ],
            [
             0.8,
             "#7fbc41"
            ],
            [
             0.9,
             "#4d9221"
            ],
            [
             1,
             "#276419"
            ]
           ],
           "sequential": [
            [
             0,
             "#0d0887"
            ],
            [
             0.1111111111111111,
             "#46039f"
            ],
            [
             0.2222222222222222,
             "#7201a8"
            ],
            [
             0.3333333333333333,
             "#9c179e"
            ],
            [
             0.4444444444444444,
             "#bd3786"
            ],
            [
             0.5555555555555556,
             "#d8576b"
            ],
            [
             0.6666666666666666,
             "#ed7953"
            ],
            [
             0.7777777777777778,
             "#fb9f3a"
            ],
            [
             0.8888888888888888,
             "#fdca26"
            ],
            [
             1,
             "#f0f921"
            ]
           ],
           "sequentialminus": [
            [
             0,
             "#0d0887"
            ],
            [
             0.1111111111111111,
             "#46039f"
            ],
            [
             0.2222222222222222,
             "#7201a8"
            ],
            [
             0.3333333333333333,
             "#9c179e"
            ],
            [
             0.4444444444444444,
             "#bd3786"
            ],
            [
             0.5555555555555556,
             "#d8576b"
            ],
            [
             0.6666666666666666,
             "#ed7953"
            ],
            [
             0.7777777777777778,
             "#fb9f3a"
            ],
            [
             0.8888888888888888,
             "#fdca26"
            ],
            [
             1,
             "#f0f921"
            ]
           ]
          },
          "colorway": [
           "#636efa",
           "#EF553B",
           "#00cc96",
           "#ab63fa",
           "#FFA15A",
           "#19d3f3",
           "#FF6692",
           "#B6E880",
           "#FF97FF",
           "#FECB52"
          ],
          "font": {
           "color": "#2a3f5f"
          },
          "geo": {
           "bgcolor": "white",
           "lakecolor": "white",
           "landcolor": "#E5ECF6",
           "showlakes": true,
           "showland": true,
           "subunitcolor": "white"
          },
          "hoverlabel": {
           "align": "left"
          },
          "hovermode": "closest",
          "mapbox": {
           "style": "light"
          },
          "paper_bgcolor": "white",
          "plot_bgcolor": "#E5ECF6",
          "polar": {
           "angularaxis": {
            "gridcolor": "white",
            "linecolor": "white",
            "ticks": ""
           },
           "bgcolor": "#E5ECF6",
           "radialaxis": {
            "gridcolor": "white",
            "linecolor": "white",
            "ticks": ""
           }
          },
          "scene": {
           "xaxis": {
            "backgroundcolor": "#E5ECF6",
            "gridcolor": "white",
            "gridwidth": 2,
            "linecolor": "white",
            "showbackground": true,
            "ticks": "",
            "zerolinecolor": "white"
           },
           "yaxis": {
            "backgroundcolor": "#E5ECF6",
            "gridcolor": "white",
            "gridwidth": 2,
            "linecolor": "white",
            "showbackground": true,
            "ticks": "",
            "zerolinecolor": "white"
           },
           "zaxis": {
            "backgroundcolor": "#E5ECF6",
            "gridcolor": "white",
            "gridwidth": 2,
            "linecolor": "white",
            "showbackground": true,
            "ticks": "",
            "zerolinecolor": "white"
           }
          },
          "shapedefaults": {
           "line": {
            "color": "#2a3f5f"
           }
          },
          "ternary": {
           "aaxis": {
            "gridcolor": "white",
            "linecolor": "white",
            "ticks": ""
           },
           "baxis": {
            "gridcolor": "white",
            "linecolor": "white",
            "ticks": ""
           },
           "bgcolor": "#E5ECF6",
           "caxis": {
            "gridcolor": "white",
            "linecolor": "white",
            "ticks": ""
           }
          },
          "title": {
           "x": 0.05
          },
          "xaxis": {
           "automargin": true,
           "gridcolor": "white",
           "linecolor": "white",
           "ticks": "",
           "title": {
            "standoff": 15
           },
           "zerolinecolor": "white",
           "zerolinewidth": 2
          },
          "yaxis": {
           "automargin": true,
           "gridcolor": "white",
           "linecolor": "white",
           "ticks": "",
           "title": {
            "standoff": 15
           },
           "zerolinecolor": "white",
           "zerolinewidth": 2
          }
         }
        },
        "title": {
         "text": "Evening Doji Star"
        },
        "xaxis": {
         "rangeslider": {
          "visible": false
         }
        }
       }
      },
      "text/html": [
       "<div>                            <div id=\"19add9cf-088e-4768-a11d-3941268f5bd9\" class=\"plotly-graph-div\" style=\"height:525px; width:100%;\"></div>            <script type=\"text/javascript\">                require([\"plotly\"], function(Plotly) {                    window.PLOTLYENV=window.PLOTLYENV || {};                                    if (document.getElementById(\"19add9cf-088e-4768-a11d-3941268f5bd9\")) {                    Plotly.newPlot(                        \"19add9cf-088e-4768-a11d-3941268f5bd9\",                        [{\"close\":[35527.24,35637.71,33872.9,34422.71,35502.82,35600.16,34649.63,33025.5,32520.56,32687.99,32563.89,31608.93,33018.22,32648.98,31243.41,31708.08,32404.06,32509.56,33966.43,33982.26,33911.39,33490.14,32879.97,33678.07,32589.2,32853.74,33850.77,33886.52,34857.73,34663.09,35052.07,34283.82,33311.96,32607.07,32220.74,31584.45,31977.59,30720.37,31777.73,31523.5,31573.98,32283.65],\"high\":[35800.0,35922.0,35693.88,34666.0,35700.92,36137.72,35750.0,34725.82,33577.12,33222.22,33000.0,32800.0,33260.0,33109.81,32658.63,31980.0,33298.78,32987.0,34444.0,34392.1,34500.0,34881.0,33947.17,33785.26,33879.99,33280.55,33930.23,34583.58,35298.0,34999.09,35500.0,35100.0,34480.0,33600.77,32910.64,32369.0,32268.91,32730.0,31883.6,31985.0,31910.0,32300.24],\"low\":[35119.21,35363.02,33724.48,33336.0,34289.0,35380.0,34566.82,32266.0,31710.0,31927.91,32034.52,31251.23,31168.0,32479.0,31112.0,28805.0,31620.0,32150.0,31683.0,33574.11,33650.21,33400.3,32870.99,32749.01,32339.82,32286.57,32820.61,33756.04,33751.0,34512.0,34251.0,33961.48,33234.37,32351.0,31500.0,31275.0,31300.0,30573.77,30151.0,30505.0,30776.63,30905.78],\"name\":\"Price\",\"opacity\":0.5,\"open\":[35483.72,35527.25,35637.72,33870.56,34422.11,35502.83,35600.17,34651.86,33025.5,32530.68,32685.84,32563.89,31614.12,33018.21,32647.96,31236.53,31707.56,32404.06,32509.56,33969.69,33982.26,33911.4,33490.14,32882.5,33675.07,32589.2,32853.74,33850.78,33888.81,34854.63,34663.08,35057.7,34281.37,33311.96,32607.07,32222.91,31576.09,31979.71,30713.54,31777.9,31526.88,31573.97],\"x\":[\"2021-06-20 03:00:00\",\"2021-06-20 07:00:00\",\"2021-06-20 11:00:00\",\"2021-06-20 15:00:00\",\"2021-06-20 19:00:00\",\"2021-06-20 23:00:00\",\"2021-06-21 03:00:00\",\"2021-06-21 07:00:00\",\"2021-06-21 11:00:00\",\"2021-06-21 15:00:00\",\"2021-06-21 19:00:00\",\"2021-06-21 23:00:00\",\"2021-06-22 03:00:00\",\"2021-06-22 07:00:00\",\"2021-06-22 11:00:00\",\"2021-06-22 15:00:00\",\"2021-06-22 19:00:00\",\"2021-06-22 23:00:00\",\"2021-06-23 03:00:00\",\"2021-06-23 07:00:00\",\"2021-06-23 11:00:00\",\"2021-06-23 15:00:00\",\"2021-06-23 19:00:00\",\"2021-06-23 23:00:00\",\"2021-06-24 03:00:00\",\"2021-06-24 07:00:00\",\"2021-06-24 11:00:00\",\"2021-06-24 15:00:00\",\"2021-06-24 19:00:00\",\"2021-06-24 23:00:00\",\"2021-06-25 03:00:00\",\"2021-06-25 07:00:00\",\"2021-06-25 11:00:00\",\"2021-06-25 15:00:00\",\"2021-06-25 19:00:00\",\"2021-06-25 23:00:00\",\"2021-06-26 03:00:00\",\"2021-06-26 07:00:00\",\"2021-06-26 11:00:00\",\"2021-06-26 15:00:00\",\"2021-06-26 19:00:00\",\"2021-06-26 23:00:00\"],\"type\":\"candlestick\"},{\"marker\":{\"color\":\"#16FF32\",\"line\":{\"color\":\"MediumPurple\",\"width\":2},\"size\":7,\"symbol\":\"6\"},\"mode\":\"markers\",\"name\":\"Bearish\",\"opacity\":1,\"x\":[\"2021-06-20 03:00:00\",\"2021-06-20 07:00:00\",\"2021-06-20 11:00:00\",\"2021-06-20 15:00:00\",\"2021-06-20 19:00:00\",\"2021-06-20 23:00:00\",\"2021-06-21 03:00:00\",\"2021-06-21 07:00:00\",\"2021-06-21 11:00:00\",\"2021-06-21 15:00:00\",\"2021-06-21 19:00:00\",\"2021-06-21 23:00:00\",\"2021-06-22 03:00:00\",\"2021-06-22 07:00:00\",\"2021-06-22 11:00:00\",\"2021-06-22 15:00:00\",\"2021-06-22 19:00:00\",\"2021-06-22 23:00:00\",\"2021-06-23 03:00:00\",\"2021-06-23 07:00:00\",\"2021-06-23 11:00:00\",\"2021-06-23 15:00:00\",\"2021-06-23 19:00:00\",\"2021-06-23 23:00:00\",\"2021-06-24 03:00:00\",\"2021-06-24 07:00:00\",\"2021-06-24 11:00:00\",\"2021-06-24 15:00:00\",\"2021-06-24 19:00:00\",\"2021-06-24 23:00:00\",\"2021-06-25 03:00:00\",\"2021-06-25 07:00:00\",\"2021-06-25 11:00:00\",\"2021-06-25 15:00:00\",\"2021-06-25 19:00:00\",\"2021-06-25 23:00:00\",\"2021-06-26 03:00:00\",\"2021-06-26 07:00:00\",\"2021-06-26 11:00:00\",\"2021-06-26 15:00:00\",\"2021-06-26 19:00:00\",\"2021-06-26 23:00:00\"],\"y\":[null,null,null,null,null,null,36312.1734,null,null,null,null,null,null,null,null,null,null,null,null,null,null,null,null,null,null,null,null,null,null,null,null,null,null,null,null,null,null,null,null,null,null,null],\"type\":\"scatter\"}],                        {\"template\":{\"data\":{\"barpolar\":[{\"marker\":{\"line\":{\"color\":\"#E5ECF6\",\"width\":0.5},\"pattern\":{\"fillmode\":\"overlay\",\"size\":10,\"solidity\":0.2}},\"type\":\"barpolar\"}],\"bar\":[{\"error_x\":{\"color\":\"#2a3f5f\"},\"error_y\":{\"color\":\"#2a3f5f\"},\"marker\":{\"line\":{\"color\":\"#E5ECF6\",\"width\":0.5},\"pattern\":{\"fillmode\":\"overlay\",\"size\":10,\"solidity\":0.2}},\"type\":\"bar\"}],\"carpet\":[{\"aaxis\":{\"endlinecolor\":\"#2a3f5f\",\"gridcolor\":\"white\",\"linecolor\":\"white\",\"minorgridcolor\":\"white\",\"startlinecolor\":\"#2a3f5f\"},\"baxis\":{\"endlinecolor\":\"#2a3f5f\",\"gridcolor\":\"white\",\"linecolor\":\"white\",\"minorgridcolor\":\"white\",\"startlinecolor\":\"#2a3f5f\"},\"type\":\"carpet\"}],\"choropleth\":[{\"colorbar\":{\"outlinewidth\":0,\"ticks\":\"\"},\"type\":\"choropleth\"}],\"contourcarpet\":[{\"colorbar\":{\"outlinewidth\":0,\"ticks\":\"\"},\"type\":\"contourcarpet\"}],\"contour\":[{\"colorbar\":{\"outlinewidth\":0,\"ticks\":\"\"},\"colorscale\":[[0.0,\"#0d0887\"],[0.1111111111111111,\"#46039f\"],[0.2222222222222222,\"#7201a8\"],[0.3333333333333333,\"#9c179e\"],[0.4444444444444444,\"#bd3786\"],[0.5555555555555556,\"#d8576b\"],[0.6666666666666666,\"#ed7953\"],[0.7777777777777778,\"#fb9f3a\"],[0.8888888888888888,\"#fdca26\"],[1.0,\"#f0f921\"]],\"type\":\"contour\"}],\"heatmapgl\":[{\"colorbar\":{\"outlinewidth\":0,\"ticks\":\"\"},\"colorscale\":[[0.0,\"#0d0887\"],[0.1111111111111111,\"#46039f\"],[0.2222222222222222,\"#7201a8\"],[0.3333333333333333,\"#9c179e\"],[0.4444444444444444,\"#bd3786\"],[0.5555555555555556,\"#d8576b\"],[0.6666666666666666,\"#ed7953\"],[0.7777777777777778,\"#fb9f3a\"],[0.8888888888888888,\"#fdca26\"],[1.0,\"#f0f921\"]],\"type\":\"heatmapgl\"}],\"heatmap\":[{\"colorbar\":{\"outlinewidth\":0,\"ticks\":\"\"},\"colorscale\":[[0.0,\"#0d0887\"],[0.1111111111111111,\"#46039f\"],[0.2222222222222222,\"#7201a8\"],[0.3333333333333333,\"#9c179e\"],[0.4444444444444444,\"#bd3786\"],[0.5555555555555556,\"#d8576b\"],[0.6666666666666666,\"#ed7953\"],[0.7777777777777778,\"#fb9f3a\"],[0.8888888888888888,\"#fdca26\"],[1.0,\"#f0f921\"]],\"type\":\"heatmap\"}],\"histogram2dcontour\":[{\"colorbar\":{\"outlinewidth\":0,\"ticks\":\"\"},\"colorscale\":[[0.0,\"#0d0887\"],[0.1111111111111111,\"#46039f\"],[0.2222222222222222,\"#7201a8\"],[0.3333333333333333,\"#9c179e\"],[0.4444444444444444,\"#bd3786\"],[0.5555555555555556,\"#d8576b\"],[0.6666666666666666,\"#ed7953\"],[0.7777777777777778,\"#fb9f3a\"],[0.8888888888888888,\"#fdca26\"],[1.0,\"#f0f921\"]],\"type\":\"histogram2dcontour\"}],\"histogram2d\":[{\"colorbar\":{\"outlinewidth\":0,\"ticks\":\"\"},\"colorscale\":[[0.0,\"#0d0887\"],[0.1111111111111111,\"#46039f\"],[0.2222222222222222,\"#7201a8\"],[0.3333333333333333,\"#9c179e\"],[0.4444444444444444,\"#bd3786\"],[0.5555555555555556,\"#d8576b\"],[0.6666666666666666,\"#ed7953\"],[0.7777777777777778,\"#fb9f3a\"],[0.8888888888888888,\"#fdca26\"],[1.0,\"#f0f921\"]],\"type\":\"histogram2d\"}],\"histogram\":[{\"marker\":{\"pattern\":{\"fillmode\":\"overlay\",\"size\":10,\"solidity\":0.2}},\"type\":\"histogram\"}],\"mesh3d\":[{\"colorbar\":{\"outlinewidth\":0,\"ticks\":\"\"},\"type\":\"mesh3d\"}],\"parcoords\":[{\"line\":{\"colorbar\":{\"outlinewidth\":0,\"ticks\":\"\"}},\"type\":\"parcoords\"}],\"pie\":[{\"automargin\":true,\"type\":\"pie\"}],\"scatter3d\":[{\"line\":{\"colorbar\":{\"outlinewidth\":0,\"ticks\":\"\"}},\"marker\":{\"colorbar\":{\"outlinewidth\":0,\"ticks\":\"\"}},\"type\":\"scatter3d\"}],\"scattercarpet\":[{\"marker\":{\"colorbar\":{\"outlinewidth\":0,\"ticks\":\"\"}},\"type\":\"scattercarpet\"}],\"scattergeo\":[{\"marker\":{\"colorbar\":{\"outlinewidth\":0,\"ticks\":\"\"}},\"type\":\"scattergeo\"}],\"scattergl\":[{\"marker\":{\"colorbar\":{\"outlinewidth\":0,\"ticks\":\"\"}},\"type\":\"scattergl\"}],\"scattermapbox\":[{\"marker\":{\"colorbar\":{\"outlinewidth\":0,\"ticks\":\"\"}},\"type\":\"scattermapbox\"}],\"scatterpolargl\":[{\"marker\":{\"colorbar\":{\"outlinewidth\":0,\"ticks\":\"\"}},\"type\":\"scatterpolargl\"}],\"scatterpolar\":[{\"marker\":{\"colorbar\":{\"outlinewidth\":0,\"ticks\":\"\"}},\"type\":\"scatterpolar\"}],\"scatter\":[{\"fillpattern\":{\"fillmode\":\"overlay\",\"size\":10,\"solidity\":0.2},\"type\":\"scatter\"}],\"scatterternary\":[{\"marker\":{\"colorbar\":{\"outlinewidth\":0,\"ticks\":\"\"}},\"type\":\"scatterternary\"}],\"surface\":[{\"colorbar\":{\"outlinewidth\":0,\"ticks\":\"\"},\"colorscale\":[[0.0,\"#0d0887\"],[0.1111111111111111,\"#46039f\"],[0.2222222222222222,\"#7201a8\"],[0.3333333333333333,\"#9c179e\"],[0.4444444444444444,\"#bd3786\"],[0.5555555555555556,\"#d8576b\"],[0.6666666666666666,\"#ed7953\"],[0.7777777777777778,\"#fb9f3a\"],[0.8888888888888888,\"#fdca26\"],[1.0,\"#f0f921\"]],\"type\":\"surface\"}],\"table\":[{\"cells\":{\"fill\":{\"color\":\"#EBF0F8\"},\"line\":{\"color\":\"white\"}},\"header\":{\"fill\":{\"color\":\"#C8D4E3\"},\"line\":{\"color\":\"white\"}},\"type\":\"table\"}]},\"layout\":{\"annotationdefaults\":{\"arrowcolor\":\"#2a3f5f\",\"arrowhead\":0,\"arrowwidth\":1},\"autotypenumbers\":\"strict\",\"coloraxis\":{\"colorbar\":{\"outlinewidth\":0,\"ticks\":\"\"}},\"colorscale\":{\"diverging\":[[0,\"#8e0152\"],[0.1,\"#c51b7d\"],[0.2,\"#de77ae\"],[0.3,\"#f1b6da\"],[0.4,\"#fde0ef\"],[0.5,\"#f7f7f7\"],[0.6,\"#e6f5d0\"],[0.7,\"#b8e186\"],[0.8,\"#7fbc41\"],[0.9,\"#4d9221\"],[1,\"#276419\"]],\"sequential\":[[0.0,\"#0d0887\"],[0.1111111111111111,\"#46039f\"],[0.2222222222222222,\"#7201a8\"],[0.3333333333333333,\"#9c179e\"],[0.4444444444444444,\"#bd3786\"],[0.5555555555555556,\"#d8576b\"],[0.6666666666666666,\"#ed7953\"],[0.7777777777777778,\"#fb9f3a\"],[0.8888888888888888,\"#fdca26\"],[1.0,\"#f0f921\"]],\"sequentialminus\":[[0.0,\"#0d0887\"],[0.1111111111111111,\"#46039f\"],[0.2222222222222222,\"#7201a8\"],[0.3333333333333333,\"#9c179e\"],[0.4444444444444444,\"#bd3786\"],[0.5555555555555556,\"#d8576b\"],[0.6666666666666666,\"#ed7953\"],[0.7777777777777778,\"#fb9f3a\"],[0.8888888888888888,\"#fdca26\"],[1.0,\"#f0f921\"]]},\"colorway\":[\"#636efa\",\"#EF553B\",\"#00cc96\",\"#ab63fa\",\"#FFA15A\",\"#19d3f3\",\"#FF6692\",\"#B6E880\",\"#FF97FF\",\"#FECB52\"],\"font\":{\"color\":\"#2a3f5f\"},\"geo\":{\"bgcolor\":\"white\",\"lakecolor\":\"white\",\"landcolor\":\"#E5ECF6\",\"showlakes\":true,\"showland\":true,\"subunitcolor\":\"white\"},\"hoverlabel\":{\"align\":\"left\"},\"hovermode\":\"closest\",\"mapbox\":{\"style\":\"light\"},\"paper_bgcolor\":\"white\",\"plot_bgcolor\":\"#E5ECF6\",\"polar\":{\"angularaxis\":{\"gridcolor\":\"white\",\"linecolor\":\"white\",\"ticks\":\"\"},\"bgcolor\":\"#E5ECF6\",\"radialaxis\":{\"gridcolor\":\"white\",\"linecolor\":\"white\",\"ticks\":\"\"}},\"scene\":{\"xaxis\":{\"backgroundcolor\":\"#E5ECF6\",\"gridcolor\":\"white\",\"gridwidth\":2,\"linecolor\":\"white\",\"showbackground\":true,\"ticks\":\"\",\"zerolinecolor\":\"white\"},\"yaxis\":{\"backgroundcolor\":\"#E5ECF6\",\"gridcolor\":\"white\",\"gridwidth\":2,\"linecolor\":\"white\",\"showbackground\":true,\"ticks\":\"\",\"zerolinecolor\":\"white\"},\"zaxis\":{\"backgroundcolor\":\"#E5ECF6\",\"gridcolor\":\"white\",\"gridwidth\":2,\"linecolor\":\"white\",\"showbackground\":true,\"ticks\":\"\",\"zerolinecolor\":\"white\"}},\"shapedefaults\":{\"line\":{\"color\":\"#2a3f5f\"}},\"ternary\":{\"aaxis\":{\"gridcolor\":\"white\",\"linecolor\":\"white\",\"ticks\":\"\"},\"baxis\":{\"gridcolor\":\"white\",\"linecolor\":\"white\",\"ticks\":\"\"},\"bgcolor\":\"#E5ECF6\",\"caxis\":{\"gridcolor\":\"white\",\"linecolor\":\"white\",\"ticks\":\"\"}},\"title\":{\"x\":0.05},\"xaxis\":{\"automargin\":true,\"gridcolor\":\"white\",\"linecolor\":\"white\",\"ticks\":\"\",\"title\":{\"standoff\":15},\"zerolinecolor\":\"white\",\"zerolinewidth\":2},\"yaxis\":{\"automargin\":true,\"gridcolor\":\"white\",\"linecolor\":\"white\",\"ticks\":\"\",\"title\":{\"standoff\":15},\"zerolinecolor\":\"white\",\"zerolinewidth\":2}}},\"title\":{\"text\":\"Evening Doji Star\"},\"xaxis\":{\"rangeslider\":{\"visible\":false}}},                        {\"responsive\": true}                    ).then(function(){\n",
       "                            \n",
       "var gd = document.getElementById('19add9cf-088e-4768-a11d-3941268f5bd9');\n",
       "var x = new MutationObserver(function (mutations, observer) {{\n",
       "        var display = window.getComputedStyle(gd).display;\n",
       "        if (!display || display === 'none') {{\n",
       "            console.log([gd, 'removed!']);\n",
       "            Plotly.purge(gd);\n",
       "            observer.disconnect();\n",
       "        }}\n",
       "}});\n",
       "\n",
       "// Listen for the removal of the full notebook cells\n",
       "var notebookContainer = gd.closest('#notebook-container');\n",
       "if (notebookContainer) {{\n",
       "    x.observe(notebookContainer, {childList: true});\n",
       "}}\n",
       "\n",
       "// Listen for the clearing of the current output cell\n",
       "var outputEl = gd.closest('.output');\n",
       "if (outputEl) {{\n",
       "    x.observe(outputEl, {childList: true});\n",
       "}}\n",
       "\n",
       "                        })                };                });            </script>        </div>"
      ]
     },
     "metadata": {},
     "output_type": "display_data"
    }
   ],
   "source": [
    "fig = go.Figure()\n",
    "\n",
    "fig.add_trace(go.Candlestick(x=evening_doji_plot['Time'],\n",
    "                             open=evening_doji_plot['Open'],\n",
    "                             high=evening_doji_plot['High'],\n",
    "                             low=evening_doji_plot['Low'],\n",
    "                             close=evening_doji_plot['Close'], opacity=0.5, name=\"Price\"))\n",
    "\n",
    "\n",
    "fig.add_trace(go.Scatter(x=evening_doji_plot['Time'], \n",
    "                         y=evening_doji_plot['evening_doji_star_bearish_dot'],\n",
    "                         opacity=1, mode='markers', marker=dict(color='#16FF32', symbol='6', size=7, line=dict(color='MediumPurple',width=2)),\n",
    "                         name=\"Bearish\"))\n",
    "\n",
    "\n",
    "fig.update_layout(xaxis_rangeslider_visible=False, title = 'Evening Doji Star')\n",
    "iplot(fig, show_link=False)"
   ]
  },
  {
   "cell_type": "markdown",
   "id": "6dae8c87",
   "metadata": {},
   "source": [
    "![pattern](https://lh3.googleusercontent.com/ioKkt5gJFHAKKkJV5uRHnI5HMCkRsPmszjq3ozxsWEXVZKzkrWvQWxiCBPO3NwH6pEY1HTQMFKGO2dbPuGJvAnQG00AAdtWuCdqWcD0iaukYVlcT7D8m2xihcdpIKEQH4zCaSr2DezzzX_H5CYdLeWo)"
   ]
  },
  {
   "cell_type": "markdown",
   "id": "52cc0659",
   "metadata": {},
   "source": [
    "### Three-Line Strike\n",
    "\n",
    "Trend continuation pattern \n",
    "\n",
    "The bearish Three Line Strike:\n",
    "\n",
    "- The first three candles are long and bearish and continue the downtrend having Close prices consequently lower\n",
    "- The second and the third candles open within the previous candle's body\n",
    "- The fourth candle is bullish, opening at a new Low price\n",
    "- The fourth candle's Close price is higher than the Open price of the first candle\n",
    "\n",
    "The bullish Three Line Strike:\n",
    "\n",
    "- The first three candles are long and bullish and continue the uptrend having Close prices consequently higher\n",
    "- The second and the third candles open within the previous candle's body\n",
    "- The fourth candle is bearish, opening at a new High price\n",
    "- The fourth candle's Close price is lower than the Open price of the first candle\n"
   ]
  },
  {
   "cell_type": "code",
   "execution_count": 30,
   "id": "34d0d7bf",
   "metadata": {},
   "outputs": [],
   "source": [
    "three_line_strike = new_df(price, 'CDL3LINESTRIKE')"
   ]
  },
  {
   "cell_type": "code",
   "execution_count": 31,
   "id": "49dd676f",
   "metadata": {},
   "outputs": [
    {
     "data": {
      "text/html": [
       "<div>\n",
       "<style scoped>\n",
       "    .dataframe tbody tr th:only-of-type {\n",
       "        vertical-align: middle;\n",
       "    }\n",
       "\n",
       "    .dataframe tbody tr th {\n",
       "        vertical-align: top;\n",
       "    }\n",
       "\n",
       "    .dataframe thead th {\n",
       "        text-align: right;\n",
       "    }\n",
       "</style>\n",
       "<table border=\"1\" class=\"dataframe\">\n",
       "  <thead>\n",
       "    <tr style=\"text-align: right;\">\n",
       "      <th></th>\n",
       "      <th>Time</th>\n",
       "      <th>Open</th>\n",
       "      <th>High</th>\n",
       "      <th>Low</th>\n",
       "      <th>Close</th>\n",
       "      <th>CDL3LINESTRIKE</th>\n",
       "      <th>year_week</th>\n",
       "    </tr>\n",
       "  </thead>\n",
       "  <tbody>\n",
       "    <tr>\n",
       "      <th>459</th>\n",
       "      <td>2021-03-18 15:00:00</td>\n",
       "      <td>58168.69</td>\n",
       "      <td>59637.39</td>\n",
       "      <td>57500.00</td>\n",
       "      <td>59533.68</td>\n",
       "      <td>Bearish</td>\n",
       "      <td>2021-11</td>\n",
       "    </tr>\n",
       "    <tr>\n",
       "      <th>473</th>\n",
       "      <td>2021-03-20 23:00:00</td>\n",
       "      <td>59272.83</td>\n",
       "      <td>59381.70</td>\n",
       "      <td>57966.85</td>\n",
       "      <td>58102.28</td>\n",
       "      <td>Bullish</td>\n",
       "      <td>2021-11</td>\n",
       "    </tr>\n",
       "    <tr>\n",
       "      <th>1067</th>\n",
       "      <td>2021-06-27 23:00:00</td>\n",
       "      <td>32815.18</td>\n",
       "      <td>34749.00</td>\n",
       "      <td>32357.13</td>\n",
       "      <td>34700.34</td>\n",
       "      <td>Bearish</td>\n",
       "      <td>2021-26</td>\n",
       "    </tr>\n",
       "    <tr>\n",
       "      <th>1767</th>\n",
       "      <td>2021-10-22 15:00:00</td>\n",
       "      <td>63376.81</td>\n",
       "      <td>63709.50</td>\n",
       "      <td>60478.10</td>\n",
       "      <td>60690.94</td>\n",
       "      <td>Bullish</td>\n",
       "      <td>2021-42</td>\n",
       "    </tr>\n",
       "    <tr>\n",
       "      <th>2092</th>\n",
       "      <td>2021-12-15 19:00:00</td>\n",
       "      <td>46632.30</td>\n",
       "      <td>49259.98</td>\n",
       "      <td>46547.00</td>\n",
       "      <td>48674.90</td>\n",
       "      <td>Bearish</td>\n",
       "      <td>2021-50</td>\n",
       "    </tr>\n",
       "    <tr>\n",
       "      <th>2254</th>\n",
       "      <td>2022-01-11 19:00:00</td>\n",
       "      <td>41733.92</td>\n",
       "      <td>43100.00</td>\n",
       "      <td>41680.44</td>\n",
       "      <td>42972.05</td>\n",
       "      <td>Bearish</td>\n",
       "      <td>2022-02</td>\n",
       "    </tr>\n",
       "    <tr>\n",
       "      <th>2584</th>\n",
       "      <td>2022-03-07 19:00:00</td>\n",
       "      <td>39071.49</td>\n",
       "      <td>39547.57</td>\n",
       "      <td>37192.78</td>\n",
       "      <td>37308.94</td>\n",
       "      <td>Bullish</td>\n",
       "      <td>2022-10</td>\n",
       "    </tr>\n",
       "    <tr>\n",
       "      <th>2616</th>\n",
       "      <td>2022-03-13 03:00:00</td>\n",
       "      <td>38807.35</td>\n",
       "      <td>39276.28</td>\n",
       "      <td>38703.73</td>\n",
       "      <td>39194.08</td>\n",
       "      <td>Bearish</td>\n",
       "      <td>2022-11</td>\n",
       "    </tr>\n",
       "    <tr>\n",
       "      <th>2774</th>\n",
       "      <td>2022-04-08 11:00:00</td>\n",
       "      <td>43763.53</td>\n",
       "      <td>43970.62</td>\n",
       "      <td>43260.76</td>\n",
       "      <td>43298.79</td>\n",
       "      <td>Bullish</td>\n",
       "      <td>2022-14</td>\n",
       "    </tr>\n",
       "    <tr>\n",
       "      <th>3193</th>\n",
       "      <td>2022-06-17 07:00:00</td>\n",
       "      <td>20383.37</td>\n",
       "      <td>21286.01</td>\n",
       "      <td>20326.00</td>\n",
       "      <td>21100.64</td>\n",
       "      <td>Bearish</td>\n",
       "      <td>2022-24</td>\n",
       "    </tr>\n",
       "  </tbody>\n",
       "</table>\n",
       "</div>"
      ],
      "text/plain": [
       "                     Time      Open      High       Low     Close  \\\n",
       "459   2021-03-18 15:00:00  58168.69  59637.39  57500.00  59533.68   \n",
       "473   2021-03-20 23:00:00  59272.83  59381.70  57966.85  58102.28   \n",
       "1067  2021-06-27 23:00:00  32815.18  34749.00  32357.13  34700.34   \n",
       "1767  2021-10-22 15:00:00  63376.81  63709.50  60478.10  60690.94   \n",
       "2092  2021-12-15 19:00:00  46632.30  49259.98  46547.00  48674.90   \n",
       "2254  2022-01-11 19:00:00  41733.92  43100.00  41680.44  42972.05   \n",
       "2584  2022-03-07 19:00:00  39071.49  39547.57  37192.78  37308.94   \n",
       "2616  2022-03-13 03:00:00  38807.35  39276.28  38703.73  39194.08   \n",
       "2774  2022-04-08 11:00:00  43763.53  43970.62  43260.76  43298.79   \n",
       "3193  2022-06-17 07:00:00  20383.37  21286.01  20326.00  21100.64   \n",
       "\n",
       "     CDL3LINESTRIKE year_week  \n",
       "459         Bearish   2021-11  \n",
       "473         Bullish   2021-11  \n",
       "1067        Bearish   2021-26  \n",
       "1767        Bullish   2021-42  \n",
       "2092        Bearish   2021-50  \n",
       "2254        Bearish   2022-02  \n",
       "2584        Bullish   2022-10  \n",
       "2616        Bearish   2022-11  \n",
       "2774        Bullish   2022-14  \n",
       "3193        Bearish   2022-24  "
      ]
     },
     "execution_count": 31,
     "metadata": {},
     "output_type": "execute_result"
    }
   ],
   "source": [
    "three_line_strike.loc[(three_line_strike['CDL3LINESTRIKE'] == 'Bullish') \\\n",
    "                                      | (three_line_strike['CDL3LINESTRIKE'] == 'Bearish')]"
   ]
  },
  {
   "cell_type": "code",
   "execution_count": 32,
   "id": "9c9a8819",
   "metadata": {},
   "outputs": [],
   "source": [
    "def bear_three_line_strike(row):\n",
    "    \n",
    "    if row['CDL3LINESTRIKE'] == 'Bearish':\n",
    "        return row['Close'] * 1.02\n",
    "    else:\n",
    "        return np.nan  \n",
    "    \n",
    "def bull_three_line_strike(row):\n",
    "    \n",
    "    if row['CDL3LINESTRIKE'] == 'Bullish':\n",
    "        return row['Open'] * 0.98\n",
    "    else:\n",
    "        return np.nan\n",
    "    \n",
    "three_line_strike['three_line_strike_bearish_dot'] = three_line_strike.apply(bear_three_line_strike, axis=1)    \n",
    "three_line_strike['three_line_strike_bullish_dot'] = three_line_strike.apply(bull_three_line_strike, axis=1)"
   ]
  },
  {
   "cell_type": "code",
   "execution_count": 33,
   "id": "c8a76c14",
   "metadata": {},
   "outputs": [],
   "source": [
    "three_line_strike_plot_bear = three_line_strike.loc[three_line_strike['year_week'] == '2022-24'].copy()"
   ]
  },
  {
   "cell_type": "code",
   "execution_count": 34,
   "id": "a83fe053",
   "metadata": {},
   "outputs": [
    {
     "data": {
      "application/vnd.plotly.v1+json": {
       "config": {
        "plotlyServerURL": "https://plot.ly"
       },
       "data": [
        {
         "close": [
          27553.23,
          27645.89,
          27457.39,
          28094.42,
          27424.71,
          26574.53,
          25520.05,
          24811.59,
          23729.43,
          23271.54,
          23218.22,
          22487.41,
          22127.91,
          22877.52,
          21994.56,
          22680.38,
          22196.28,
          22136.41,
          21455.8,
          20722.92,
          21177.03,
          21419.1,
          21632.04,
          22583.72,
          22211.62,
          21764.17,
          21044.55,
          21074.77,
          20875.48,
          20401.31,
          20383.38,
          21100.64,
          20972.04,
          20663.7,
          20515.59,
          20468.81,
          20459.65,
          19258.58,
          19243.98,
          18953.76,
          18067.6,
          18970.79
         ],
         "high": [
          28544.96,
          27677.18,
          27726.15,
          28347.89,
          28238.58,
          27557.05,
          26895.84,
          26257.31,
          24941.17,
          24376.09,
          24204.55,
          23787.3,
          22796.71,
          23362.88,
          22979.96,
          22800,
          22777.07,
          22344,
          22297.37,
          21490.67,
          21290,
          21798.95,
          22496.52,
          22800,
          22995.73,
          22361.98,
          21888,
          21510.2,
          21500,
          21048.38,
          21059.68,
          21286.01,
          21365.43,
          21047.41,
          20791.96,
          20723,
          20792.06,
          20537.34,
          19540,
          19291.99,
          19101.28,
          19493.23
         ],
         "low": [
          27249,
          27190,
          27342.82,
          26890,
          27423.73,
          26560,
          24900,
          24555,
          23500,
          22600,
          23101.01,
          21925.77,
          20846,
          21763.71,
          21725.22,
          21811.01,
          22126.4,
          21358,
          21406.68,
          20652.18,
          20111.62,
          21045.13,
          20250,
          21450,
          22167.08,
          21646.64,
          20852.35,
          20745,
          20818,
          20232,
          20246.66,
          20326,
          20847.49,
          20386.93,
          20440.92,
          20368.2,
          20322.08,
          19066.8,
          18742.5,
          18942.75,
          18031.13,
          17622
         ],
         "name": "Price",
         "opacity": 0.5,
         "open": [
          28424.71,
          27553.22,
          27645.88,
          27457.39,
          28094.42,
          27424.71,
          26574.53,
          25520.05,
          24811.59,
          23729.43,
          23271.53,
          23215.97,
          22485.27,
          22127.92,
          22877.52,
          21994.56,
          22680.38,
          22190.93,
          22136.42,
          21455.8,
          20722.92,
          21177.04,
          21419.09,
          21632.03,
          22583.72,
          22211.62,
          21764.18,
          21044.56,
          21074.77,
          20875.48,
          20400.6,
          20383.37,
          21100.65,
          20972.04,
          20661.95,
          20515.59,
          20468.81,
          20459.65,
          19258.58,
          19243.99,
          18953.76,
          18067.61
         ],
         "type": "candlestick",
         "x": [
          "2022-06-12 03:00:00",
          "2022-06-12 07:00:00",
          "2022-06-12 11:00:00",
          "2022-06-12 15:00:00",
          "2022-06-12 19:00:00",
          "2022-06-12 23:00:00",
          "2022-06-13 03:00:00",
          "2022-06-13 07:00:00",
          "2022-06-13 11:00:00",
          "2022-06-13 15:00:00",
          "2022-06-13 19:00:00",
          "2022-06-13 23:00:00",
          "2022-06-14 03:00:00",
          "2022-06-14 07:00:00",
          "2022-06-14 11:00:00",
          "2022-06-14 15:00:00",
          "2022-06-14 19:00:00",
          "2022-06-14 23:00:00",
          "2022-06-15 03:00:00",
          "2022-06-15 07:00:00",
          "2022-06-15 11:00:00",
          "2022-06-15 15:00:00",
          "2022-06-15 19:00:00",
          "2022-06-15 23:00:00",
          "2022-06-16 03:00:00",
          "2022-06-16 07:00:00",
          "2022-06-16 11:00:00",
          "2022-06-16 15:00:00",
          "2022-06-16 19:00:00",
          "2022-06-16 23:00:00",
          "2022-06-17 03:00:00",
          "2022-06-17 07:00:00",
          "2022-06-17 11:00:00",
          "2022-06-17 15:00:00",
          "2022-06-17 19:00:00",
          "2022-06-17 23:00:00",
          "2022-06-18 03:00:00",
          "2022-06-18 07:00:00",
          "2022-06-18 11:00:00",
          "2022-06-18 15:00:00",
          "2022-06-18 19:00:00",
          "2022-06-18 23:00:00"
         ]
        },
        {
         "marker": {
          "color": "#16FF32",
          "line": {
           "color": "MediumPurple",
           "width": 2
          },
          "size": 7,
          "symbol": "6"
         },
         "mode": "markers",
         "name": "Bearish",
         "opacity": 1,
         "type": "scatter",
         "x": [
          "2022-06-12 03:00:00",
          "2022-06-12 07:00:00",
          "2022-06-12 11:00:00",
          "2022-06-12 15:00:00",
          "2022-06-12 19:00:00",
          "2022-06-12 23:00:00",
          "2022-06-13 03:00:00",
          "2022-06-13 07:00:00",
          "2022-06-13 11:00:00",
          "2022-06-13 15:00:00",
          "2022-06-13 19:00:00",
          "2022-06-13 23:00:00",
          "2022-06-14 03:00:00",
          "2022-06-14 07:00:00",
          "2022-06-14 11:00:00",
          "2022-06-14 15:00:00",
          "2022-06-14 19:00:00",
          "2022-06-14 23:00:00",
          "2022-06-15 03:00:00",
          "2022-06-15 07:00:00",
          "2022-06-15 11:00:00",
          "2022-06-15 15:00:00",
          "2022-06-15 19:00:00",
          "2022-06-15 23:00:00",
          "2022-06-16 03:00:00",
          "2022-06-16 07:00:00",
          "2022-06-16 11:00:00",
          "2022-06-16 15:00:00",
          "2022-06-16 19:00:00",
          "2022-06-16 23:00:00",
          "2022-06-17 03:00:00",
          "2022-06-17 07:00:00",
          "2022-06-17 11:00:00",
          "2022-06-17 15:00:00",
          "2022-06-17 19:00:00",
          "2022-06-17 23:00:00",
          "2022-06-18 03:00:00",
          "2022-06-18 07:00:00",
          "2022-06-18 11:00:00",
          "2022-06-18 15:00:00",
          "2022-06-18 19:00:00",
          "2022-06-18 23:00:00"
         ],
         "y": [
          null,
          null,
          null,
          null,
          null,
          null,
          null,
          null,
          null,
          null,
          null,
          null,
          null,
          null,
          null,
          null,
          null,
          null,
          null,
          null,
          null,
          null,
          null,
          null,
          null,
          null,
          null,
          null,
          null,
          null,
          null,
          21522.6528,
          null,
          null,
          null,
          null,
          null,
          null,
          null,
          null,
          null,
          null
         ]
        }
       ],
       "layout": {
        "template": {
         "data": {
          "bar": [
           {
            "error_x": {
             "color": "#2a3f5f"
            },
            "error_y": {
             "color": "#2a3f5f"
            },
            "marker": {
             "line": {
              "color": "#E5ECF6",
              "width": 0.5
             },
             "pattern": {
              "fillmode": "overlay",
              "size": 10,
              "solidity": 0.2
             }
            },
            "type": "bar"
           }
          ],
          "barpolar": [
           {
            "marker": {
             "line": {
              "color": "#E5ECF6",
              "width": 0.5
             },
             "pattern": {
              "fillmode": "overlay",
              "size": 10,
              "solidity": 0.2
             }
            },
            "type": "barpolar"
           }
          ],
          "carpet": [
           {
            "aaxis": {
             "endlinecolor": "#2a3f5f",
             "gridcolor": "white",
             "linecolor": "white",
             "minorgridcolor": "white",
             "startlinecolor": "#2a3f5f"
            },
            "baxis": {
             "endlinecolor": "#2a3f5f",
             "gridcolor": "white",
             "linecolor": "white",
             "minorgridcolor": "white",
             "startlinecolor": "#2a3f5f"
            },
            "type": "carpet"
           }
          ],
          "choropleth": [
           {
            "colorbar": {
             "outlinewidth": 0,
             "ticks": ""
            },
            "type": "choropleth"
           }
          ],
          "contour": [
           {
            "colorbar": {
             "outlinewidth": 0,
             "ticks": ""
            },
            "colorscale": [
             [
              0,
              "#0d0887"
             ],
             [
              0.1111111111111111,
              "#46039f"
             ],
             [
              0.2222222222222222,
              "#7201a8"
             ],
             [
              0.3333333333333333,
              "#9c179e"
             ],
             [
              0.4444444444444444,
              "#bd3786"
             ],
             [
              0.5555555555555556,
              "#d8576b"
             ],
             [
              0.6666666666666666,
              "#ed7953"
             ],
             [
              0.7777777777777778,
              "#fb9f3a"
             ],
             [
              0.8888888888888888,
              "#fdca26"
             ],
             [
              1,
              "#f0f921"
             ]
            ],
            "type": "contour"
           }
          ],
          "contourcarpet": [
           {
            "colorbar": {
             "outlinewidth": 0,
             "ticks": ""
            },
            "type": "contourcarpet"
           }
          ],
          "heatmap": [
           {
            "colorbar": {
             "outlinewidth": 0,
             "ticks": ""
            },
            "colorscale": [
             [
              0,
              "#0d0887"
             ],
             [
              0.1111111111111111,
              "#46039f"
             ],
             [
              0.2222222222222222,
              "#7201a8"
             ],
             [
              0.3333333333333333,
              "#9c179e"
             ],
             [
              0.4444444444444444,
              "#bd3786"
             ],
             [
              0.5555555555555556,
              "#d8576b"
             ],
             [
              0.6666666666666666,
              "#ed7953"
             ],
             [
              0.7777777777777778,
              "#fb9f3a"
             ],
             [
              0.8888888888888888,
              "#fdca26"
             ],
             [
              1,
              "#f0f921"
             ]
            ],
            "type": "heatmap"
           }
          ],
          "heatmapgl": [
           {
            "colorbar": {
             "outlinewidth": 0,
             "ticks": ""
            },
            "colorscale": [
             [
              0,
              "#0d0887"
             ],
             [
              0.1111111111111111,
              "#46039f"
             ],
             [
              0.2222222222222222,
              "#7201a8"
             ],
             [
              0.3333333333333333,
              "#9c179e"
             ],
             [
              0.4444444444444444,
              "#bd3786"
             ],
             [
              0.5555555555555556,
              "#d8576b"
             ],
             [
              0.6666666666666666,
              "#ed7953"
             ],
             [
              0.7777777777777778,
              "#fb9f3a"
             ],
             [
              0.8888888888888888,
              "#fdca26"
             ],
             [
              1,
              "#f0f921"
             ]
            ],
            "type": "heatmapgl"
           }
          ],
          "histogram": [
           {
            "marker": {
             "pattern": {
              "fillmode": "overlay",
              "size": 10,
              "solidity": 0.2
             }
            },
            "type": "histogram"
           }
          ],
          "histogram2d": [
           {
            "colorbar": {
             "outlinewidth": 0,
             "ticks": ""
            },
            "colorscale": [
             [
              0,
              "#0d0887"
             ],
             [
              0.1111111111111111,
              "#46039f"
             ],
             [
              0.2222222222222222,
              "#7201a8"
             ],
             [
              0.3333333333333333,
              "#9c179e"
             ],
             [
              0.4444444444444444,
              "#bd3786"
             ],
             [
              0.5555555555555556,
              "#d8576b"
             ],
             [
              0.6666666666666666,
              "#ed7953"
             ],
             [
              0.7777777777777778,
              "#fb9f3a"
             ],
             [
              0.8888888888888888,
              "#fdca26"
             ],
             [
              1,
              "#f0f921"
             ]
            ],
            "type": "histogram2d"
           }
          ],
          "histogram2dcontour": [
           {
            "colorbar": {
             "outlinewidth": 0,
             "ticks": ""
            },
            "colorscale": [
             [
              0,
              "#0d0887"
             ],
             [
              0.1111111111111111,
              "#46039f"
             ],
             [
              0.2222222222222222,
              "#7201a8"
             ],
             [
              0.3333333333333333,
              "#9c179e"
             ],
             [
              0.4444444444444444,
              "#bd3786"
             ],
             [
              0.5555555555555556,
              "#d8576b"
             ],
             [
              0.6666666666666666,
              "#ed7953"
             ],
             [
              0.7777777777777778,
              "#fb9f3a"
             ],
             [
              0.8888888888888888,
              "#fdca26"
             ],
             [
              1,
              "#f0f921"
             ]
            ],
            "type": "histogram2dcontour"
           }
          ],
          "mesh3d": [
           {
            "colorbar": {
             "outlinewidth": 0,
             "ticks": ""
            },
            "type": "mesh3d"
           }
          ],
          "parcoords": [
           {
            "line": {
             "colorbar": {
              "outlinewidth": 0,
              "ticks": ""
             }
            },
            "type": "parcoords"
           }
          ],
          "pie": [
           {
            "automargin": true,
            "type": "pie"
           }
          ],
          "scatter": [
           {
            "fillpattern": {
             "fillmode": "overlay",
             "size": 10,
             "solidity": 0.2
            },
            "type": "scatter"
           }
          ],
          "scatter3d": [
           {
            "line": {
             "colorbar": {
              "outlinewidth": 0,
              "ticks": ""
             }
            },
            "marker": {
             "colorbar": {
              "outlinewidth": 0,
              "ticks": ""
             }
            },
            "type": "scatter3d"
           }
          ],
          "scattercarpet": [
           {
            "marker": {
             "colorbar": {
              "outlinewidth": 0,
              "ticks": ""
             }
            },
            "type": "scattercarpet"
           }
          ],
          "scattergeo": [
           {
            "marker": {
             "colorbar": {
              "outlinewidth": 0,
              "ticks": ""
             }
            },
            "type": "scattergeo"
           }
          ],
          "scattergl": [
           {
            "marker": {
             "colorbar": {
              "outlinewidth": 0,
              "ticks": ""
             }
            },
            "type": "scattergl"
           }
          ],
          "scattermapbox": [
           {
            "marker": {
             "colorbar": {
              "outlinewidth": 0,
              "ticks": ""
             }
            },
            "type": "scattermapbox"
           }
          ],
          "scatterpolar": [
           {
            "marker": {
             "colorbar": {
              "outlinewidth": 0,
              "ticks": ""
             }
            },
            "type": "scatterpolar"
           }
          ],
          "scatterpolargl": [
           {
            "marker": {
             "colorbar": {
              "outlinewidth": 0,
              "ticks": ""
             }
            },
            "type": "scatterpolargl"
           }
          ],
          "scatterternary": [
           {
            "marker": {
             "colorbar": {
              "outlinewidth": 0,
              "ticks": ""
             }
            },
            "type": "scatterternary"
           }
          ],
          "surface": [
           {
            "colorbar": {
             "outlinewidth": 0,
             "ticks": ""
            },
            "colorscale": [
             [
              0,
              "#0d0887"
             ],
             [
              0.1111111111111111,
              "#46039f"
             ],
             [
              0.2222222222222222,
              "#7201a8"
             ],
             [
              0.3333333333333333,
              "#9c179e"
             ],
             [
              0.4444444444444444,
              "#bd3786"
             ],
             [
              0.5555555555555556,
              "#d8576b"
             ],
             [
              0.6666666666666666,
              "#ed7953"
             ],
             [
              0.7777777777777778,
              "#fb9f3a"
             ],
             [
              0.8888888888888888,
              "#fdca26"
             ],
             [
              1,
              "#f0f921"
             ]
            ],
            "type": "surface"
           }
          ],
          "table": [
           {
            "cells": {
             "fill": {
              "color": "#EBF0F8"
             },
             "line": {
              "color": "white"
             }
            },
            "header": {
             "fill": {
              "color": "#C8D4E3"
             },
             "line": {
              "color": "white"
             }
            },
            "type": "table"
           }
          ]
         },
         "layout": {
          "annotationdefaults": {
           "arrowcolor": "#2a3f5f",
           "arrowhead": 0,
           "arrowwidth": 1
          },
          "autotypenumbers": "strict",
          "coloraxis": {
           "colorbar": {
            "outlinewidth": 0,
            "ticks": ""
           }
          },
          "colorscale": {
           "diverging": [
            [
             0,
             "#8e0152"
            ],
            [
             0.1,
             "#c51b7d"
            ],
            [
             0.2,
             "#de77ae"
            ],
            [
             0.3,
             "#f1b6da"
            ],
            [
             0.4,
             "#fde0ef"
            ],
            [
             0.5,
             "#f7f7f7"
            ],
            [
             0.6,
             "#e6f5d0"
            ],
            [
             0.7,
             "#b8e186"
            ],
            [
             0.8,
             "#7fbc41"
            ],
            [
             0.9,
             "#4d9221"
            ],
            [
             1,
             "#276419"
            ]
           ],
           "sequential": [
            [
             0,
             "#0d0887"
            ],
            [
             0.1111111111111111,
             "#46039f"
            ],
            [
             0.2222222222222222,
             "#7201a8"
            ],
            [
             0.3333333333333333,
             "#9c179e"
            ],
            [
             0.4444444444444444,
             "#bd3786"
            ],
            [
             0.5555555555555556,
             "#d8576b"
            ],
            [
             0.6666666666666666,
             "#ed7953"
            ],
            [
             0.7777777777777778,
             "#fb9f3a"
            ],
            [
             0.8888888888888888,
             "#fdca26"
            ],
            [
             1,
             "#f0f921"
            ]
           ],
           "sequentialminus": [
            [
             0,
             "#0d0887"
            ],
            [
             0.1111111111111111,
             "#46039f"
            ],
            [
             0.2222222222222222,
             "#7201a8"
            ],
            [
             0.3333333333333333,
             "#9c179e"
            ],
            [
             0.4444444444444444,
             "#bd3786"
            ],
            [
             0.5555555555555556,
             "#d8576b"
            ],
            [
             0.6666666666666666,
             "#ed7953"
            ],
            [
             0.7777777777777778,
             "#fb9f3a"
            ],
            [
             0.8888888888888888,
             "#fdca26"
            ],
            [
             1,
             "#f0f921"
            ]
           ]
          },
          "colorway": [
           "#636efa",
           "#EF553B",
           "#00cc96",
           "#ab63fa",
           "#FFA15A",
           "#19d3f3",
           "#FF6692",
           "#B6E880",
           "#FF97FF",
           "#FECB52"
          ],
          "font": {
           "color": "#2a3f5f"
          },
          "geo": {
           "bgcolor": "white",
           "lakecolor": "white",
           "landcolor": "#E5ECF6",
           "showlakes": true,
           "showland": true,
           "subunitcolor": "white"
          },
          "hoverlabel": {
           "align": "left"
          },
          "hovermode": "closest",
          "mapbox": {
           "style": "light"
          },
          "paper_bgcolor": "white",
          "plot_bgcolor": "#E5ECF6",
          "polar": {
           "angularaxis": {
            "gridcolor": "white",
            "linecolor": "white",
            "ticks": ""
           },
           "bgcolor": "#E5ECF6",
           "radialaxis": {
            "gridcolor": "white",
            "linecolor": "white",
            "ticks": ""
           }
          },
          "scene": {
           "xaxis": {
            "backgroundcolor": "#E5ECF6",
            "gridcolor": "white",
            "gridwidth": 2,
            "linecolor": "white",
            "showbackground": true,
            "ticks": "",
            "zerolinecolor": "white"
           },
           "yaxis": {
            "backgroundcolor": "#E5ECF6",
            "gridcolor": "white",
            "gridwidth": 2,
            "linecolor": "white",
            "showbackground": true,
            "ticks": "",
            "zerolinecolor": "white"
           },
           "zaxis": {
            "backgroundcolor": "#E5ECF6",
            "gridcolor": "white",
            "gridwidth": 2,
            "linecolor": "white",
            "showbackground": true,
            "ticks": "",
            "zerolinecolor": "white"
           }
          },
          "shapedefaults": {
           "line": {
            "color": "#2a3f5f"
           }
          },
          "ternary": {
           "aaxis": {
            "gridcolor": "white",
            "linecolor": "white",
            "ticks": ""
           },
           "baxis": {
            "gridcolor": "white",
            "linecolor": "white",
            "ticks": ""
           },
           "bgcolor": "#E5ECF6",
           "caxis": {
            "gridcolor": "white",
            "linecolor": "white",
            "ticks": ""
           }
          },
          "title": {
           "x": 0.05
          },
          "xaxis": {
           "automargin": true,
           "gridcolor": "white",
           "linecolor": "white",
           "ticks": "",
           "title": {
            "standoff": 15
           },
           "zerolinecolor": "white",
           "zerolinewidth": 2
          },
          "yaxis": {
           "automargin": true,
           "gridcolor": "white",
           "linecolor": "white",
           "ticks": "",
           "title": {
            "standoff": 15
           },
           "zerolinecolor": "white",
           "zerolinewidth": 2
          }
         }
        },
        "title": {
         "text": "Three-Line Strike bearish"
        },
        "xaxis": {
         "rangeslider": {
          "visible": false
         }
        }
       }
      },
      "text/html": [
       "<div>                            <div id=\"30231d53-7118-40a6-9421-eee9c5d6bbaa\" class=\"plotly-graph-div\" style=\"height:525px; width:100%;\"></div>            <script type=\"text/javascript\">                require([\"plotly\"], function(Plotly) {                    window.PLOTLYENV=window.PLOTLYENV || {};                                    if (document.getElementById(\"30231d53-7118-40a6-9421-eee9c5d6bbaa\")) {                    Plotly.newPlot(                        \"30231d53-7118-40a6-9421-eee9c5d6bbaa\",                        [{\"close\":[27553.23,27645.89,27457.39,28094.42,27424.71,26574.53,25520.05,24811.59,23729.43,23271.54,23218.22,22487.41,22127.91,22877.52,21994.56,22680.38,22196.28,22136.41,21455.8,20722.92,21177.03,21419.1,21632.04,22583.72,22211.62,21764.17,21044.55,21074.77,20875.48,20401.31,20383.38,21100.64,20972.04,20663.7,20515.59,20468.81,20459.65,19258.58,19243.98,18953.76,18067.6,18970.79],\"high\":[28544.96,27677.18,27726.15,28347.89,28238.58,27557.05,26895.84,26257.31,24941.17,24376.09,24204.55,23787.3,22796.71,23362.88,22979.96,22800.0,22777.07,22344.0,22297.37,21490.67,21290.0,21798.95,22496.52,22800.0,22995.73,22361.98,21888.0,21510.2,21500.0,21048.38,21059.68,21286.01,21365.43,21047.41,20791.96,20723.0,20792.06,20537.34,19540.0,19291.99,19101.28,19493.23],\"low\":[27249.0,27190.0,27342.82,26890.0,27423.73,26560.0,24900.0,24555.0,23500.0,22600.0,23101.01,21925.77,20846.0,21763.71,21725.22,21811.01,22126.4,21358.0,21406.68,20652.18,20111.62,21045.13,20250.0,21450.0,22167.08,21646.64,20852.35,20745.0,20818.0,20232.0,20246.66,20326.0,20847.49,20386.93,20440.92,20368.2,20322.08,19066.8,18742.5,18942.75,18031.13,17622.0],\"name\":\"Price\",\"opacity\":0.5,\"open\":[28424.71,27553.22,27645.88,27457.39,28094.42,27424.71,26574.53,25520.05,24811.59,23729.43,23271.53,23215.97,22485.27,22127.92,22877.52,21994.56,22680.38,22190.93,22136.42,21455.8,20722.92,21177.04,21419.09,21632.03,22583.72,22211.62,21764.18,21044.56,21074.77,20875.48,20400.6,20383.37,21100.65,20972.04,20661.95,20515.59,20468.81,20459.65,19258.58,19243.99,18953.76,18067.61],\"x\":[\"2022-06-12 03:00:00\",\"2022-06-12 07:00:00\",\"2022-06-12 11:00:00\",\"2022-06-12 15:00:00\",\"2022-06-12 19:00:00\",\"2022-06-12 23:00:00\",\"2022-06-13 03:00:00\",\"2022-06-13 07:00:00\",\"2022-06-13 11:00:00\",\"2022-06-13 15:00:00\",\"2022-06-13 19:00:00\",\"2022-06-13 23:00:00\",\"2022-06-14 03:00:00\",\"2022-06-14 07:00:00\",\"2022-06-14 11:00:00\",\"2022-06-14 15:00:00\",\"2022-06-14 19:00:00\",\"2022-06-14 23:00:00\",\"2022-06-15 03:00:00\",\"2022-06-15 07:00:00\",\"2022-06-15 11:00:00\",\"2022-06-15 15:00:00\",\"2022-06-15 19:00:00\",\"2022-06-15 23:00:00\",\"2022-06-16 03:00:00\",\"2022-06-16 07:00:00\",\"2022-06-16 11:00:00\",\"2022-06-16 15:00:00\",\"2022-06-16 19:00:00\",\"2022-06-16 23:00:00\",\"2022-06-17 03:00:00\",\"2022-06-17 07:00:00\",\"2022-06-17 11:00:00\",\"2022-06-17 15:00:00\",\"2022-06-17 19:00:00\",\"2022-06-17 23:00:00\",\"2022-06-18 03:00:00\",\"2022-06-18 07:00:00\",\"2022-06-18 11:00:00\",\"2022-06-18 15:00:00\",\"2022-06-18 19:00:00\",\"2022-06-18 23:00:00\"],\"type\":\"candlestick\"},{\"marker\":{\"color\":\"#16FF32\",\"line\":{\"color\":\"MediumPurple\",\"width\":2},\"size\":7,\"symbol\":\"6\"},\"mode\":\"markers\",\"name\":\"Bearish\",\"opacity\":1,\"x\":[\"2022-06-12 03:00:00\",\"2022-06-12 07:00:00\",\"2022-06-12 11:00:00\",\"2022-06-12 15:00:00\",\"2022-06-12 19:00:00\",\"2022-06-12 23:00:00\",\"2022-06-13 03:00:00\",\"2022-06-13 07:00:00\",\"2022-06-13 11:00:00\",\"2022-06-13 15:00:00\",\"2022-06-13 19:00:00\",\"2022-06-13 23:00:00\",\"2022-06-14 03:00:00\",\"2022-06-14 07:00:00\",\"2022-06-14 11:00:00\",\"2022-06-14 15:00:00\",\"2022-06-14 19:00:00\",\"2022-06-14 23:00:00\",\"2022-06-15 03:00:00\",\"2022-06-15 07:00:00\",\"2022-06-15 11:00:00\",\"2022-06-15 15:00:00\",\"2022-06-15 19:00:00\",\"2022-06-15 23:00:00\",\"2022-06-16 03:00:00\",\"2022-06-16 07:00:00\",\"2022-06-16 11:00:00\",\"2022-06-16 15:00:00\",\"2022-06-16 19:00:00\",\"2022-06-16 23:00:00\",\"2022-06-17 03:00:00\",\"2022-06-17 07:00:00\",\"2022-06-17 11:00:00\",\"2022-06-17 15:00:00\",\"2022-06-17 19:00:00\",\"2022-06-17 23:00:00\",\"2022-06-18 03:00:00\",\"2022-06-18 07:00:00\",\"2022-06-18 11:00:00\",\"2022-06-18 15:00:00\",\"2022-06-18 19:00:00\",\"2022-06-18 23:00:00\"],\"y\":[null,null,null,null,null,null,null,null,null,null,null,null,null,null,null,null,null,null,null,null,null,null,null,null,null,null,null,null,null,null,null,21522.6528,null,null,null,null,null,null,null,null,null,null],\"type\":\"scatter\"}],                        {\"template\":{\"data\":{\"histogram2dcontour\":[{\"type\":\"histogram2dcontour\",\"colorbar\":{\"outlinewidth\":0,\"ticks\":\"\"},\"colorscale\":[[0.0,\"#0d0887\"],[0.1111111111111111,\"#46039f\"],[0.2222222222222222,\"#7201a8\"],[0.3333333333333333,\"#9c179e\"],[0.4444444444444444,\"#bd3786\"],[0.5555555555555556,\"#d8576b\"],[0.6666666666666666,\"#ed7953\"],[0.7777777777777778,\"#fb9f3a\"],[0.8888888888888888,\"#fdca26\"],[1.0,\"#f0f921\"]]}],\"choropleth\":[{\"type\":\"choropleth\",\"colorbar\":{\"outlinewidth\":0,\"ticks\":\"\"}}],\"histogram2d\":[{\"type\":\"histogram2d\",\"colorbar\":{\"outlinewidth\":0,\"ticks\":\"\"},\"colorscale\":[[0.0,\"#0d0887\"],[0.1111111111111111,\"#46039f\"],[0.2222222222222222,\"#7201a8\"],[0.3333333333333333,\"#9c179e\"],[0.4444444444444444,\"#bd3786\"],[0.5555555555555556,\"#d8576b\"],[0.6666666666666666,\"#ed7953\"],[0.7777777777777778,\"#fb9f3a\"],[0.8888888888888888,\"#fdca26\"],[1.0,\"#f0f921\"]]}],\"heatmap\":[{\"type\":\"heatmap\",\"colorbar\":{\"outlinewidth\":0,\"ticks\":\"\"},\"colorscale\":[[0.0,\"#0d0887\"],[0.1111111111111111,\"#46039f\"],[0.2222222222222222,\"#7201a8\"],[0.3333333333333333,\"#9c179e\"],[0.4444444444444444,\"#bd3786\"],[0.5555555555555556,\"#d8576b\"],[0.6666666666666666,\"#ed7953\"],[0.7777777777777778,\"#fb9f3a\"],[0.8888888888888888,\"#fdca26\"],[1.0,\"#f0f921\"]]}],\"heatmapgl\":[{\"type\":\"heatmapgl\",\"colorbar\":{\"outlinewidth\":0,\"ticks\":\"\"},\"colorscale\":[[0.0,\"#0d0887\"],[0.1111111111111111,\"#46039f\"],[0.2222222222222222,\"#7201a8\"],[0.3333333333333333,\"#9c179e\"],[0.4444444444444444,\"#bd3786\"],[0.5555555555555556,\"#d8576b\"],[0.6666666666666666,\"#ed7953\"],[0.7777777777777778,\"#fb9f3a\"],[0.8888888888888888,\"#fdca26\"],[1.0,\"#f0f921\"]]}],\"contourcarpet\":[{\"type\":\"contourcarpet\",\"colorbar\":{\"outlinewidth\":0,\"ticks\":\"\"}}],\"contour\":[{\"type\":\"contour\",\"colorbar\":{\"outlinewidth\":0,\"ticks\":\"\"},\"colorscale\":[[0.0,\"#0d0887\"],[0.1111111111111111,\"#46039f\"],[0.2222222222222222,\"#7201a8\"],[0.3333333333333333,\"#9c179e\"],[0.4444444444444444,\"#bd3786\"],[0.5555555555555556,\"#d8576b\"],[0.6666666666666666,\"#ed7953\"],[0.7777777777777778,\"#fb9f3a\"],[0.8888888888888888,\"#fdca26\"],[1.0,\"#f0f921\"]]}],\"surface\":[{\"type\":\"surface\",\"colorbar\":{\"outlinewidth\":0,\"ticks\":\"\"},\"colorscale\":[[0.0,\"#0d0887\"],[0.1111111111111111,\"#46039f\"],[0.2222222222222222,\"#7201a8\"],[0.3333333333333333,\"#9c179e\"],[0.4444444444444444,\"#bd3786\"],[0.5555555555555556,\"#d8576b\"],[0.6666666666666666,\"#ed7953\"],[0.7777777777777778,\"#fb9f3a\"],[0.8888888888888888,\"#fdca26\"],[1.0,\"#f0f921\"]]}],\"mesh3d\":[{\"type\":\"mesh3d\",\"colorbar\":{\"outlinewidth\":0,\"ticks\":\"\"}}],\"scatter\":[{\"fillpattern\":{\"fillmode\":\"overlay\",\"size\":10,\"solidity\":0.2},\"type\":\"scatter\"}],\"parcoords\":[{\"type\":\"parcoords\",\"line\":{\"colorbar\":{\"outlinewidth\":0,\"ticks\":\"\"}}}],\"scatterpolargl\":[{\"type\":\"scatterpolargl\",\"marker\":{\"colorbar\":{\"outlinewidth\":0,\"ticks\":\"\"}}}],\"bar\":[{\"error_x\":{\"color\":\"#2a3f5f\"},\"error_y\":{\"color\":\"#2a3f5f\"},\"marker\":{\"line\":{\"color\":\"#E5ECF6\",\"width\":0.5},\"pattern\":{\"fillmode\":\"overlay\",\"size\":10,\"solidity\":0.2}},\"type\":\"bar\"}],\"scattergeo\":[{\"type\":\"scattergeo\",\"marker\":{\"colorbar\":{\"outlinewidth\":0,\"ticks\":\"\"}}}],\"scatterpolar\":[{\"type\":\"scatterpolar\",\"marker\":{\"colorbar\":{\"outlinewidth\":0,\"ticks\":\"\"}}}],\"histogram\":[{\"marker\":{\"pattern\":{\"fillmode\":\"overlay\",\"size\":10,\"solidity\":0.2}},\"type\":\"histogram\"}],\"scattergl\":[{\"type\":\"scattergl\",\"marker\":{\"colorbar\":{\"outlinewidth\":0,\"ticks\":\"\"}}}],\"scatter3d\":[{\"type\":\"scatter3d\",\"line\":{\"colorbar\":{\"outlinewidth\":0,\"ticks\":\"\"}},\"marker\":{\"colorbar\":{\"outlinewidth\":0,\"ticks\":\"\"}}}],\"scattermapbox\":[{\"type\":\"scattermapbox\",\"marker\":{\"colorbar\":{\"outlinewidth\":0,\"ticks\":\"\"}}}],\"scatterternary\":[{\"type\":\"scatterternary\",\"marker\":{\"colorbar\":{\"outlinewidth\":0,\"ticks\":\"\"}}}],\"scattercarpet\":[{\"type\":\"scattercarpet\",\"marker\":{\"colorbar\":{\"outlinewidth\":0,\"ticks\":\"\"}}}],\"carpet\":[{\"aaxis\":{\"endlinecolor\":\"#2a3f5f\",\"gridcolor\":\"white\",\"linecolor\":\"white\",\"minorgridcolor\":\"white\",\"startlinecolor\":\"#2a3f5f\"},\"baxis\":{\"endlinecolor\":\"#2a3f5f\",\"gridcolor\":\"white\",\"linecolor\":\"white\",\"minorgridcolor\":\"white\",\"startlinecolor\":\"#2a3f5f\"},\"type\":\"carpet\"}],\"table\":[{\"cells\":{\"fill\":{\"color\":\"#EBF0F8\"},\"line\":{\"color\":\"white\"}},\"header\":{\"fill\":{\"color\":\"#C8D4E3\"},\"line\":{\"color\":\"white\"}},\"type\":\"table\"}],\"barpolar\":[{\"marker\":{\"line\":{\"color\":\"#E5ECF6\",\"width\":0.5},\"pattern\":{\"fillmode\":\"overlay\",\"size\":10,\"solidity\":0.2}},\"type\":\"barpolar\"}],\"pie\":[{\"automargin\":true,\"type\":\"pie\"}]},\"layout\":{\"autotypenumbers\":\"strict\",\"colorway\":[\"#636efa\",\"#EF553B\",\"#00cc96\",\"#ab63fa\",\"#FFA15A\",\"#19d3f3\",\"#FF6692\",\"#B6E880\",\"#FF97FF\",\"#FECB52\"],\"font\":{\"color\":\"#2a3f5f\"},\"hovermode\":\"closest\",\"hoverlabel\":{\"align\":\"left\"},\"paper_bgcolor\":\"white\",\"plot_bgcolor\":\"#E5ECF6\",\"polar\":{\"bgcolor\":\"#E5ECF6\",\"angularaxis\":{\"gridcolor\":\"white\",\"linecolor\":\"white\",\"ticks\":\"\"},\"radialaxis\":{\"gridcolor\":\"white\",\"linecolor\":\"white\",\"ticks\":\"\"}},\"ternary\":{\"bgcolor\":\"#E5ECF6\",\"aaxis\":{\"gridcolor\":\"white\",\"linecolor\":\"white\",\"ticks\":\"\"},\"baxis\":{\"gridcolor\":\"white\",\"linecolor\":\"white\",\"ticks\":\"\"},\"caxis\":{\"gridcolor\":\"white\",\"linecolor\":\"white\",\"ticks\":\"\"}},\"coloraxis\":{\"colorbar\":{\"outlinewidth\":0,\"ticks\":\"\"}},\"colorscale\":{\"sequential\":[[0.0,\"#0d0887\"],[0.1111111111111111,\"#46039f\"],[0.2222222222222222,\"#7201a8\"],[0.3333333333333333,\"#9c179e\"],[0.4444444444444444,\"#bd3786\"],[0.5555555555555556,\"#d8576b\"],[0.6666666666666666,\"#ed7953\"],[0.7777777777777778,\"#fb9f3a\"],[0.8888888888888888,\"#fdca26\"],[1.0,\"#f0f921\"]],\"sequentialminus\":[[0.0,\"#0d0887\"],[0.1111111111111111,\"#46039f\"],[0.2222222222222222,\"#7201a8\"],[0.3333333333333333,\"#9c179e\"],[0.4444444444444444,\"#bd3786\"],[0.5555555555555556,\"#d8576b\"],[0.6666666666666666,\"#ed7953\"],[0.7777777777777778,\"#fb9f3a\"],[0.8888888888888888,\"#fdca26\"],[1.0,\"#f0f921\"]],\"diverging\":[[0,\"#8e0152\"],[0.1,\"#c51b7d\"],[0.2,\"#de77ae\"],[0.3,\"#f1b6da\"],[0.4,\"#fde0ef\"],[0.5,\"#f7f7f7\"],[0.6,\"#e6f5d0\"],[0.7,\"#b8e186\"],[0.8,\"#7fbc41\"],[0.9,\"#4d9221\"],[1,\"#276419\"]]},\"xaxis\":{\"gridcolor\":\"white\",\"linecolor\":\"white\",\"ticks\":\"\",\"title\":{\"standoff\":15},\"zerolinecolor\":\"white\",\"automargin\":true,\"zerolinewidth\":2},\"yaxis\":{\"gridcolor\":\"white\",\"linecolor\":\"white\",\"ticks\":\"\",\"title\":{\"standoff\":15},\"zerolinecolor\":\"white\",\"automargin\":true,\"zerolinewidth\":2},\"scene\":{\"xaxis\":{\"backgroundcolor\":\"#E5ECF6\",\"gridcolor\":\"white\",\"linecolor\":\"white\",\"showbackground\":true,\"ticks\":\"\",\"zerolinecolor\":\"white\",\"gridwidth\":2},\"yaxis\":{\"backgroundcolor\":\"#E5ECF6\",\"gridcolor\":\"white\",\"linecolor\":\"white\",\"showbackground\":true,\"ticks\":\"\",\"zerolinecolor\":\"white\",\"gridwidth\":2},\"zaxis\":{\"backgroundcolor\":\"#E5ECF6\",\"gridcolor\":\"white\",\"linecolor\":\"white\",\"showbackground\":true,\"ticks\":\"\",\"zerolinecolor\":\"white\",\"gridwidth\":2}},\"shapedefaults\":{\"line\":{\"color\":\"#2a3f5f\"}},\"annotationdefaults\":{\"arrowcolor\":\"#2a3f5f\",\"arrowhead\":0,\"arrowwidth\":1},\"geo\":{\"bgcolor\":\"white\",\"landcolor\":\"#E5ECF6\",\"subunitcolor\":\"white\",\"showland\":true,\"showlakes\":true,\"lakecolor\":\"white\"},\"title\":{\"x\":0.05},\"mapbox\":{\"style\":\"light\"}}},\"xaxis\":{\"rangeslider\":{\"visible\":false}},\"title\":{\"text\":\"Three-Line Strike bearish\"}},                        {\"responsive\": true}                    ).then(function(){\n",
       "                            \n",
       "var gd = document.getElementById('30231d53-7118-40a6-9421-eee9c5d6bbaa');\n",
       "var x = new MutationObserver(function (mutations, observer) {{\n",
       "        var display = window.getComputedStyle(gd).display;\n",
       "        if (!display || display === 'none') {{\n",
       "            console.log([gd, 'removed!']);\n",
       "            Plotly.purge(gd);\n",
       "            observer.disconnect();\n",
       "        }}\n",
       "}});\n",
       "\n",
       "// Listen for the removal of the full notebook cells\n",
       "var notebookContainer = gd.closest('#notebook-container');\n",
       "if (notebookContainer) {{\n",
       "    x.observe(notebookContainer, {childList: true});\n",
       "}}\n",
       "\n",
       "// Listen for the clearing of the current output cell\n",
       "var outputEl = gd.closest('.output');\n",
       "if (outputEl) {{\n",
       "    x.observe(outputEl, {childList: true});\n",
       "}}\n",
       "\n",
       "                        })                };                });            </script>        </div>"
      ]
     },
     "metadata": {},
     "output_type": "display_data"
    }
   ],
   "source": [
    "fig = go.Figure()\n",
    "\n",
    "fig.add_trace(go.Candlestick(x=three_line_strike_plot_bear['Time'],\n",
    "                             open=three_line_strike_plot_bear['Open'],\n",
    "                             high=three_line_strike_plot_bear['High'],\n",
    "                             low=three_line_strike_plot_bear['Low'],\n",
    "                             close=three_line_strike_plot_bear['Close'], name=\"Price\", opacity=0.5))\n",
    "\n",
    "\n",
    "fig.add_trace(go.Scatter(x=three_line_strike_plot_bear['Time'], \n",
    "                         y=three_line_strike_plot_bear['three_line_strike_bearish_dot'],\n",
    "                         opacity=1, mode='markers', marker=dict(color='#16FF32', symbol='6', size=7, line=dict(color='MediumPurple',width=2)),\n",
    "                         name=\"Bearish\"))\n",
    "\n",
    "\n",
    "fig.update_layout(xaxis_rangeslider_visible=False, title = 'Three-Line Strike bearish')\n",
    "fig.show()"
   ]
  },
  {
   "cell_type": "markdown",
   "id": "e3b8f133",
   "metadata": {},
   "source": [
    "![pattern](https://lh3.googleusercontent.com/iaoN5ErdwUgpx7-jTVaG70J1sNHpmxSw-9CVSyp3EtJ9FFQ2PxUe5tloBC3WRWXsccbQnCOOwXuQR2B7T1l7XMvgP4TR9EFBq_i54o17ngvabChxbJrBNjVtVd8gswCDV2J8X6ChyteTk2bf2dtaxAY)"
   ]
  },
  {
   "cell_type": "code",
   "execution_count": 35,
   "id": "426bcad0",
   "metadata": {},
   "outputs": [],
   "source": [
    "three_line_strike_plot_bull = three_line_strike.loc[three_line_strike['year_week'] == '2022-14'].copy()"
   ]
  },
  {
   "cell_type": "code",
   "execution_count": 36,
   "id": "37ea921e",
   "metadata": {},
   "outputs": [
    {
     "data": {
      "application/vnd.plotly.v1+json": {
       "config": {
        "linkText": "Export to plot.ly",
        "plotlyServerURL": "https://plot.ly",
        "showLink": false
       },
       "data": [
        {
         "close": [
          45943.25,
          46363.82,
          46252.59,
          46412.49,
          46405.5,
          46407.35,
          46005.44,
          46173.99,
          46160.09,
          45633.88,
          45925.76,
          46580.51,
          46645.82,
          46709.99,
          46683.37,
          45763.72,
          46032.5,
          45497.55,
          45215.88,
          45276.04,
          44819.19,
          44168.35,
          43754.57,
          43170.47,
          43294.04,
          43445.33,
          43766.74,
          43331.81,
          43388.92,
          43444.19,
          43605.96,
          43763.52,
          43298.79,
          43648.01,
          42730.84,
          42252.01,
          42380,
          42481.09,
          42445.1,
          42260.77,
          42511.94,
          42753.97
         ],
         "high": [
          46065.83,
          46570,
          46446.8,
          46723,
          46770.65,
          47444.11,
          46461.14,
          46293.38,
          46287.97,
          46359,
          45940.35,
          46890.71,
          46777.77,
          46884.49,
          46740,
          47200,
          46191,
          46107.58,
          45506.67,
          45507.14,
          45453.94,
          44999.99,
          44298.61,
          44041.1,
          43559.09,
          43545.74,
          43834.52,
          43900.99,
          43819.99,
          43750,
          43694.15,
          43780.32,
          43970.62,
          43961.99,
          43714.97,
          42870.7,
          42466.87,
          42640,
          42540,
          42522.44,
          42631.69,
          42800
         ],
         "low": [
          45530.92,
          45927.83,
          46076.92,
          46188,
          46220.16,
          46248.84,
          45744.77,
          45834.39,
          45787,
          45555,
          45118,
          45626.02,
          46412.62,
          46549.82,
          46522.52,
          45667.4,
          45457.89,
          45353.81,
          44412,
          45119,
          44665.91,
          43705.64,
          43177.11,
          43121,
          42727.35,
          43210.47,
          43269.5,
          43024.86,
          43266.68,
          43208,
          43305.57,
          43416.74,
          43260.76,
          42751.01,
          42414,
          42107.14,
          42125.48,
          42341.79,
          42322.72,
          42158.67,
          42183.6,
          42390
         ],
         "name": "Price",
         "opacity": 0.5,
         "open": [
          45810.99,
          45943.26,
          46363.83,
          46252.59,
          46412.49,
          46405.49,
          46407.36,
          46005.43,
          46174,
          46160.08,
          45633.88,
          45925.77,
          46580.5,
          46645.83,
          46710,
          46683.37,
          45763.73,
          46032.49,
          45497.54,
          45215.88,
          45276.04,
          44819.19,
          44168.36,
          43754.56,
          43170.47,
          43294.04,
          43445.34,
          43766.75,
          43331.82,
          43388.93,
          43444.2,
          43605.95,
          43763.53,
          43298.79,
          43648.01,
          42730.84,
          42252.02,
          42380,
          42481.08,
          42445.09,
          42253.02,
          42511.95
         ],
         "type": "candlestick",
         "x": [
          "2022-04-03 03:00:00",
          "2022-04-03 07:00:00",
          "2022-04-03 11:00:00",
          "2022-04-03 15:00:00",
          "2022-04-03 19:00:00",
          "2022-04-03 23:00:00",
          "2022-04-04 03:00:00",
          "2022-04-04 07:00:00",
          "2022-04-04 11:00:00",
          "2022-04-04 15:00:00",
          "2022-04-04 19:00:00",
          "2022-04-04 23:00:00",
          "2022-04-05 03:00:00",
          "2022-04-05 07:00:00",
          "2022-04-05 11:00:00",
          "2022-04-05 15:00:00",
          "2022-04-05 19:00:00",
          "2022-04-05 23:00:00",
          "2022-04-06 03:00:00",
          "2022-04-06 07:00:00",
          "2022-04-06 11:00:00",
          "2022-04-06 15:00:00",
          "2022-04-06 19:00:00",
          "2022-04-06 23:00:00",
          "2022-04-07 03:00:00",
          "2022-04-07 07:00:00",
          "2022-04-07 11:00:00",
          "2022-04-07 15:00:00",
          "2022-04-07 19:00:00",
          "2022-04-07 23:00:00",
          "2022-04-08 03:00:00",
          "2022-04-08 07:00:00",
          "2022-04-08 11:00:00",
          "2022-04-08 15:00:00",
          "2022-04-08 19:00:00",
          "2022-04-08 23:00:00",
          "2022-04-09 03:00:00",
          "2022-04-09 07:00:00",
          "2022-04-09 11:00:00",
          "2022-04-09 15:00:00",
          "2022-04-09 19:00:00",
          "2022-04-09 23:00:00"
         ]
        },
        {
         "marker": {
          "color": "#16FF32",
          "line": {
           "color": "MediumPurple",
           "width": 2
          },
          "size": 7,
          "symbol": "5"
         },
         "mode": "markers",
         "name": "Bullish",
         "opacity": 1,
         "type": "scatter",
         "x": [
          "2022-04-03 03:00:00",
          "2022-04-03 07:00:00",
          "2022-04-03 11:00:00",
          "2022-04-03 15:00:00",
          "2022-04-03 19:00:00",
          "2022-04-03 23:00:00",
          "2022-04-04 03:00:00",
          "2022-04-04 07:00:00",
          "2022-04-04 11:00:00",
          "2022-04-04 15:00:00",
          "2022-04-04 19:00:00",
          "2022-04-04 23:00:00",
          "2022-04-05 03:00:00",
          "2022-04-05 07:00:00",
          "2022-04-05 11:00:00",
          "2022-04-05 15:00:00",
          "2022-04-05 19:00:00",
          "2022-04-05 23:00:00",
          "2022-04-06 03:00:00",
          "2022-04-06 07:00:00",
          "2022-04-06 11:00:00",
          "2022-04-06 15:00:00",
          "2022-04-06 19:00:00",
          "2022-04-06 23:00:00",
          "2022-04-07 03:00:00",
          "2022-04-07 07:00:00",
          "2022-04-07 11:00:00",
          "2022-04-07 15:00:00",
          "2022-04-07 19:00:00",
          "2022-04-07 23:00:00",
          "2022-04-08 03:00:00",
          "2022-04-08 07:00:00",
          "2022-04-08 11:00:00",
          "2022-04-08 15:00:00",
          "2022-04-08 19:00:00",
          "2022-04-08 23:00:00",
          "2022-04-09 03:00:00",
          "2022-04-09 07:00:00",
          "2022-04-09 11:00:00",
          "2022-04-09 15:00:00",
          "2022-04-09 19:00:00",
          "2022-04-09 23:00:00"
         ],
         "y": [
          null,
          null,
          null,
          null,
          null,
          null,
          null,
          null,
          null,
          null,
          null,
          null,
          null,
          null,
          null,
          null,
          null,
          null,
          null,
          null,
          null,
          null,
          null,
          null,
          null,
          null,
          null,
          null,
          null,
          null,
          null,
          null,
          42888.259399999995,
          null,
          null,
          null,
          null,
          null,
          null,
          null,
          null,
          null
         ]
        }
       ],
       "layout": {
        "template": {
         "data": {
          "bar": [
           {
            "error_x": {
             "color": "#2a3f5f"
            },
            "error_y": {
             "color": "#2a3f5f"
            },
            "marker": {
             "line": {
              "color": "#E5ECF6",
              "width": 0.5
             },
             "pattern": {
              "fillmode": "overlay",
              "size": 10,
              "solidity": 0.2
             }
            },
            "type": "bar"
           }
          ],
          "barpolar": [
           {
            "marker": {
             "line": {
              "color": "#E5ECF6",
              "width": 0.5
             },
             "pattern": {
              "fillmode": "overlay",
              "size": 10,
              "solidity": 0.2
             }
            },
            "type": "barpolar"
           }
          ],
          "carpet": [
           {
            "aaxis": {
             "endlinecolor": "#2a3f5f",
             "gridcolor": "white",
             "linecolor": "white",
             "minorgridcolor": "white",
             "startlinecolor": "#2a3f5f"
            },
            "baxis": {
             "endlinecolor": "#2a3f5f",
             "gridcolor": "white",
             "linecolor": "white",
             "minorgridcolor": "white",
             "startlinecolor": "#2a3f5f"
            },
            "type": "carpet"
           }
          ],
          "choropleth": [
           {
            "colorbar": {
             "outlinewidth": 0,
             "ticks": ""
            },
            "type": "choropleth"
           }
          ],
          "contour": [
           {
            "colorbar": {
             "outlinewidth": 0,
             "ticks": ""
            },
            "colorscale": [
             [
              0,
              "#0d0887"
             ],
             [
              0.1111111111111111,
              "#46039f"
             ],
             [
              0.2222222222222222,
              "#7201a8"
             ],
             [
              0.3333333333333333,
              "#9c179e"
             ],
             [
              0.4444444444444444,
              "#bd3786"
             ],
             [
              0.5555555555555556,
              "#d8576b"
             ],
             [
              0.6666666666666666,
              "#ed7953"
             ],
             [
              0.7777777777777778,
              "#fb9f3a"
             ],
             [
              0.8888888888888888,
              "#fdca26"
             ],
             [
              1,
              "#f0f921"
             ]
            ],
            "type": "contour"
           }
          ],
          "contourcarpet": [
           {
            "colorbar": {
             "outlinewidth": 0,
             "ticks": ""
            },
            "type": "contourcarpet"
           }
          ],
          "heatmap": [
           {
            "colorbar": {
             "outlinewidth": 0,
             "ticks": ""
            },
            "colorscale": [
             [
              0,
              "#0d0887"
             ],
             [
              0.1111111111111111,
              "#46039f"
             ],
             [
              0.2222222222222222,
              "#7201a8"
             ],
             [
              0.3333333333333333,
              "#9c179e"
             ],
             [
              0.4444444444444444,
              "#bd3786"
             ],
             [
              0.5555555555555556,
              "#d8576b"
             ],
             [
              0.6666666666666666,
              "#ed7953"
             ],
             [
              0.7777777777777778,
              "#fb9f3a"
             ],
             [
              0.8888888888888888,
              "#fdca26"
             ],
             [
              1,
              "#f0f921"
             ]
            ],
            "type": "heatmap"
           }
          ],
          "heatmapgl": [
           {
            "colorbar": {
             "outlinewidth": 0,
             "ticks": ""
            },
            "colorscale": [
             [
              0,
              "#0d0887"
             ],
             [
              0.1111111111111111,
              "#46039f"
             ],
             [
              0.2222222222222222,
              "#7201a8"
             ],
             [
              0.3333333333333333,
              "#9c179e"
             ],
             [
              0.4444444444444444,
              "#bd3786"
             ],
             [
              0.5555555555555556,
              "#d8576b"
             ],
             [
              0.6666666666666666,
              "#ed7953"
             ],
             [
              0.7777777777777778,
              "#fb9f3a"
             ],
             [
              0.8888888888888888,
              "#fdca26"
             ],
             [
              1,
              "#f0f921"
             ]
            ],
            "type": "heatmapgl"
           }
          ],
          "histogram": [
           {
            "marker": {
             "pattern": {
              "fillmode": "overlay",
              "size": 10,
              "solidity": 0.2
             }
            },
            "type": "histogram"
           }
          ],
          "histogram2d": [
           {
            "colorbar": {
             "outlinewidth": 0,
             "ticks": ""
            },
            "colorscale": [
             [
              0,
              "#0d0887"
             ],
             [
              0.1111111111111111,
              "#46039f"
             ],
             [
              0.2222222222222222,
              "#7201a8"
             ],
             [
              0.3333333333333333,
              "#9c179e"
             ],
             [
              0.4444444444444444,
              "#bd3786"
             ],
             [
              0.5555555555555556,
              "#d8576b"
             ],
             [
              0.6666666666666666,
              "#ed7953"
             ],
             [
              0.7777777777777778,
              "#fb9f3a"
             ],
             [
              0.8888888888888888,
              "#fdca26"
             ],
             [
              1,
              "#f0f921"
             ]
            ],
            "type": "histogram2d"
           }
          ],
          "histogram2dcontour": [
           {
            "colorbar": {
             "outlinewidth": 0,
             "ticks": ""
            },
            "colorscale": [
             [
              0,
              "#0d0887"
             ],
             [
              0.1111111111111111,
              "#46039f"
             ],
             [
              0.2222222222222222,
              "#7201a8"
             ],
             [
              0.3333333333333333,
              "#9c179e"
             ],
             [
              0.4444444444444444,
              "#bd3786"
             ],
             [
              0.5555555555555556,
              "#d8576b"
             ],
             [
              0.6666666666666666,
              "#ed7953"
             ],
             [
              0.7777777777777778,
              "#fb9f3a"
             ],
             [
              0.8888888888888888,
              "#fdca26"
             ],
             [
              1,
              "#f0f921"
             ]
            ],
            "type": "histogram2dcontour"
           }
          ],
          "mesh3d": [
           {
            "colorbar": {
             "outlinewidth": 0,
             "ticks": ""
            },
            "type": "mesh3d"
           }
          ],
          "parcoords": [
           {
            "line": {
             "colorbar": {
              "outlinewidth": 0,
              "ticks": ""
             }
            },
            "type": "parcoords"
           }
          ],
          "pie": [
           {
            "automargin": true,
            "type": "pie"
           }
          ],
          "scatter": [
           {
            "fillpattern": {
             "fillmode": "overlay",
             "size": 10,
             "solidity": 0.2
            },
            "type": "scatter"
           }
          ],
          "scatter3d": [
           {
            "line": {
             "colorbar": {
              "outlinewidth": 0,
              "ticks": ""
             }
            },
            "marker": {
             "colorbar": {
              "outlinewidth": 0,
              "ticks": ""
             }
            },
            "type": "scatter3d"
           }
          ],
          "scattercarpet": [
           {
            "marker": {
             "colorbar": {
              "outlinewidth": 0,
              "ticks": ""
             }
            },
            "type": "scattercarpet"
           }
          ],
          "scattergeo": [
           {
            "marker": {
             "colorbar": {
              "outlinewidth": 0,
              "ticks": ""
             }
            },
            "type": "scattergeo"
           }
          ],
          "scattergl": [
           {
            "marker": {
             "colorbar": {
              "outlinewidth": 0,
              "ticks": ""
             }
            },
            "type": "scattergl"
           }
          ],
          "scattermapbox": [
           {
            "marker": {
             "colorbar": {
              "outlinewidth": 0,
              "ticks": ""
             }
            },
            "type": "scattermapbox"
           }
          ],
          "scatterpolar": [
           {
            "marker": {
             "colorbar": {
              "outlinewidth": 0,
              "ticks": ""
             }
            },
            "type": "scatterpolar"
           }
          ],
          "scatterpolargl": [
           {
            "marker": {
             "colorbar": {
              "outlinewidth": 0,
              "ticks": ""
             }
            },
            "type": "scatterpolargl"
           }
          ],
          "scatterternary": [
           {
            "marker": {
             "colorbar": {
              "outlinewidth": 0,
              "ticks": ""
             }
            },
            "type": "scatterternary"
           }
          ],
          "surface": [
           {
            "colorbar": {
             "outlinewidth": 0,
             "ticks": ""
            },
            "colorscale": [
             [
              0,
              "#0d0887"
             ],
             [
              0.1111111111111111,
              "#46039f"
             ],
             [
              0.2222222222222222,
              "#7201a8"
             ],
             [
              0.3333333333333333,
              "#9c179e"
             ],
             [
              0.4444444444444444,
              "#bd3786"
             ],
             [
              0.5555555555555556,
              "#d8576b"
             ],
             [
              0.6666666666666666,
              "#ed7953"
             ],
             [
              0.7777777777777778,
              "#fb9f3a"
             ],
             [
              0.8888888888888888,
              "#fdca26"
             ],
             [
              1,
              "#f0f921"
             ]
            ],
            "type": "surface"
           }
          ],
          "table": [
           {
            "cells": {
             "fill": {
              "color": "#EBF0F8"
             },
             "line": {
              "color": "white"
             }
            },
            "header": {
             "fill": {
              "color": "#C8D4E3"
             },
             "line": {
              "color": "white"
             }
            },
            "type": "table"
           }
          ]
         },
         "layout": {
          "annotationdefaults": {
           "arrowcolor": "#2a3f5f",
           "arrowhead": 0,
           "arrowwidth": 1
          },
          "autotypenumbers": "strict",
          "coloraxis": {
           "colorbar": {
            "outlinewidth": 0,
            "ticks": ""
           }
          },
          "colorscale": {
           "diverging": [
            [
             0,
             "#8e0152"
            ],
            [
             0.1,
             "#c51b7d"
            ],
            [
             0.2,
             "#de77ae"
            ],
            [
             0.3,
             "#f1b6da"
            ],
            [
             0.4,
             "#fde0ef"
            ],
            [
             0.5,
             "#f7f7f7"
            ],
            [
             0.6,
             "#e6f5d0"
            ],
            [
             0.7,
             "#b8e186"
            ],
            [
             0.8,
             "#7fbc41"
            ],
            [
             0.9,
             "#4d9221"
            ],
            [
             1,
             "#276419"
            ]
           ],
           "sequential": [
            [
             0,
             "#0d0887"
            ],
            [
             0.1111111111111111,
             "#46039f"
            ],
            [
             0.2222222222222222,
             "#7201a8"
            ],
            [
             0.3333333333333333,
             "#9c179e"
            ],
            [
             0.4444444444444444,
             "#bd3786"
            ],
            [
             0.5555555555555556,
             "#d8576b"
            ],
            [
             0.6666666666666666,
             "#ed7953"
            ],
            [
             0.7777777777777778,
             "#fb9f3a"
            ],
            [
             0.8888888888888888,
             "#fdca26"
            ],
            [
             1,
             "#f0f921"
            ]
           ],
           "sequentialminus": [
            [
             0,
             "#0d0887"
            ],
            [
             0.1111111111111111,
             "#46039f"
            ],
            [
             0.2222222222222222,
             "#7201a8"
            ],
            [
             0.3333333333333333,
             "#9c179e"
            ],
            [
             0.4444444444444444,
             "#bd3786"
            ],
            [
             0.5555555555555556,
             "#d8576b"
            ],
            [
             0.6666666666666666,
             "#ed7953"
            ],
            [
             0.7777777777777778,
             "#fb9f3a"
            ],
            [
             0.8888888888888888,
             "#fdca26"
            ],
            [
             1,
             "#f0f921"
            ]
           ]
          },
          "colorway": [
           "#636efa",
           "#EF553B",
           "#00cc96",
           "#ab63fa",
           "#FFA15A",
           "#19d3f3",
           "#FF6692",
           "#B6E880",
           "#FF97FF",
           "#FECB52"
          ],
          "font": {
           "color": "#2a3f5f"
          },
          "geo": {
           "bgcolor": "white",
           "lakecolor": "white",
           "landcolor": "#E5ECF6",
           "showlakes": true,
           "showland": true,
           "subunitcolor": "white"
          },
          "hoverlabel": {
           "align": "left"
          },
          "hovermode": "closest",
          "mapbox": {
           "style": "light"
          },
          "paper_bgcolor": "white",
          "plot_bgcolor": "#E5ECF6",
          "polar": {
           "angularaxis": {
            "gridcolor": "white",
            "linecolor": "white",
            "ticks": ""
           },
           "bgcolor": "#E5ECF6",
           "radialaxis": {
            "gridcolor": "white",
            "linecolor": "white",
            "ticks": ""
           }
          },
          "scene": {
           "xaxis": {
            "backgroundcolor": "#E5ECF6",
            "gridcolor": "white",
            "gridwidth": 2,
            "linecolor": "white",
            "showbackground": true,
            "ticks": "",
            "zerolinecolor": "white"
           },
           "yaxis": {
            "backgroundcolor": "#E5ECF6",
            "gridcolor": "white",
            "gridwidth": 2,
            "linecolor": "white",
            "showbackground": true,
            "ticks": "",
            "zerolinecolor": "white"
           },
           "zaxis": {
            "backgroundcolor": "#E5ECF6",
            "gridcolor": "white",
            "gridwidth": 2,
            "linecolor": "white",
            "showbackground": true,
            "ticks": "",
            "zerolinecolor": "white"
           }
          },
          "shapedefaults": {
           "line": {
            "color": "#2a3f5f"
           }
          },
          "ternary": {
           "aaxis": {
            "gridcolor": "white",
            "linecolor": "white",
            "ticks": ""
           },
           "baxis": {
            "gridcolor": "white",
            "linecolor": "white",
            "ticks": ""
           },
           "bgcolor": "#E5ECF6",
           "caxis": {
            "gridcolor": "white",
            "linecolor": "white",
            "ticks": ""
           }
          },
          "title": {
           "x": 0.05
          },
          "xaxis": {
           "automargin": true,
           "gridcolor": "white",
           "linecolor": "white",
           "ticks": "",
           "title": {
            "standoff": 15
           },
           "zerolinecolor": "white",
           "zerolinewidth": 2
          },
          "yaxis": {
           "automargin": true,
           "gridcolor": "white",
           "linecolor": "white",
           "ticks": "",
           "title": {
            "standoff": 15
           },
           "zerolinecolor": "white",
           "zerolinewidth": 2
          }
         }
        },
        "title": {
         "text": "Three-Line Strike bullish"
        },
        "xaxis": {
         "rangeslider": {
          "visible": false
         }
        }
       }
      },
      "text/html": [
       "<div>                            <div id=\"c30d7849-efed-4cb3-9d4e-1c210a0630d9\" class=\"plotly-graph-div\" style=\"height:525px; width:100%;\"></div>            <script type=\"text/javascript\">                require([\"plotly\"], function(Plotly) {                    window.PLOTLYENV=window.PLOTLYENV || {};                                    if (document.getElementById(\"c30d7849-efed-4cb3-9d4e-1c210a0630d9\")) {                    Plotly.newPlot(                        \"c30d7849-efed-4cb3-9d4e-1c210a0630d9\",                        [{\"close\":[45943.25,46363.82,46252.59,46412.49,46405.5,46407.35,46005.44,46173.99,46160.09,45633.88,45925.76,46580.51,46645.82,46709.99,46683.37,45763.72,46032.5,45497.55,45215.88,45276.04,44819.19,44168.35,43754.57,43170.47,43294.04,43445.33,43766.74,43331.81,43388.92,43444.19,43605.96,43763.52,43298.79,43648.01,42730.84,42252.01,42380.0,42481.09,42445.1,42260.77,42511.94,42753.97],\"high\":[46065.83,46570.0,46446.8,46723.0,46770.65,47444.11,46461.14,46293.38,46287.97,46359.0,45940.35,46890.71,46777.77,46884.49,46740.0,47200.0,46191.0,46107.58,45506.67,45507.14,45453.94,44999.99,44298.61,44041.1,43559.09,43545.74,43834.52,43900.99,43819.99,43750.0,43694.15,43780.32,43970.62,43961.99,43714.97,42870.7,42466.87,42640.0,42540.0,42522.44,42631.69,42800.0],\"low\":[45530.92,45927.83,46076.92,46188.0,46220.16,46248.84,45744.77,45834.39,45787.0,45555.0,45118.0,45626.02,46412.62,46549.82,46522.52,45667.4,45457.89,45353.81,44412.0,45119.0,44665.91,43705.64,43177.11,43121.0,42727.35,43210.47,43269.5,43024.86,43266.68,43208.0,43305.57,43416.74,43260.76,42751.01,42414.0,42107.14,42125.48,42341.79,42322.72,42158.67,42183.6,42390.0],\"name\":\"Price\",\"opacity\":0.5,\"open\":[45810.99,45943.26,46363.83,46252.59,46412.49,46405.49,46407.36,46005.43,46174.0,46160.08,45633.88,45925.77,46580.5,46645.83,46710.0,46683.37,45763.73,46032.49,45497.54,45215.88,45276.04,44819.19,44168.36,43754.56,43170.47,43294.04,43445.34,43766.75,43331.82,43388.93,43444.2,43605.95,43763.53,43298.79,43648.01,42730.84,42252.02,42380.0,42481.08,42445.09,42253.02,42511.95],\"x\":[\"2022-04-03 03:00:00\",\"2022-04-03 07:00:00\",\"2022-04-03 11:00:00\",\"2022-04-03 15:00:00\",\"2022-04-03 19:00:00\",\"2022-04-03 23:00:00\",\"2022-04-04 03:00:00\",\"2022-04-04 07:00:00\",\"2022-04-04 11:00:00\",\"2022-04-04 15:00:00\",\"2022-04-04 19:00:00\",\"2022-04-04 23:00:00\",\"2022-04-05 03:00:00\",\"2022-04-05 07:00:00\",\"2022-04-05 11:00:00\",\"2022-04-05 15:00:00\",\"2022-04-05 19:00:00\",\"2022-04-05 23:00:00\",\"2022-04-06 03:00:00\",\"2022-04-06 07:00:00\",\"2022-04-06 11:00:00\",\"2022-04-06 15:00:00\",\"2022-04-06 19:00:00\",\"2022-04-06 23:00:00\",\"2022-04-07 03:00:00\",\"2022-04-07 07:00:00\",\"2022-04-07 11:00:00\",\"2022-04-07 15:00:00\",\"2022-04-07 19:00:00\",\"2022-04-07 23:00:00\",\"2022-04-08 03:00:00\",\"2022-04-08 07:00:00\",\"2022-04-08 11:00:00\",\"2022-04-08 15:00:00\",\"2022-04-08 19:00:00\",\"2022-04-08 23:00:00\",\"2022-04-09 03:00:00\",\"2022-04-09 07:00:00\",\"2022-04-09 11:00:00\",\"2022-04-09 15:00:00\",\"2022-04-09 19:00:00\",\"2022-04-09 23:00:00\"],\"type\":\"candlestick\"},{\"marker\":{\"color\":\"#16FF32\",\"line\":{\"color\":\"MediumPurple\",\"width\":2},\"size\":7,\"symbol\":\"5\"},\"mode\":\"markers\",\"name\":\"Bullish\",\"opacity\":1,\"x\":[\"2022-04-03 03:00:00\",\"2022-04-03 07:00:00\",\"2022-04-03 11:00:00\",\"2022-04-03 15:00:00\",\"2022-04-03 19:00:00\",\"2022-04-03 23:00:00\",\"2022-04-04 03:00:00\",\"2022-04-04 07:00:00\",\"2022-04-04 11:00:00\",\"2022-04-04 15:00:00\",\"2022-04-04 19:00:00\",\"2022-04-04 23:00:00\",\"2022-04-05 03:00:00\",\"2022-04-05 07:00:00\",\"2022-04-05 11:00:00\",\"2022-04-05 15:00:00\",\"2022-04-05 19:00:00\",\"2022-04-05 23:00:00\",\"2022-04-06 03:00:00\",\"2022-04-06 07:00:00\",\"2022-04-06 11:00:00\",\"2022-04-06 15:00:00\",\"2022-04-06 19:00:00\",\"2022-04-06 23:00:00\",\"2022-04-07 03:00:00\",\"2022-04-07 07:00:00\",\"2022-04-07 11:00:00\",\"2022-04-07 15:00:00\",\"2022-04-07 19:00:00\",\"2022-04-07 23:00:00\",\"2022-04-08 03:00:00\",\"2022-04-08 07:00:00\",\"2022-04-08 11:00:00\",\"2022-04-08 15:00:00\",\"2022-04-08 19:00:00\",\"2022-04-08 23:00:00\",\"2022-04-09 03:00:00\",\"2022-04-09 07:00:00\",\"2022-04-09 11:00:00\",\"2022-04-09 15:00:00\",\"2022-04-09 19:00:00\",\"2022-04-09 23:00:00\"],\"y\":[null,null,null,null,null,null,null,null,null,null,null,null,null,null,null,null,null,null,null,null,null,null,null,null,null,null,null,null,null,null,null,null,42888.259399999995,null,null,null,null,null,null,null,null,null],\"type\":\"scatter\"}],                        {\"template\":{\"data\":{\"barpolar\":[{\"marker\":{\"line\":{\"color\":\"#E5ECF6\",\"width\":0.5},\"pattern\":{\"fillmode\":\"overlay\",\"size\":10,\"solidity\":0.2}},\"type\":\"barpolar\"}],\"bar\":[{\"error_x\":{\"color\":\"#2a3f5f\"},\"error_y\":{\"color\":\"#2a3f5f\"},\"marker\":{\"line\":{\"color\":\"#E5ECF6\",\"width\":0.5},\"pattern\":{\"fillmode\":\"overlay\",\"size\":10,\"solidity\":0.2}},\"type\":\"bar\"}],\"carpet\":[{\"aaxis\":{\"endlinecolor\":\"#2a3f5f\",\"gridcolor\":\"white\",\"linecolor\":\"white\",\"minorgridcolor\":\"white\",\"startlinecolor\":\"#2a3f5f\"},\"baxis\":{\"endlinecolor\":\"#2a3f5f\",\"gridcolor\":\"white\",\"linecolor\":\"white\",\"minorgridcolor\":\"white\",\"startlinecolor\":\"#2a3f5f\"},\"type\":\"carpet\"}],\"choropleth\":[{\"colorbar\":{\"outlinewidth\":0,\"ticks\":\"\"},\"type\":\"choropleth\"}],\"contourcarpet\":[{\"colorbar\":{\"outlinewidth\":0,\"ticks\":\"\"},\"type\":\"contourcarpet\"}],\"contour\":[{\"colorbar\":{\"outlinewidth\":0,\"ticks\":\"\"},\"colorscale\":[[0.0,\"#0d0887\"],[0.1111111111111111,\"#46039f\"],[0.2222222222222222,\"#7201a8\"],[0.3333333333333333,\"#9c179e\"],[0.4444444444444444,\"#bd3786\"],[0.5555555555555556,\"#d8576b\"],[0.6666666666666666,\"#ed7953\"],[0.7777777777777778,\"#fb9f3a\"],[0.8888888888888888,\"#fdca26\"],[1.0,\"#f0f921\"]],\"type\":\"contour\"}],\"heatmapgl\":[{\"colorbar\":{\"outlinewidth\":0,\"ticks\":\"\"},\"colorscale\":[[0.0,\"#0d0887\"],[0.1111111111111111,\"#46039f\"],[0.2222222222222222,\"#7201a8\"],[0.3333333333333333,\"#9c179e\"],[0.4444444444444444,\"#bd3786\"],[0.5555555555555556,\"#d8576b\"],[0.6666666666666666,\"#ed7953\"],[0.7777777777777778,\"#fb9f3a\"],[0.8888888888888888,\"#fdca26\"],[1.0,\"#f0f921\"]],\"type\":\"heatmapgl\"}],\"heatmap\":[{\"colorbar\":{\"outlinewidth\":0,\"ticks\":\"\"},\"colorscale\":[[0.0,\"#0d0887\"],[0.1111111111111111,\"#46039f\"],[0.2222222222222222,\"#7201a8\"],[0.3333333333333333,\"#9c179e\"],[0.4444444444444444,\"#bd3786\"],[0.5555555555555556,\"#d8576b\"],[0.6666666666666666,\"#ed7953\"],[0.7777777777777778,\"#fb9f3a\"],[0.8888888888888888,\"#fdca26\"],[1.0,\"#f0f921\"]],\"type\":\"heatmap\"}],\"histogram2dcontour\":[{\"colorbar\":{\"outlinewidth\":0,\"ticks\":\"\"},\"colorscale\":[[0.0,\"#0d0887\"],[0.1111111111111111,\"#46039f\"],[0.2222222222222222,\"#7201a8\"],[0.3333333333333333,\"#9c179e\"],[0.4444444444444444,\"#bd3786\"],[0.5555555555555556,\"#d8576b\"],[0.6666666666666666,\"#ed7953\"],[0.7777777777777778,\"#fb9f3a\"],[0.8888888888888888,\"#fdca26\"],[1.0,\"#f0f921\"]],\"type\":\"histogram2dcontour\"}],\"histogram2d\":[{\"colorbar\":{\"outlinewidth\":0,\"ticks\":\"\"},\"colorscale\":[[0.0,\"#0d0887\"],[0.1111111111111111,\"#46039f\"],[0.2222222222222222,\"#7201a8\"],[0.3333333333333333,\"#9c179e\"],[0.4444444444444444,\"#bd3786\"],[0.5555555555555556,\"#d8576b\"],[0.6666666666666666,\"#ed7953\"],[0.7777777777777778,\"#fb9f3a\"],[0.8888888888888888,\"#fdca26\"],[1.0,\"#f0f921\"]],\"type\":\"histogram2d\"}],\"histogram\":[{\"marker\":{\"pattern\":{\"fillmode\":\"overlay\",\"size\":10,\"solidity\":0.2}},\"type\":\"histogram\"}],\"mesh3d\":[{\"colorbar\":{\"outlinewidth\":0,\"ticks\":\"\"},\"type\":\"mesh3d\"}],\"parcoords\":[{\"line\":{\"colorbar\":{\"outlinewidth\":0,\"ticks\":\"\"}},\"type\":\"parcoords\"}],\"pie\":[{\"automargin\":true,\"type\":\"pie\"}],\"scatter3d\":[{\"line\":{\"colorbar\":{\"outlinewidth\":0,\"ticks\":\"\"}},\"marker\":{\"colorbar\":{\"outlinewidth\":0,\"ticks\":\"\"}},\"type\":\"scatter3d\"}],\"scattercarpet\":[{\"marker\":{\"colorbar\":{\"outlinewidth\":0,\"ticks\":\"\"}},\"type\":\"scattercarpet\"}],\"scattergeo\":[{\"marker\":{\"colorbar\":{\"outlinewidth\":0,\"ticks\":\"\"}},\"type\":\"scattergeo\"}],\"scattergl\":[{\"marker\":{\"colorbar\":{\"outlinewidth\":0,\"ticks\":\"\"}},\"type\":\"scattergl\"}],\"scattermapbox\":[{\"marker\":{\"colorbar\":{\"outlinewidth\":0,\"ticks\":\"\"}},\"type\":\"scattermapbox\"}],\"scatterpolargl\":[{\"marker\":{\"colorbar\":{\"outlinewidth\":0,\"ticks\":\"\"}},\"type\":\"scatterpolargl\"}],\"scatterpolar\":[{\"marker\":{\"colorbar\":{\"outlinewidth\":0,\"ticks\":\"\"}},\"type\":\"scatterpolar\"}],\"scatter\":[{\"fillpattern\":{\"fillmode\":\"overlay\",\"size\":10,\"solidity\":0.2},\"type\":\"scatter\"}],\"scatterternary\":[{\"marker\":{\"colorbar\":{\"outlinewidth\":0,\"ticks\":\"\"}},\"type\":\"scatterternary\"}],\"surface\":[{\"colorbar\":{\"outlinewidth\":0,\"ticks\":\"\"},\"colorscale\":[[0.0,\"#0d0887\"],[0.1111111111111111,\"#46039f\"],[0.2222222222222222,\"#7201a8\"],[0.3333333333333333,\"#9c179e\"],[0.4444444444444444,\"#bd3786\"],[0.5555555555555556,\"#d8576b\"],[0.6666666666666666,\"#ed7953\"],[0.7777777777777778,\"#fb9f3a\"],[0.8888888888888888,\"#fdca26\"],[1.0,\"#f0f921\"]],\"type\":\"surface\"}],\"table\":[{\"cells\":{\"fill\":{\"color\":\"#EBF0F8\"},\"line\":{\"color\":\"white\"}},\"header\":{\"fill\":{\"color\":\"#C8D4E3\"},\"line\":{\"color\":\"white\"}},\"type\":\"table\"}]},\"layout\":{\"annotationdefaults\":{\"arrowcolor\":\"#2a3f5f\",\"arrowhead\":0,\"arrowwidth\":1},\"autotypenumbers\":\"strict\",\"coloraxis\":{\"colorbar\":{\"outlinewidth\":0,\"ticks\":\"\"}},\"colorscale\":{\"diverging\":[[0,\"#8e0152\"],[0.1,\"#c51b7d\"],[0.2,\"#de77ae\"],[0.3,\"#f1b6da\"],[0.4,\"#fde0ef\"],[0.5,\"#f7f7f7\"],[0.6,\"#e6f5d0\"],[0.7,\"#b8e186\"],[0.8,\"#7fbc41\"],[0.9,\"#4d9221\"],[1,\"#276419\"]],\"sequential\":[[0.0,\"#0d0887\"],[0.1111111111111111,\"#46039f\"],[0.2222222222222222,\"#7201a8\"],[0.3333333333333333,\"#9c179e\"],[0.4444444444444444,\"#bd3786\"],[0.5555555555555556,\"#d8576b\"],[0.6666666666666666,\"#ed7953\"],[0.7777777777777778,\"#fb9f3a\"],[0.8888888888888888,\"#fdca26\"],[1.0,\"#f0f921\"]],\"sequentialminus\":[[0.0,\"#0d0887\"],[0.1111111111111111,\"#46039f\"],[0.2222222222222222,\"#7201a8\"],[0.3333333333333333,\"#9c179e\"],[0.4444444444444444,\"#bd3786\"],[0.5555555555555556,\"#d8576b\"],[0.6666666666666666,\"#ed7953\"],[0.7777777777777778,\"#fb9f3a\"],[0.8888888888888888,\"#fdca26\"],[1.0,\"#f0f921\"]]},\"colorway\":[\"#636efa\",\"#EF553B\",\"#00cc96\",\"#ab63fa\",\"#FFA15A\",\"#19d3f3\",\"#FF6692\",\"#B6E880\",\"#FF97FF\",\"#FECB52\"],\"font\":{\"color\":\"#2a3f5f\"},\"geo\":{\"bgcolor\":\"white\",\"lakecolor\":\"white\",\"landcolor\":\"#E5ECF6\",\"showlakes\":true,\"showland\":true,\"subunitcolor\":\"white\"},\"hoverlabel\":{\"align\":\"left\"},\"hovermode\":\"closest\",\"mapbox\":{\"style\":\"light\"},\"paper_bgcolor\":\"white\",\"plot_bgcolor\":\"#E5ECF6\",\"polar\":{\"angularaxis\":{\"gridcolor\":\"white\",\"linecolor\":\"white\",\"ticks\":\"\"},\"bgcolor\":\"#E5ECF6\",\"radialaxis\":{\"gridcolor\":\"white\",\"linecolor\":\"white\",\"ticks\":\"\"}},\"scene\":{\"xaxis\":{\"backgroundcolor\":\"#E5ECF6\",\"gridcolor\":\"white\",\"gridwidth\":2,\"linecolor\":\"white\",\"showbackground\":true,\"ticks\":\"\",\"zerolinecolor\":\"white\"},\"yaxis\":{\"backgroundcolor\":\"#E5ECF6\",\"gridcolor\":\"white\",\"gridwidth\":2,\"linecolor\":\"white\",\"showbackground\":true,\"ticks\":\"\",\"zerolinecolor\":\"white\"},\"zaxis\":{\"backgroundcolor\":\"#E5ECF6\",\"gridcolor\":\"white\",\"gridwidth\":2,\"linecolor\":\"white\",\"showbackground\":true,\"ticks\":\"\",\"zerolinecolor\":\"white\"}},\"shapedefaults\":{\"line\":{\"color\":\"#2a3f5f\"}},\"ternary\":{\"aaxis\":{\"gridcolor\":\"white\",\"linecolor\":\"white\",\"ticks\":\"\"},\"baxis\":{\"gridcolor\":\"white\",\"linecolor\":\"white\",\"ticks\":\"\"},\"bgcolor\":\"#E5ECF6\",\"caxis\":{\"gridcolor\":\"white\",\"linecolor\":\"white\",\"ticks\":\"\"}},\"title\":{\"x\":0.05},\"xaxis\":{\"automargin\":true,\"gridcolor\":\"white\",\"linecolor\":\"white\",\"ticks\":\"\",\"title\":{\"standoff\":15},\"zerolinecolor\":\"white\",\"zerolinewidth\":2},\"yaxis\":{\"automargin\":true,\"gridcolor\":\"white\",\"linecolor\":\"white\",\"ticks\":\"\",\"title\":{\"standoff\":15},\"zerolinecolor\":\"white\",\"zerolinewidth\":2}}},\"title\":{\"text\":\"Three-Line Strike bullish\"},\"xaxis\":{\"rangeslider\":{\"visible\":false}}},                        {\"responsive\": true}                    ).then(function(){\n",
       "                            \n",
       "var gd = document.getElementById('c30d7849-efed-4cb3-9d4e-1c210a0630d9');\n",
       "var x = new MutationObserver(function (mutations, observer) {{\n",
       "        var display = window.getComputedStyle(gd).display;\n",
       "        if (!display || display === 'none') {{\n",
       "            console.log([gd, 'removed!']);\n",
       "            Plotly.purge(gd);\n",
       "            observer.disconnect();\n",
       "        }}\n",
       "}});\n",
       "\n",
       "// Listen for the removal of the full notebook cells\n",
       "var notebookContainer = gd.closest('#notebook-container');\n",
       "if (notebookContainer) {{\n",
       "    x.observe(notebookContainer, {childList: true});\n",
       "}}\n",
       "\n",
       "// Listen for the clearing of the current output cell\n",
       "var outputEl = gd.closest('.output');\n",
       "if (outputEl) {{\n",
       "    x.observe(outputEl, {childList: true});\n",
       "}}\n",
       "\n",
       "                        })                };                });            </script>        </div>"
      ]
     },
     "metadata": {},
     "output_type": "display_data"
    }
   ],
   "source": [
    "fig = go.Figure()\n",
    "\n",
    "fig.add_trace(go.Candlestick(x=three_line_strike_plot_bull['Time'],\n",
    "                             open=three_line_strike_plot_bull['Open'],\n",
    "                             high=three_line_strike_plot_bull['High'],\n",
    "                             low=three_line_strike_plot_bull['Low'],\n",
    "                             close=three_line_strike_plot_bull['Close'], name=\"Price\", opacity=0.5))\n",
    "\n",
    "\n",
    "fig.add_trace(go.Scatter(x=three_line_strike_plot_bull['Time'], \n",
    "                         y=three_line_strike_plot_bull['three_line_strike_bullish_dot'],\n",
    "                         opacity=1, mode='markers', marker=dict(color='#16FF32', symbol='5', size=7, line=dict(color='MediumPurple',width=2)),\n",
    "                         name=\"Bullish\"))\n",
    "\n",
    "\n",
    "fig.update_layout(xaxis_rangeslider_visible=False, title = 'Three-Line Strike bullish')\n",
    "iplot(fig, show_link=False)"
   ]
  },
  {
   "cell_type": "markdown",
   "id": "8b1f7d93",
   "metadata": {},
   "source": [
    "![pattern](https://lh6.googleusercontent.com/rI1FL1pdVIYNCuUmaphr22u13ZAt_U-JoQt-ObmbdIEMHjHJZnMNf8-iv1sBBBAqil2PODU3e2d-RLL0zWPlbmFB5fluV5aelr8z1v6ef0PFwOxExElT6ndmZinu4vxJ_wc4P9NgM5gaBNErAYAGrDQ)"
   ]
  },
  {
   "cell_type": "markdown",
   "id": "e0779fee",
   "metadata": {},
   "source": [
    "### Hikkake Pattern\n",
    "\n",
    "Is used to identify a short-term trend\n",
    "\n",
    "The bearish Three Line Strike:\n",
    "\n",
    "- The first bar completely overshadows the second bar\n",
    "- The third bar includes a higher high and higher low than the second bar\n",
    "- The fourth bar, or the fourth and fifth bars, drifts above the third bar\n",
    "- The fifth or sixth bar’s body closes below the second bar’s low\n",
    "\n",
    "The bullish Three Line Strike:\n",
    "\n",
    "- The first bar completely overshadows the body of the second bar\n",
    "- The third bar includes a lower high and lower low than the second bar\n",
    "- The fourth bar, or the fourth and fifth bars, drifts below the third bar\n",
    "- The fifth or sixth bar’s body closes above the second bar’s high"
   ]
  },
  {
   "cell_type": "code",
   "execution_count": 37,
   "id": "a25c0313",
   "metadata": {},
   "outputs": [],
   "source": [
    "hikkake_pattern = new_df(price, 'CDLHIKKAKE')"
   ]
  },
  {
   "cell_type": "code",
   "execution_count": 38,
   "id": "92ee10c2",
   "metadata": {},
   "outputs": [
    {
     "data": {
      "text/html": [
       "<div>\n",
       "<style scoped>\n",
       "    .dataframe tbody tr th:only-of-type {\n",
       "        vertical-align: middle;\n",
       "    }\n",
       "\n",
       "    .dataframe tbody tr th {\n",
       "        vertical-align: top;\n",
       "    }\n",
       "\n",
       "    .dataframe thead th {\n",
       "        text-align: right;\n",
       "    }\n",
       "</style>\n",
       "<table border=\"1\" class=\"dataframe\">\n",
       "  <thead>\n",
       "    <tr style=\"text-align: right;\">\n",
       "      <th></th>\n",
       "      <th>Time</th>\n",
       "      <th>Open</th>\n",
       "      <th>High</th>\n",
       "      <th>Low</th>\n",
       "      <th>Close</th>\n",
       "      <th>CDLHIKKAKE</th>\n",
       "      <th>year_week</th>\n",
       "    </tr>\n",
       "  </thead>\n",
       "  <tbody>\n",
       "    <tr>\n",
       "      <th>3299</th>\n",
       "      <td>2022-07-04 23:00:00</td>\n",
       "      <td>19829.98</td>\n",
       "      <td>20354.01</td>\n",
       "      <td>19733.95</td>\n",
       "      <td>20236.71</td>\n",
       "      <td>Bearish</td>\n",
       "      <td>2022-27</td>\n",
       "    </tr>\n",
       "    <tr>\n",
       "      <th>3302</th>\n",
       "      <td>2022-07-05 11:00:00</td>\n",
       "      <td>20215.68</td>\n",
       "      <td>20215.69</td>\n",
       "      <td>19478.00</td>\n",
       "      <td>19520.39</td>\n",
       "      <td>Bullish</td>\n",
       "      <td>2022-27</td>\n",
       "    </tr>\n",
       "    <tr>\n",
       "      <th>3313</th>\n",
       "      <td>2022-07-07 07:00:00</td>\n",
       "      <td>20480.60</td>\n",
       "      <td>20493.72</td>\n",
       "      <td>20251.68</td>\n",
       "      <td>20440.01</td>\n",
       "      <td>Bullish</td>\n",
       "      <td>2022-27</td>\n",
       "    </tr>\n",
       "    <tr>\n",
       "      <th>3320</th>\n",
       "      <td>2022-07-08 11:00:00</td>\n",
       "      <td>21797.65</td>\n",
       "      <td>21822.10</td>\n",
       "      <td>21317.00</td>\n",
       "      <td>21583.98</td>\n",
       "      <td>Bullish</td>\n",
       "      <td>2022-27</td>\n",
       "    </tr>\n",
       "    <tr>\n",
       "      <th>3323</th>\n",
       "      <td>2022-07-08 23:00:00</td>\n",
       "      <td>21811.90</td>\n",
       "      <td>22045.91</td>\n",
       "      <td>21580.71</td>\n",
       "      <td>21594.75</td>\n",
       "      <td>Bearish</td>\n",
       "      <td>2022-27</td>\n",
       "    </tr>\n",
       "    <tr>\n",
       "      <th>3328</th>\n",
       "      <td>2022-07-09 19:00:00</td>\n",
       "      <td>21545.89</td>\n",
       "      <td>21980.00</td>\n",
       "      <td>21517.87</td>\n",
       "      <td>21621.40</td>\n",
       "      <td>Bearish</td>\n",
       "      <td>2022-27</td>\n",
       "    </tr>\n",
       "    <tr>\n",
       "      <th>3330</th>\n",
       "      <td>2022-07-10 03:00:00</td>\n",
       "      <td>21592.15</td>\n",
       "      <td>21607.65</td>\n",
       "      <td>21091.81</td>\n",
       "      <td>21294.98</td>\n",
       "      <td>Bullish</td>\n",
       "      <td>2022-28</td>\n",
       "    </tr>\n",
       "    <tr>\n",
       "      <th>3332</th>\n",
       "      <td>2022-07-10 11:00:00</td>\n",
       "      <td>21339.46</td>\n",
       "      <td>21424.67</td>\n",
       "      <td>21161.67</td>\n",
       "      <td>21301.84</td>\n",
       "      <td>Bearish</td>\n",
       "      <td>2022-28</td>\n",
       "    </tr>\n",
       "    <tr>\n",
       "      <th>3341</th>\n",
       "      <td>2022-07-11 23:00:00</td>\n",
       "      <td>20509.47</td>\n",
       "      <td>20565.05</td>\n",
       "      <td>19875.23</td>\n",
       "      <td>19963.61</td>\n",
       "      <td>Bullish</td>\n",
       "      <td>2022-28</td>\n",
       "    </tr>\n",
       "    <tr>\n",
       "      <th>3353</th>\n",
       "      <td>2022-07-13 23:00:00</td>\n",
       "      <td>19652.15</td>\n",
       "      <td>20366.61</td>\n",
       "      <td>19584.37</td>\n",
       "      <td>20234.87</td>\n",
       "      <td>Bearish</td>\n",
       "      <td>2022-28</td>\n",
       "    </tr>\n",
       "  </tbody>\n",
       "</table>\n",
       "</div>"
      ],
      "text/plain": [
       "                     Time      Open      High       Low     Close CDLHIKKAKE  \\\n",
       "3299  2022-07-04 23:00:00  19829.98  20354.01  19733.95  20236.71    Bearish   \n",
       "3302  2022-07-05 11:00:00  20215.68  20215.69  19478.00  19520.39    Bullish   \n",
       "3313  2022-07-07 07:00:00  20480.60  20493.72  20251.68  20440.01    Bullish   \n",
       "3320  2022-07-08 11:00:00  21797.65  21822.10  21317.00  21583.98    Bullish   \n",
       "3323  2022-07-08 23:00:00  21811.90  22045.91  21580.71  21594.75    Bearish   \n",
       "3328  2022-07-09 19:00:00  21545.89  21980.00  21517.87  21621.40    Bearish   \n",
       "3330  2022-07-10 03:00:00  21592.15  21607.65  21091.81  21294.98    Bullish   \n",
       "3332  2022-07-10 11:00:00  21339.46  21424.67  21161.67  21301.84    Bearish   \n",
       "3341  2022-07-11 23:00:00  20509.47  20565.05  19875.23  19963.61    Bullish   \n",
       "3353  2022-07-13 23:00:00  19652.15  20366.61  19584.37  20234.87    Bearish   \n",
       "\n",
       "     year_week  \n",
       "3299   2022-27  \n",
       "3302   2022-27  \n",
       "3313   2022-27  \n",
       "3320   2022-27  \n",
       "3323   2022-27  \n",
       "3328   2022-27  \n",
       "3330   2022-28  \n",
       "3332   2022-28  \n",
       "3341   2022-28  \n",
       "3353   2022-28  "
      ]
     },
     "execution_count": 38,
     "metadata": {},
     "output_type": "execute_result"
    }
   ],
   "source": [
    "hikkake_pattern.loc[(hikkake_pattern['CDLHIKKAKE'] == 'Bullish') \\\n",
    "                                      | (hikkake_pattern['CDLHIKKAKE'] == 'Bearish')].tail(10)"
   ]
  },
  {
   "cell_type": "code",
   "execution_count": 39,
   "id": "65328420",
   "metadata": {},
   "outputs": [],
   "source": [
    "def bear_hikkake_pattern(row):\n",
    "    \n",
    "    if row['CDLHIKKAKE'] == 'Bearish':\n",
    "        return (row['Open'] + row['Close']) / 2\n",
    "    else:\n",
    "        return np.nan  \n",
    "    \n",
    "def bull_hikkake_pattern(row):\n",
    "    \n",
    "    if row['CDLHIKKAKE'] == 'Bullish':\n",
    "        return (row['Open'] + row['Close']) / 2\n",
    "    else:\n",
    "        return np.nan\n",
    "    \n",
    "hikkake_pattern['hikkake_pattern_bearish_dot'] = hikkake_pattern.apply(bear_hikkake_pattern, axis=1)    \n",
    "hikkake_pattern['hikkake_pattern_bullish_dot'] = hikkake_pattern.apply(bull_hikkake_pattern, axis=1)"
   ]
  },
  {
   "cell_type": "code",
   "execution_count": 40,
   "id": "d5a00c98",
   "metadata": {},
   "outputs": [],
   "source": [
    "hikkake_pattern_plot = hikkake_pattern.loc[hikkake_pattern['year_week'] == '2022-28'].copy()"
   ]
  },
  {
   "cell_type": "code",
   "execution_count": 41,
   "id": "f34e18c4",
   "metadata": {},
   "outputs": [
    {
     "data": {
      "application/vnd.plotly.v1+json": {
       "config": {
        "linkText": "Export to plot.ly",
        "plotlyServerURL": "https://plot.ly",
        "showLink": false
       },
       "data": [
        {
         "close": [
          21294.98,
          21338.12,
          21301.84,
          20899.76,
          20920.54,
          20862.47,
          20540.69,
          20439.91,
          20473.06,
          20437.44,
          20509.47,
          19963.61,
          19942.33,
          19730.99,
          19773.9,
          19886.33,
          19398.74,
          19328.75,
          19473.68,
          19705.25,
          19843.89,
          19456.2,
          19652.15,
          20234.87,
          20224.24,
          19990.72,
          19738.13,
          20390.5,
          20605.75,
          20588.84,
          20611.83,
          20633.01
         ],
         "high": [
          21607.65,
          21373.48,
          21424.67,
          21345.14,
          21052.47,
          21180.92,
          20868.48,
          20606.11,
          20632.59,
          20762.02,
          20716.29,
          20565.05,
          20006.54,
          20059.42,
          19836.6,
          20010,
          20007.23,
          19555,
          19582.51,
          19875,
          19930,
          20128.39,
          20046.15,
          20366.61,
          20435.72,
          20276.9,
          20057.03,
          20466,
          20900,
          20720,
          20833,
          20705.62
         ],
         "low": [
          21091.81,
          21161.36,
          21161.67,
          20835.73,
          20655,
          20698.9,
          20453.36,
          20353.72,
          20411.56,
          20271.1,
          20400,
          19875.23,
          19786.46,
          19620,
          19558.12,
          19695.3,
          19278,
          19240,
          19265.4,
          19420,
          19670.02,
          18910.94,
          19230,
          19584.37,
          20164.06,
          19894.76,
          19635.22,
          19616.07,
          20143.96,
          20438.12,
          20382.29,
          20494.29
         ],
         "name": "Price",
         "opacity": 0.5,
         "open": [
          21592.15,
          21295.76,
          21339.46,
          21301.84,
          20898.44,
          20921.4,
          20861.11,
          20540.68,
          20439.17,
          20474.55,
          20440,
          20509.47,
          19963.61,
          19942.33,
          19731,
          19775.56,
          19886.33,
          19398.74,
          19331.28,
          19473.68,
          19707.06,
          19845.33,
          19454.99,
          19652.15,
          20234.87,
          20224.24,
          19990.72,
          19738.13,
          20390,
          20608.36,
          20588.84,
          20613.21
         ],
         "type": "candlestick",
         "x": [
          "2022-07-10 03:00:00",
          "2022-07-10 07:00:00",
          "2022-07-10 11:00:00",
          "2022-07-10 15:00:00",
          "2022-07-10 19:00:00",
          "2022-07-10 23:00:00",
          "2022-07-11 03:00:00",
          "2022-07-11 07:00:00",
          "2022-07-11 11:00:00",
          "2022-07-11 15:00:00",
          "2022-07-11 19:00:00",
          "2022-07-11 23:00:00",
          "2022-07-12 03:00:00",
          "2022-07-12 07:00:00",
          "2022-07-12 11:00:00",
          "2022-07-12 15:00:00",
          "2022-07-12 19:00:00",
          "2022-07-12 23:00:00",
          "2022-07-13 03:00:00",
          "2022-07-13 07:00:00",
          "2022-07-13 11:00:00",
          "2022-07-13 15:00:00",
          "2022-07-13 19:00:00",
          "2022-07-13 23:00:00",
          "2022-07-14 03:00:00",
          "2022-07-14 07:00:00",
          "2022-07-14 11:00:00",
          "2022-07-14 15:00:00",
          "2022-07-14 19:00:00",
          "2022-07-14 23:00:00",
          "2022-07-15 03:00:00",
          "2022-07-15 07:00:00"
         ]
        },
        {
         "marker": {
          "color": "#16FF32",
          "line": {
           "color": "MediumPurple",
           "width": 2
          },
          "size": 7,
          "symbol": "6"
         },
         "mode": "markers",
         "name": "Bearish",
         "opacity": 1,
         "type": "scatter",
         "x": [
          "2022-07-10 03:00:00",
          "2022-07-10 07:00:00",
          "2022-07-10 11:00:00",
          "2022-07-10 15:00:00",
          "2022-07-10 19:00:00",
          "2022-07-10 23:00:00",
          "2022-07-11 03:00:00",
          "2022-07-11 07:00:00",
          "2022-07-11 11:00:00",
          "2022-07-11 15:00:00",
          "2022-07-11 19:00:00",
          "2022-07-11 23:00:00",
          "2022-07-12 03:00:00",
          "2022-07-12 07:00:00",
          "2022-07-12 11:00:00",
          "2022-07-12 15:00:00",
          "2022-07-12 19:00:00",
          "2022-07-12 23:00:00",
          "2022-07-13 03:00:00",
          "2022-07-13 07:00:00",
          "2022-07-13 11:00:00",
          "2022-07-13 15:00:00",
          "2022-07-13 19:00:00",
          "2022-07-13 23:00:00",
          "2022-07-14 03:00:00",
          "2022-07-14 07:00:00",
          "2022-07-14 11:00:00",
          "2022-07-14 15:00:00",
          "2022-07-14 19:00:00",
          "2022-07-14 23:00:00",
          "2022-07-15 03:00:00",
          "2022-07-15 07:00:00"
         ],
         "y": [
          null,
          null,
          21320.65,
          null,
          null,
          null,
          null,
          null,
          null,
          null,
          null,
          null,
          null,
          null,
          null,
          null,
          null,
          null,
          null,
          null,
          null,
          null,
          null,
          19943.510000000002,
          null,
          null,
          null,
          null,
          null,
          null,
          null,
          null
         ]
        },
        {
         "marker": {
          "color": "#16FF32",
          "line": {
           "color": "MediumPurple",
           "width": 2
          },
          "size": 7,
          "symbol": "5"
         },
         "mode": "markers",
         "name": "Bullish",
         "opacity": 1,
         "type": "scatter",
         "x": [
          "2022-07-10 03:00:00",
          "2022-07-10 07:00:00",
          "2022-07-10 11:00:00",
          "2022-07-10 15:00:00",
          "2022-07-10 19:00:00",
          "2022-07-10 23:00:00",
          "2022-07-11 03:00:00",
          "2022-07-11 07:00:00",
          "2022-07-11 11:00:00",
          "2022-07-11 15:00:00",
          "2022-07-11 19:00:00",
          "2022-07-11 23:00:00",
          "2022-07-12 03:00:00",
          "2022-07-12 07:00:00",
          "2022-07-12 11:00:00",
          "2022-07-12 15:00:00",
          "2022-07-12 19:00:00",
          "2022-07-12 23:00:00",
          "2022-07-13 03:00:00",
          "2022-07-13 07:00:00",
          "2022-07-13 11:00:00",
          "2022-07-13 15:00:00",
          "2022-07-13 19:00:00",
          "2022-07-13 23:00:00",
          "2022-07-14 03:00:00",
          "2022-07-14 07:00:00",
          "2022-07-14 11:00:00",
          "2022-07-14 15:00:00",
          "2022-07-14 19:00:00",
          "2022-07-14 23:00:00",
          "2022-07-15 03:00:00",
          "2022-07-15 07:00:00"
         ],
         "y": [
          21443.565000000002,
          null,
          null,
          null,
          null,
          null,
          null,
          null,
          null,
          null,
          null,
          20236.54,
          null,
          null,
          null,
          null,
          null,
          null,
          null,
          null,
          null,
          null,
          null,
          null,
          null,
          null,
          null,
          null,
          null,
          null,
          null,
          null
         ]
        }
       ],
       "layout": {
        "template": {
         "data": {
          "bar": [
           {
            "error_x": {
             "color": "#2a3f5f"
            },
            "error_y": {
             "color": "#2a3f5f"
            },
            "marker": {
             "line": {
              "color": "#E5ECF6",
              "width": 0.5
             },
             "pattern": {
              "fillmode": "overlay",
              "size": 10,
              "solidity": 0.2
             }
            },
            "type": "bar"
           }
          ],
          "barpolar": [
           {
            "marker": {
             "line": {
              "color": "#E5ECF6",
              "width": 0.5
             },
             "pattern": {
              "fillmode": "overlay",
              "size": 10,
              "solidity": 0.2
             }
            },
            "type": "barpolar"
           }
          ],
          "carpet": [
           {
            "aaxis": {
             "endlinecolor": "#2a3f5f",
             "gridcolor": "white",
             "linecolor": "white",
             "minorgridcolor": "white",
             "startlinecolor": "#2a3f5f"
            },
            "baxis": {
             "endlinecolor": "#2a3f5f",
             "gridcolor": "white",
             "linecolor": "white",
             "minorgridcolor": "white",
             "startlinecolor": "#2a3f5f"
            },
            "type": "carpet"
           }
          ],
          "choropleth": [
           {
            "colorbar": {
             "outlinewidth": 0,
             "ticks": ""
            },
            "type": "choropleth"
           }
          ],
          "contour": [
           {
            "colorbar": {
             "outlinewidth": 0,
             "ticks": ""
            },
            "colorscale": [
             [
              0,
              "#0d0887"
             ],
             [
              0.1111111111111111,
              "#46039f"
             ],
             [
              0.2222222222222222,
              "#7201a8"
             ],
             [
              0.3333333333333333,
              "#9c179e"
             ],
             [
              0.4444444444444444,
              "#bd3786"
             ],
             [
              0.5555555555555556,
              "#d8576b"
             ],
             [
              0.6666666666666666,
              "#ed7953"
             ],
             [
              0.7777777777777778,
              "#fb9f3a"
             ],
             [
              0.8888888888888888,
              "#fdca26"
             ],
             [
              1,
              "#f0f921"
             ]
            ],
            "type": "contour"
           }
          ],
          "contourcarpet": [
           {
            "colorbar": {
             "outlinewidth": 0,
             "ticks": ""
            },
            "type": "contourcarpet"
           }
          ],
          "heatmap": [
           {
            "colorbar": {
             "outlinewidth": 0,
             "ticks": ""
            },
            "colorscale": [
             [
              0,
              "#0d0887"
             ],
             [
              0.1111111111111111,
              "#46039f"
             ],
             [
              0.2222222222222222,
              "#7201a8"
             ],
             [
              0.3333333333333333,
              "#9c179e"
             ],
             [
              0.4444444444444444,
              "#bd3786"
             ],
             [
              0.5555555555555556,
              "#d8576b"
             ],
             [
              0.6666666666666666,
              "#ed7953"
             ],
             [
              0.7777777777777778,
              "#fb9f3a"
             ],
             [
              0.8888888888888888,
              "#fdca26"
             ],
             [
              1,
              "#f0f921"
             ]
            ],
            "type": "heatmap"
           }
          ],
          "heatmapgl": [
           {
            "colorbar": {
             "outlinewidth": 0,
             "ticks": ""
            },
            "colorscale": [
             [
              0,
              "#0d0887"
             ],
             [
              0.1111111111111111,
              "#46039f"
             ],
             [
              0.2222222222222222,
              "#7201a8"
             ],
             [
              0.3333333333333333,
              "#9c179e"
             ],
             [
              0.4444444444444444,
              "#bd3786"
             ],
             [
              0.5555555555555556,
              "#d8576b"
             ],
             [
              0.6666666666666666,
              "#ed7953"
             ],
             [
              0.7777777777777778,
              "#fb9f3a"
             ],
             [
              0.8888888888888888,
              "#fdca26"
             ],
             [
              1,
              "#f0f921"
             ]
            ],
            "type": "heatmapgl"
           }
          ],
          "histogram": [
           {
            "marker": {
             "pattern": {
              "fillmode": "overlay",
              "size": 10,
              "solidity": 0.2
             }
            },
            "type": "histogram"
           }
          ],
          "histogram2d": [
           {
            "colorbar": {
             "outlinewidth": 0,
             "ticks": ""
            },
            "colorscale": [
             [
              0,
              "#0d0887"
             ],
             [
              0.1111111111111111,
              "#46039f"
             ],
             [
              0.2222222222222222,
              "#7201a8"
             ],
             [
              0.3333333333333333,
              "#9c179e"
             ],
             [
              0.4444444444444444,
              "#bd3786"
             ],
             [
              0.5555555555555556,
              "#d8576b"
             ],
             [
              0.6666666666666666,
              "#ed7953"
             ],
             [
              0.7777777777777778,
              "#fb9f3a"
             ],
             [
              0.8888888888888888,
              "#fdca26"
             ],
             [
              1,
              "#f0f921"
             ]
            ],
            "type": "histogram2d"
           }
          ],
          "histogram2dcontour": [
           {
            "colorbar": {
             "outlinewidth": 0,
             "ticks": ""
            },
            "colorscale": [
             [
              0,
              "#0d0887"
             ],
             [
              0.1111111111111111,
              "#46039f"
             ],
             [
              0.2222222222222222,
              "#7201a8"
             ],
             [
              0.3333333333333333,
              "#9c179e"
             ],
             [
              0.4444444444444444,
              "#bd3786"
             ],
             [
              0.5555555555555556,
              "#d8576b"
             ],
             [
              0.6666666666666666,
              "#ed7953"
             ],
             [
              0.7777777777777778,
              "#fb9f3a"
             ],
             [
              0.8888888888888888,
              "#fdca26"
             ],
             [
              1,
              "#f0f921"
             ]
            ],
            "type": "histogram2dcontour"
           }
          ],
          "mesh3d": [
           {
            "colorbar": {
             "outlinewidth": 0,
             "ticks": ""
            },
            "type": "mesh3d"
           }
          ],
          "parcoords": [
           {
            "line": {
             "colorbar": {
              "outlinewidth": 0,
              "ticks": ""
             }
            },
            "type": "parcoords"
           }
          ],
          "pie": [
           {
            "automargin": true,
            "type": "pie"
           }
          ],
          "scatter": [
           {
            "fillpattern": {
             "fillmode": "overlay",
             "size": 10,
             "solidity": 0.2
            },
            "type": "scatter"
           }
          ],
          "scatter3d": [
           {
            "line": {
             "colorbar": {
              "outlinewidth": 0,
              "ticks": ""
             }
            },
            "marker": {
             "colorbar": {
              "outlinewidth": 0,
              "ticks": ""
             }
            },
            "type": "scatter3d"
           }
          ],
          "scattercarpet": [
           {
            "marker": {
             "colorbar": {
              "outlinewidth": 0,
              "ticks": ""
             }
            },
            "type": "scattercarpet"
           }
          ],
          "scattergeo": [
           {
            "marker": {
             "colorbar": {
              "outlinewidth": 0,
              "ticks": ""
             }
            },
            "type": "scattergeo"
           }
          ],
          "scattergl": [
           {
            "marker": {
             "colorbar": {
              "outlinewidth": 0,
              "ticks": ""
             }
            },
            "type": "scattergl"
           }
          ],
          "scattermapbox": [
           {
            "marker": {
             "colorbar": {
              "outlinewidth": 0,
              "ticks": ""
             }
            },
            "type": "scattermapbox"
           }
          ],
          "scatterpolar": [
           {
            "marker": {
             "colorbar": {
              "outlinewidth": 0,
              "ticks": ""
             }
            },
            "type": "scatterpolar"
           }
          ],
          "scatterpolargl": [
           {
            "marker": {
             "colorbar": {
              "outlinewidth": 0,
              "ticks": ""
             }
            },
            "type": "scatterpolargl"
           }
          ],
          "scatterternary": [
           {
            "marker": {
             "colorbar": {
              "outlinewidth": 0,
              "ticks": ""
             }
            },
            "type": "scatterternary"
           }
          ],
          "surface": [
           {
            "colorbar": {
             "outlinewidth": 0,
             "ticks": ""
            },
            "colorscale": [
             [
              0,
              "#0d0887"
             ],
             [
              0.1111111111111111,
              "#46039f"
             ],
             [
              0.2222222222222222,
              "#7201a8"
             ],
             [
              0.3333333333333333,
              "#9c179e"
             ],
             [
              0.4444444444444444,
              "#bd3786"
             ],
             [
              0.5555555555555556,
              "#d8576b"
             ],
             [
              0.6666666666666666,
              "#ed7953"
             ],
             [
              0.7777777777777778,
              "#fb9f3a"
             ],
             [
              0.8888888888888888,
              "#fdca26"
             ],
             [
              1,
              "#f0f921"
             ]
            ],
            "type": "surface"
           }
          ],
          "table": [
           {
            "cells": {
             "fill": {
              "color": "#EBF0F8"
             },
             "line": {
              "color": "white"
             }
            },
            "header": {
             "fill": {
              "color": "#C8D4E3"
             },
             "line": {
              "color": "white"
             }
            },
            "type": "table"
           }
          ]
         },
         "layout": {
          "annotationdefaults": {
           "arrowcolor": "#2a3f5f",
           "arrowhead": 0,
           "arrowwidth": 1
          },
          "autotypenumbers": "strict",
          "coloraxis": {
           "colorbar": {
            "outlinewidth": 0,
            "ticks": ""
           }
          },
          "colorscale": {
           "diverging": [
            [
             0,
             "#8e0152"
            ],
            [
             0.1,
             "#c51b7d"
            ],
            [
             0.2,
             "#de77ae"
            ],
            [
             0.3,
             "#f1b6da"
            ],
            [
             0.4,
             "#fde0ef"
            ],
            [
             0.5,
             "#f7f7f7"
            ],
            [
             0.6,
             "#e6f5d0"
            ],
            [
             0.7,
             "#b8e186"
            ],
            [
             0.8,
             "#7fbc41"
            ],
            [
             0.9,
             "#4d9221"
            ],
            [
             1,
             "#276419"
            ]
           ],
           "sequential": [
            [
             0,
             "#0d0887"
            ],
            [
             0.1111111111111111,
             "#46039f"
            ],
            [
             0.2222222222222222,
             "#7201a8"
            ],
            [
             0.3333333333333333,
             "#9c179e"
            ],
            [
             0.4444444444444444,
             "#bd3786"
            ],
            [
             0.5555555555555556,
             "#d8576b"
            ],
            [
             0.6666666666666666,
             "#ed7953"
            ],
            [
             0.7777777777777778,
             "#fb9f3a"
            ],
            [
             0.8888888888888888,
             "#fdca26"
            ],
            [
             1,
             "#f0f921"
            ]
           ],
           "sequentialminus": [
            [
             0,
             "#0d0887"
            ],
            [
             0.1111111111111111,
             "#46039f"
            ],
            [
             0.2222222222222222,
             "#7201a8"
            ],
            [
             0.3333333333333333,
             "#9c179e"
            ],
            [
             0.4444444444444444,
             "#bd3786"
            ],
            [
             0.5555555555555556,
             "#d8576b"
            ],
            [
             0.6666666666666666,
             "#ed7953"
            ],
            [
             0.7777777777777778,
             "#fb9f3a"
            ],
            [
             0.8888888888888888,
             "#fdca26"
            ],
            [
             1,
             "#f0f921"
            ]
           ]
          },
          "colorway": [
           "#636efa",
           "#EF553B",
           "#00cc96",
           "#ab63fa",
           "#FFA15A",
           "#19d3f3",
           "#FF6692",
           "#B6E880",
           "#FF97FF",
           "#FECB52"
          ],
          "font": {
           "color": "#2a3f5f"
          },
          "geo": {
           "bgcolor": "white",
           "lakecolor": "white",
           "landcolor": "#E5ECF6",
           "showlakes": true,
           "showland": true,
           "subunitcolor": "white"
          },
          "hoverlabel": {
           "align": "left"
          },
          "hovermode": "closest",
          "mapbox": {
           "style": "light"
          },
          "paper_bgcolor": "white",
          "plot_bgcolor": "#E5ECF6",
          "polar": {
           "angularaxis": {
            "gridcolor": "white",
            "linecolor": "white",
            "ticks": ""
           },
           "bgcolor": "#E5ECF6",
           "radialaxis": {
            "gridcolor": "white",
            "linecolor": "white",
            "ticks": ""
           }
          },
          "scene": {
           "xaxis": {
            "backgroundcolor": "#E5ECF6",
            "gridcolor": "white",
            "gridwidth": 2,
            "linecolor": "white",
            "showbackground": true,
            "ticks": "",
            "zerolinecolor": "white"
           },
           "yaxis": {
            "backgroundcolor": "#E5ECF6",
            "gridcolor": "white",
            "gridwidth": 2,
            "linecolor": "white",
            "showbackground": true,
            "ticks": "",
            "zerolinecolor": "white"
           },
           "zaxis": {
            "backgroundcolor": "#E5ECF6",
            "gridcolor": "white",
            "gridwidth": 2,
            "linecolor": "white",
            "showbackground": true,
            "ticks": "",
            "zerolinecolor": "white"
           }
          },
          "shapedefaults": {
           "line": {
            "color": "#2a3f5f"
           }
          },
          "ternary": {
           "aaxis": {
            "gridcolor": "white",
            "linecolor": "white",
            "ticks": ""
           },
           "baxis": {
            "gridcolor": "white",
            "linecolor": "white",
            "ticks": ""
           },
           "bgcolor": "#E5ECF6",
           "caxis": {
            "gridcolor": "white",
            "linecolor": "white",
            "ticks": ""
           }
          },
          "title": {
           "x": 0.05
          },
          "xaxis": {
           "automargin": true,
           "gridcolor": "white",
           "linecolor": "white",
           "ticks": "",
           "title": {
            "standoff": 15
           },
           "zerolinecolor": "white",
           "zerolinewidth": 2
          },
          "yaxis": {
           "automargin": true,
           "gridcolor": "white",
           "linecolor": "white",
           "ticks": "",
           "title": {
            "standoff": 15
           },
           "zerolinecolor": "white",
           "zerolinewidth": 2
          }
         }
        },
        "title": {
         "text": "Hikkake Pattern"
        },
        "xaxis": {
         "rangeslider": {
          "visible": false
         }
        }
       }
      },
      "text/html": [
       "<div>                            <div id=\"5b741b2c-43bb-4d34-a307-4dd63cadd508\" class=\"plotly-graph-div\" style=\"height:525px; width:100%;\"></div>            <script type=\"text/javascript\">                require([\"plotly\"], function(Plotly) {                    window.PLOTLYENV=window.PLOTLYENV || {};                                    if (document.getElementById(\"5b741b2c-43bb-4d34-a307-4dd63cadd508\")) {                    Plotly.newPlot(                        \"5b741b2c-43bb-4d34-a307-4dd63cadd508\",                        [{\"close\":[21294.98,21338.12,21301.84,20899.76,20920.54,20862.47,20540.69,20439.91,20473.06,20437.44,20509.47,19963.61,19942.33,19730.99,19773.9,19886.33,19398.74,19328.75,19473.68,19705.25,19843.89,19456.2,19652.15,20234.87,20224.24,19990.72,19738.13,20390.5,20605.75,20588.84,20611.83,20633.01],\"high\":[21607.65,21373.48,21424.67,21345.14,21052.47,21180.92,20868.48,20606.11,20632.59,20762.02,20716.29,20565.05,20006.54,20059.42,19836.6,20010.0,20007.23,19555.0,19582.51,19875.0,19930.0,20128.39,20046.15,20366.61,20435.72,20276.9,20057.03,20466.0,20900.0,20720.0,20833.0,20705.62],\"low\":[21091.81,21161.36,21161.67,20835.73,20655.0,20698.9,20453.36,20353.72,20411.56,20271.1,20400.0,19875.23,19786.46,19620.0,19558.12,19695.3,19278.0,19240.0,19265.4,19420.0,19670.02,18910.94,19230.0,19584.37,20164.06,19894.76,19635.22,19616.07,20143.96,20438.12,20382.29,20494.29],\"name\":\"Price\",\"opacity\":0.5,\"open\":[21592.15,21295.76,21339.46,21301.84,20898.44,20921.4,20861.11,20540.68,20439.17,20474.55,20440.0,20509.47,19963.61,19942.33,19731.0,19775.56,19886.33,19398.74,19331.28,19473.68,19707.06,19845.33,19454.99,19652.15,20234.87,20224.24,19990.72,19738.13,20390.0,20608.36,20588.84,20613.21],\"x\":[\"2022-07-10 03:00:00\",\"2022-07-10 07:00:00\",\"2022-07-10 11:00:00\",\"2022-07-10 15:00:00\",\"2022-07-10 19:00:00\",\"2022-07-10 23:00:00\",\"2022-07-11 03:00:00\",\"2022-07-11 07:00:00\",\"2022-07-11 11:00:00\",\"2022-07-11 15:00:00\",\"2022-07-11 19:00:00\",\"2022-07-11 23:00:00\",\"2022-07-12 03:00:00\",\"2022-07-12 07:00:00\",\"2022-07-12 11:00:00\",\"2022-07-12 15:00:00\",\"2022-07-12 19:00:00\",\"2022-07-12 23:00:00\",\"2022-07-13 03:00:00\",\"2022-07-13 07:00:00\",\"2022-07-13 11:00:00\",\"2022-07-13 15:00:00\",\"2022-07-13 19:00:00\",\"2022-07-13 23:00:00\",\"2022-07-14 03:00:00\",\"2022-07-14 07:00:00\",\"2022-07-14 11:00:00\",\"2022-07-14 15:00:00\",\"2022-07-14 19:00:00\",\"2022-07-14 23:00:00\",\"2022-07-15 03:00:00\",\"2022-07-15 07:00:00\"],\"type\":\"candlestick\"},{\"marker\":{\"color\":\"#16FF32\",\"line\":{\"color\":\"MediumPurple\",\"width\":2},\"size\":7,\"symbol\":\"6\"},\"mode\":\"markers\",\"name\":\"Bearish\",\"opacity\":1,\"x\":[\"2022-07-10 03:00:00\",\"2022-07-10 07:00:00\",\"2022-07-10 11:00:00\",\"2022-07-10 15:00:00\",\"2022-07-10 19:00:00\",\"2022-07-10 23:00:00\",\"2022-07-11 03:00:00\",\"2022-07-11 07:00:00\",\"2022-07-11 11:00:00\",\"2022-07-11 15:00:00\",\"2022-07-11 19:00:00\",\"2022-07-11 23:00:00\",\"2022-07-12 03:00:00\",\"2022-07-12 07:00:00\",\"2022-07-12 11:00:00\",\"2022-07-12 15:00:00\",\"2022-07-12 19:00:00\",\"2022-07-12 23:00:00\",\"2022-07-13 03:00:00\",\"2022-07-13 07:00:00\",\"2022-07-13 11:00:00\",\"2022-07-13 15:00:00\",\"2022-07-13 19:00:00\",\"2022-07-13 23:00:00\",\"2022-07-14 03:00:00\",\"2022-07-14 07:00:00\",\"2022-07-14 11:00:00\",\"2022-07-14 15:00:00\",\"2022-07-14 19:00:00\",\"2022-07-14 23:00:00\",\"2022-07-15 03:00:00\",\"2022-07-15 07:00:00\"],\"y\":[null,null,21320.65,null,null,null,null,null,null,null,null,null,null,null,null,null,null,null,null,null,null,null,null,19943.510000000002,null,null,null,null,null,null,null,null],\"type\":\"scatter\"},{\"marker\":{\"color\":\"#16FF32\",\"line\":{\"color\":\"MediumPurple\",\"width\":2},\"size\":7,\"symbol\":\"5\"},\"mode\":\"markers\",\"name\":\"Bullish\",\"opacity\":1,\"x\":[\"2022-07-10 03:00:00\",\"2022-07-10 07:00:00\",\"2022-07-10 11:00:00\",\"2022-07-10 15:00:00\",\"2022-07-10 19:00:00\",\"2022-07-10 23:00:00\",\"2022-07-11 03:00:00\",\"2022-07-11 07:00:00\",\"2022-07-11 11:00:00\",\"2022-07-11 15:00:00\",\"2022-07-11 19:00:00\",\"2022-07-11 23:00:00\",\"2022-07-12 03:00:00\",\"2022-07-12 07:00:00\",\"2022-07-12 11:00:00\",\"2022-07-12 15:00:00\",\"2022-07-12 19:00:00\",\"2022-07-12 23:00:00\",\"2022-07-13 03:00:00\",\"2022-07-13 07:00:00\",\"2022-07-13 11:00:00\",\"2022-07-13 15:00:00\",\"2022-07-13 19:00:00\",\"2022-07-13 23:00:00\",\"2022-07-14 03:00:00\",\"2022-07-14 07:00:00\",\"2022-07-14 11:00:00\",\"2022-07-14 15:00:00\",\"2022-07-14 19:00:00\",\"2022-07-14 23:00:00\",\"2022-07-15 03:00:00\",\"2022-07-15 07:00:00\"],\"y\":[21443.565000000002,null,null,null,null,null,null,null,null,null,null,20236.54,null,null,null,null,null,null,null,null,null,null,null,null,null,null,null,null,null,null,null,null],\"type\":\"scatter\"}],                        {\"template\":{\"data\":{\"barpolar\":[{\"marker\":{\"line\":{\"color\":\"#E5ECF6\",\"width\":0.5},\"pattern\":{\"fillmode\":\"overlay\",\"size\":10,\"solidity\":0.2}},\"type\":\"barpolar\"}],\"bar\":[{\"error_x\":{\"color\":\"#2a3f5f\"},\"error_y\":{\"color\":\"#2a3f5f\"},\"marker\":{\"line\":{\"color\":\"#E5ECF6\",\"width\":0.5},\"pattern\":{\"fillmode\":\"overlay\",\"size\":10,\"solidity\":0.2}},\"type\":\"bar\"}],\"carpet\":[{\"aaxis\":{\"endlinecolor\":\"#2a3f5f\",\"gridcolor\":\"white\",\"linecolor\":\"white\",\"minorgridcolor\":\"white\",\"startlinecolor\":\"#2a3f5f\"},\"baxis\":{\"endlinecolor\":\"#2a3f5f\",\"gridcolor\":\"white\",\"linecolor\":\"white\",\"minorgridcolor\":\"white\",\"startlinecolor\":\"#2a3f5f\"},\"type\":\"carpet\"}],\"choropleth\":[{\"colorbar\":{\"outlinewidth\":0,\"ticks\":\"\"},\"type\":\"choropleth\"}],\"contourcarpet\":[{\"colorbar\":{\"outlinewidth\":0,\"ticks\":\"\"},\"type\":\"contourcarpet\"}],\"contour\":[{\"colorbar\":{\"outlinewidth\":0,\"ticks\":\"\"},\"colorscale\":[[0.0,\"#0d0887\"],[0.1111111111111111,\"#46039f\"],[0.2222222222222222,\"#7201a8\"],[0.3333333333333333,\"#9c179e\"],[0.4444444444444444,\"#bd3786\"],[0.5555555555555556,\"#d8576b\"],[0.6666666666666666,\"#ed7953\"],[0.7777777777777778,\"#fb9f3a\"],[0.8888888888888888,\"#fdca26\"],[1.0,\"#f0f921\"]],\"type\":\"contour\"}],\"heatmapgl\":[{\"colorbar\":{\"outlinewidth\":0,\"ticks\":\"\"},\"colorscale\":[[0.0,\"#0d0887\"],[0.1111111111111111,\"#46039f\"],[0.2222222222222222,\"#7201a8\"],[0.3333333333333333,\"#9c179e\"],[0.4444444444444444,\"#bd3786\"],[0.5555555555555556,\"#d8576b\"],[0.6666666666666666,\"#ed7953\"],[0.7777777777777778,\"#fb9f3a\"],[0.8888888888888888,\"#fdca26\"],[1.0,\"#f0f921\"]],\"type\":\"heatmapgl\"}],\"heatmap\":[{\"colorbar\":{\"outlinewidth\":0,\"ticks\":\"\"},\"colorscale\":[[0.0,\"#0d0887\"],[0.1111111111111111,\"#46039f\"],[0.2222222222222222,\"#7201a8\"],[0.3333333333333333,\"#9c179e\"],[0.4444444444444444,\"#bd3786\"],[0.5555555555555556,\"#d8576b\"],[0.6666666666666666,\"#ed7953\"],[0.7777777777777778,\"#fb9f3a\"],[0.8888888888888888,\"#fdca26\"],[1.0,\"#f0f921\"]],\"type\":\"heatmap\"}],\"histogram2dcontour\":[{\"colorbar\":{\"outlinewidth\":0,\"ticks\":\"\"},\"colorscale\":[[0.0,\"#0d0887\"],[0.1111111111111111,\"#46039f\"],[0.2222222222222222,\"#7201a8\"],[0.3333333333333333,\"#9c179e\"],[0.4444444444444444,\"#bd3786\"],[0.5555555555555556,\"#d8576b\"],[0.6666666666666666,\"#ed7953\"],[0.7777777777777778,\"#fb9f3a\"],[0.8888888888888888,\"#fdca26\"],[1.0,\"#f0f921\"]],\"type\":\"histogram2dcontour\"}],\"histogram2d\":[{\"colorbar\":{\"outlinewidth\":0,\"ticks\":\"\"},\"colorscale\":[[0.0,\"#0d0887\"],[0.1111111111111111,\"#46039f\"],[0.2222222222222222,\"#7201a8\"],[0.3333333333333333,\"#9c179e\"],[0.4444444444444444,\"#bd3786\"],[0.5555555555555556,\"#d8576b\"],[0.6666666666666666,\"#ed7953\"],[0.7777777777777778,\"#fb9f3a\"],[0.8888888888888888,\"#fdca26\"],[1.0,\"#f0f921\"]],\"type\":\"histogram2d\"}],\"histogram\":[{\"marker\":{\"pattern\":{\"fillmode\":\"overlay\",\"size\":10,\"solidity\":0.2}},\"type\":\"histogram\"}],\"mesh3d\":[{\"colorbar\":{\"outlinewidth\":0,\"ticks\":\"\"},\"type\":\"mesh3d\"}],\"parcoords\":[{\"line\":{\"colorbar\":{\"outlinewidth\":0,\"ticks\":\"\"}},\"type\":\"parcoords\"}],\"pie\":[{\"automargin\":true,\"type\":\"pie\"}],\"scatter3d\":[{\"line\":{\"colorbar\":{\"outlinewidth\":0,\"ticks\":\"\"}},\"marker\":{\"colorbar\":{\"outlinewidth\":0,\"ticks\":\"\"}},\"type\":\"scatter3d\"}],\"scattercarpet\":[{\"marker\":{\"colorbar\":{\"outlinewidth\":0,\"ticks\":\"\"}},\"type\":\"scattercarpet\"}],\"scattergeo\":[{\"marker\":{\"colorbar\":{\"outlinewidth\":0,\"ticks\":\"\"}},\"type\":\"scattergeo\"}],\"scattergl\":[{\"marker\":{\"colorbar\":{\"outlinewidth\":0,\"ticks\":\"\"}},\"type\":\"scattergl\"}],\"scattermapbox\":[{\"marker\":{\"colorbar\":{\"outlinewidth\":0,\"ticks\":\"\"}},\"type\":\"scattermapbox\"}],\"scatterpolargl\":[{\"marker\":{\"colorbar\":{\"outlinewidth\":0,\"ticks\":\"\"}},\"type\":\"scatterpolargl\"}],\"scatterpolar\":[{\"marker\":{\"colorbar\":{\"outlinewidth\":0,\"ticks\":\"\"}},\"type\":\"scatterpolar\"}],\"scatter\":[{\"fillpattern\":{\"fillmode\":\"overlay\",\"size\":10,\"solidity\":0.2},\"type\":\"scatter\"}],\"scatterternary\":[{\"marker\":{\"colorbar\":{\"outlinewidth\":0,\"ticks\":\"\"}},\"type\":\"scatterternary\"}],\"surface\":[{\"colorbar\":{\"outlinewidth\":0,\"ticks\":\"\"},\"colorscale\":[[0.0,\"#0d0887\"],[0.1111111111111111,\"#46039f\"],[0.2222222222222222,\"#7201a8\"],[0.3333333333333333,\"#9c179e\"],[0.4444444444444444,\"#bd3786\"],[0.5555555555555556,\"#d8576b\"],[0.6666666666666666,\"#ed7953\"],[0.7777777777777778,\"#fb9f3a\"],[0.8888888888888888,\"#fdca26\"],[1.0,\"#f0f921\"]],\"type\":\"surface\"}],\"table\":[{\"cells\":{\"fill\":{\"color\":\"#EBF0F8\"},\"line\":{\"color\":\"white\"}},\"header\":{\"fill\":{\"color\":\"#C8D4E3\"},\"line\":{\"color\":\"white\"}},\"type\":\"table\"}]},\"layout\":{\"annotationdefaults\":{\"arrowcolor\":\"#2a3f5f\",\"arrowhead\":0,\"arrowwidth\":1},\"autotypenumbers\":\"strict\",\"coloraxis\":{\"colorbar\":{\"outlinewidth\":0,\"ticks\":\"\"}},\"colorscale\":{\"diverging\":[[0,\"#8e0152\"],[0.1,\"#c51b7d\"],[0.2,\"#de77ae\"],[0.3,\"#f1b6da\"],[0.4,\"#fde0ef\"],[0.5,\"#f7f7f7\"],[0.6,\"#e6f5d0\"],[0.7,\"#b8e186\"],[0.8,\"#7fbc41\"],[0.9,\"#4d9221\"],[1,\"#276419\"]],\"sequential\":[[0.0,\"#0d0887\"],[0.1111111111111111,\"#46039f\"],[0.2222222222222222,\"#7201a8\"],[0.3333333333333333,\"#9c179e\"],[0.4444444444444444,\"#bd3786\"],[0.5555555555555556,\"#d8576b\"],[0.6666666666666666,\"#ed7953\"],[0.7777777777777778,\"#fb9f3a\"],[0.8888888888888888,\"#fdca26\"],[1.0,\"#f0f921\"]],\"sequentialminus\":[[0.0,\"#0d0887\"],[0.1111111111111111,\"#46039f\"],[0.2222222222222222,\"#7201a8\"],[0.3333333333333333,\"#9c179e\"],[0.4444444444444444,\"#bd3786\"],[0.5555555555555556,\"#d8576b\"],[0.6666666666666666,\"#ed7953\"],[0.7777777777777778,\"#fb9f3a\"],[0.8888888888888888,\"#fdca26\"],[1.0,\"#f0f921\"]]},\"colorway\":[\"#636efa\",\"#EF553B\",\"#00cc96\",\"#ab63fa\",\"#FFA15A\",\"#19d3f3\",\"#FF6692\",\"#B6E880\",\"#FF97FF\",\"#FECB52\"],\"font\":{\"color\":\"#2a3f5f\"},\"geo\":{\"bgcolor\":\"white\",\"lakecolor\":\"white\",\"landcolor\":\"#E5ECF6\",\"showlakes\":true,\"showland\":true,\"subunitcolor\":\"white\"},\"hoverlabel\":{\"align\":\"left\"},\"hovermode\":\"closest\",\"mapbox\":{\"style\":\"light\"},\"paper_bgcolor\":\"white\",\"plot_bgcolor\":\"#E5ECF6\",\"polar\":{\"angularaxis\":{\"gridcolor\":\"white\",\"linecolor\":\"white\",\"ticks\":\"\"},\"bgcolor\":\"#E5ECF6\",\"radialaxis\":{\"gridcolor\":\"white\",\"linecolor\":\"white\",\"ticks\":\"\"}},\"scene\":{\"xaxis\":{\"backgroundcolor\":\"#E5ECF6\",\"gridcolor\":\"white\",\"gridwidth\":2,\"linecolor\":\"white\",\"showbackground\":true,\"ticks\":\"\",\"zerolinecolor\":\"white\"},\"yaxis\":{\"backgroundcolor\":\"#E5ECF6\",\"gridcolor\":\"white\",\"gridwidth\":2,\"linecolor\":\"white\",\"showbackground\":true,\"ticks\":\"\",\"zerolinecolor\":\"white\"},\"zaxis\":{\"backgroundcolor\":\"#E5ECF6\",\"gridcolor\":\"white\",\"gridwidth\":2,\"linecolor\":\"white\",\"showbackground\":true,\"ticks\":\"\",\"zerolinecolor\":\"white\"}},\"shapedefaults\":{\"line\":{\"color\":\"#2a3f5f\"}},\"ternary\":{\"aaxis\":{\"gridcolor\":\"white\",\"linecolor\":\"white\",\"ticks\":\"\"},\"baxis\":{\"gridcolor\":\"white\",\"linecolor\":\"white\",\"ticks\":\"\"},\"bgcolor\":\"#E5ECF6\",\"caxis\":{\"gridcolor\":\"white\",\"linecolor\":\"white\",\"ticks\":\"\"}},\"title\":{\"x\":0.05},\"xaxis\":{\"automargin\":true,\"gridcolor\":\"white\",\"linecolor\":\"white\",\"ticks\":\"\",\"title\":{\"standoff\":15},\"zerolinecolor\":\"white\",\"zerolinewidth\":2},\"yaxis\":{\"automargin\":true,\"gridcolor\":\"white\",\"linecolor\":\"white\",\"ticks\":\"\",\"title\":{\"standoff\":15},\"zerolinecolor\":\"white\",\"zerolinewidth\":2}}},\"title\":{\"text\":\"Hikkake Pattern\"},\"xaxis\":{\"rangeslider\":{\"visible\":false}}},                        {\"responsive\": true}                    ).then(function(){\n",
       "                            \n",
       "var gd = document.getElementById('5b741b2c-43bb-4d34-a307-4dd63cadd508');\n",
       "var x = new MutationObserver(function (mutations, observer) {{\n",
       "        var display = window.getComputedStyle(gd).display;\n",
       "        if (!display || display === 'none') {{\n",
       "            console.log([gd, 'removed!']);\n",
       "            Plotly.purge(gd);\n",
       "            observer.disconnect();\n",
       "        }}\n",
       "}});\n",
       "\n",
       "// Listen for the removal of the full notebook cells\n",
       "var notebookContainer = gd.closest('#notebook-container');\n",
       "if (notebookContainer) {{\n",
       "    x.observe(notebookContainer, {childList: true});\n",
       "}}\n",
       "\n",
       "// Listen for the clearing of the current output cell\n",
       "var outputEl = gd.closest('.output');\n",
       "if (outputEl) {{\n",
       "    x.observe(outputEl, {childList: true});\n",
       "}}\n",
       "\n",
       "                        })                };                });            </script>        </div>"
      ]
     },
     "metadata": {},
     "output_type": "display_data"
    }
   ],
   "source": [
    "fig = go.Figure()\n",
    "\n",
    "fig.add_trace(go.Candlestick(x=hikkake_pattern_plot['Time'],\n",
    "                             open=hikkake_pattern_plot['Open'],\n",
    "                             high=hikkake_pattern_plot['High'],\n",
    "                             low=hikkake_pattern_plot['Low'],\n",
    "                             close=hikkake_pattern_plot['Close'], name=\"Price\", opacity=0.5))\n",
    "\n",
    "\n",
    "fig.add_trace(go.Scatter(x=hikkake_pattern_plot['Time'], \n",
    "                         y=hikkake_pattern_plot['hikkake_pattern_bearish_dot'],\n",
    "                         opacity=1, mode='markers', marker=dict(color='#16FF32', symbol='6', size=7, line=dict(color='MediumPurple',width=2)),\n",
    "                         name=\"Bearish\"))\n",
    "\n",
    "fig.add_trace(go.Scatter(x=hikkake_pattern_plot['Time'], \n",
    "                         y=hikkake_pattern_plot['hikkake_pattern_bullish_dot'],\n",
    "                         opacity=1, mode='markers', marker=dict(color='#16FF32', symbol='5', size=7, line=dict(color='MediumPurple',width=2)),\n",
    "                         name=\"Bullish\"))\n",
    "\n",
    "fig.update_layout(xaxis_rangeslider_visible=False, title = 'Hikkake Pattern')\n",
    "iplot(fig, show_link=False)"
   ]
  },
  {
   "cell_type": "markdown",
   "id": "0a1d2b07",
   "metadata": {},
   "source": [
    "![pattern](https://lh4.googleusercontent.com/8iJ4BLEW0TiGaTcJOw5CBnHoUbIj4Q7rFBjlDX7Db_c3ytDK27GhZYZcvhqWSCaALRhzWirxZVuA670FnzyTfcYJd8p_FKVI2FiPN3l20BNndt4HZnrfz3uIMJaZFwzMiwhmG5taLWOk8Yi6gZrD4Rs)"
   ]
  },
  {
   "cell_type": "markdown",
   "id": "fc4b4cb5",
   "metadata": {},
   "source": [
    "Bullish pattern worked in 52.53% and bearish - in 54.24%. The main problem with hikkake pattern is that it is trying to detect a short-term trend in the opposite direction from the global trend."
   ]
  },
  {
   "cell_type": "code",
   "execution_count": 42,
   "id": "394ed8ea",
   "metadata": {},
   "outputs": [
    {
     "name": "stdout",
     "output_type": "stream",
     "text": [
      "All bullish alerts: 198,  and percentage of good bull alerts 52.53%\n"
     ]
    }
   ],
   "source": [
    "plus_bull_trades = 0\n",
    "trade_count = 0\n",
    "for i, row in hikkake_pattern.iterrows():\n",
    "    if row['CDLHIKKAKE'] == 'Bullish':\n",
    "        difference = hikkake_pattern['Close'].iloc[i + 1] - hikkake_pattern['Close'].iloc[i]\n",
    "        trade_count += 1\n",
    "        if difference > 0:\n",
    "            plus_bull_trades += 1\n",
    "\n",
    "print(f'All bullish alerts: {trade_count},  and percentage of good bull alerts {(plus_bull_trades / trade_count):.2%}')"
   ]
  },
  {
   "cell_type": "code",
   "execution_count": 43,
   "id": "61fc6f6b",
   "metadata": {},
   "outputs": [
    {
     "name": "stdout",
     "output_type": "stream",
     "text": [
      "All bearish alerts: 236 and percentage of good bear alerts 54.24%\n"
     ]
    }
   ],
   "source": [
    "plus_bear_trades = 0\n",
    "trade_count = 0\n",
    "for i, row in hikkake_pattern.iterrows():\n",
    "    if row['CDLHIKKAKE'] == 'Bearish':\n",
    "        difference = hikkake_pattern['Close'].iloc[i] - hikkake_pattern['Close'].iloc[i + 1]\n",
    "        trade_count += 1\n",
    "        if difference > 0:\n",
    "            plus_bear_trades += 1\n",
    "            \n",
    "print(f'All bearish alerts: {trade_count} and percentage of good bear alerts {(plus_bear_trades / trade_count):.2%}')"
   ]
  },
  {
   "cell_type": "markdown",
   "id": "58444d2b",
   "metadata": {},
   "source": [
    "### Gravestone doji\n",
    "\n",
    "Bearish pattern that suggests a reversal followed by a downtrend in the price action.\n",
    "- A gravestone doji is a bearish reversal candlestick pattern that is formed when the open, low, and closing prices are all near each other with a long upper shadow.\n",
    "\n",
    "\n",
    "#### In Ta-lib its marked as \"bullish\" plus it doesnt look exactly like Gravestone doji from TA literature. But it can stay because these kind of candlestick can be informative combined with other patterns"
   ]
  },
  {
   "cell_type": "code",
   "execution_count": 44,
   "id": "73f67667",
   "metadata": {},
   "outputs": [],
   "source": [
    "gravestone_doji = new_df(price, 'CDLGRAVESTONEDOJI')"
   ]
  },
  {
   "cell_type": "code",
   "execution_count": 45,
   "id": "ff6c93c8",
   "metadata": {},
   "outputs": [
    {
     "data": {
      "text/html": [
       "<div>\n",
       "<style scoped>\n",
       "    .dataframe tbody tr th:only-of-type {\n",
       "        vertical-align: middle;\n",
       "    }\n",
       "\n",
       "    .dataframe tbody tr th {\n",
       "        vertical-align: top;\n",
       "    }\n",
       "\n",
       "    .dataframe thead th {\n",
       "        text-align: right;\n",
       "    }\n",
       "</style>\n",
       "<table border=\"1\" class=\"dataframe\">\n",
       "  <thead>\n",
       "    <tr style=\"text-align: right;\">\n",
       "      <th></th>\n",
       "      <th>Time</th>\n",
       "      <th>Open</th>\n",
       "      <th>High</th>\n",
       "      <th>Low</th>\n",
       "      <th>Close</th>\n",
       "      <th>CDLGRAVESTONEDOJI</th>\n",
       "      <th>year_week</th>\n",
       "    </tr>\n",
       "  </thead>\n",
       "  <tbody>\n",
       "    <tr>\n",
       "      <th>62</th>\n",
       "      <td>2021-01-11 11:00:00</td>\n",
       "      <td>34372.25</td>\n",
       "      <td>36360.00</td>\n",
       "      <td>34020.00</td>\n",
       "      <td>34198.56</td>\n",
       "      <td>Bullish</td>\n",
       "      <td>2021-02</td>\n",
       "    </tr>\n",
       "    <tr>\n",
       "      <th>100</th>\n",
       "      <td>2021-01-17 19:00:00</td>\n",
       "      <td>35728.47</td>\n",
       "      <td>36166.47</td>\n",
       "      <td>35514.99</td>\n",
       "      <td>35633.91</td>\n",
       "      <td>Bullish</td>\n",
       "      <td>2021-03</td>\n",
       "    </tr>\n",
       "    <tr>\n",
       "      <th>192</th>\n",
       "      <td>2021-02-02 03:00:00</td>\n",
       "      <td>33517.09</td>\n",
       "      <td>34161.39</td>\n",
       "      <td>33418.00</td>\n",
       "      <td>33550.32</td>\n",
       "      <td>Bullish</td>\n",
       "      <td>2021-05</td>\n",
       "    </tr>\n",
       "    <tr>\n",
       "      <th>257</th>\n",
       "      <td>2021-02-12 23:00:00</td>\n",
       "      <td>47272.96</td>\n",
       "      <td>48150.00</td>\n",
       "      <td>47140.26</td>\n",
       "      <td>47287.60</td>\n",
       "      <td>Bullish</td>\n",
       "      <td>2021-06</td>\n",
       "    </tr>\n",
       "    <tr>\n",
       "      <th>288</th>\n",
       "      <td>2021-02-18 03:00:00</td>\n",
       "      <td>52117.67</td>\n",
       "      <td>52530.00</td>\n",
       "      <td>51933.24</td>\n",
       "      <td>52032.64</td>\n",
       "      <td>Bullish</td>\n",
       "      <td>2021-07</td>\n",
       "    </tr>\n",
       "    <tr>\n",
       "      <th>326</th>\n",
       "      <td>2021-02-24 11:00:00</td>\n",
       "      <td>50090.61</td>\n",
       "      <td>51374.99</td>\n",
       "      <td>49799.29</td>\n",
       "      <td>50360.02</td>\n",
       "      <td>Bullish</td>\n",
       "      <td>2021-08</td>\n",
       "    </tr>\n",
       "    <tr>\n",
       "      <th>500</th>\n",
       "      <td>2021-03-25 11:00:00</td>\n",
       "      <td>52270.72</td>\n",
       "      <td>53160.85</td>\n",
       "      <td>52101.00</td>\n",
       "      <td>52163.19</td>\n",
       "      <td>Bullish</td>\n",
       "      <td>2021-12</td>\n",
       "    </tr>\n",
       "    <tr>\n",
       "      <th>515</th>\n",
       "      <td>2021-03-27 23:00:00</td>\n",
       "      <td>55765.01</td>\n",
       "      <td>56700.36</td>\n",
       "      <td>55675.00</td>\n",
       "      <td>55817.14</td>\n",
       "      <td>Bullish</td>\n",
       "      <td>2021-12</td>\n",
       "    </tr>\n",
       "    <tr>\n",
       "      <th>553</th>\n",
       "      <td>2021-04-03 07:00:00</td>\n",
       "      <td>59221.52</td>\n",
       "      <td>59531.74</td>\n",
       "      <td>59180.00</td>\n",
       "      <td>59298.85</td>\n",
       "      <td>Bullish</td>\n",
       "      <td>2021-13</td>\n",
       "    </tr>\n",
       "    <tr>\n",
       "      <th>795</th>\n",
       "      <td>2021-05-13 15:00:00</td>\n",
       "      <td>49777.01</td>\n",
       "      <td>50884.34</td>\n",
       "      <td>49458.68</td>\n",
       "      <td>49627.64</td>\n",
       "      <td>Bullish</td>\n",
       "      <td>2021-19</td>\n",
       "    </tr>\n",
       "    <tr>\n",
       "      <th>840</th>\n",
       "      <td>2021-05-21 03:00:00</td>\n",
       "      <td>40525.39</td>\n",
       "      <td>42200.00</td>\n",
       "      <td>40408.84</td>\n",
       "      <td>40666.91</td>\n",
       "      <td>Bullish</td>\n",
       "      <td>2021-20</td>\n",
       "    </tr>\n",
       "    <tr>\n",
       "      <th>851</th>\n",
       "      <td>2021-05-22 23:00:00</td>\n",
       "      <td>37286.65</td>\n",
       "      <td>38400.00</td>\n",
       "      <td>37268.76</td>\n",
       "      <td>37449.73</td>\n",
       "      <td>Bullish</td>\n",
       "      <td>2021-20</td>\n",
       "    </tr>\n",
       "    <tr>\n",
       "      <th>1004</th>\n",
       "      <td>2021-06-17 11:00:00</td>\n",
       "      <td>39208.67</td>\n",
       "      <td>39559.88</td>\n",
       "      <td>39057.27</td>\n",
       "      <td>39146.36</td>\n",
       "      <td>Bullish</td>\n",
       "      <td>2021-24</td>\n",
       "    </tr>\n",
       "    <tr>\n",
       "      <th>1047</th>\n",
       "      <td>2021-06-24 15:00:00</td>\n",
       "      <td>33850.78</td>\n",
       "      <td>34583.58</td>\n",
       "      <td>33756.04</td>\n",
       "      <td>33886.52</td>\n",
       "      <td>Bullish</td>\n",
       "      <td>2021-25</td>\n",
       "    </tr>\n",
       "    <tr>\n",
       "      <th>1375</th>\n",
       "      <td>2021-08-18 07:00:00</td>\n",
       "      <td>45055.78</td>\n",
       "      <td>45500.00</td>\n",
       "      <td>44853.80</td>\n",
       "      <td>44951.32</td>\n",
       "      <td>Bullish</td>\n",
       "      <td>2021-33</td>\n",
       "    </tr>\n",
       "  </tbody>\n",
       "</table>\n",
       "</div>"
      ],
      "text/plain": [
       "                     Time      Open      High       Low     Close  \\\n",
       "62    2021-01-11 11:00:00  34372.25  36360.00  34020.00  34198.56   \n",
       "100   2021-01-17 19:00:00  35728.47  36166.47  35514.99  35633.91   \n",
       "192   2021-02-02 03:00:00  33517.09  34161.39  33418.00  33550.32   \n",
       "257   2021-02-12 23:00:00  47272.96  48150.00  47140.26  47287.60   \n",
       "288   2021-02-18 03:00:00  52117.67  52530.00  51933.24  52032.64   \n",
       "326   2021-02-24 11:00:00  50090.61  51374.99  49799.29  50360.02   \n",
       "500   2021-03-25 11:00:00  52270.72  53160.85  52101.00  52163.19   \n",
       "515   2021-03-27 23:00:00  55765.01  56700.36  55675.00  55817.14   \n",
       "553   2021-04-03 07:00:00  59221.52  59531.74  59180.00  59298.85   \n",
       "795   2021-05-13 15:00:00  49777.01  50884.34  49458.68  49627.64   \n",
       "840   2021-05-21 03:00:00  40525.39  42200.00  40408.84  40666.91   \n",
       "851   2021-05-22 23:00:00  37286.65  38400.00  37268.76  37449.73   \n",
       "1004  2021-06-17 11:00:00  39208.67  39559.88  39057.27  39146.36   \n",
       "1047  2021-06-24 15:00:00  33850.78  34583.58  33756.04  33886.52   \n",
       "1375  2021-08-18 07:00:00  45055.78  45500.00  44853.80  44951.32   \n",
       "\n",
       "     CDLGRAVESTONEDOJI year_week  \n",
       "62             Bullish   2021-02  \n",
       "100            Bullish   2021-03  \n",
       "192            Bullish   2021-05  \n",
       "257            Bullish   2021-06  \n",
       "288            Bullish   2021-07  \n",
       "326            Bullish   2021-08  \n",
       "500            Bullish   2021-12  \n",
       "515            Bullish   2021-12  \n",
       "553            Bullish   2021-13  \n",
       "795            Bullish   2021-19  \n",
       "840            Bullish   2021-20  \n",
       "851            Bullish   2021-20  \n",
       "1004           Bullish   2021-24  \n",
       "1047           Bullish   2021-25  \n",
       "1375           Bullish   2021-33  "
      ]
     },
     "execution_count": 45,
     "metadata": {},
     "output_type": "execute_result"
    }
   ],
   "source": [
    "gravestone_doji.loc[(gravestone_doji['CDLGRAVESTONEDOJI'] == 'Bullish') \\\n",
    "                                      | (gravestone_doji['CDLGRAVESTONEDOJI'] == 'Bearish')].head(15)"
   ]
  },
  {
   "cell_type": "code",
   "execution_count": 46,
   "id": "a48b57c0",
   "metadata": {},
   "outputs": [],
   "source": [
    "def bull_gravestone_doji(row):\n",
    "    \n",
    "    if row['CDLGRAVESTONEDOJI'] == 'Bullish':\n",
    "        return row['Open'] * 0.99\n",
    "    else:\n",
    "        return np.nan  \n",
    "    \n",
    "gravestone_doji['gravestone_doji_bullish_dot'] = gravestone_doji.apply(bull_gravestone_doji, axis=1)"
   ]
  },
  {
   "cell_type": "code",
   "execution_count": 47,
   "id": "2e0b0f06",
   "metadata": {},
   "outputs": [],
   "source": [
    "gravestone_doji_plot = gravestone_doji.loc[(gravestone_doji['year_week'] == '2021-24') \\\n",
    "                                          | (gravestone_doji['year_week'] == '2021-25')].copy()"
   ]
  },
  {
   "cell_type": "code",
   "execution_count": 48,
   "id": "6e4bd198",
   "metadata": {},
   "outputs": [
    {
     "data": {
      "application/vnd.plotly.v1+json": {
       "config": {
        "linkText": "Export to plot.ly",
        "plotlyServerURL": "https://plot.ly",
        "showLink": false
       },
       "data": [
        {
         "close": [
          34867.8,
          35280.02,
          35904.03,
          36034.97,
          37650,
          39020.57,
          38975.14,
          39555.24,
          39166.33,
          40685.37,
          39716.06,
          40516.29,
          40404.86,
          40365.74,
          39839.9,
          40065.01,
          39958.01,
          40144.04,
          40013.63,
          40126.87,
          39080.01,
          38775.66,
          38680.11,
          38349.01,
          38865.05,
          39207.36,
          39146.36,
          39007.91,
          37702.53,
          38092.97,
          37926.79,
          37715.03,
          37821.95,
          36355.1,
          35327.24,
          35819.84,
          35103.44,
          35785.96,
          35940.22,
          36114.85,
          35943.65,
          35483.72,
          35527.24,
          35637.71,
          33872.9,
          34422.71,
          35502.82,
          35600.16,
          34649.63,
          33025.5,
          32520.56,
          32687.99,
          32563.89,
          31608.93,
          33018.22,
          32648.98,
          31243.41,
          31708.08,
          32404.06,
          32509.56,
          33966.43,
          33982.26,
          33911.39,
          33490.14,
          32879.97,
          33678.07,
          32589.2,
          32853.74,
          33850.77,
          33886.52,
          34857.73,
          34663.09,
          35052.07,
          34283.82,
          33311.96,
          32607.07,
          32220.74,
          31584.45,
          31977.59,
          30720.37,
          31777.73,
          31523.5,
          31573.98,
          32283.65
         ],
         "high": [
          35926.96,
          35499.86,
          36099,
          36150,
          37750.14,
          39380,
          39800,
          39700,
          39629.01,
          41064.05,
          40740.03,
          40605.87,
          40900,
          40580,
          40400,
          40450,
          41330,
          40365.27,
          40181.95,
          40527.14,
          40260.14,
          39504.99,
          39735.52,
          38925,
          38978.75,
          39400,
          39559.88,
          39195.9,
          39111.56,
          38258,
          38202.84,
          38148.11,
          38029.99,
          37948.55,
          36818.44,
          35928.39,
          36297.3,
          35873.9,
          35995,
          36457,
          36210,
          36200,
          35800,
          35922,
          35693.88,
          34666,
          35700.92,
          36137.72,
          35750,
          34725.82,
          33577.12,
          33222.22,
          33000,
          32800,
          33260,
          33109.81,
          32658.63,
          31980,
          33298.78,
          32987,
          34444,
          34392.1,
          34500,
          34881,
          33947.17,
          33785.26,
          33879.99,
          33280.55,
          33930.23,
          34583.58,
          35298,
          34999.09,
          35500,
          35100,
          34480,
          33600.77,
          32910.64,
          32369,
          32268.91,
          32730,
          31883.6,
          31985,
          31910,
          32300.24
         ],
         "low": [
          34816.02,
          34757,
          35171.55,
          35670,
          35970,
          37636.18,
          38730,
          38782.34,
          38820,
          39040,
          39323.1,
          39602,
          39856.6,
          40100,
          39531,
          39720,
          39768,
          39506.4,
          39610,
          39840,
          38877.46,
          38565,
          38301.68,
          38116.01,
          38213.23,
          38644.4,
          39057.27,
          38411.39,
          37505,
          37365,
          37213,
          37377,
          37063.8,
          36278.5,
          35129.29,
          35232.26,
          34803.52,
          34961.39,
          35561.81,
          35550,
          35360.08,
          35394.75,
          35119.21,
          35363.02,
          33724.48,
          33336,
          34289,
          35380,
          34566.82,
          32266,
          31710,
          31927.91,
          32034.52,
          31251.23,
          31168,
          32479,
          31112,
          28805,
          31620,
          32150,
          31683,
          33574.11,
          33650.21,
          33400.3,
          32870.99,
          32749.01,
          32339.82,
          32286.57,
          32820.61,
          33756.04,
          33751,
          34512,
          34251,
          33961.48,
          33234.37,
          32351,
          31500,
          31275,
          31300,
          30573.77,
          30151,
          30505,
          30776.63,
          30905.78
         ],
         "name": "Price",
         "opacity": 0.5,
         "open": [
          35546.12,
          34867.81,
          35282.02,
          35904.02,
          36034.96,
          37650,
          39020.56,
          38975.14,
          39555.25,
          39166.33,
          40685.37,
          39716.06,
          40516.28,
          40403.13,
          40367.41,
          39839.9,
          40065.01,
          39957.76,
          40143.8,
          40013.64,
          40126.87,
          39080.01,
          38775.66,
          38680.1,
          38349,
          38865.05,
          39208.67,
          39148.26,
          39008.01,
          37702.53,
          38092.97,
          37926.78,
          37715.04,
          37818.57,
          36355.97,
          35323.65,
          35820.48,
          35103.44,
          35785.95,
          35940.22,
          36114.85,
          35943.65,
          35483.72,
          35527.25,
          35637.72,
          33870.56,
          34422.11,
          35502.83,
          35600.17,
          34651.86,
          33025.5,
          32530.68,
          32685.84,
          32563.89,
          31614.12,
          33018.21,
          32647.96,
          31236.53,
          31707.56,
          32404.06,
          32509.56,
          33969.69,
          33982.26,
          33911.4,
          33490.14,
          32882.5,
          33675.07,
          32589.2,
          32853.74,
          33850.78,
          33888.81,
          34854.63,
          34663.08,
          35057.7,
          34281.37,
          33311.96,
          32607.07,
          32222.91,
          31576.09,
          31979.71,
          30713.54,
          31777.9,
          31526.88,
          31573.97
         ],
         "type": "candlestick",
         "x": [
          "2021-06-13 03:00:00",
          "2021-06-13 07:00:00",
          "2021-06-13 11:00:00",
          "2021-06-13 15:00:00",
          "2021-06-13 19:00:00",
          "2021-06-13 23:00:00",
          "2021-06-14 03:00:00",
          "2021-06-14 07:00:00",
          "2021-06-14 11:00:00",
          "2021-06-14 15:00:00",
          "2021-06-14 19:00:00",
          "2021-06-14 23:00:00",
          "2021-06-15 03:00:00",
          "2021-06-15 07:00:00",
          "2021-06-15 11:00:00",
          "2021-06-15 15:00:00",
          "2021-06-15 19:00:00",
          "2021-06-15 23:00:00",
          "2021-06-16 03:00:00",
          "2021-06-16 07:00:00",
          "2021-06-16 11:00:00",
          "2021-06-16 15:00:00",
          "2021-06-16 19:00:00",
          "2021-06-16 23:00:00",
          "2021-06-17 03:00:00",
          "2021-06-17 07:00:00",
          "2021-06-17 11:00:00",
          "2021-06-17 15:00:00",
          "2021-06-17 19:00:00",
          "2021-06-17 23:00:00",
          "2021-06-18 03:00:00",
          "2021-06-18 07:00:00",
          "2021-06-18 11:00:00",
          "2021-06-18 15:00:00",
          "2021-06-18 19:00:00",
          "2021-06-18 23:00:00",
          "2021-06-19 03:00:00",
          "2021-06-19 07:00:00",
          "2021-06-19 11:00:00",
          "2021-06-19 15:00:00",
          "2021-06-19 19:00:00",
          "2021-06-19 23:00:00",
          "2021-06-20 03:00:00",
          "2021-06-20 07:00:00",
          "2021-06-20 11:00:00",
          "2021-06-20 15:00:00",
          "2021-06-20 19:00:00",
          "2021-06-20 23:00:00",
          "2021-06-21 03:00:00",
          "2021-06-21 07:00:00",
          "2021-06-21 11:00:00",
          "2021-06-21 15:00:00",
          "2021-06-21 19:00:00",
          "2021-06-21 23:00:00",
          "2021-06-22 03:00:00",
          "2021-06-22 07:00:00",
          "2021-06-22 11:00:00",
          "2021-06-22 15:00:00",
          "2021-06-22 19:00:00",
          "2021-06-22 23:00:00",
          "2021-06-23 03:00:00",
          "2021-06-23 07:00:00",
          "2021-06-23 11:00:00",
          "2021-06-23 15:00:00",
          "2021-06-23 19:00:00",
          "2021-06-23 23:00:00",
          "2021-06-24 03:00:00",
          "2021-06-24 07:00:00",
          "2021-06-24 11:00:00",
          "2021-06-24 15:00:00",
          "2021-06-24 19:00:00",
          "2021-06-24 23:00:00",
          "2021-06-25 03:00:00",
          "2021-06-25 07:00:00",
          "2021-06-25 11:00:00",
          "2021-06-25 15:00:00",
          "2021-06-25 19:00:00",
          "2021-06-25 23:00:00",
          "2021-06-26 03:00:00",
          "2021-06-26 07:00:00",
          "2021-06-26 11:00:00",
          "2021-06-26 15:00:00",
          "2021-06-26 19:00:00",
          "2021-06-26 23:00:00"
         ]
        },
        {
         "marker": {
          "color": "#16FF32",
          "line": {
           "color": "MediumPurple",
           "width": 2
          },
          "size": 7,
          "symbol": "5"
         },
         "mode": "markers",
         "name": "Bullish",
         "opacity": 1,
         "type": "scatter",
         "x": [
          "2021-06-13 03:00:00",
          "2021-06-13 07:00:00",
          "2021-06-13 11:00:00",
          "2021-06-13 15:00:00",
          "2021-06-13 19:00:00",
          "2021-06-13 23:00:00",
          "2021-06-14 03:00:00",
          "2021-06-14 07:00:00",
          "2021-06-14 11:00:00",
          "2021-06-14 15:00:00",
          "2021-06-14 19:00:00",
          "2021-06-14 23:00:00",
          "2021-06-15 03:00:00",
          "2021-06-15 07:00:00",
          "2021-06-15 11:00:00",
          "2021-06-15 15:00:00",
          "2021-06-15 19:00:00",
          "2021-06-15 23:00:00",
          "2021-06-16 03:00:00",
          "2021-06-16 07:00:00",
          "2021-06-16 11:00:00",
          "2021-06-16 15:00:00",
          "2021-06-16 19:00:00",
          "2021-06-16 23:00:00",
          "2021-06-17 03:00:00",
          "2021-06-17 07:00:00",
          "2021-06-17 11:00:00",
          "2021-06-17 15:00:00",
          "2021-06-17 19:00:00",
          "2021-06-17 23:00:00",
          "2021-06-18 03:00:00",
          "2021-06-18 07:00:00",
          "2021-06-18 11:00:00",
          "2021-06-18 15:00:00",
          "2021-06-18 19:00:00",
          "2021-06-18 23:00:00",
          "2021-06-19 03:00:00",
          "2021-06-19 07:00:00",
          "2021-06-19 11:00:00",
          "2021-06-19 15:00:00",
          "2021-06-19 19:00:00",
          "2021-06-19 23:00:00",
          "2021-06-20 03:00:00",
          "2021-06-20 07:00:00",
          "2021-06-20 11:00:00",
          "2021-06-20 15:00:00",
          "2021-06-20 19:00:00",
          "2021-06-20 23:00:00",
          "2021-06-21 03:00:00",
          "2021-06-21 07:00:00",
          "2021-06-21 11:00:00",
          "2021-06-21 15:00:00",
          "2021-06-21 19:00:00",
          "2021-06-21 23:00:00",
          "2021-06-22 03:00:00",
          "2021-06-22 07:00:00",
          "2021-06-22 11:00:00",
          "2021-06-22 15:00:00",
          "2021-06-22 19:00:00",
          "2021-06-22 23:00:00",
          "2021-06-23 03:00:00",
          "2021-06-23 07:00:00",
          "2021-06-23 11:00:00",
          "2021-06-23 15:00:00",
          "2021-06-23 19:00:00",
          "2021-06-23 23:00:00",
          "2021-06-24 03:00:00",
          "2021-06-24 07:00:00",
          "2021-06-24 11:00:00",
          "2021-06-24 15:00:00",
          "2021-06-24 19:00:00",
          "2021-06-24 23:00:00",
          "2021-06-25 03:00:00",
          "2021-06-25 07:00:00",
          "2021-06-25 11:00:00",
          "2021-06-25 15:00:00",
          "2021-06-25 19:00:00",
          "2021-06-25 23:00:00",
          "2021-06-26 03:00:00",
          "2021-06-26 07:00:00",
          "2021-06-26 11:00:00",
          "2021-06-26 15:00:00",
          "2021-06-26 19:00:00",
          "2021-06-26 23:00:00"
         ],
         "y": [
          null,
          null,
          null,
          null,
          null,
          null,
          null,
          null,
          null,
          null,
          null,
          null,
          null,
          null,
          null,
          null,
          null,
          null,
          null,
          null,
          null,
          null,
          null,
          null,
          null,
          null,
          38816.5833,
          null,
          null,
          null,
          null,
          null,
          null,
          null,
          null,
          null,
          null,
          null,
          null,
          null,
          null,
          null,
          null,
          null,
          null,
          null,
          null,
          null,
          null,
          null,
          null,
          null,
          null,
          null,
          null,
          null,
          null,
          null,
          null,
          null,
          null,
          null,
          null,
          null,
          null,
          null,
          null,
          null,
          null,
          33512.2722,
          null,
          null,
          null,
          null,
          null,
          null,
          null,
          null,
          null,
          null,
          null,
          null,
          null,
          null
         ]
        }
       ],
       "layout": {
        "template": {
         "data": {
          "bar": [
           {
            "error_x": {
             "color": "#2a3f5f"
            },
            "error_y": {
             "color": "#2a3f5f"
            },
            "marker": {
             "line": {
              "color": "#E5ECF6",
              "width": 0.5
             },
             "pattern": {
              "fillmode": "overlay",
              "size": 10,
              "solidity": 0.2
             }
            },
            "type": "bar"
           }
          ],
          "barpolar": [
           {
            "marker": {
             "line": {
              "color": "#E5ECF6",
              "width": 0.5
             },
             "pattern": {
              "fillmode": "overlay",
              "size": 10,
              "solidity": 0.2
             }
            },
            "type": "barpolar"
           }
          ],
          "carpet": [
           {
            "aaxis": {
             "endlinecolor": "#2a3f5f",
             "gridcolor": "white",
             "linecolor": "white",
             "minorgridcolor": "white",
             "startlinecolor": "#2a3f5f"
            },
            "baxis": {
             "endlinecolor": "#2a3f5f",
             "gridcolor": "white",
             "linecolor": "white",
             "minorgridcolor": "white",
             "startlinecolor": "#2a3f5f"
            },
            "type": "carpet"
           }
          ],
          "choropleth": [
           {
            "colorbar": {
             "outlinewidth": 0,
             "ticks": ""
            },
            "type": "choropleth"
           }
          ],
          "contour": [
           {
            "colorbar": {
             "outlinewidth": 0,
             "ticks": ""
            },
            "colorscale": [
             [
              0,
              "#0d0887"
             ],
             [
              0.1111111111111111,
              "#46039f"
             ],
             [
              0.2222222222222222,
              "#7201a8"
             ],
             [
              0.3333333333333333,
              "#9c179e"
             ],
             [
              0.4444444444444444,
              "#bd3786"
             ],
             [
              0.5555555555555556,
              "#d8576b"
             ],
             [
              0.6666666666666666,
              "#ed7953"
             ],
             [
              0.7777777777777778,
              "#fb9f3a"
             ],
             [
              0.8888888888888888,
              "#fdca26"
             ],
             [
              1,
              "#f0f921"
             ]
            ],
            "type": "contour"
           }
          ],
          "contourcarpet": [
           {
            "colorbar": {
             "outlinewidth": 0,
             "ticks": ""
            },
            "type": "contourcarpet"
           }
          ],
          "heatmap": [
           {
            "colorbar": {
             "outlinewidth": 0,
             "ticks": ""
            },
            "colorscale": [
             [
              0,
              "#0d0887"
             ],
             [
              0.1111111111111111,
              "#46039f"
             ],
             [
              0.2222222222222222,
              "#7201a8"
             ],
             [
              0.3333333333333333,
              "#9c179e"
             ],
             [
              0.4444444444444444,
              "#bd3786"
             ],
             [
              0.5555555555555556,
              "#d8576b"
             ],
             [
              0.6666666666666666,
              "#ed7953"
             ],
             [
              0.7777777777777778,
              "#fb9f3a"
             ],
             [
              0.8888888888888888,
              "#fdca26"
             ],
             [
              1,
              "#f0f921"
             ]
            ],
            "type": "heatmap"
           }
          ],
          "heatmapgl": [
           {
            "colorbar": {
             "outlinewidth": 0,
             "ticks": ""
            },
            "colorscale": [
             [
              0,
              "#0d0887"
             ],
             [
              0.1111111111111111,
              "#46039f"
             ],
             [
              0.2222222222222222,
              "#7201a8"
             ],
             [
              0.3333333333333333,
              "#9c179e"
             ],
             [
              0.4444444444444444,
              "#bd3786"
             ],
             [
              0.5555555555555556,
              "#d8576b"
             ],
             [
              0.6666666666666666,
              "#ed7953"
             ],
             [
              0.7777777777777778,
              "#fb9f3a"
             ],
             [
              0.8888888888888888,
              "#fdca26"
             ],
             [
              1,
              "#f0f921"
             ]
            ],
            "type": "heatmapgl"
           }
          ],
          "histogram": [
           {
            "marker": {
             "pattern": {
              "fillmode": "overlay",
              "size": 10,
              "solidity": 0.2
             }
            },
            "type": "histogram"
           }
          ],
          "histogram2d": [
           {
            "colorbar": {
             "outlinewidth": 0,
             "ticks": ""
            },
            "colorscale": [
             [
              0,
              "#0d0887"
             ],
             [
              0.1111111111111111,
              "#46039f"
             ],
             [
              0.2222222222222222,
              "#7201a8"
             ],
             [
              0.3333333333333333,
              "#9c179e"
             ],
             [
              0.4444444444444444,
              "#bd3786"
             ],
             [
              0.5555555555555556,
              "#d8576b"
             ],
             [
              0.6666666666666666,
              "#ed7953"
             ],
             [
              0.7777777777777778,
              "#fb9f3a"
             ],
             [
              0.8888888888888888,
              "#fdca26"
             ],
             [
              1,
              "#f0f921"
             ]
            ],
            "type": "histogram2d"
           }
          ],
          "histogram2dcontour": [
           {
            "colorbar": {
             "outlinewidth": 0,
             "ticks": ""
            },
            "colorscale": [
             [
              0,
              "#0d0887"
             ],
             [
              0.1111111111111111,
              "#46039f"
             ],
             [
              0.2222222222222222,
              "#7201a8"
             ],
             [
              0.3333333333333333,
              "#9c179e"
             ],
             [
              0.4444444444444444,
              "#bd3786"
             ],
             [
              0.5555555555555556,
              "#d8576b"
             ],
             [
              0.6666666666666666,
              "#ed7953"
             ],
             [
              0.7777777777777778,
              "#fb9f3a"
             ],
             [
              0.8888888888888888,
              "#fdca26"
             ],
             [
              1,
              "#f0f921"
             ]
            ],
            "type": "histogram2dcontour"
           }
          ],
          "mesh3d": [
           {
            "colorbar": {
             "outlinewidth": 0,
             "ticks": ""
            },
            "type": "mesh3d"
           }
          ],
          "parcoords": [
           {
            "line": {
             "colorbar": {
              "outlinewidth": 0,
              "ticks": ""
             }
            },
            "type": "parcoords"
           }
          ],
          "pie": [
           {
            "automargin": true,
            "type": "pie"
           }
          ],
          "scatter": [
           {
            "fillpattern": {
             "fillmode": "overlay",
             "size": 10,
             "solidity": 0.2
            },
            "type": "scatter"
           }
          ],
          "scatter3d": [
           {
            "line": {
             "colorbar": {
              "outlinewidth": 0,
              "ticks": ""
             }
            },
            "marker": {
             "colorbar": {
              "outlinewidth": 0,
              "ticks": ""
             }
            },
            "type": "scatter3d"
           }
          ],
          "scattercarpet": [
           {
            "marker": {
             "colorbar": {
              "outlinewidth": 0,
              "ticks": ""
             }
            },
            "type": "scattercarpet"
           }
          ],
          "scattergeo": [
           {
            "marker": {
             "colorbar": {
              "outlinewidth": 0,
              "ticks": ""
             }
            },
            "type": "scattergeo"
           }
          ],
          "scattergl": [
           {
            "marker": {
             "colorbar": {
              "outlinewidth": 0,
              "ticks": ""
             }
            },
            "type": "scattergl"
           }
          ],
          "scattermapbox": [
           {
            "marker": {
             "colorbar": {
              "outlinewidth": 0,
              "ticks": ""
             }
            },
            "type": "scattermapbox"
           }
          ],
          "scatterpolar": [
           {
            "marker": {
             "colorbar": {
              "outlinewidth": 0,
              "ticks": ""
             }
            },
            "type": "scatterpolar"
           }
          ],
          "scatterpolargl": [
           {
            "marker": {
             "colorbar": {
              "outlinewidth": 0,
              "ticks": ""
             }
            },
            "type": "scatterpolargl"
           }
          ],
          "scatterternary": [
           {
            "marker": {
             "colorbar": {
              "outlinewidth": 0,
              "ticks": ""
             }
            },
            "type": "scatterternary"
           }
          ],
          "surface": [
           {
            "colorbar": {
             "outlinewidth": 0,
             "ticks": ""
            },
            "colorscale": [
             [
              0,
              "#0d0887"
             ],
             [
              0.1111111111111111,
              "#46039f"
             ],
             [
              0.2222222222222222,
              "#7201a8"
             ],
             [
              0.3333333333333333,
              "#9c179e"
             ],
             [
              0.4444444444444444,
              "#bd3786"
             ],
             [
              0.5555555555555556,
              "#d8576b"
             ],
             [
              0.6666666666666666,
              "#ed7953"
             ],
             [
              0.7777777777777778,
              "#fb9f3a"
             ],
             [
              0.8888888888888888,
              "#fdca26"
             ],
             [
              1,
              "#f0f921"
             ]
            ],
            "type": "surface"
           }
          ],
          "table": [
           {
            "cells": {
             "fill": {
              "color": "#EBF0F8"
             },
             "line": {
              "color": "white"
             }
            },
            "header": {
             "fill": {
              "color": "#C8D4E3"
             },
             "line": {
              "color": "white"
             }
            },
            "type": "table"
           }
          ]
         },
         "layout": {
          "annotationdefaults": {
           "arrowcolor": "#2a3f5f",
           "arrowhead": 0,
           "arrowwidth": 1
          },
          "autotypenumbers": "strict",
          "coloraxis": {
           "colorbar": {
            "outlinewidth": 0,
            "ticks": ""
           }
          },
          "colorscale": {
           "diverging": [
            [
             0,
             "#8e0152"
            ],
            [
             0.1,
             "#c51b7d"
            ],
            [
             0.2,
             "#de77ae"
            ],
            [
             0.3,
             "#f1b6da"
            ],
            [
             0.4,
             "#fde0ef"
            ],
            [
             0.5,
             "#f7f7f7"
            ],
            [
             0.6,
             "#e6f5d0"
            ],
            [
             0.7,
             "#b8e186"
            ],
            [
             0.8,
             "#7fbc41"
            ],
            [
             0.9,
             "#4d9221"
            ],
            [
             1,
             "#276419"
            ]
           ],
           "sequential": [
            [
             0,
             "#0d0887"
            ],
            [
             0.1111111111111111,
             "#46039f"
            ],
            [
             0.2222222222222222,
             "#7201a8"
            ],
            [
             0.3333333333333333,
             "#9c179e"
            ],
            [
             0.4444444444444444,
             "#bd3786"
            ],
            [
             0.5555555555555556,
             "#d8576b"
            ],
            [
             0.6666666666666666,
             "#ed7953"
            ],
            [
             0.7777777777777778,
             "#fb9f3a"
            ],
            [
             0.8888888888888888,
             "#fdca26"
            ],
            [
             1,
             "#f0f921"
            ]
           ],
           "sequentialminus": [
            [
             0,
             "#0d0887"
            ],
            [
             0.1111111111111111,
             "#46039f"
            ],
            [
             0.2222222222222222,
             "#7201a8"
            ],
            [
             0.3333333333333333,
             "#9c179e"
            ],
            [
             0.4444444444444444,
             "#bd3786"
            ],
            [
             0.5555555555555556,
             "#d8576b"
            ],
            [
             0.6666666666666666,
             "#ed7953"
            ],
            [
             0.7777777777777778,
             "#fb9f3a"
            ],
            [
             0.8888888888888888,
             "#fdca26"
            ],
            [
             1,
             "#f0f921"
            ]
           ]
          },
          "colorway": [
           "#636efa",
           "#EF553B",
           "#00cc96",
           "#ab63fa",
           "#FFA15A",
           "#19d3f3",
           "#FF6692",
           "#B6E880",
           "#FF97FF",
           "#FECB52"
          ],
          "font": {
           "color": "#2a3f5f"
          },
          "geo": {
           "bgcolor": "white",
           "lakecolor": "white",
           "landcolor": "#E5ECF6",
           "showlakes": true,
           "showland": true,
           "subunitcolor": "white"
          },
          "hoverlabel": {
           "align": "left"
          },
          "hovermode": "closest",
          "mapbox": {
           "style": "light"
          },
          "paper_bgcolor": "white",
          "plot_bgcolor": "#E5ECF6",
          "polar": {
           "angularaxis": {
            "gridcolor": "white",
            "linecolor": "white",
            "ticks": ""
           },
           "bgcolor": "#E5ECF6",
           "radialaxis": {
            "gridcolor": "white",
            "linecolor": "white",
            "ticks": ""
           }
          },
          "scene": {
           "xaxis": {
            "backgroundcolor": "#E5ECF6",
            "gridcolor": "white",
            "gridwidth": 2,
            "linecolor": "white",
            "showbackground": true,
            "ticks": "",
            "zerolinecolor": "white"
           },
           "yaxis": {
            "backgroundcolor": "#E5ECF6",
            "gridcolor": "white",
            "gridwidth": 2,
            "linecolor": "white",
            "showbackground": true,
            "ticks": "",
            "zerolinecolor": "white"
           },
           "zaxis": {
            "backgroundcolor": "#E5ECF6",
            "gridcolor": "white",
            "gridwidth": 2,
            "linecolor": "white",
            "showbackground": true,
            "ticks": "",
            "zerolinecolor": "white"
           }
          },
          "shapedefaults": {
           "line": {
            "color": "#2a3f5f"
           }
          },
          "ternary": {
           "aaxis": {
            "gridcolor": "white",
            "linecolor": "white",
            "ticks": ""
           },
           "baxis": {
            "gridcolor": "white",
            "linecolor": "white",
            "ticks": ""
           },
           "bgcolor": "#E5ECF6",
           "caxis": {
            "gridcolor": "white",
            "linecolor": "white",
            "ticks": ""
           }
          },
          "title": {
           "x": 0.05
          },
          "xaxis": {
           "automargin": true,
           "gridcolor": "white",
           "linecolor": "white",
           "ticks": "",
           "title": {
            "standoff": 15
           },
           "zerolinecolor": "white",
           "zerolinewidth": 2
          },
          "yaxis": {
           "automargin": true,
           "gridcolor": "white",
           "linecolor": "white",
           "ticks": "",
           "title": {
            "standoff": 15
           },
           "zerolinecolor": "white",
           "zerolinewidth": 2
          }
         }
        },
        "title": {
         "text": "Gravestone doji"
        },
        "xaxis": {
         "rangeslider": {
          "visible": false
         }
        }
       }
      },
      "text/html": [
       "<div>                            <div id=\"76e1d16d-d464-4716-8694-3804981a1817\" class=\"plotly-graph-div\" style=\"height:525px; width:100%;\"></div>            <script type=\"text/javascript\">                require([\"plotly\"], function(Plotly) {                    window.PLOTLYENV=window.PLOTLYENV || {};                                    if (document.getElementById(\"76e1d16d-d464-4716-8694-3804981a1817\")) {                    Plotly.newPlot(                        \"76e1d16d-d464-4716-8694-3804981a1817\",                        [{\"close\":[34867.8,35280.02,35904.03,36034.97,37650.0,39020.57,38975.14,39555.24,39166.33,40685.37,39716.06,40516.29,40404.86,40365.74,39839.9,40065.01,39958.01,40144.04,40013.63,40126.87,39080.01,38775.66,38680.11,38349.01,38865.05,39207.36,39146.36,39007.91,37702.53,38092.97,37926.79,37715.03,37821.95,36355.1,35327.24,35819.84,35103.44,35785.96,35940.22,36114.85,35943.65,35483.72,35527.24,35637.71,33872.9,34422.71,35502.82,35600.16,34649.63,33025.5,32520.56,32687.99,32563.89,31608.93,33018.22,32648.98,31243.41,31708.08,32404.06,32509.56,33966.43,33982.26,33911.39,33490.14,32879.97,33678.07,32589.2,32853.74,33850.77,33886.52,34857.73,34663.09,35052.07,34283.82,33311.96,32607.07,32220.74,31584.45,31977.59,30720.37,31777.73,31523.5,31573.98,32283.65],\"high\":[35926.96,35499.86,36099.0,36150.0,37750.14,39380.0,39800.0,39700.0,39629.01,41064.05,40740.03,40605.87,40900.0,40580.0,40400.0,40450.0,41330.0,40365.27,40181.95,40527.14,40260.14,39504.99,39735.52,38925.0,38978.75,39400.0,39559.88,39195.9,39111.56,38258.0,38202.84,38148.11,38029.99,37948.55,36818.44,35928.39,36297.3,35873.9,35995.0,36457.0,36210.0,36200.0,35800.0,35922.0,35693.88,34666.0,35700.92,36137.72,35750.0,34725.82,33577.12,33222.22,33000.0,32800.0,33260.0,33109.81,32658.63,31980.0,33298.78,32987.0,34444.0,34392.1,34500.0,34881.0,33947.17,33785.26,33879.99,33280.55,33930.23,34583.58,35298.0,34999.09,35500.0,35100.0,34480.0,33600.77,32910.64,32369.0,32268.91,32730.0,31883.6,31985.0,31910.0,32300.24],\"low\":[34816.02,34757.0,35171.55,35670.0,35970.0,37636.18,38730.0,38782.34,38820.0,39040.0,39323.1,39602.0,39856.6,40100.0,39531.0,39720.0,39768.0,39506.4,39610.0,39840.0,38877.46,38565.0,38301.68,38116.01,38213.23,38644.4,39057.27,38411.39,37505.0,37365.0,37213.0,37377.0,37063.8,36278.5,35129.29,35232.26,34803.52,34961.39,35561.81,35550.0,35360.08,35394.75,35119.21,35363.02,33724.48,33336.0,34289.0,35380.0,34566.82,32266.0,31710.0,31927.91,32034.52,31251.23,31168.0,32479.0,31112.0,28805.0,31620.0,32150.0,31683.0,33574.11,33650.21,33400.3,32870.99,32749.01,32339.82,32286.57,32820.61,33756.04,33751.0,34512.0,34251.0,33961.48,33234.37,32351.0,31500.0,31275.0,31300.0,30573.77,30151.0,30505.0,30776.63,30905.78],\"name\":\"Price\",\"opacity\":0.5,\"open\":[35546.12,34867.81,35282.02,35904.02,36034.96,37650.0,39020.56,38975.14,39555.25,39166.33,40685.37,39716.06,40516.28,40403.13,40367.41,39839.9,40065.01,39957.76,40143.8,40013.64,40126.87,39080.01,38775.66,38680.1,38349.0,38865.05,39208.67,39148.26,39008.01,37702.53,38092.97,37926.78,37715.04,37818.57,36355.97,35323.65,35820.48,35103.44,35785.95,35940.22,36114.85,35943.65,35483.72,35527.25,35637.72,33870.56,34422.11,35502.83,35600.17,34651.86,33025.5,32530.68,32685.84,32563.89,31614.12,33018.21,32647.96,31236.53,31707.56,32404.06,32509.56,33969.69,33982.26,33911.4,33490.14,32882.5,33675.07,32589.2,32853.74,33850.78,33888.81,34854.63,34663.08,35057.7,34281.37,33311.96,32607.07,32222.91,31576.09,31979.71,30713.54,31777.9,31526.88,31573.97],\"x\":[\"2021-06-13 03:00:00\",\"2021-06-13 07:00:00\",\"2021-06-13 11:00:00\",\"2021-06-13 15:00:00\",\"2021-06-13 19:00:00\",\"2021-06-13 23:00:00\",\"2021-06-14 03:00:00\",\"2021-06-14 07:00:00\",\"2021-06-14 11:00:00\",\"2021-06-14 15:00:00\",\"2021-06-14 19:00:00\",\"2021-06-14 23:00:00\",\"2021-06-15 03:00:00\",\"2021-06-15 07:00:00\",\"2021-06-15 11:00:00\",\"2021-06-15 15:00:00\",\"2021-06-15 19:00:00\",\"2021-06-15 23:00:00\",\"2021-06-16 03:00:00\",\"2021-06-16 07:00:00\",\"2021-06-16 11:00:00\",\"2021-06-16 15:00:00\",\"2021-06-16 19:00:00\",\"2021-06-16 23:00:00\",\"2021-06-17 03:00:00\",\"2021-06-17 07:00:00\",\"2021-06-17 11:00:00\",\"2021-06-17 15:00:00\",\"2021-06-17 19:00:00\",\"2021-06-17 23:00:00\",\"2021-06-18 03:00:00\",\"2021-06-18 07:00:00\",\"2021-06-18 11:00:00\",\"2021-06-18 15:00:00\",\"2021-06-18 19:00:00\",\"2021-06-18 23:00:00\",\"2021-06-19 03:00:00\",\"2021-06-19 07:00:00\",\"2021-06-19 11:00:00\",\"2021-06-19 15:00:00\",\"2021-06-19 19:00:00\",\"2021-06-19 23:00:00\",\"2021-06-20 03:00:00\",\"2021-06-20 07:00:00\",\"2021-06-20 11:00:00\",\"2021-06-20 15:00:00\",\"2021-06-20 19:00:00\",\"2021-06-20 23:00:00\",\"2021-06-21 03:00:00\",\"2021-06-21 07:00:00\",\"2021-06-21 11:00:00\",\"2021-06-21 15:00:00\",\"2021-06-21 19:00:00\",\"2021-06-21 23:00:00\",\"2021-06-22 03:00:00\",\"2021-06-22 07:00:00\",\"2021-06-22 11:00:00\",\"2021-06-22 15:00:00\",\"2021-06-22 19:00:00\",\"2021-06-22 23:00:00\",\"2021-06-23 03:00:00\",\"2021-06-23 07:00:00\",\"2021-06-23 11:00:00\",\"2021-06-23 15:00:00\",\"2021-06-23 19:00:00\",\"2021-06-23 23:00:00\",\"2021-06-24 03:00:00\",\"2021-06-24 07:00:00\",\"2021-06-24 11:00:00\",\"2021-06-24 15:00:00\",\"2021-06-24 19:00:00\",\"2021-06-24 23:00:00\",\"2021-06-25 03:00:00\",\"2021-06-25 07:00:00\",\"2021-06-25 11:00:00\",\"2021-06-25 15:00:00\",\"2021-06-25 19:00:00\",\"2021-06-25 23:00:00\",\"2021-06-26 03:00:00\",\"2021-06-26 07:00:00\",\"2021-06-26 11:00:00\",\"2021-06-26 15:00:00\",\"2021-06-26 19:00:00\",\"2021-06-26 23:00:00\"],\"type\":\"candlestick\"},{\"marker\":{\"color\":\"#16FF32\",\"line\":{\"color\":\"MediumPurple\",\"width\":2},\"size\":7,\"symbol\":\"5\"},\"mode\":\"markers\",\"name\":\"Bullish\",\"opacity\":1,\"x\":[\"2021-06-13 03:00:00\",\"2021-06-13 07:00:00\",\"2021-06-13 11:00:00\",\"2021-06-13 15:00:00\",\"2021-06-13 19:00:00\",\"2021-06-13 23:00:00\",\"2021-06-14 03:00:00\",\"2021-06-14 07:00:00\",\"2021-06-14 11:00:00\",\"2021-06-14 15:00:00\",\"2021-06-14 19:00:00\",\"2021-06-14 23:00:00\",\"2021-06-15 03:00:00\",\"2021-06-15 07:00:00\",\"2021-06-15 11:00:00\",\"2021-06-15 15:00:00\",\"2021-06-15 19:00:00\",\"2021-06-15 23:00:00\",\"2021-06-16 03:00:00\",\"2021-06-16 07:00:00\",\"2021-06-16 11:00:00\",\"2021-06-16 15:00:00\",\"2021-06-16 19:00:00\",\"2021-06-16 23:00:00\",\"2021-06-17 03:00:00\",\"2021-06-17 07:00:00\",\"2021-06-17 11:00:00\",\"2021-06-17 15:00:00\",\"2021-06-17 19:00:00\",\"2021-06-17 23:00:00\",\"2021-06-18 03:00:00\",\"2021-06-18 07:00:00\",\"2021-06-18 11:00:00\",\"2021-06-18 15:00:00\",\"2021-06-18 19:00:00\",\"2021-06-18 23:00:00\",\"2021-06-19 03:00:00\",\"2021-06-19 07:00:00\",\"2021-06-19 11:00:00\",\"2021-06-19 15:00:00\",\"2021-06-19 19:00:00\",\"2021-06-19 23:00:00\",\"2021-06-20 03:00:00\",\"2021-06-20 07:00:00\",\"2021-06-20 11:00:00\",\"2021-06-20 15:00:00\",\"2021-06-20 19:00:00\",\"2021-06-20 23:00:00\",\"2021-06-21 03:00:00\",\"2021-06-21 07:00:00\",\"2021-06-21 11:00:00\",\"2021-06-21 15:00:00\",\"2021-06-21 19:00:00\",\"2021-06-21 23:00:00\",\"2021-06-22 03:00:00\",\"2021-06-22 07:00:00\",\"2021-06-22 11:00:00\",\"2021-06-22 15:00:00\",\"2021-06-22 19:00:00\",\"2021-06-22 23:00:00\",\"2021-06-23 03:00:00\",\"2021-06-23 07:00:00\",\"2021-06-23 11:00:00\",\"2021-06-23 15:00:00\",\"2021-06-23 19:00:00\",\"2021-06-23 23:00:00\",\"2021-06-24 03:00:00\",\"2021-06-24 07:00:00\",\"2021-06-24 11:00:00\",\"2021-06-24 15:00:00\",\"2021-06-24 19:00:00\",\"2021-06-24 23:00:00\",\"2021-06-25 03:00:00\",\"2021-06-25 07:00:00\",\"2021-06-25 11:00:00\",\"2021-06-25 15:00:00\",\"2021-06-25 19:00:00\",\"2021-06-25 23:00:00\",\"2021-06-26 03:00:00\",\"2021-06-26 07:00:00\",\"2021-06-26 11:00:00\",\"2021-06-26 15:00:00\",\"2021-06-26 19:00:00\",\"2021-06-26 23:00:00\"],\"y\":[null,null,null,null,null,null,null,null,null,null,null,null,null,null,null,null,null,null,null,null,null,null,null,null,null,null,38816.5833,null,null,null,null,null,null,null,null,null,null,null,null,null,null,null,null,null,null,null,null,null,null,null,null,null,null,null,null,null,null,null,null,null,null,null,null,null,null,null,null,null,null,33512.2722,null,null,null,null,null,null,null,null,null,null,null,null,null,null],\"type\":\"scatter\"}],                        {\"template\":{\"data\":{\"barpolar\":[{\"marker\":{\"line\":{\"color\":\"#E5ECF6\",\"width\":0.5},\"pattern\":{\"fillmode\":\"overlay\",\"size\":10,\"solidity\":0.2}},\"type\":\"barpolar\"}],\"bar\":[{\"error_x\":{\"color\":\"#2a3f5f\"},\"error_y\":{\"color\":\"#2a3f5f\"},\"marker\":{\"line\":{\"color\":\"#E5ECF6\",\"width\":0.5},\"pattern\":{\"fillmode\":\"overlay\",\"size\":10,\"solidity\":0.2}},\"type\":\"bar\"}],\"carpet\":[{\"aaxis\":{\"endlinecolor\":\"#2a3f5f\",\"gridcolor\":\"white\",\"linecolor\":\"white\",\"minorgridcolor\":\"white\",\"startlinecolor\":\"#2a3f5f\"},\"baxis\":{\"endlinecolor\":\"#2a3f5f\",\"gridcolor\":\"white\",\"linecolor\":\"white\",\"minorgridcolor\":\"white\",\"startlinecolor\":\"#2a3f5f\"},\"type\":\"carpet\"}],\"choropleth\":[{\"colorbar\":{\"outlinewidth\":0,\"ticks\":\"\"},\"type\":\"choropleth\"}],\"contourcarpet\":[{\"colorbar\":{\"outlinewidth\":0,\"ticks\":\"\"},\"type\":\"contourcarpet\"}],\"contour\":[{\"colorbar\":{\"outlinewidth\":0,\"ticks\":\"\"},\"colorscale\":[[0.0,\"#0d0887\"],[0.1111111111111111,\"#46039f\"],[0.2222222222222222,\"#7201a8\"],[0.3333333333333333,\"#9c179e\"],[0.4444444444444444,\"#bd3786\"],[0.5555555555555556,\"#d8576b\"],[0.6666666666666666,\"#ed7953\"],[0.7777777777777778,\"#fb9f3a\"],[0.8888888888888888,\"#fdca26\"],[1.0,\"#f0f921\"]],\"type\":\"contour\"}],\"heatmapgl\":[{\"colorbar\":{\"outlinewidth\":0,\"ticks\":\"\"},\"colorscale\":[[0.0,\"#0d0887\"],[0.1111111111111111,\"#46039f\"],[0.2222222222222222,\"#7201a8\"],[0.3333333333333333,\"#9c179e\"],[0.4444444444444444,\"#bd3786\"],[0.5555555555555556,\"#d8576b\"],[0.6666666666666666,\"#ed7953\"],[0.7777777777777778,\"#fb9f3a\"],[0.8888888888888888,\"#fdca26\"],[1.0,\"#f0f921\"]],\"type\":\"heatmapgl\"}],\"heatmap\":[{\"colorbar\":{\"outlinewidth\":0,\"ticks\":\"\"},\"colorscale\":[[0.0,\"#0d0887\"],[0.1111111111111111,\"#46039f\"],[0.2222222222222222,\"#7201a8\"],[0.3333333333333333,\"#9c179e\"],[0.4444444444444444,\"#bd3786\"],[0.5555555555555556,\"#d8576b\"],[0.6666666666666666,\"#ed7953\"],[0.7777777777777778,\"#fb9f3a\"],[0.8888888888888888,\"#fdca26\"],[1.0,\"#f0f921\"]],\"type\":\"heatmap\"}],\"histogram2dcontour\":[{\"colorbar\":{\"outlinewidth\":0,\"ticks\":\"\"},\"colorscale\":[[0.0,\"#0d0887\"],[0.1111111111111111,\"#46039f\"],[0.2222222222222222,\"#7201a8\"],[0.3333333333333333,\"#9c179e\"],[0.4444444444444444,\"#bd3786\"],[0.5555555555555556,\"#d8576b\"],[0.6666666666666666,\"#ed7953\"],[0.7777777777777778,\"#fb9f3a\"],[0.8888888888888888,\"#fdca26\"],[1.0,\"#f0f921\"]],\"type\":\"histogram2dcontour\"}],\"histogram2d\":[{\"colorbar\":{\"outlinewidth\":0,\"ticks\":\"\"},\"colorscale\":[[0.0,\"#0d0887\"],[0.1111111111111111,\"#46039f\"],[0.2222222222222222,\"#7201a8\"],[0.3333333333333333,\"#9c179e\"],[0.4444444444444444,\"#bd3786\"],[0.5555555555555556,\"#d8576b\"],[0.6666666666666666,\"#ed7953\"],[0.7777777777777778,\"#fb9f3a\"],[0.8888888888888888,\"#fdca26\"],[1.0,\"#f0f921\"]],\"type\":\"histogram2d\"}],\"histogram\":[{\"marker\":{\"pattern\":{\"fillmode\":\"overlay\",\"size\":10,\"solidity\":0.2}},\"type\":\"histogram\"}],\"mesh3d\":[{\"colorbar\":{\"outlinewidth\":0,\"ticks\":\"\"},\"type\":\"mesh3d\"}],\"parcoords\":[{\"line\":{\"colorbar\":{\"outlinewidth\":0,\"ticks\":\"\"}},\"type\":\"parcoords\"}],\"pie\":[{\"automargin\":true,\"type\":\"pie\"}],\"scatter3d\":[{\"line\":{\"colorbar\":{\"outlinewidth\":0,\"ticks\":\"\"}},\"marker\":{\"colorbar\":{\"outlinewidth\":0,\"ticks\":\"\"}},\"type\":\"scatter3d\"}],\"scattercarpet\":[{\"marker\":{\"colorbar\":{\"outlinewidth\":0,\"ticks\":\"\"}},\"type\":\"scattercarpet\"}],\"scattergeo\":[{\"marker\":{\"colorbar\":{\"outlinewidth\":0,\"ticks\":\"\"}},\"type\":\"scattergeo\"}],\"scattergl\":[{\"marker\":{\"colorbar\":{\"outlinewidth\":0,\"ticks\":\"\"}},\"type\":\"scattergl\"}],\"scattermapbox\":[{\"marker\":{\"colorbar\":{\"outlinewidth\":0,\"ticks\":\"\"}},\"type\":\"scattermapbox\"}],\"scatterpolargl\":[{\"marker\":{\"colorbar\":{\"outlinewidth\":0,\"ticks\":\"\"}},\"type\":\"scatterpolargl\"}],\"scatterpolar\":[{\"marker\":{\"colorbar\":{\"outlinewidth\":0,\"ticks\":\"\"}},\"type\":\"scatterpolar\"}],\"scatter\":[{\"fillpattern\":{\"fillmode\":\"overlay\",\"size\":10,\"solidity\":0.2},\"type\":\"scatter\"}],\"scatterternary\":[{\"marker\":{\"colorbar\":{\"outlinewidth\":0,\"ticks\":\"\"}},\"type\":\"scatterternary\"}],\"surface\":[{\"colorbar\":{\"outlinewidth\":0,\"ticks\":\"\"},\"colorscale\":[[0.0,\"#0d0887\"],[0.1111111111111111,\"#46039f\"],[0.2222222222222222,\"#7201a8\"],[0.3333333333333333,\"#9c179e\"],[0.4444444444444444,\"#bd3786\"],[0.5555555555555556,\"#d8576b\"],[0.6666666666666666,\"#ed7953\"],[0.7777777777777778,\"#fb9f3a\"],[0.8888888888888888,\"#fdca26\"],[1.0,\"#f0f921\"]],\"type\":\"surface\"}],\"table\":[{\"cells\":{\"fill\":{\"color\":\"#EBF0F8\"},\"line\":{\"color\":\"white\"}},\"header\":{\"fill\":{\"color\":\"#C8D4E3\"},\"line\":{\"color\":\"white\"}},\"type\":\"table\"}]},\"layout\":{\"annotationdefaults\":{\"arrowcolor\":\"#2a3f5f\",\"arrowhead\":0,\"arrowwidth\":1},\"autotypenumbers\":\"strict\",\"coloraxis\":{\"colorbar\":{\"outlinewidth\":0,\"ticks\":\"\"}},\"colorscale\":{\"diverging\":[[0,\"#8e0152\"],[0.1,\"#c51b7d\"],[0.2,\"#de77ae\"],[0.3,\"#f1b6da\"],[0.4,\"#fde0ef\"],[0.5,\"#f7f7f7\"],[0.6,\"#e6f5d0\"],[0.7,\"#b8e186\"],[0.8,\"#7fbc41\"],[0.9,\"#4d9221\"],[1,\"#276419\"]],\"sequential\":[[0.0,\"#0d0887\"],[0.1111111111111111,\"#46039f\"],[0.2222222222222222,\"#7201a8\"],[0.3333333333333333,\"#9c179e\"],[0.4444444444444444,\"#bd3786\"],[0.5555555555555556,\"#d8576b\"],[0.6666666666666666,\"#ed7953\"],[0.7777777777777778,\"#fb9f3a\"],[0.8888888888888888,\"#fdca26\"],[1.0,\"#f0f921\"]],\"sequentialminus\":[[0.0,\"#0d0887\"],[0.1111111111111111,\"#46039f\"],[0.2222222222222222,\"#7201a8\"],[0.3333333333333333,\"#9c179e\"],[0.4444444444444444,\"#bd3786\"],[0.5555555555555556,\"#d8576b\"],[0.6666666666666666,\"#ed7953\"],[0.7777777777777778,\"#fb9f3a\"],[0.8888888888888888,\"#fdca26\"],[1.0,\"#f0f921\"]]},\"colorway\":[\"#636efa\",\"#EF553B\",\"#00cc96\",\"#ab63fa\",\"#FFA15A\",\"#19d3f3\",\"#FF6692\",\"#B6E880\",\"#FF97FF\",\"#FECB52\"],\"font\":{\"color\":\"#2a3f5f\"},\"geo\":{\"bgcolor\":\"white\",\"lakecolor\":\"white\",\"landcolor\":\"#E5ECF6\",\"showlakes\":true,\"showland\":true,\"subunitcolor\":\"white\"},\"hoverlabel\":{\"align\":\"left\"},\"hovermode\":\"closest\",\"mapbox\":{\"style\":\"light\"},\"paper_bgcolor\":\"white\",\"plot_bgcolor\":\"#E5ECF6\",\"polar\":{\"angularaxis\":{\"gridcolor\":\"white\",\"linecolor\":\"white\",\"ticks\":\"\"},\"bgcolor\":\"#E5ECF6\",\"radialaxis\":{\"gridcolor\":\"white\",\"linecolor\":\"white\",\"ticks\":\"\"}},\"scene\":{\"xaxis\":{\"backgroundcolor\":\"#E5ECF6\",\"gridcolor\":\"white\",\"gridwidth\":2,\"linecolor\":\"white\",\"showbackground\":true,\"ticks\":\"\",\"zerolinecolor\":\"white\"},\"yaxis\":{\"backgroundcolor\":\"#E5ECF6\",\"gridcolor\":\"white\",\"gridwidth\":2,\"linecolor\":\"white\",\"showbackground\":true,\"ticks\":\"\",\"zerolinecolor\":\"white\"},\"zaxis\":{\"backgroundcolor\":\"#E5ECF6\",\"gridcolor\":\"white\",\"gridwidth\":2,\"linecolor\":\"white\",\"showbackground\":true,\"ticks\":\"\",\"zerolinecolor\":\"white\"}},\"shapedefaults\":{\"line\":{\"color\":\"#2a3f5f\"}},\"ternary\":{\"aaxis\":{\"gridcolor\":\"white\",\"linecolor\":\"white\",\"ticks\":\"\"},\"baxis\":{\"gridcolor\":\"white\",\"linecolor\":\"white\",\"ticks\":\"\"},\"bgcolor\":\"#E5ECF6\",\"caxis\":{\"gridcolor\":\"white\",\"linecolor\":\"white\",\"ticks\":\"\"}},\"title\":{\"x\":0.05},\"xaxis\":{\"automargin\":true,\"gridcolor\":\"white\",\"linecolor\":\"white\",\"ticks\":\"\",\"title\":{\"standoff\":15},\"zerolinecolor\":\"white\",\"zerolinewidth\":2},\"yaxis\":{\"automargin\":true,\"gridcolor\":\"white\",\"linecolor\":\"white\",\"ticks\":\"\",\"title\":{\"standoff\":15},\"zerolinecolor\":\"white\",\"zerolinewidth\":2}}},\"title\":{\"text\":\"Gravestone doji\"},\"xaxis\":{\"rangeslider\":{\"visible\":false}}},                        {\"responsive\": true}                    ).then(function(){\n",
       "                            \n",
       "var gd = document.getElementById('76e1d16d-d464-4716-8694-3804981a1817');\n",
       "var x = new MutationObserver(function (mutations, observer) {{\n",
       "        var display = window.getComputedStyle(gd).display;\n",
       "        if (!display || display === 'none') {{\n",
       "            console.log([gd, 'removed!']);\n",
       "            Plotly.purge(gd);\n",
       "            observer.disconnect();\n",
       "        }}\n",
       "}});\n",
       "\n",
       "// Listen for the removal of the full notebook cells\n",
       "var notebookContainer = gd.closest('#notebook-container');\n",
       "if (notebookContainer) {{\n",
       "    x.observe(notebookContainer, {childList: true});\n",
       "}}\n",
       "\n",
       "// Listen for the clearing of the current output cell\n",
       "var outputEl = gd.closest('.output');\n",
       "if (outputEl) {{\n",
       "    x.observe(outputEl, {childList: true});\n",
       "}}\n",
       "\n",
       "                        })                };                });            </script>        </div>"
      ]
     },
     "metadata": {},
     "output_type": "display_data"
    }
   ],
   "source": [
    "fig = go.Figure()\n",
    "\n",
    "fig.add_trace(go.Candlestick(x=gravestone_doji_plot['Time'],\n",
    "                             open=gravestone_doji_plot['Open'],\n",
    "                             high=gravestone_doji_plot['High'],\n",
    "                             low=gravestone_doji_plot['Low'],\n",
    "                             close=gravestone_doji_plot['Close'], name=\"Price\", opacity=0.5))\n",
    "\n",
    "\n",
    "fig.add_trace(go.Scatter(x=gravestone_doji_plot['Time'], \n",
    "                         y=gravestone_doji_plot['gravestone_doji_bullish_dot'],\n",
    "                         opacity=1, mode='markers', marker=dict(color='#16FF32', symbol='5', size=7, line=dict(color='MediumPurple',width=2)),\n",
    "                         name=\"Bullish\"))\n",
    "\n",
    "\n",
    "fig.update_layout(xaxis_rangeslider_visible=False, title = 'Gravestone doji')\n",
    "iplot(fig, show_link=False)"
   ]
  },
  {
   "cell_type": "markdown",
   "id": "c5546ea4",
   "metadata": {},
   "source": [
    "![pattern](https://lh3.googleusercontent.com/9RSWZs1wsRreezKZhOkNbYt_oWEV-zrpw1SnGgU37rV-dVu7KqXOVxY-5gWXbPpv2jcs8DMsJqZOwlg3emHE0AhtyBzP8wUXxmyhVO-C6_FGmhXesOfzb5rliM0PDRBvNaJzzgIAM6jd7PT8dBXzTQU)"
   ]
  },
  {
   "cell_type": "markdown",
   "id": "928c89c8",
   "metadata": {},
   "source": [
    "As you can see, patterns do not always predict the moments of a reversal, so you should not rely entirely on them. Now lets calculate how many times our patterns appear per week."
   ]
  },
  {
   "cell_type": "code",
   "execution_count": 49,
   "id": "6b9b2737",
   "metadata": {},
   "outputs": [],
   "source": [
    "def stat_patterns_coin(selected_patterns, df_price):\n",
    "    \n",
    "    \"\"\"\n",
    "    how often do patterns appear during the week\n",
    "    \"\"\"\n",
    "    \n",
    "    coin_stat = df_price[selected_patterns].copy()\n",
    "    coin_stat['year_week'] = pd.to_datetime(df_price['Time']).dt.strftime('%Y-%U')\n",
    "    coin_stat.replace('0', np.nan, inplace=True)\n",
    "    \n",
    "    patterns_per_week = coin_stat.groupby(['year_week'], as_index=False).count()\n",
    "    \n",
    "    df_stat = {}\n",
    "\n",
    "    for pattern in selected_patterns:\n",
    "        df_stat[pattern] = round(patterns_per_week[pattern].mean(), 2)\n",
    "    \n",
    "    return pd.Series(df_stat, name='weekly_alerts').sort_values(ascending=False)"
   ]
  },
  {
   "cell_type": "markdown",
   "id": "ea001dce",
   "metadata": {},
   "source": [
    "Some patterns are rare, while two of them can appear almost every day. "
   ]
  },
  {
   "cell_type": "code",
   "execution_count": 50,
   "id": "5875bf77",
   "metadata": {},
   "outputs": [
    {
     "data": {
      "text/plain": [
       "CDLHIKKAKE             6.68\n",
       "CDLHIGHWAVE            6.60\n",
       "CDLHARAMI              1.67\n",
       "CDLMATCHINGLOW         0.79\n",
       "CDLGRAVESTONEDOJI      0.57\n",
       "CDLDOJISTAR            0.37\n",
       "CDLHANGINGMAN          0.35\n",
       "CDLXSIDEGAP3METHODS    0.24\n",
       "CDLSHOOTINGSTAR        0.16\n",
       "CDL3LINESTRIKE         0.12\n",
       "CDLEVENINGDOJISTAR     0.01\n",
       "Name: weekly_alerts, dtype: float64"
      ]
     },
     "execution_count": 50,
     "metadata": {},
     "output_type": "execute_result"
    }
   ],
   "source": [
    "stat_patterns_coin(btc50['name'].tolist(), price)"
   ]
  },
  {
   "cell_type": "markdown",
   "id": "2456e4a5",
   "metadata": {},
   "source": [
    "## Altcoins Summary<a id='4-bullet'></a>\n",
    "\n",
    "### Ethereum (ETH)"
   ]
  },
  {
   "cell_type": "code",
   "execution_count": 51,
   "id": "b907d083",
   "metadata": {},
   "outputs": [
    {
     "data": {
      "text/html": [
       "<div>\n",
       "<style scoped>\n",
       "    .dataframe tbody tr th:only-of-type {\n",
       "        vertical-align: middle;\n",
       "    }\n",
       "\n",
       "    .dataframe tbody tr th {\n",
       "        vertical-align: top;\n",
       "    }\n",
       "\n",
       "    .dataframe thead th {\n",
       "        text-align: right;\n",
       "    }\n",
       "</style>\n",
       "<table border=\"1\" class=\"dataframe\">\n",
       "  <thead>\n",
       "    <tr style=\"text-align: right;\">\n",
       "      <th></th>\n",
       "      <th>name</th>\n",
       "      <th>prc_good_trades</th>\n",
       "      <th>num_trades</th>\n",
       "    </tr>\n",
       "  </thead>\n",
       "  <tbody>\n",
       "    <tr>\n",
       "      <th>0</th>\n",
       "      <td>CDLINVERTEDHAMMER</td>\n",
       "      <td>64.00</td>\n",
       "      <td>9.0</td>\n",
       "    </tr>\n",
       "    <tr>\n",
       "      <th>1</th>\n",
       "      <td>CDLXSIDEGAP3METHODS</td>\n",
       "      <td>63.50</td>\n",
       "      <td>17.0</td>\n",
       "    </tr>\n",
       "    <tr>\n",
       "      <th>2</th>\n",
       "      <td>CDL3LINESTRIKE</td>\n",
       "      <td>62.50</td>\n",
       "      <td>10.0</td>\n",
       "    </tr>\n",
       "    <tr>\n",
       "      <th>3</th>\n",
       "      <td>CDLDOJISTAR</td>\n",
       "      <td>58.50</td>\n",
       "      <td>25.0</td>\n",
       "    </tr>\n",
       "    <tr>\n",
       "      <th>4</th>\n",
       "      <td>CDLMORNINGDOJISTAR</td>\n",
       "      <td>58.50</td>\n",
       "      <td>3.0</td>\n",
       "    </tr>\n",
       "    <tr>\n",
       "      <th>5</th>\n",
       "      <td>CDLGAPSIDESIDEWHITE</td>\n",
       "      <td>58.50</td>\n",
       "      <td>6.0</td>\n",
       "    </tr>\n",
       "    <tr>\n",
       "      <th>6</th>\n",
       "      <td>CDLHAMMER</td>\n",
       "      <td>55.50</td>\n",
       "      <td>74.0</td>\n",
       "    </tr>\n",
       "    <tr>\n",
       "      <th>7</th>\n",
       "      <td>CDLRICKSHAWMAN</td>\n",
       "      <td>53.75</td>\n",
       "      <td>416.0</td>\n",
       "    </tr>\n",
       "    <tr>\n",
       "      <th>8</th>\n",
       "      <td>CDLMATCHINGLOW</td>\n",
       "      <td>53.50</td>\n",
       "      <td>48.0</td>\n",
       "    </tr>\n",
       "    <tr>\n",
       "      <th>9</th>\n",
       "      <td>CDLDOJI</td>\n",
       "      <td>53.25</td>\n",
       "      <td>516.0</td>\n",
       "    </tr>\n",
       "    <tr>\n",
       "      <th>10</th>\n",
       "      <td>CDLLONGLEGGEDDOJI</td>\n",
       "      <td>53.25</td>\n",
       "      <td>515.0</td>\n",
       "    </tr>\n",
       "    <tr>\n",
       "      <th>11</th>\n",
       "      <td>CDLHIKKAKE</td>\n",
       "      <td>52.75</td>\n",
       "      <td>417.5</td>\n",
       "    </tr>\n",
       "    <tr>\n",
       "      <th>12</th>\n",
       "      <td>CDLHANGINGMAN</td>\n",
       "      <td>52.00</td>\n",
       "      <td>45.0</td>\n",
       "    </tr>\n",
       "  </tbody>\n",
       "</table>\n",
       "</div>"
      ],
      "text/plain": [
       "                   name  prc_good_trades  num_trades\n",
       "0     CDLINVERTEDHAMMER            64.00         9.0\n",
       "1   CDLXSIDEGAP3METHODS            63.50        17.0\n",
       "2        CDL3LINESTRIKE            62.50        10.0\n",
       "3           CDLDOJISTAR            58.50        25.0\n",
       "4    CDLMORNINGDOJISTAR            58.50         3.0\n",
       "5   CDLGAPSIDESIDEWHITE            58.50         6.0\n",
       "6             CDLHAMMER            55.50        74.0\n",
       "7        CDLRICKSHAWMAN            53.75       416.0\n",
       "8        CDLMATCHINGLOW            53.50        48.0\n",
       "9               CDLDOJI            53.25       516.0\n",
       "10    CDLLONGLEGGEDDOJI            53.25       515.0\n",
       "11           CDLHIKKAKE            52.75       417.5\n",
       "12        CDLHANGINGMAN            52.00        45.0"
      ]
     },
     "execution_count": 51,
     "metadata": {},
     "output_type": "execute_result"
    }
   ],
   "source": [
    "eth50 = pd.read_csv('eth50.csv')\n",
    "eth50"
   ]
  },
  {
   "cell_type": "code",
   "execution_count": 52,
   "id": "2d107945",
   "metadata": {},
   "outputs": [
    {
     "data": {
      "text/plain": [
       "CDLHIKKAKE             6.53\n",
       "CDLDOJI                6.38\n",
       "CDLLONGLEGGEDDOJI      6.37\n",
       "CDLRICKSHAWMAN         5.15\n",
       "CDLHAMMER              0.91\n",
       "CDLMATCHINGLOW         0.59\n",
       "CDLHANGINGMAN          0.56\n",
       "CDLDOJISTAR            0.32\n",
       "CDLXSIDEGAP3METHODS    0.21\n",
       "CDL3LINESTRIKE         0.12\n",
       "CDLINVERTEDHAMMER      0.11\n",
       "CDLGAPSIDESIDEWHITE    0.07\n",
       "CDLMORNINGDOJISTAR     0.04\n",
       "Name: weekly_alerts, dtype: float64"
      ]
     },
     "execution_count": 52,
     "metadata": {},
     "output_type": "execute_result"
    }
   ],
   "source": [
    "df_eth = pd.read_csv('eth_patterns_4h.csv')\n",
    "stat_patterns_coin(eth50['name'].tolist(), df_eth)"
   ]
  },
  {
   "cell_type": "markdown",
   "id": "9c6d2d5e",
   "metadata": {},
   "source": [
    "### Solana (SOL)"
   ]
  },
  {
   "cell_type": "code",
   "execution_count": 53,
   "id": "143a73e6",
   "metadata": {},
   "outputs": [
    {
     "data": {
      "text/html": [
       "<div>\n",
       "<style scoped>\n",
       "    .dataframe tbody tr th:only-of-type {\n",
       "        vertical-align: middle;\n",
       "    }\n",
       "\n",
       "    .dataframe tbody tr th {\n",
       "        vertical-align: top;\n",
       "    }\n",
       "\n",
       "    .dataframe thead th {\n",
       "        text-align: right;\n",
       "    }\n",
       "</style>\n",
       "<table border=\"1\" class=\"dataframe\">\n",
       "  <thead>\n",
       "    <tr style=\"text-align: right;\">\n",
       "      <th></th>\n",
       "      <th>name</th>\n",
       "      <th>prc_good_trades</th>\n",
       "      <th>num_trades</th>\n",
       "    </tr>\n",
       "  </thead>\n",
       "  <tbody>\n",
       "    <tr>\n",
       "      <th>0</th>\n",
       "      <td>CDLDARKCLOUDCOVER</td>\n",
       "      <td>100.00</td>\n",
       "      <td>1.0</td>\n",
       "    </tr>\n",
       "    <tr>\n",
       "      <th>1</th>\n",
       "      <td>CDLEVENINGDOJISTAR</td>\n",
       "      <td>100.00</td>\n",
       "      <td>1.0</td>\n",
       "    </tr>\n",
       "    <tr>\n",
       "      <th>2</th>\n",
       "      <td>CDLEVENINGSTAR</td>\n",
       "      <td>73.25</td>\n",
       "      <td>13.0</td>\n",
       "    </tr>\n",
       "    <tr>\n",
       "      <th>3</th>\n",
       "      <td>CDLSTALLEDPATTERN</td>\n",
       "      <td>58.00</td>\n",
       "      <td>13.0</td>\n",
       "    </tr>\n",
       "    <tr>\n",
       "      <th>4</th>\n",
       "      <td>CDL3LINESTRIKE</td>\n",
       "      <td>55.50</td>\n",
       "      <td>14.0</td>\n",
       "    </tr>\n",
       "    <tr>\n",
       "      <th>5</th>\n",
       "      <td>CDLGRAVESTONEDOJI</td>\n",
       "      <td>53.25</td>\n",
       "      <td>39.0</td>\n",
       "    </tr>\n",
       "    <tr>\n",
       "      <th>6</th>\n",
       "      <td>CDLRICKSHAWMAN</td>\n",
       "      <td>52.50</td>\n",
       "      <td>363.0</td>\n",
       "    </tr>\n",
       "    <tr>\n",
       "      <th>7</th>\n",
       "      <td>CDLHIKKAKE</td>\n",
       "      <td>51.75</td>\n",
       "      <td>431.0</td>\n",
       "    </tr>\n",
       "    <tr>\n",
       "      <th>8</th>\n",
       "      <td>CDLDOJI</td>\n",
       "      <td>51.00</td>\n",
       "      <td>462.0</td>\n",
       "    </tr>\n",
       "    <tr>\n",
       "      <th>9</th>\n",
       "      <td>CDLLONGLEGGEDDOJI</td>\n",
       "      <td>50.75</td>\n",
       "      <td>461.0</td>\n",
       "    </tr>\n",
       "    <tr>\n",
       "      <th>10</th>\n",
       "      <td>CDLSPINNINGTOP</td>\n",
       "      <td>50.25</td>\n",
       "      <td>763.0</td>\n",
       "    </tr>\n",
       "    <tr>\n",
       "      <th>11</th>\n",
       "      <td>CDLHIGHWAVE</td>\n",
       "      <td>50.25</td>\n",
       "      <td>441.0</td>\n",
       "    </tr>\n",
       "  </tbody>\n",
       "</table>\n",
       "</div>"
      ],
      "text/plain": [
       "                  name  prc_good_trades  num_trades\n",
       "0    CDLDARKCLOUDCOVER           100.00         1.0\n",
       "1   CDLEVENINGDOJISTAR           100.00         1.0\n",
       "2       CDLEVENINGSTAR            73.25        13.0\n",
       "3    CDLSTALLEDPATTERN            58.00        13.0\n",
       "4       CDL3LINESTRIKE            55.50        14.0\n",
       "5    CDLGRAVESTONEDOJI            53.25        39.0\n",
       "6       CDLRICKSHAWMAN            52.50       363.0\n",
       "7           CDLHIKKAKE            51.75       431.0\n",
       "8              CDLDOJI            51.00       462.0\n",
       "9    CDLLONGLEGGEDDOJI            50.75       461.0\n",
       "10      CDLSPINNINGTOP            50.25       763.0\n",
       "11         CDLHIGHWAVE            50.25       441.0"
      ]
     },
     "execution_count": 53,
     "metadata": {},
     "output_type": "execute_result"
    }
   ],
   "source": [
    "sol50 = pd.read_csv('sol50.csv')\n",
    "sol50"
   ]
  },
  {
   "cell_type": "code",
   "execution_count": 54,
   "id": "b5b5501f",
   "metadata": {},
   "outputs": [
    {
     "data": {
      "text/plain": [
       "CDLSPINNINGTOP        9.43\n",
       "CDLHIKKAKE            6.62\n",
       "CDLDOJI               5.72\n",
       "CDLLONGLEGGEDDOJI     5.70\n",
       "CDLHIGHWAVE           5.46\n",
       "CDLRICKSHAWMAN        4.49\n",
       "CDLGRAVESTONEDOJI     0.48\n",
       "CDL3LINESTRIKE        0.17\n",
       "CDLEVENINGSTAR        0.16\n",
       "CDLSTALLEDPATTERN     0.16\n",
       "CDLDARKCLOUDCOVER     0.01\n",
       "CDLEVENINGDOJISTAR    0.01\n",
       "Name: weekly_alerts, dtype: float64"
      ]
     },
     "execution_count": 54,
     "metadata": {},
     "output_type": "execute_result"
    }
   ],
   "source": [
    "df_sol = pd.read_csv('sol_patterns_4h.csv')\n",
    "stat_patterns_coin(sol50['name'].tolist(), df_sol)"
   ]
  },
  {
   "cell_type": "markdown",
   "id": "93453c24",
   "metadata": {},
   "source": [
    "### Dogecoin (DOGE)"
   ]
  },
  {
   "cell_type": "code",
   "execution_count": 55,
   "id": "ce3ee9c1",
   "metadata": {},
   "outputs": [
    {
     "data": {
      "text/html": [
       "<div>\n",
       "<style scoped>\n",
       "    .dataframe tbody tr th:only-of-type {\n",
       "        vertical-align: middle;\n",
       "    }\n",
       "\n",
       "    .dataframe tbody tr th {\n",
       "        vertical-align: top;\n",
       "    }\n",
       "\n",
       "    .dataframe thead th {\n",
       "        text-align: right;\n",
       "    }\n",
       "</style>\n",
       "<table border=\"1\" class=\"dataframe\">\n",
       "  <thead>\n",
       "    <tr style=\"text-align: right;\">\n",
       "      <th></th>\n",
       "      <th>name</th>\n",
       "      <th>prc_good_trades</th>\n",
       "      <th>num_trades</th>\n",
       "    </tr>\n",
       "  </thead>\n",
       "  <tbody>\n",
       "    <tr>\n",
       "      <th>0</th>\n",
       "      <td>CDLGAPSIDESIDEWHITE</td>\n",
       "      <td>87.50</td>\n",
       "      <td>2.0</td>\n",
       "    </tr>\n",
       "    <tr>\n",
       "      <th>1</th>\n",
       "      <td>CDLEVENINGSTAR</td>\n",
       "      <td>62.50</td>\n",
       "      <td>10.0</td>\n",
       "    </tr>\n",
       "    <tr>\n",
       "      <th>2</th>\n",
       "      <td>CDLSHOOTINGSTAR</td>\n",
       "      <td>61.75</td>\n",
       "      <td>19.0</td>\n",
       "    </tr>\n",
       "    <tr>\n",
       "      <th>3</th>\n",
       "      <td>CDLINVERTEDHAMMER</td>\n",
       "      <td>60.25</td>\n",
       "      <td>12.0</td>\n",
       "    </tr>\n",
       "    <tr>\n",
       "      <th>4</th>\n",
       "      <td>CDL3LINESTRIKE</td>\n",
       "      <td>59.00</td>\n",
       "      <td>8.0</td>\n",
       "    </tr>\n",
       "    <tr>\n",
       "      <th>5</th>\n",
       "      <td>CDLADVANCEBLOCK</td>\n",
       "      <td>56.25</td>\n",
       "      <td>24.0</td>\n",
       "    </tr>\n",
       "    <tr>\n",
       "      <th>6</th>\n",
       "      <td>CDLHANGINGMAN</td>\n",
       "      <td>55.00</td>\n",
       "      <td>25.0</td>\n",
       "    </tr>\n",
       "    <tr>\n",
       "      <th>7</th>\n",
       "      <td>CDLMATCHINGLOW</td>\n",
       "      <td>52.50</td>\n",
       "      <td>62.0</td>\n",
       "    </tr>\n",
       "    <tr>\n",
       "      <th>8</th>\n",
       "      <td>CDLHIKKAKE</td>\n",
       "      <td>51.75</td>\n",
       "      <td>502.5</td>\n",
       "    </tr>\n",
       "    <tr>\n",
       "      <th>9</th>\n",
       "      <td>CDLGRAVESTONEDOJI</td>\n",
       "      <td>51.50</td>\n",
       "      <td>66.0</td>\n",
       "    </tr>\n",
       "    <tr>\n",
       "      <th>10</th>\n",
       "      <td>CDLXSIDEGAP3METHODS</td>\n",
       "      <td>51.50</td>\n",
       "      <td>14.0</td>\n",
       "    </tr>\n",
       "    <tr>\n",
       "      <th>11</th>\n",
       "      <td>CDLHAMMER</td>\n",
       "      <td>50.25</td>\n",
       "      <td>76.0</td>\n",
       "    </tr>\n",
       "  </tbody>\n",
       "</table>\n",
       "</div>"
      ],
      "text/plain": [
       "                   name  prc_good_trades  num_trades\n",
       "0   CDLGAPSIDESIDEWHITE            87.50         2.0\n",
       "1        CDLEVENINGSTAR            62.50        10.0\n",
       "2       CDLSHOOTINGSTAR            61.75        19.0\n",
       "3     CDLINVERTEDHAMMER            60.25        12.0\n",
       "4        CDL3LINESTRIKE            59.00         8.0\n",
       "5       CDLADVANCEBLOCK            56.25        24.0\n",
       "6         CDLHANGINGMAN            55.00        25.0\n",
       "7        CDLMATCHINGLOW            52.50        62.0\n",
       "8            CDLHIKKAKE            51.75       502.5\n",
       "9     CDLGRAVESTONEDOJI            51.50        66.0\n",
       "10  CDLXSIDEGAP3METHODS            51.50        14.0\n",
       "11            CDLHAMMER            50.25        76.0"
      ]
     },
     "execution_count": 55,
     "metadata": {},
     "output_type": "execute_result"
    }
   ],
   "source": [
    "doge50 = pd.read_csv('doge50.csv')\n",
    "doge50"
   ]
  },
  {
   "cell_type": "code",
   "execution_count": 56,
   "id": "651db294",
   "metadata": {},
   "outputs": [
    {
     "data": {
      "text/plain": [
       "CDLHIKKAKE             7.40\n",
       "CDLHAMMER              0.94\n",
       "CDLGRAVESTONEDOJI      0.81\n",
       "CDLMATCHINGLOW         0.77\n",
       "CDLHANGINGMAN          0.31\n",
       "CDLADVANCEBLOCK        0.30\n",
       "CDLSHOOTINGSTAR        0.23\n",
       "CDLXSIDEGAP3METHODS    0.17\n",
       "CDLINVERTEDHAMMER      0.15\n",
       "CDLEVENINGSTAR         0.12\n",
       "CDL3LINESTRIKE         0.10\n",
       "CDLGAPSIDESIDEWHITE    0.02\n",
       "Name: weekly_alerts, dtype: float64"
      ]
     },
     "execution_count": 56,
     "metadata": {},
     "output_type": "execute_result"
    }
   ],
   "source": [
    "df_doge = pd.read_csv('doge_patterns_4h.csv')\n",
    "stat_patterns_coin(doge50['name'].tolist(), df_doge)"
   ]
  },
  {
   "cell_type": "markdown",
   "id": "f9999e4f",
   "metadata": {},
   "source": [
    "### Near (NEAR)"
   ]
  },
  {
   "cell_type": "code",
   "execution_count": 57,
   "id": "72ef5925",
   "metadata": {},
   "outputs": [
    {
     "data": {
      "text/html": [
       "<div>\n",
       "<style scoped>\n",
       "    .dataframe tbody tr th:only-of-type {\n",
       "        vertical-align: middle;\n",
       "    }\n",
       "\n",
       "    .dataframe tbody tr th {\n",
       "        vertical-align: top;\n",
       "    }\n",
       "\n",
       "    .dataframe thead th {\n",
       "        text-align: right;\n",
       "    }\n",
       "</style>\n",
       "<table border=\"1\" class=\"dataframe\">\n",
       "  <thead>\n",
       "    <tr style=\"text-align: right;\">\n",
       "      <th></th>\n",
       "      <th>name</th>\n",
       "      <th>prc_good_trades</th>\n",
       "      <th>num_trades</th>\n",
       "    </tr>\n",
       "  </thead>\n",
       "  <tbody>\n",
       "    <tr>\n",
       "      <th>0</th>\n",
       "      <td>CDL3WHITESOLDIERS</td>\n",
       "      <td>100.00</td>\n",
       "      <td>1.0</td>\n",
       "    </tr>\n",
       "    <tr>\n",
       "      <th>1</th>\n",
       "      <td>CDLINNECK</td>\n",
       "      <td>100.00</td>\n",
       "      <td>1.0</td>\n",
       "    </tr>\n",
       "    <tr>\n",
       "      <th>2</th>\n",
       "      <td>CDLIDENTICAL3CROWS</td>\n",
       "      <td>75.00</td>\n",
       "      <td>2.0</td>\n",
       "    </tr>\n",
       "    <tr>\n",
       "      <th>3</th>\n",
       "      <td>CDLTASUKIGAP</td>\n",
       "      <td>75.00</td>\n",
       "      <td>1.0</td>\n",
       "    </tr>\n",
       "    <tr>\n",
       "      <th>4</th>\n",
       "      <td>CDL3LINESTRIKE</td>\n",
       "      <td>60.50</td>\n",
       "      <td>17.0</td>\n",
       "    </tr>\n",
       "    <tr>\n",
       "      <th>5</th>\n",
       "      <td>CDLGAPSIDESIDEWHITE</td>\n",
       "      <td>58.50</td>\n",
       "      <td>3.0</td>\n",
       "    </tr>\n",
       "    <tr>\n",
       "      <th>6</th>\n",
       "      <td>CDLMORNINGSTAR</td>\n",
       "      <td>56.00</td>\n",
       "      <td>16.0</td>\n",
       "    </tr>\n",
       "    <tr>\n",
       "      <th>7</th>\n",
       "      <td>CDLHIKKAKEMOD</td>\n",
       "      <td>55.00</td>\n",
       "      <td>10.0</td>\n",
       "    </tr>\n",
       "    <tr>\n",
       "      <th>8</th>\n",
       "      <td>CDLSHOOTINGSTAR</td>\n",
       "      <td>53.75</td>\n",
       "      <td>20.0</td>\n",
       "    </tr>\n",
       "    <tr>\n",
       "      <th>9</th>\n",
       "      <td>CDLHARAMI</td>\n",
       "      <td>53.00</td>\n",
       "      <td>165.0</td>\n",
       "    </tr>\n",
       "    <tr>\n",
       "      <th>10</th>\n",
       "      <td>CDLSEPARATINGLINES</td>\n",
       "      <td>53.00</td>\n",
       "      <td>16.0</td>\n",
       "    </tr>\n",
       "    <tr>\n",
       "      <th>11</th>\n",
       "      <td>CDLADVANCEBLOCK</td>\n",
       "      <td>52.75</td>\n",
       "      <td>43.0</td>\n",
       "    </tr>\n",
       "    <tr>\n",
       "      <th>12</th>\n",
       "      <td>CDLHANGINGMAN</td>\n",
       "      <td>52.50</td>\n",
       "      <td>31.0</td>\n",
       "    </tr>\n",
       "    <tr>\n",
       "      <th>13</th>\n",
       "      <td>CDLINVERTEDHAMMER</td>\n",
       "      <td>52.50</td>\n",
       "      <td>19.0</td>\n",
       "    </tr>\n",
       "    <tr>\n",
       "      <th>14</th>\n",
       "      <td>CDLHAMMER</td>\n",
       "      <td>51.50</td>\n",
       "      <td>77.0</td>\n",
       "    </tr>\n",
       "    <tr>\n",
       "      <th>15</th>\n",
       "      <td>CDLMATCHINGLOW</td>\n",
       "      <td>51.00</td>\n",
       "      <td>57.0</td>\n",
       "    </tr>\n",
       "    <tr>\n",
       "      <th>16</th>\n",
       "      <td>CDLHIKKAKE</td>\n",
       "      <td>50.75</td>\n",
       "      <td>439.5</td>\n",
       "    </tr>\n",
       "    <tr>\n",
       "      <th>17</th>\n",
       "      <td>CDLHIGHWAVE</td>\n",
       "      <td>50.50</td>\n",
       "      <td>487.0</td>\n",
       "    </tr>\n",
       "    <tr>\n",
       "      <th>18</th>\n",
       "      <td>CDLDOJISTAR</td>\n",
       "      <td>50.50</td>\n",
       "      <td>48.0</td>\n",
       "    </tr>\n",
       "  </tbody>\n",
       "</table>\n",
       "</div>"
      ],
      "text/plain": [
       "                   name  prc_good_trades  num_trades\n",
       "0     CDL3WHITESOLDIERS           100.00         1.0\n",
       "1             CDLINNECK           100.00         1.0\n",
       "2    CDLIDENTICAL3CROWS            75.00         2.0\n",
       "3          CDLTASUKIGAP            75.00         1.0\n",
       "4        CDL3LINESTRIKE            60.50        17.0\n",
       "5   CDLGAPSIDESIDEWHITE            58.50         3.0\n",
       "6        CDLMORNINGSTAR            56.00        16.0\n",
       "7         CDLHIKKAKEMOD            55.00        10.0\n",
       "8       CDLSHOOTINGSTAR            53.75        20.0\n",
       "9             CDLHARAMI            53.00       165.0\n",
       "10   CDLSEPARATINGLINES            53.00        16.0\n",
       "11      CDLADVANCEBLOCK            52.75        43.0\n",
       "12        CDLHANGINGMAN            52.50        31.0\n",
       "13    CDLINVERTEDHAMMER            52.50        19.0\n",
       "14            CDLHAMMER            51.50        77.0\n",
       "15       CDLMATCHINGLOW            51.00        57.0\n",
       "16           CDLHIKKAKE            50.75       439.5\n",
       "17          CDLHIGHWAVE            50.50       487.0\n",
       "18          CDLDOJISTAR            50.50        48.0"
      ]
     },
     "execution_count": 57,
     "metadata": {},
     "output_type": "execute_result"
    }
   ],
   "source": [
    "near50 = pd.read_csv('near50.csv')\n",
    "near50"
   ]
  },
  {
   "cell_type": "code",
   "execution_count": 58,
   "id": "2376af23",
   "metadata": {},
   "outputs": [
    {
     "data": {
      "text/plain": [
       "CDLHIKKAKE             6.84\n",
       "CDLHIGHWAVE            6.02\n",
       "CDLHARAMI              2.04\n",
       "CDLHAMMER              0.95\n",
       "CDLMATCHINGLOW         0.70\n",
       "CDLDOJISTAR            0.59\n",
       "CDLADVANCEBLOCK        0.53\n",
       "CDLHANGINGMAN          0.38\n",
       "CDLSHOOTINGSTAR        0.25\n",
       "CDLINVERTEDHAMMER      0.23\n",
       "CDL3LINESTRIKE         0.21\n",
       "CDLMORNINGSTAR         0.20\n",
       "CDLSEPARATINGLINES     0.20\n",
       "CDLHIKKAKEMOD          0.16\n",
       "CDLGAPSIDESIDEWHITE    0.04\n",
       "CDLIDENTICAL3CROWS     0.02\n",
       "CDLINNECK              0.01\n",
       "CDLTASUKIGAP           0.01\n",
       "CDL3WHITESOLDIERS      0.01\n",
       "Name: weekly_alerts, dtype: float64"
      ]
     },
     "execution_count": 58,
     "metadata": {},
     "output_type": "execute_result"
    }
   ],
   "source": [
    "df_near = pd.read_csv('near_patterns_4h.csv')\n",
    "stat_patterns_coin(near50['name'].tolist(), df_near)"
   ]
  },
  {
   "cell_type": "markdown",
   "id": "ca57f0fd",
   "metadata": {},
   "source": [
    "### Harmony (ONE)"
   ]
  },
  {
   "cell_type": "code",
   "execution_count": 59,
   "id": "312dc0bf",
   "metadata": {},
   "outputs": [
    {
     "data": {
      "text/html": [
       "<div>\n",
       "<style scoped>\n",
       "    .dataframe tbody tr th:only-of-type {\n",
       "        vertical-align: middle;\n",
       "    }\n",
       "\n",
       "    .dataframe tbody tr th {\n",
       "        vertical-align: top;\n",
       "    }\n",
       "\n",
       "    .dataframe thead th {\n",
       "        text-align: right;\n",
       "    }\n",
       "</style>\n",
       "<table border=\"1\" class=\"dataframe\">\n",
       "  <thead>\n",
       "    <tr style=\"text-align: right;\">\n",
       "      <th></th>\n",
       "      <th>name</th>\n",
       "      <th>prc_good_trades</th>\n",
       "      <th>num_trades</th>\n",
       "    </tr>\n",
       "  </thead>\n",
       "  <tbody>\n",
       "    <tr>\n",
       "      <th>0</th>\n",
       "      <td>CDL3BLACKCROWS</td>\n",
       "      <td>100.00</td>\n",
       "      <td>1.0</td>\n",
       "    </tr>\n",
       "    <tr>\n",
       "      <th>1</th>\n",
       "      <td>CDLIDENTICAL3CROWS</td>\n",
       "      <td>75.00</td>\n",
       "      <td>2.0</td>\n",
       "    </tr>\n",
       "    <tr>\n",
       "      <th>2</th>\n",
       "      <td>CDLMORNINGDOJISTAR</td>\n",
       "      <td>67.00</td>\n",
       "      <td>3.0</td>\n",
       "    </tr>\n",
       "    <tr>\n",
       "      <th>3</th>\n",
       "      <td>CDL3LINESTRIKE</td>\n",
       "      <td>65.00</td>\n",
       "      <td>10.0</td>\n",
       "    </tr>\n",
       "    <tr>\n",
       "      <th>4</th>\n",
       "      <td>CDLDOJISTAR</td>\n",
       "      <td>60.50</td>\n",
       "      <td>42.0</td>\n",
       "    </tr>\n",
       "    <tr>\n",
       "      <th>5</th>\n",
       "      <td>CDLHARAMICROSS</td>\n",
       "      <td>59.75</td>\n",
       "      <td>42.0</td>\n",
       "    </tr>\n",
       "    <tr>\n",
       "      <th>6</th>\n",
       "      <td>CDLHOMINGPIGEON</td>\n",
       "      <td>58.25</td>\n",
       "      <td>3.0</td>\n",
       "    </tr>\n",
       "    <tr>\n",
       "      <th>7</th>\n",
       "      <td>CDL3INSIDE</td>\n",
       "      <td>55.25</td>\n",
       "      <td>23.0</td>\n",
       "    </tr>\n",
       "    <tr>\n",
       "      <th>8</th>\n",
       "      <td>CDLHIKKAKE</td>\n",
       "      <td>53.00</td>\n",
       "      <td>440.0</td>\n",
       "    </tr>\n",
       "    <tr>\n",
       "      <th>9</th>\n",
       "      <td>CDLMARUBOZU</td>\n",
       "      <td>51.75</td>\n",
       "      <td>112.0</td>\n",
       "    </tr>\n",
       "    <tr>\n",
       "      <th>10</th>\n",
       "      <td>CDLHANGINGMAN</td>\n",
       "      <td>51.50</td>\n",
       "      <td>29.0</td>\n",
       "    </tr>\n",
       "    <tr>\n",
       "      <th>11</th>\n",
       "      <td>CDLCLOSINGMARUBOZU</td>\n",
       "      <td>51.25</td>\n",
       "      <td>331.0</td>\n",
       "    </tr>\n",
       "    <tr>\n",
       "      <th>12</th>\n",
       "      <td>CDLSPINNINGTOP</td>\n",
       "      <td>50.75</td>\n",
       "      <td>813.0</td>\n",
       "    </tr>\n",
       "    <tr>\n",
       "      <th>13</th>\n",
       "      <td>CDLMATCHINGLOW</td>\n",
       "      <td>50.75</td>\n",
       "      <td>63.0</td>\n",
       "    </tr>\n",
       "  </tbody>\n",
       "</table>\n",
       "</div>"
      ],
      "text/plain": [
       "                  name  prc_good_trades  num_trades\n",
       "0       CDL3BLACKCROWS           100.00         1.0\n",
       "1   CDLIDENTICAL3CROWS            75.00         2.0\n",
       "2   CDLMORNINGDOJISTAR            67.00         3.0\n",
       "3       CDL3LINESTRIKE            65.00        10.0\n",
       "4          CDLDOJISTAR            60.50        42.0\n",
       "5       CDLHARAMICROSS            59.75        42.0\n",
       "6      CDLHOMINGPIGEON            58.25         3.0\n",
       "7           CDL3INSIDE            55.25        23.0\n",
       "8           CDLHIKKAKE            53.00       440.0\n",
       "9          CDLMARUBOZU            51.75       112.0\n",
       "10       CDLHANGINGMAN            51.50        29.0\n",
       "11  CDLCLOSINGMARUBOZU            51.25       331.0\n",
       "12      CDLSPINNINGTOP            50.75       813.0\n",
       "13      CDLMATCHINGLOW            50.75        63.0"
      ]
     },
     "execution_count": 59,
     "metadata": {},
     "output_type": "execute_result"
    }
   ],
   "source": [
    "one50 = pd.read_csv('one50.csv')\n",
    "one50"
   ]
  },
  {
   "cell_type": "code",
   "execution_count": 60,
   "id": "977bb8fe",
   "metadata": {},
   "outputs": [
    {
     "data": {
      "text/plain": [
       "CDLSPINNINGTOP        10.04\n",
       "CDLHIKKAKE             6.81\n",
       "CDLCLOSINGMARUBOZU     4.09\n",
       "CDLMARUBOZU            1.38\n",
       "CDLMATCHINGLOW         0.78\n",
       "CDLDOJISTAR            0.52\n",
       "CDLHARAMICROSS         0.52\n",
       "CDLHANGINGMAN          0.36\n",
       "CDL3INSIDE             0.28\n",
       "CDL3LINESTRIKE         0.12\n",
       "CDLMORNINGDOJISTAR     0.04\n",
       "CDLHOMINGPIGEON        0.04\n",
       "CDLIDENTICAL3CROWS     0.02\n",
       "CDL3BLACKCROWS         0.01\n",
       "Name: weekly_alerts, dtype: float64"
      ]
     },
     "execution_count": 60,
     "metadata": {},
     "output_type": "execute_result"
    }
   ],
   "source": [
    "df_one = pd.read_csv('one_patterns_4h.csv')\n",
    "stat_patterns_coin(one50['name'].tolist(), df_one)"
   ]
  },
  {
   "cell_type": "markdown",
   "id": "7dba03f5",
   "metadata": {},
   "source": [
    "### Binance coin (BNB)"
   ]
  },
  {
   "cell_type": "code",
   "execution_count": 61,
   "id": "f2dd5568",
   "metadata": {},
   "outputs": [
    {
     "data": {
      "text/html": [
       "<div>\n",
       "<style scoped>\n",
       "    .dataframe tbody tr th:only-of-type {\n",
       "        vertical-align: middle;\n",
       "    }\n",
       "\n",
       "    .dataframe tbody tr th {\n",
       "        vertical-align: top;\n",
       "    }\n",
       "\n",
       "    .dataframe thead th {\n",
       "        text-align: right;\n",
       "    }\n",
       "</style>\n",
       "<table border=\"1\" class=\"dataframe\">\n",
       "  <thead>\n",
       "    <tr style=\"text-align: right;\">\n",
       "      <th></th>\n",
       "      <th>name</th>\n",
       "      <th>prc_good_trades</th>\n",
       "      <th>num_trades</th>\n",
       "    </tr>\n",
       "  </thead>\n",
       "  <tbody>\n",
       "    <tr>\n",
       "      <th>0</th>\n",
       "      <td>CDLMORNINGDOJISTAR</td>\n",
       "      <td>87.50</td>\n",
       "      <td>4.0</td>\n",
       "    </tr>\n",
       "    <tr>\n",
       "      <th>1</th>\n",
       "      <td>CDLEVENINGDOJISTAR</td>\n",
       "      <td>83.50</td>\n",
       "      <td>3.0</td>\n",
       "    </tr>\n",
       "    <tr>\n",
       "      <th>2</th>\n",
       "      <td>CDL3WHITESOLDIERS</td>\n",
       "      <td>75.00</td>\n",
       "      <td>4.0</td>\n",
       "    </tr>\n",
       "    <tr>\n",
       "      <th>3</th>\n",
       "      <td>CDLHOMINGPIGEON</td>\n",
       "      <td>75.00</td>\n",
       "      <td>1.0</td>\n",
       "    </tr>\n",
       "    <tr>\n",
       "      <th>4</th>\n",
       "      <td>CDLMORNINGSTAR</td>\n",
       "      <td>72.50</td>\n",
       "      <td>10.0</td>\n",
       "    </tr>\n",
       "    <tr>\n",
       "      <th>5</th>\n",
       "      <td>CDLHARAMICROSS</td>\n",
       "      <td>63.00</td>\n",
       "      <td>31.0</td>\n",
       "    </tr>\n",
       "    <tr>\n",
       "      <th>6</th>\n",
       "      <td>CDL3INSIDE</td>\n",
       "      <td>61.75</td>\n",
       "      <td>19.0</td>\n",
       "    </tr>\n",
       "    <tr>\n",
       "      <th>7</th>\n",
       "      <td>CDLEVENINGSTAR</td>\n",
       "      <td>61.50</td>\n",
       "      <td>13.0</td>\n",
       "    </tr>\n",
       "    <tr>\n",
       "      <th>8</th>\n",
       "      <td>CDL3LINESTRIKE</td>\n",
       "      <td>56.25</td>\n",
       "      <td>8.0</td>\n",
       "    </tr>\n",
       "    <tr>\n",
       "      <th>9</th>\n",
       "      <td>CDLSHOOTINGSTAR</td>\n",
       "      <td>56.00</td>\n",
       "      <td>17.0</td>\n",
       "    </tr>\n",
       "    <tr>\n",
       "      <th>10</th>\n",
       "      <td>CDLHIKKAKE</td>\n",
       "      <td>54.75</td>\n",
       "      <td>418.0</td>\n",
       "    </tr>\n",
       "    <tr>\n",
       "      <th>11</th>\n",
       "      <td>CDLCLOSINGMARUBOZU</td>\n",
       "      <td>53.50</td>\n",
       "      <td>382.0</td>\n",
       "    </tr>\n",
       "    <tr>\n",
       "      <th>12</th>\n",
       "      <td>CDLHAMMER</td>\n",
       "      <td>53.25</td>\n",
       "      <td>84.0</td>\n",
       "    </tr>\n",
       "    <tr>\n",
       "      <th>13</th>\n",
       "      <td>CDLHARAMI</td>\n",
       "      <td>52.50</td>\n",
       "      <td>131.0</td>\n",
       "    </tr>\n",
       "    <tr>\n",
       "      <th>14</th>\n",
       "      <td>CDLSTALLEDPATTERN</td>\n",
       "      <td>52.00</td>\n",
       "      <td>13.0</td>\n",
       "    </tr>\n",
       "    <tr>\n",
       "      <th>15</th>\n",
       "      <td>CDLMARUBOZU</td>\n",
       "      <td>51.75</td>\n",
       "      <td>116.0</td>\n",
       "    </tr>\n",
       "    <tr>\n",
       "      <th>16</th>\n",
       "      <td>CDLLONGLINE</td>\n",
       "      <td>50.50</td>\n",
       "      <td>598.0</td>\n",
       "    </tr>\n",
       "    <tr>\n",
       "      <th>17</th>\n",
       "      <td>CDLHANGINGMAN</td>\n",
       "      <td>50.50</td>\n",
       "      <td>58.0</td>\n",
       "    </tr>\n",
       "  </tbody>\n",
       "</table>\n",
       "</div>"
      ],
      "text/plain": [
       "                  name  prc_good_trades  num_trades\n",
       "0   CDLMORNINGDOJISTAR            87.50         4.0\n",
       "1   CDLEVENINGDOJISTAR            83.50         3.0\n",
       "2    CDL3WHITESOLDIERS            75.00         4.0\n",
       "3      CDLHOMINGPIGEON            75.00         1.0\n",
       "4       CDLMORNINGSTAR            72.50        10.0\n",
       "5       CDLHARAMICROSS            63.00        31.0\n",
       "6           CDL3INSIDE            61.75        19.0\n",
       "7       CDLEVENINGSTAR            61.50        13.0\n",
       "8       CDL3LINESTRIKE            56.25         8.0\n",
       "9      CDLSHOOTINGSTAR            56.00        17.0\n",
       "10          CDLHIKKAKE            54.75       418.0\n",
       "11  CDLCLOSINGMARUBOZU            53.50       382.0\n",
       "12           CDLHAMMER            53.25        84.0\n",
       "13           CDLHARAMI            52.50       131.0\n",
       "14   CDLSTALLEDPATTERN            52.00        13.0\n",
       "15         CDLMARUBOZU            51.75       116.0\n",
       "16         CDLLONGLINE            50.50       598.0\n",
       "17       CDLHANGINGMAN            50.50        58.0"
      ]
     },
     "execution_count": 61,
     "metadata": {},
     "output_type": "execute_result"
    }
   ],
   "source": [
    "bnb50 = pd.read_csv('bnb50.csv')\n",
    "bnb50"
   ]
  },
  {
   "cell_type": "code",
   "execution_count": 62,
   "id": "8823f6ff",
   "metadata": {},
   "outputs": [
    {
     "data": {
      "text/plain": [
       "CDLLONGLINE           7.29\n",
       "CDLHIKKAKE            6.33\n",
       "CDLCLOSINGMARUBOZU    4.66\n",
       "CDLHARAMI             1.60\n",
       "CDLMARUBOZU           1.41\n",
       "CDLHAMMER             1.02\n",
       "CDLHANGINGMAN         0.71\n",
       "CDLHARAMICROSS        0.38\n",
       "CDL3INSIDE            0.23\n",
       "CDLSHOOTINGSTAR       0.21\n",
       "CDLEVENINGSTAR        0.16\n",
       "CDLSTALLEDPATTERN     0.16\n",
       "CDLMORNINGSTAR        0.12\n",
       "CDL3LINESTRIKE        0.10\n",
       "CDL3WHITESOLDIERS     0.05\n",
       "CDLMORNINGDOJISTAR    0.05\n",
       "CDLEVENINGDOJISTAR    0.04\n",
       "CDLHOMINGPIGEON       0.01\n",
       "Name: weekly_alerts, dtype: float64"
      ]
     },
     "execution_count": 62,
     "metadata": {},
     "output_type": "execute_result"
    }
   ],
   "source": [
    "df_bnb = pd.read_csv('bnb_patterns_4h.csv')\n",
    "stat_patterns_coin(bnb50['name'].tolist(), df_bnb)"
   ]
  },
  {
   "cell_type": "markdown",
   "id": "6770690c",
   "metadata": {},
   "source": [
    "### Ripple (XRP)"
   ]
  },
  {
   "cell_type": "code",
   "execution_count": 63,
   "id": "7a0da5c9",
   "metadata": {},
   "outputs": [
    {
     "data": {
      "text/html": [
       "<div>\n",
       "<style scoped>\n",
       "    .dataframe tbody tr th:only-of-type {\n",
       "        vertical-align: middle;\n",
       "    }\n",
       "\n",
       "    .dataframe tbody tr th {\n",
       "        vertical-align: top;\n",
       "    }\n",
       "\n",
       "    .dataframe thead th {\n",
       "        text-align: right;\n",
       "    }\n",
       "</style>\n",
       "<table border=\"1\" class=\"dataframe\">\n",
       "  <thead>\n",
       "    <tr style=\"text-align: right;\">\n",
       "      <th></th>\n",
       "      <th>name</th>\n",
       "      <th>prc_good_trades</th>\n",
       "      <th>num_trades</th>\n",
       "    </tr>\n",
       "  </thead>\n",
       "  <tbody>\n",
       "    <tr>\n",
       "      <th>0</th>\n",
       "      <td>CDLEVENINGSTAR</td>\n",
       "      <td>71.00</td>\n",
       "      <td>7.0</td>\n",
       "    </tr>\n",
       "    <tr>\n",
       "      <th>1</th>\n",
       "      <td>CDLSEPARATINGLINES</td>\n",
       "      <td>70.75</td>\n",
       "      <td>11.0</td>\n",
       "    </tr>\n",
       "    <tr>\n",
       "      <th>2</th>\n",
       "      <td>CDLSTALLEDPATTERN</td>\n",
       "      <td>62.50</td>\n",
       "      <td>4.0</td>\n",
       "    </tr>\n",
       "    <tr>\n",
       "      <th>3</th>\n",
       "      <td>CDLSHOOTINGSTAR</td>\n",
       "      <td>59.25</td>\n",
       "      <td>22.0</td>\n",
       "    </tr>\n",
       "    <tr>\n",
       "      <th>4</th>\n",
       "      <td>CDLGRAVESTONEDOJI</td>\n",
       "      <td>56.00</td>\n",
       "      <td>48.0</td>\n",
       "    </tr>\n",
       "    <tr>\n",
       "      <th>5</th>\n",
       "      <td>CDLXSIDEGAP3METHODS</td>\n",
       "      <td>55.25</td>\n",
       "      <td>14.0</td>\n",
       "    </tr>\n",
       "    <tr>\n",
       "      <th>6</th>\n",
       "      <td>CDLMATCHINGLOW</td>\n",
       "      <td>54.25</td>\n",
       "      <td>62.0</td>\n",
       "    </tr>\n",
       "    <tr>\n",
       "      <th>7</th>\n",
       "      <td>CDLDOJI</td>\n",
       "      <td>53.75</td>\n",
       "      <td>553.5</td>\n",
       "    </tr>\n",
       "    <tr>\n",
       "      <th>8</th>\n",
       "      <td>CDLLONGLEGGEDDOJI</td>\n",
       "      <td>53.75</td>\n",
       "      <td>552.5</td>\n",
       "    </tr>\n",
       "    <tr>\n",
       "      <th>9</th>\n",
       "      <td>CDLRICKSHAWMAN</td>\n",
       "      <td>53.00</td>\n",
       "      <td>409.5</td>\n",
       "    </tr>\n",
       "    <tr>\n",
       "      <th>10</th>\n",
       "      <td>CDLHIKKAKEMOD</td>\n",
       "      <td>53.00</td>\n",
       "      <td>8.0</td>\n",
       "    </tr>\n",
       "    <tr>\n",
       "      <th>11</th>\n",
       "      <td>CDLHARAMICROSS</td>\n",
       "      <td>52.25</td>\n",
       "      <td>22.0</td>\n",
       "    </tr>\n",
       "    <tr>\n",
       "      <th>12</th>\n",
       "      <td>CDLHIKKAKE</td>\n",
       "      <td>52.25</td>\n",
       "      <td>488.0</td>\n",
       "    </tr>\n",
       "    <tr>\n",
       "      <th>13</th>\n",
       "      <td>CDLDRAGONFLYDOJI</td>\n",
       "      <td>50.75</td>\n",
       "      <td>60.0</td>\n",
       "    </tr>\n",
       "    <tr>\n",
       "      <th>14</th>\n",
       "      <td>CDLTAKURI</td>\n",
       "      <td>50.25</td>\n",
       "      <td>60.0</td>\n",
       "    </tr>\n",
       "  </tbody>\n",
       "</table>\n",
       "</div>"
      ],
      "text/plain": [
       "                   name  prc_good_trades  num_trades\n",
       "0        CDLEVENINGSTAR            71.00         7.0\n",
       "1    CDLSEPARATINGLINES            70.75        11.0\n",
       "2     CDLSTALLEDPATTERN            62.50         4.0\n",
       "3       CDLSHOOTINGSTAR            59.25        22.0\n",
       "4     CDLGRAVESTONEDOJI            56.00        48.0\n",
       "5   CDLXSIDEGAP3METHODS            55.25        14.0\n",
       "6        CDLMATCHINGLOW            54.25        62.0\n",
       "7               CDLDOJI            53.75       553.5\n",
       "8     CDLLONGLEGGEDDOJI            53.75       552.5\n",
       "9        CDLRICKSHAWMAN            53.00       409.5\n",
       "10        CDLHIKKAKEMOD            53.00         8.0\n",
       "11       CDLHARAMICROSS            52.25        22.0\n",
       "12           CDLHIKKAKE            52.25       488.0\n",
       "13     CDLDRAGONFLYDOJI            50.75        60.0\n",
       "14            CDLTAKURI            50.25        60.0"
      ]
     },
     "execution_count": 63,
     "metadata": {},
     "output_type": "execute_result"
    }
   ],
   "source": [
    "xrp50 = pd.read_csv('xrp50.csv')\n",
    "xrp50"
   ]
  },
  {
   "cell_type": "code",
   "execution_count": 64,
   "id": "5f571d7a",
   "metadata": {},
   "outputs": [
    {
     "data": {
      "text/plain": [
       "CDLHIKKAKE             7.38\n",
       "CDLDOJI                6.76\n",
       "CDLLONGLEGGEDDOJI      6.74\n",
       "CDLRICKSHAWMAN         5.00\n",
       "CDLMATCHINGLOW         0.76\n",
       "CDLDRAGONFLYDOJI       0.73\n",
       "CDLTAKURI              0.73\n",
       "CDLGRAVESTONEDOJI      0.59\n",
       "CDLSHOOTINGSTAR        0.27\n",
       "CDLHARAMICROSS         0.27\n",
       "CDLXSIDEGAP3METHODS    0.17\n",
       "CDLHIKKAKEMOD          0.15\n",
       "CDLSEPARATINGLINES     0.13\n",
       "CDLEVENINGSTAR         0.09\n",
       "CDLSTALLEDPATTERN      0.05\n",
       "Name: weekly_alerts, dtype: float64"
      ]
     },
     "execution_count": 64,
     "metadata": {},
     "output_type": "execute_result"
    }
   ],
   "source": [
    "df_xrp = pd.read_csv('xrp_patterns_4h.csv')\n",
    "stat_patterns_coin(xrp50['name'].tolist(), df_xrp)"
   ]
  },
  {
   "cell_type": "markdown",
   "id": "82cd7994",
   "metadata": {},
   "source": [
    "### Cardano (ADA)"
   ]
  },
  {
   "cell_type": "code",
   "execution_count": 65,
   "id": "d7965529",
   "metadata": {},
   "outputs": [
    {
     "data": {
      "text/html": [
       "<div>\n",
       "<style scoped>\n",
       "    .dataframe tbody tr th:only-of-type {\n",
       "        vertical-align: middle;\n",
       "    }\n",
       "\n",
       "    .dataframe tbody tr th {\n",
       "        vertical-align: top;\n",
       "    }\n",
       "\n",
       "    .dataframe thead th {\n",
       "        text-align: right;\n",
       "    }\n",
       "</style>\n",
       "<table border=\"1\" class=\"dataframe\">\n",
       "  <thead>\n",
       "    <tr style=\"text-align: right;\">\n",
       "      <th></th>\n",
       "      <th>name</th>\n",
       "      <th>prc_good_trades</th>\n",
       "      <th>num_trades</th>\n",
       "    </tr>\n",
       "  </thead>\n",
       "  <tbody>\n",
       "    <tr>\n",
       "      <th>0</th>\n",
       "      <td>CDLTASUKIGAP</td>\n",
       "      <td>100.00</td>\n",
       "      <td>1.0</td>\n",
       "    </tr>\n",
       "    <tr>\n",
       "      <th>1</th>\n",
       "      <td>CDLSTICKSANDWICH</td>\n",
       "      <td>75.00</td>\n",
       "      <td>1.0</td>\n",
       "    </tr>\n",
       "    <tr>\n",
       "      <th>2</th>\n",
       "      <td>CDLGAPSIDESIDEWHITE</td>\n",
       "      <td>70.75</td>\n",
       "      <td>6.0</td>\n",
       "    </tr>\n",
       "    <tr>\n",
       "      <th>3</th>\n",
       "      <td>CDLHANGINGMAN</td>\n",
       "      <td>64.75</td>\n",
       "      <td>22.0</td>\n",
       "    </tr>\n",
       "    <tr>\n",
       "      <th>4</th>\n",
       "      <td>CDLINVERTEDHAMMER</td>\n",
       "      <td>61.75</td>\n",
       "      <td>15.0</td>\n",
       "    </tr>\n",
       "    <tr>\n",
       "      <th>5</th>\n",
       "      <td>CDLXSIDEGAP3METHODS</td>\n",
       "      <td>57.25</td>\n",
       "      <td>28.0</td>\n",
       "    </tr>\n",
       "    <tr>\n",
       "      <th>6</th>\n",
       "      <td>CDLDOJISTAR</td>\n",
       "      <td>52.50</td>\n",
       "      <td>24.0</td>\n",
       "    </tr>\n",
       "    <tr>\n",
       "      <th>7</th>\n",
       "      <td>CDLMARUBOZU</td>\n",
       "      <td>52.25</td>\n",
       "      <td>95.0</td>\n",
       "    </tr>\n",
       "    <tr>\n",
       "      <th>8</th>\n",
       "      <td>CDLSHOOTINGSTAR</td>\n",
       "      <td>52.00</td>\n",
       "      <td>12.0</td>\n",
       "    </tr>\n",
       "    <tr>\n",
       "      <th>9</th>\n",
       "      <td>CDLMATCHINGLOW</td>\n",
       "      <td>51.00</td>\n",
       "      <td>50.0</td>\n",
       "    </tr>\n",
       "    <tr>\n",
       "      <th>10</th>\n",
       "      <td>CDLSTALLEDPATTERN</td>\n",
       "      <td>50.25</td>\n",
       "      <td>11.0</td>\n",
       "    </tr>\n",
       "  </tbody>\n",
       "</table>\n",
       "</div>"
      ],
      "text/plain": [
       "                   name  prc_good_trades  num_trades\n",
       "0          CDLTASUKIGAP           100.00         1.0\n",
       "1      CDLSTICKSANDWICH            75.00         1.0\n",
       "2   CDLGAPSIDESIDEWHITE            70.75         6.0\n",
       "3         CDLHANGINGMAN            64.75        22.0\n",
       "4     CDLINVERTEDHAMMER            61.75        15.0\n",
       "5   CDLXSIDEGAP3METHODS            57.25        28.0\n",
       "6           CDLDOJISTAR            52.50        24.0\n",
       "7           CDLMARUBOZU            52.25        95.0\n",
       "8       CDLSHOOTINGSTAR            52.00        12.0\n",
       "9        CDLMATCHINGLOW            51.00        50.0\n",
       "10    CDLSTALLEDPATTERN            50.25        11.0"
      ]
     },
     "execution_count": 65,
     "metadata": {},
     "output_type": "execute_result"
    }
   ],
   "source": [
    "ada50 = pd.read_csv('ada50.csv')\n",
    "ada50"
   ]
  },
  {
   "cell_type": "code",
   "execution_count": 66,
   "id": "665278f1",
   "metadata": {},
   "outputs": [
    {
     "data": {
      "text/plain": [
       "CDLMARUBOZU            1.16\n",
       "CDLMATCHINGLOW         0.61\n",
       "CDLXSIDEGAP3METHODS    0.34\n",
       "CDLDOJISTAR            0.30\n",
       "CDLHANGINGMAN          0.27\n",
       "CDLINVERTEDHAMMER      0.18\n",
       "CDLSHOOTINGSTAR        0.15\n",
       "CDLSTALLEDPATTERN      0.13\n",
       "CDLGAPSIDESIDEWHITE    0.07\n",
       "CDLTASUKIGAP           0.01\n",
       "CDLSTICKSANDWICH       0.01\n",
       "Name: weekly_alerts, dtype: float64"
      ]
     },
     "execution_count": 66,
     "metadata": {},
     "output_type": "execute_result"
    }
   ],
   "source": [
    "df_ada = pd.read_csv('ada_patterns_4h.csv')\n",
    "stat_patterns_coin(ada50['name'].tolist(), df_ada)"
   ]
  },
  {
   "cell_type": "markdown",
   "id": "ae7d9b2d",
   "metadata": {},
   "source": [
    "### Cosmos (Atom)"
   ]
  },
  {
   "cell_type": "code",
   "execution_count": 67,
   "id": "c95e080d",
   "metadata": {},
   "outputs": [
    {
     "data": {
      "text/html": [
       "<div>\n",
       "<style scoped>\n",
       "    .dataframe tbody tr th:only-of-type {\n",
       "        vertical-align: middle;\n",
       "    }\n",
       "\n",
       "    .dataframe tbody tr th {\n",
       "        vertical-align: top;\n",
       "    }\n",
       "\n",
       "    .dataframe thead th {\n",
       "        text-align: right;\n",
       "    }\n",
       "</style>\n",
       "<table border=\"1\" class=\"dataframe\">\n",
       "  <thead>\n",
       "    <tr style=\"text-align: right;\">\n",
       "      <th></th>\n",
       "      <th>name</th>\n",
       "      <th>prc_good_trades</th>\n",
       "      <th>num_trades</th>\n",
       "    </tr>\n",
       "  </thead>\n",
       "  <tbody>\n",
       "    <tr>\n",
       "      <th>0</th>\n",
       "      <td>CDLPIERCING</td>\n",
       "      <td>75.00</td>\n",
       "      <td>1.0</td>\n",
       "    </tr>\n",
       "    <tr>\n",
       "      <th>1</th>\n",
       "      <td>CDLEVENINGDOJISTAR</td>\n",
       "      <td>65.00</td>\n",
       "      <td>5.0</td>\n",
       "    </tr>\n",
       "    <tr>\n",
       "      <th>2</th>\n",
       "      <td>CDL3LINESTRIKE</td>\n",
       "      <td>61.50</td>\n",
       "      <td>9.0</td>\n",
       "    </tr>\n",
       "    <tr>\n",
       "      <th>3</th>\n",
       "      <td>CDL3WHITESOLDIERS</td>\n",
       "      <td>58.50</td>\n",
       "      <td>3.0</td>\n",
       "    </tr>\n",
       "    <tr>\n",
       "      <th>4</th>\n",
       "      <td>CDLSTALLEDPATTERN</td>\n",
       "      <td>57.50</td>\n",
       "      <td>10.0</td>\n",
       "    </tr>\n",
       "    <tr>\n",
       "      <th>5</th>\n",
       "      <td>CDLEVENINGSTAR</td>\n",
       "      <td>56.25</td>\n",
       "      <td>16.0</td>\n",
       "    </tr>\n",
       "    <tr>\n",
       "      <th>6</th>\n",
       "      <td>CDLINVERTEDHAMMER</td>\n",
       "      <td>56.00</td>\n",
       "      <td>13.0</td>\n",
       "    </tr>\n",
       "    <tr>\n",
       "      <th>7</th>\n",
       "      <td>CDLHARAMI</td>\n",
       "      <td>53.75</td>\n",
       "      <td>147.0</td>\n",
       "    </tr>\n",
       "    <tr>\n",
       "      <th>8</th>\n",
       "      <td>CDLMARUBOZU</td>\n",
       "      <td>52.50</td>\n",
       "      <td>126.0</td>\n",
       "    </tr>\n",
       "    <tr>\n",
       "      <th>9</th>\n",
       "      <td>CDLHANGINGMAN</td>\n",
       "      <td>52.00</td>\n",
       "      <td>48.0</td>\n",
       "    </tr>\n",
       "    <tr>\n",
       "      <th>10</th>\n",
       "      <td>CDLCLOSINGMARUBOZU</td>\n",
       "      <td>51.25</td>\n",
       "      <td>394.0</td>\n",
       "    </tr>\n",
       "    <tr>\n",
       "      <th>11</th>\n",
       "      <td>CDLRICKSHAWMAN</td>\n",
       "      <td>50.75</td>\n",
       "      <td>373.0</td>\n",
       "    </tr>\n",
       "    <tr>\n",
       "      <th>12</th>\n",
       "      <td>CDLSHORTLINE</td>\n",
       "      <td>50.25</td>\n",
       "      <td>514.0</td>\n",
       "    </tr>\n",
       "  </tbody>\n",
       "</table>\n",
       "</div>"
      ],
      "text/plain": [
       "                  name  prc_good_trades  num_trades\n",
       "0          CDLPIERCING            75.00         1.0\n",
       "1   CDLEVENINGDOJISTAR            65.00         5.0\n",
       "2       CDL3LINESTRIKE            61.50         9.0\n",
       "3    CDL3WHITESOLDIERS            58.50         3.0\n",
       "4    CDLSTALLEDPATTERN            57.50        10.0\n",
       "5       CDLEVENINGSTAR            56.25        16.0\n",
       "6    CDLINVERTEDHAMMER            56.00        13.0\n",
       "7            CDLHARAMI            53.75       147.0\n",
       "8          CDLMARUBOZU            52.50       126.0\n",
       "9        CDLHANGINGMAN            52.00        48.0\n",
       "10  CDLCLOSINGMARUBOZU            51.25       394.0\n",
       "11      CDLRICKSHAWMAN            50.75       373.0\n",
       "12        CDLSHORTLINE            50.25       514.0"
      ]
     },
     "execution_count": 67,
     "metadata": {},
     "output_type": "execute_result"
    }
   ],
   "source": [
    "atom50 = pd.read_csv('atom50.csv')\n",
    "atom50"
   ]
  },
  {
   "cell_type": "code",
   "execution_count": null,
   "id": "61ae353d",
   "metadata": {},
   "outputs": [],
   "source": []
  },
  {
   "cell_type": "code",
   "execution_count": 68,
   "id": "e126d89b",
   "metadata": {},
   "outputs": [
    {
     "data": {
      "text/plain": [
       "CDLSHORTLINE          6.27\n",
       "CDLCLOSINGMARUBOZU    4.80\n",
       "CDLRICKSHAWMAN        4.55\n",
       "CDLHARAMI             1.79\n",
       "CDLMARUBOZU           1.54\n",
       "CDLHANGINGMAN         0.59\n",
       "CDLEVENINGSTAR        0.20\n",
       "CDLINVERTEDHAMMER     0.16\n",
       "CDLSTALLEDPATTERN     0.12\n",
       "CDL3LINESTRIKE        0.11\n",
       "CDLEVENINGDOJISTAR    0.06\n",
       "CDL3WHITESOLDIERS     0.04\n",
       "CDLPIERCING           0.01\n",
       "Name: weekly_alerts, dtype: float64"
      ]
     },
     "execution_count": 68,
     "metadata": {},
     "output_type": "execute_result"
    }
   ],
   "source": [
    "df_atom = pd.read_csv('atom_patterns_4h.csv')\n",
    "stat_patterns_coin(atom50['name'].tolist(), df_atom)"
   ]
  },
  {
   "cell_type": "markdown",
   "id": "980c4677",
   "metadata": {},
   "source": [
    "### Fantom (FTT)"
   ]
  },
  {
   "cell_type": "code",
   "execution_count": 69,
   "id": "bc7c2779",
   "metadata": {},
   "outputs": [
    {
     "data": {
      "text/html": [
       "<div>\n",
       "<style scoped>\n",
       "    .dataframe tbody tr th:only-of-type {\n",
       "        vertical-align: middle;\n",
       "    }\n",
       "\n",
       "    .dataframe tbody tr th {\n",
       "        vertical-align: top;\n",
       "    }\n",
       "\n",
       "    .dataframe thead th {\n",
       "        text-align: right;\n",
       "    }\n",
       "</style>\n",
       "<table border=\"1\" class=\"dataframe\">\n",
       "  <thead>\n",
       "    <tr style=\"text-align: right;\">\n",
       "      <th></th>\n",
       "      <th>name</th>\n",
       "      <th>prc_good_trades</th>\n",
       "      <th>num_trades</th>\n",
       "    </tr>\n",
       "  </thead>\n",
       "  <tbody>\n",
       "    <tr>\n",
       "      <th>0</th>\n",
       "      <td>CDLIDENTICAL3CROWS</td>\n",
       "      <td>100.00</td>\n",
       "      <td>2.0</td>\n",
       "    </tr>\n",
       "    <tr>\n",
       "      <th>1</th>\n",
       "      <td>CDLRISEFALL3METHODS</td>\n",
       "      <td>100.00</td>\n",
       "      <td>1.0</td>\n",
       "    </tr>\n",
       "    <tr>\n",
       "      <th>2</th>\n",
       "      <td>CDLTHRUSTING</td>\n",
       "      <td>100.00</td>\n",
       "      <td>1.0</td>\n",
       "    </tr>\n",
       "    <tr>\n",
       "      <th>3</th>\n",
       "      <td>CDLLADDERBOTTOM</td>\n",
       "      <td>100.00</td>\n",
       "      <td>1.0</td>\n",
       "    </tr>\n",
       "    <tr>\n",
       "      <th>4</th>\n",
       "      <td>CDLHIKKAKEMOD</td>\n",
       "      <td>62.50</td>\n",
       "      <td>2.0</td>\n",
       "    </tr>\n",
       "    <tr>\n",
       "      <th>5</th>\n",
       "      <td>CDLMORNINGSTAR</td>\n",
       "      <td>59.75</td>\n",
       "      <td>13.0</td>\n",
       "    </tr>\n",
       "    <tr>\n",
       "      <th>6</th>\n",
       "      <td>CDLSHOOTINGSTAR</td>\n",
       "      <td>59.75</td>\n",
       "      <td>29.0</td>\n",
       "    </tr>\n",
       "    <tr>\n",
       "      <th>7</th>\n",
       "      <td>CDL3LINESTRIKE</td>\n",
       "      <td>55.25</td>\n",
       "      <td>14.0</td>\n",
       "    </tr>\n",
       "    <tr>\n",
       "      <th>8</th>\n",
       "      <td>CDLEVENINGDOJISTAR</td>\n",
       "      <td>54.25</td>\n",
       "      <td>6.0</td>\n",
       "    </tr>\n",
       "    <tr>\n",
       "      <th>9</th>\n",
       "      <td>CDLCLOSINGMARUBOZU</td>\n",
       "      <td>54.25</td>\n",
       "      <td>449.0</td>\n",
       "    </tr>\n",
       "    <tr>\n",
       "      <th>10</th>\n",
       "      <td>CDLEVENINGSTAR</td>\n",
       "      <td>54.25</td>\n",
       "      <td>18.0</td>\n",
       "    </tr>\n",
       "    <tr>\n",
       "      <th>11</th>\n",
       "      <td>CDLMORNINGDOJISTAR</td>\n",
       "      <td>53.50</td>\n",
       "      <td>7.0</td>\n",
       "    </tr>\n",
       "    <tr>\n",
       "      <th>12</th>\n",
       "      <td>CDL3OUTSIDE</td>\n",
       "      <td>53.25</td>\n",
       "      <td>145.0</td>\n",
       "    </tr>\n",
       "    <tr>\n",
       "      <th>13</th>\n",
       "      <td>CDLDOJISTAR</td>\n",
       "      <td>53.25</td>\n",
       "      <td>44.0</td>\n",
       "    </tr>\n",
       "    <tr>\n",
       "      <th>14</th>\n",
       "      <td>CDLMATCHINGLOW</td>\n",
       "      <td>52.75</td>\n",
       "      <td>46.0</td>\n",
       "    </tr>\n",
       "    <tr>\n",
       "      <th>15</th>\n",
       "      <td>CDLMARUBOZU</td>\n",
       "      <td>52.25</td>\n",
       "      <td>157.0</td>\n",
       "    </tr>\n",
       "    <tr>\n",
       "      <th>16</th>\n",
       "      <td>CDLRICKSHAWMAN</td>\n",
       "      <td>51.50</td>\n",
       "      <td>367.0</td>\n",
       "    </tr>\n",
       "    <tr>\n",
       "      <th>17</th>\n",
       "      <td>CDLHIKKAKE</td>\n",
       "      <td>51.50</td>\n",
       "      <td>362.0</td>\n",
       "    </tr>\n",
       "    <tr>\n",
       "      <th>18</th>\n",
       "      <td>CDLLONGLINE</td>\n",
       "      <td>51.00</td>\n",
       "      <td>633.5</td>\n",
       "    </tr>\n",
       "    <tr>\n",
       "      <th>19</th>\n",
       "      <td>CDLDOJI</td>\n",
       "      <td>50.25</td>\n",
       "      <td>463.0</td>\n",
       "    </tr>\n",
       "  </tbody>\n",
       "</table>\n",
       "</div>"
      ],
      "text/plain": [
       "                   name  prc_good_trades  num_trades\n",
       "0    CDLIDENTICAL3CROWS           100.00         2.0\n",
       "1   CDLRISEFALL3METHODS           100.00         1.0\n",
       "2          CDLTHRUSTING           100.00         1.0\n",
       "3       CDLLADDERBOTTOM           100.00         1.0\n",
       "4         CDLHIKKAKEMOD            62.50         2.0\n",
       "5        CDLMORNINGSTAR            59.75        13.0\n",
       "6       CDLSHOOTINGSTAR            59.75        29.0\n",
       "7        CDL3LINESTRIKE            55.25        14.0\n",
       "8    CDLEVENINGDOJISTAR            54.25         6.0\n",
       "9    CDLCLOSINGMARUBOZU            54.25       449.0\n",
       "10       CDLEVENINGSTAR            54.25        18.0\n",
       "11   CDLMORNINGDOJISTAR            53.50         7.0\n",
       "12          CDL3OUTSIDE            53.25       145.0\n",
       "13          CDLDOJISTAR            53.25        44.0\n",
       "14       CDLMATCHINGLOW            52.75        46.0\n",
       "15          CDLMARUBOZU            52.25       157.0\n",
       "16       CDLRICKSHAWMAN            51.50       367.0\n",
       "17           CDLHIKKAKE            51.50       362.0\n",
       "18          CDLLONGLINE            51.00       633.5\n",
       "19              CDLDOJI            50.25       463.0"
      ]
     },
     "execution_count": 69,
     "metadata": {},
     "output_type": "execute_result"
    }
   ],
   "source": [
    "ftt50 = pd.read_csv('ftt50.csv')\n",
    "ftt50"
   ]
  },
  {
   "cell_type": "code",
   "execution_count": 70,
   "id": "3e4d4893",
   "metadata": {},
   "outputs": [
    {
     "data": {
      "text/plain": [
       "CDLLONGLINE            7.73\n",
       "CDLDOJI                5.66\n",
       "CDLHIKKAKE             5.61\n",
       "CDLCLOSINGMARUBOZU     5.48\n",
       "CDLRICKSHAWMAN         4.49\n",
       "CDLMARUBOZU            1.91\n",
       "CDL3OUTSIDE            1.77\n",
       "CDLMATCHINGLOW         0.56\n",
       "CDLDOJISTAR            0.54\n",
       "CDLSHOOTINGSTAR        0.35\n",
       "CDLEVENINGSTAR         0.22\n",
       "CDL3LINESTRIKE         0.17\n",
       "CDLMORNINGSTAR         0.16\n",
       "CDLMORNINGDOJISTAR     0.09\n",
       "CDLEVENINGDOJISTAR     0.07\n",
       "CDLHIKKAKEMOD          0.02\n",
       "CDLIDENTICAL3CROWS     0.02\n",
       "CDLRISEFALL3METHODS    0.01\n",
       "CDLLADDERBOTTOM        0.01\n",
       "CDLTHRUSTING           0.01\n",
       "Name: weekly_alerts, dtype: float64"
      ]
     },
     "execution_count": 70,
     "metadata": {},
     "output_type": "execute_result"
    }
   ],
   "source": [
    "df_ftt = pd.read_csv('ftt_patterns_4h.csv')\n",
    "stat_patterns_coin(ftt50['name'].tolist(), df_ftt)"
   ]
  },
  {
   "cell_type": "markdown",
   "id": "82823cef",
   "metadata": {},
   "source": [
    "### Litecoin (LTC)"
   ]
  },
  {
   "cell_type": "code",
   "execution_count": 71,
   "id": "2fe26761",
   "metadata": {},
   "outputs": [
    {
     "data": {
      "text/html": [
       "<div>\n",
       "<style scoped>\n",
       "    .dataframe tbody tr th:only-of-type {\n",
       "        vertical-align: middle;\n",
       "    }\n",
       "\n",
       "    .dataframe tbody tr th {\n",
       "        vertical-align: top;\n",
       "    }\n",
       "\n",
       "    .dataframe thead th {\n",
       "        text-align: right;\n",
       "    }\n",
       "</style>\n",
       "<table border=\"1\" class=\"dataframe\">\n",
       "  <thead>\n",
       "    <tr style=\"text-align: right;\">\n",
       "      <th></th>\n",
       "      <th>name</th>\n",
       "      <th>prc_good_trades</th>\n",
       "      <th>num_trades</th>\n",
       "    </tr>\n",
       "  </thead>\n",
       "  <tbody>\n",
       "    <tr>\n",
       "      <th>0</th>\n",
       "      <td>CDLDOJISTAR</td>\n",
       "      <td>62.50</td>\n",
       "      <td>26.0</td>\n",
       "    </tr>\n",
       "    <tr>\n",
       "      <th>1</th>\n",
       "      <td>CDLHANGINGMAN</td>\n",
       "      <td>56.00</td>\n",
       "      <td>46.0</td>\n",
       "    </tr>\n",
       "    <tr>\n",
       "      <th>2</th>\n",
       "      <td>CDLMORNINGSTAR</td>\n",
       "      <td>55.00</td>\n",
       "      <td>10.0</td>\n",
       "    </tr>\n",
       "    <tr>\n",
       "      <th>3</th>\n",
       "      <td>CDLHARAMICROSS</td>\n",
       "      <td>54.25</td>\n",
       "      <td>29.0</td>\n",
       "    </tr>\n",
       "    <tr>\n",
       "      <th>4</th>\n",
       "      <td>CDLHAMMER</td>\n",
       "      <td>54.00</td>\n",
       "      <td>77.0</td>\n",
       "    </tr>\n",
       "    <tr>\n",
       "      <th>5</th>\n",
       "      <td>CDLEVENINGSTAR</td>\n",
       "      <td>53.75</td>\n",
       "      <td>19.0</td>\n",
       "    </tr>\n",
       "    <tr>\n",
       "      <th>6</th>\n",
       "      <td>CDL3INSIDE</td>\n",
       "      <td>53.00</td>\n",
       "      <td>24.0</td>\n",
       "    </tr>\n",
       "    <tr>\n",
       "      <th>7</th>\n",
       "      <td>CDLHIKKAKE</td>\n",
       "      <td>52.50</td>\n",
       "      <td>368.0</td>\n",
       "    </tr>\n",
       "    <tr>\n",
       "      <th>8</th>\n",
       "      <td>CDL3LINESTRIKE</td>\n",
       "      <td>52.50</td>\n",
       "      <td>10.0</td>\n",
       "    </tr>\n",
       "    <tr>\n",
       "      <th>9</th>\n",
       "      <td>CDLDOJI</td>\n",
       "      <td>51.75</td>\n",
       "      <td>511.0</td>\n",
       "    </tr>\n",
       "    <tr>\n",
       "      <th>10</th>\n",
       "      <td>CDLRICKSHAWMAN</td>\n",
       "      <td>51.50</td>\n",
       "      <td>402.0</td>\n",
       "    </tr>\n",
       "    <tr>\n",
       "      <th>11</th>\n",
       "      <td>CDLLONGLEGGEDDOJI</td>\n",
       "      <td>51.50</td>\n",
       "      <td>510.0</td>\n",
       "    </tr>\n",
       "    <tr>\n",
       "      <th>12</th>\n",
       "      <td>CDLHARAMI</td>\n",
       "      <td>51.50</td>\n",
       "      <td>116.0</td>\n",
       "    </tr>\n",
       "  </tbody>\n",
       "</table>\n",
       "</div>"
      ],
      "text/plain": [
       "                 name  prc_good_trades  num_trades\n",
       "0         CDLDOJISTAR            62.50        26.0\n",
       "1       CDLHANGINGMAN            56.00        46.0\n",
       "2      CDLMORNINGSTAR            55.00        10.0\n",
       "3      CDLHARAMICROSS            54.25        29.0\n",
       "4           CDLHAMMER            54.00        77.0\n",
       "5      CDLEVENINGSTAR            53.75        19.0\n",
       "6          CDL3INSIDE            53.00        24.0\n",
       "7          CDLHIKKAKE            52.50       368.0\n",
       "8      CDL3LINESTRIKE            52.50        10.0\n",
       "9             CDLDOJI            51.75       511.0\n",
       "10     CDLRICKSHAWMAN            51.50       402.0\n",
       "11  CDLLONGLEGGEDDOJI            51.50       510.0\n",
       "12          CDLHARAMI            51.50       116.0"
      ]
     },
     "execution_count": 71,
     "metadata": {},
     "output_type": "execute_result"
    }
   ],
   "source": [
    "ltc50 = pd.read_csv('ltc50.csv')\n",
    "ltc50"
   ]
  },
  {
   "cell_type": "code",
   "execution_count": 72,
   "id": "7e9f7772",
   "metadata": {},
   "outputs": [
    {
     "data": {
      "text/plain": [
       "CDLDOJI              6.24\n",
       "CDLLONGLEGGEDDOJI    6.23\n",
       "CDLHIKKAKE           5.51\n",
       "CDLRICKSHAWMAN       4.90\n",
       "CDLHARAMI            1.41\n",
       "CDLHAMMER            0.94\n",
       "CDLHANGINGMAN        0.56\n",
       "CDLHARAMICROSS       0.35\n",
       "CDLDOJISTAR          0.32\n",
       "CDL3INSIDE           0.29\n",
       "CDLEVENINGSTAR       0.23\n",
       "CDLMORNINGSTAR       0.12\n",
       "CDL3LINESTRIKE       0.12\n",
       "Name: weekly_alerts, dtype: float64"
      ]
     },
     "execution_count": 72,
     "metadata": {},
     "output_type": "execute_result"
    }
   ],
   "source": [
    "df_ltc = pd.read_csv('ltc_patterns_4h.csv')\n",
    "stat_patterns_coin(ltc50['name'].tolist(), df_ltc)"
   ]
  },
  {
   "cell_type": "markdown",
   "id": "8edb95e8",
   "metadata": {},
   "source": [
    "### Avalanche (AVAX)"
   ]
  },
  {
   "cell_type": "code",
   "execution_count": 73,
   "id": "ec752f3f",
   "metadata": {},
   "outputs": [
    {
     "data": {
      "text/html": [
       "<div>\n",
       "<style scoped>\n",
       "    .dataframe tbody tr th:only-of-type {\n",
       "        vertical-align: middle;\n",
       "    }\n",
       "\n",
       "    .dataframe tbody tr th {\n",
       "        vertical-align: top;\n",
       "    }\n",
       "\n",
       "    .dataframe thead th {\n",
       "        text-align: right;\n",
       "    }\n",
       "</style>\n",
       "<table border=\"1\" class=\"dataframe\">\n",
       "  <thead>\n",
       "    <tr style=\"text-align: right;\">\n",
       "      <th></th>\n",
       "      <th>name</th>\n",
       "      <th>prc_good_trades</th>\n",
       "      <th>num_trades</th>\n",
       "    </tr>\n",
       "  </thead>\n",
       "  <tbody>\n",
       "    <tr>\n",
       "      <th>0</th>\n",
       "      <td>CDLGAPSIDESIDEWHITE</td>\n",
       "      <td>100.00</td>\n",
       "      <td>3.0</td>\n",
       "    </tr>\n",
       "    <tr>\n",
       "      <th>1</th>\n",
       "      <td>CDLMORNINGDOJISTAR</td>\n",
       "      <td>66.75</td>\n",
       "      <td>6.0</td>\n",
       "    </tr>\n",
       "    <tr>\n",
       "      <th>2</th>\n",
       "      <td>CDLMORNINGSTAR</td>\n",
       "      <td>61.75</td>\n",
       "      <td>15.0</td>\n",
       "    </tr>\n",
       "    <tr>\n",
       "      <th>3</th>\n",
       "      <td>CDLDOJISTAR</td>\n",
       "      <td>59.50</td>\n",
       "      <td>37.0</td>\n",
       "    </tr>\n",
       "    <tr>\n",
       "      <th>4</th>\n",
       "      <td>CDLHARAMICROSS</td>\n",
       "      <td>59.00</td>\n",
       "      <td>30.0</td>\n",
       "    </tr>\n",
       "    <tr>\n",
       "      <th>5</th>\n",
       "      <td>CDLSEPARATINGLINES</td>\n",
       "      <td>58.75</td>\n",
       "      <td>14.0</td>\n",
       "    </tr>\n",
       "    <tr>\n",
       "      <th>6</th>\n",
       "      <td>CDLTAKURI</td>\n",
       "      <td>57.75</td>\n",
       "      <td>54.0</td>\n",
       "    </tr>\n",
       "    <tr>\n",
       "      <th>7</th>\n",
       "      <td>CDLHANGINGMAN</td>\n",
       "      <td>57.50</td>\n",
       "      <td>43.0</td>\n",
       "    </tr>\n",
       "    <tr>\n",
       "      <th>8</th>\n",
       "      <td>CDLDRAGONFLYDOJI</td>\n",
       "      <td>56.50</td>\n",
       "      <td>56.0</td>\n",
       "    </tr>\n",
       "    <tr>\n",
       "      <th>9</th>\n",
       "      <td>CDLSHOOTINGSTAR</td>\n",
       "      <td>55.00</td>\n",
       "      <td>24.0</td>\n",
       "    </tr>\n",
       "    <tr>\n",
       "      <th>10</th>\n",
       "      <td>CDLSTALLEDPATTERN</td>\n",
       "      <td>52.50</td>\n",
       "      <td>10.0</td>\n",
       "    </tr>\n",
       "    <tr>\n",
       "      <th>11</th>\n",
       "      <td>CDLHIKKAKE</td>\n",
       "      <td>52.25</td>\n",
       "      <td>395.0</td>\n",
       "    </tr>\n",
       "    <tr>\n",
       "      <th>12</th>\n",
       "      <td>CDLHIGHWAVE</td>\n",
       "      <td>52.25</td>\n",
       "      <td>443.0</td>\n",
       "    </tr>\n",
       "    <tr>\n",
       "      <th>13</th>\n",
       "      <td>CDLINVERTEDHAMMER</td>\n",
       "      <td>52.00</td>\n",
       "      <td>13.0</td>\n",
       "    </tr>\n",
       "    <tr>\n",
       "      <th>14</th>\n",
       "      <td>CDLXSIDEGAP3METHODS</td>\n",
       "      <td>51.75</td>\n",
       "      <td>27.0</td>\n",
       "    </tr>\n",
       "    <tr>\n",
       "      <th>15</th>\n",
       "      <td>CDLHARAMI</td>\n",
       "      <td>51.00</td>\n",
       "      <td>139.0</td>\n",
       "    </tr>\n",
       "    <tr>\n",
       "      <th>16</th>\n",
       "      <td>CDLSPINNINGTOP</td>\n",
       "      <td>51.00</td>\n",
       "      <td>746.0</td>\n",
       "    </tr>\n",
       "  </tbody>\n",
       "</table>\n",
       "</div>"
      ],
      "text/plain": [
       "                   name  prc_good_trades  num_trades\n",
       "0   CDLGAPSIDESIDEWHITE           100.00         3.0\n",
       "1    CDLMORNINGDOJISTAR            66.75         6.0\n",
       "2        CDLMORNINGSTAR            61.75        15.0\n",
       "3           CDLDOJISTAR            59.50        37.0\n",
       "4        CDLHARAMICROSS            59.00        30.0\n",
       "5    CDLSEPARATINGLINES            58.75        14.0\n",
       "6             CDLTAKURI            57.75        54.0\n",
       "7         CDLHANGINGMAN            57.50        43.0\n",
       "8      CDLDRAGONFLYDOJI            56.50        56.0\n",
       "9       CDLSHOOTINGSTAR            55.00        24.0\n",
       "10    CDLSTALLEDPATTERN            52.50        10.0\n",
       "11           CDLHIKKAKE            52.25       395.0\n",
       "12          CDLHIGHWAVE            52.25       443.0\n",
       "13    CDLINVERTEDHAMMER            52.00        13.0\n",
       "14  CDLXSIDEGAP3METHODS            51.75        27.0\n",
       "15            CDLHARAMI            51.00       139.0\n",
       "16       CDLSPINNINGTOP            51.00       746.0"
      ]
     },
     "execution_count": 73,
     "metadata": {},
     "output_type": "execute_result"
    }
   ],
   "source": [
    "avax50 = pd.read_csv('avax50.csv')\n",
    "avax50"
   ]
  },
  {
   "cell_type": "code",
   "execution_count": 74,
   "id": "fcaf1706",
   "metadata": {},
   "outputs": [
    {
     "data": {
      "text/plain": [
       "CDLSPINNINGTOP         9.11\n",
       "CDLHIKKAKE             6.21\n",
       "CDLHIGHWAVE            5.41\n",
       "CDLHARAMI              1.70\n",
       "CDLDRAGONFLYDOJI       0.68\n",
       "CDLTAKURI              0.66\n",
       "CDLHANGINGMAN          0.52\n",
       "CDLDOJISTAR            0.45\n",
       "CDLHARAMICROSS         0.37\n",
       "CDLXSIDEGAP3METHODS    0.33\n",
       "CDLSHOOTINGSTAR        0.29\n",
       "CDLMORNINGSTAR         0.18\n",
       "CDLSEPARATINGLINES     0.17\n",
       "CDLINVERTEDHAMMER      0.16\n",
       "CDLSTALLEDPATTERN      0.12\n",
       "CDLMORNINGDOJISTAR     0.07\n",
       "CDLGAPSIDESIDEWHITE    0.04\n",
       "Name: weekly_alerts, dtype: float64"
      ]
     },
     "execution_count": 74,
     "metadata": {},
     "output_type": "execute_result"
    }
   ],
   "source": [
    "df_avax = pd.read_csv('avax_patterns_4h.csv')\n",
    "stat_patterns_coin(avax50['name'].tolist(), df_avax)"
   ]
  },
  {
   "cell_type": "markdown",
   "id": "2a3c1041",
   "metadata": {},
   "source": [
    "### Polkadot (DOT)"
   ]
  },
  {
   "cell_type": "code",
   "execution_count": 75,
   "id": "05f57d0f",
   "metadata": {},
   "outputs": [
    {
     "data": {
      "text/html": [
       "<div>\n",
       "<style scoped>\n",
       "    .dataframe tbody tr th:only-of-type {\n",
       "        vertical-align: middle;\n",
       "    }\n",
       "\n",
       "    .dataframe tbody tr th {\n",
       "        vertical-align: top;\n",
       "    }\n",
       "\n",
       "    .dataframe thead th {\n",
       "        text-align: right;\n",
       "    }\n",
       "</style>\n",
       "<table border=\"1\" class=\"dataframe\">\n",
       "  <thead>\n",
       "    <tr style=\"text-align: right;\">\n",
       "      <th></th>\n",
       "      <th>name</th>\n",
       "      <th>prc_good_trades</th>\n",
       "      <th>num_trades</th>\n",
       "    </tr>\n",
       "  </thead>\n",
       "  <tbody>\n",
       "    <tr>\n",
       "      <th>0</th>\n",
       "      <td>CDLIDENTICAL3CROWS</td>\n",
       "      <td>100.00</td>\n",
       "      <td>2.0</td>\n",
       "    </tr>\n",
       "    <tr>\n",
       "      <th>1</th>\n",
       "      <td>CDLHANGINGMAN</td>\n",
       "      <td>64.00</td>\n",
       "      <td>37.0</td>\n",
       "    </tr>\n",
       "    <tr>\n",
       "      <th>2</th>\n",
       "      <td>CDLSEPARATINGLINES</td>\n",
       "      <td>61.75</td>\n",
       "      <td>13.0</td>\n",
       "    </tr>\n",
       "    <tr>\n",
       "      <th>3</th>\n",
       "      <td>CDLMORNINGSTAR</td>\n",
       "      <td>55.00</td>\n",
       "      <td>10.0</td>\n",
       "    </tr>\n",
       "    <tr>\n",
       "      <th>4</th>\n",
       "      <td>CDLHIKKAKE</td>\n",
       "      <td>53.50</td>\n",
       "      <td>417.0</td>\n",
       "    </tr>\n",
       "    <tr>\n",
       "      <th>5</th>\n",
       "      <td>CDLRICKSHAWMAN</td>\n",
       "      <td>51.50</td>\n",
       "      <td>364.0</td>\n",
       "    </tr>\n",
       "    <tr>\n",
       "      <th>6</th>\n",
       "      <td>CDLBELTHOLD</td>\n",
       "      <td>50.50</td>\n",
       "      <td>432.0</td>\n",
       "    </tr>\n",
       "    <tr>\n",
       "      <th>7</th>\n",
       "      <td>CDLHIGHWAVE</td>\n",
       "      <td>50.25</td>\n",
       "      <td>455.0</td>\n",
       "    </tr>\n",
       "  </tbody>\n",
       "</table>\n",
       "</div>"
      ],
      "text/plain": [
       "                 name  prc_good_trades  num_trades\n",
       "0  CDLIDENTICAL3CROWS           100.00         2.0\n",
       "1       CDLHANGINGMAN            64.00        37.0\n",
       "2  CDLSEPARATINGLINES            61.75        13.0\n",
       "3      CDLMORNINGSTAR            55.00        10.0\n",
       "4          CDLHIKKAKE            53.50       417.0\n",
       "5      CDLRICKSHAWMAN            51.50       364.0\n",
       "6         CDLBELTHOLD            50.50       432.0\n",
       "7         CDLHIGHWAVE            50.25       455.0"
      ]
     },
     "execution_count": 75,
     "metadata": {},
     "output_type": "execute_result"
    }
   ],
   "source": [
    "dot50 = pd.read_csv('dot50.csv')\n",
    "dot50"
   ]
  },
  {
   "cell_type": "code",
   "execution_count": 76,
   "id": "81787ba2",
   "metadata": {},
   "outputs": [
    {
     "data": {
      "text/plain": [
       "CDLHIKKAKE            6.52\n",
       "CDLHIGHWAVE           5.55\n",
       "CDLBELTHOLD           5.27\n",
       "CDLRICKSHAWMAN        4.44\n",
       "CDLHANGINGMAN         0.45\n",
       "CDLSEPARATINGLINES    0.16\n",
       "CDLMORNINGSTAR        0.12\n",
       "CDLIDENTICAL3CROWS    0.02\n",
       "Name: weekly_alerts, dtype: float64"
      ]
     },
     "execution_count": 76,
     "metadata": {},
     "output_type": "execute_result"
    }
   ],
   "source": [
    "df_dot = pd.read_csv('dot_patterns_4h.csv')\n",
    "stat_patterns_coin(dot50['name'].tolist(), df_dot)"
   ]
  },
  {
   "cell_type": "markdown",
   "id": "45e5e4d7",
   "metadata": {},
   "source": [
    "### Polygon (MATIC)"
   ]
  },
  {
   "cell_type": "code",
   "execution_count": 77,
   "id": "b706a4a1",
   "metadata": {},
   "outputs": [
    {
     "data": {
      "text/html": [
       "<div>\n",
       "<style scoped>\n",
       "    .dataframe tbody tr th:only-of-type {\n",
       "        vertical-align: middle;\n",
       "    }\n",
       "\n",
       "    .dataframe tbody tr th {\n",
       "        vertical-align: top;\n",
       "    }\n",
       "\n",
       "    .dataframe thead th {\n",
       "        text-align: right;\n",
       "    }\n",
       "</style>\n",
       "<table border=\"1\" class=\"dataframe\">\n",
       "  <thead>\n",
       "    <tr style=\"text-align: right;\">\n",
       "      <th></th>\n",
       "      <th>name</th>\n",
       "      <th>prc_good_trades</th>\n",
       "      <th>num_trades</th>\n",
       "    </tr>\n",
       "  </thead>\n",
       "  <tbody>\n",
       "    <tr>\n",
       "      <th>0</th>\n",
       "      <td>CDLEVENINGDOJISTAR</td>\n",
       "      <td>100.00</td>\n",
       "      <td>1.0</td>\n",
       "    </tr>\n",
       "    <tr>\n",
       "      <th>1</th>\n",
       "      <td>CDL3WHITESOLDIERS</td>\n",
       "      <td>100.00</td>\n",
       "      <td>1.0</td>\n",
       "    </tr>\n",
       "    <tr>\n",
       "      <th>2</th>\n",
       "      <td>CDLHOMINGPIGEON</td>\n",
       "      <td>100.00</td>\n",
       "      <td>1.0</td>\n",
       "    </tr>\n",
       "    <tr>\n",
       "      <th>3</th>\n",
       "      <td>CDLRISEFALL3METHODS</td>\n",
       "      <td>87.50</td>\n",
       "      <td>2.0</td>\n",
       "    </tr>\n",
       "    <tr>\n",
       "      <th>4</th>\n",
       "      <td>CDL3LINESTRIKE</td>\n",
       "      <td>65.50</td>\n",
       "      <td>8.0</td>\n",
       "    </tr>\n",
       "    <tr>\n",
       "      <th>5</th>\n",
       "      <td>CDL3INSIDE</td>\n",
       "      <td>64.00</td>\n",
       "      <td>23.5</td>\n",
       "    </tr>\n",
       "    <tr>\n",
       "      <th>6</th>\n",
       "      <td>CDLINVERTEDHAMMER</td>\n",
       "      <td>62.50</td>\n",
       "      <td>14.0</td>\n",
       "    </tr>\n",
       "    <tr>\n",
       "      <th>7</th>\n",
       "      <td>CDLHARAMICROSS</td>\n",
       "      <td>58.00</td>\n",
       "      <td>41.0</td>\n",
       "    </tr>\n",
       "    <tr>\n",
       "      <th>8</th>\n",
       "      <td>CDLHANGINGMAN</td>\n",
       "      <td>56.25</td>\n",
       "      <td>35.0</td>\n",
       "    </tr>\n",
       "    <tr>\n",
       "      <th>9</th>\n",
       "      <td>CDLHIKKAKEMOD</td>\n",
       "      <td>54.00</td>\n",
       "      <td>6.0</td>\n",
       "    </tr>\n",
       "    <tr>\n",
       "      <th>10</th>\n",
       "      <td>CDLSHOOTINGSTAR</td>\n",
       "      <td>51.50</td>\n",
       "      <td>18.0</td>\n",
       "    </tr>\n",
       "    <tr>\n",
       "      <th>11</th>\n",
       "      <td>CDLXSIDEGAP3METHODS</td>\n",
       "      <td>51.25</td>\n",
       "      <td>18.0</td>\n",
       "    </tr>\n",
       "    <tr>\n",
       "      <th>12</th>\n",
       "      <td>CDLHARAMI</td>\n",
       "      <td>51.00</td>\n",
       "      <td>151.0</td>\n",
       "    </tr>\n",
       "    <tr>\n",
       "      <th>13</th>\n",
       "      <td>CDLMATCHINGLOW</td>\n",
       "      <td>51.00</td>\n",
       "      <td>53.0</td>\n",
       "    </tr>\n",
       "  </tbody>\n",
       "</table>\n",
       "</div>"
      ],
      "text/plain": [
       "                   name  prc_good_trades  num_trades\n",
       "0    CDLEVENINGDOJISTAR           100.00         1.0\n",
       "1     CDL3WHITESOLDIERS           100.00         1.0\n",
       "2       CDLHOMINGPIGEON           100.00         1.0\n",
       "3   CDLRISEFALL3METHODS            87.50         2.0\n",
       "4        CDL3LINESTRIKE            65.50         8.0\n",
       "5            CDL3INSIDE            64.00        23.5\n",
       "6     CDLINVERTEDHAMMER            62.50        14.0\n",
       "7        CDLHARAMICROSS            58.00        41.0\n",
       "8         CDLHANGINGMAN            56.25        35.0\n",
       "9         CDLHIKKAKEMOD            54.00         6.0\n",
       "10      CDLSHOOTINGSTAR            51.50        18.0\n",
       "11  CDLXSIDEGAP3METHODS            51.25        18.0\n",
       "12            CDLHARAMI            51.00       151.0\n",
       "13       CDLMATCHINGLOW            51.00        53.0"
      ]
     },
     "execution_count": 77,
     "metadata": {},
     "output_type": "execute_result"
    }
   ],
   "source": [
    "matic50 = pd.read_csv('matic50.csv')\n",
    "matic50"
   ]
  },
  {
   "cell_type": "code",
   "execution_count": 78,
   "id": "f189e518",
   "metadata": {},
   "outputs": [
    {
     "data": {
      "text/plain": [
       "CDLHARAMI              1.85\n",
       "CDLMATCHINGLOW         0.65\n",
       "CDLHARAMICROSS         0.50\n",
       "CDLHANGINGMAN          0.43\n",
       "CDL3INSIDE             0.29\n",
       "CDLSHOOTINGSTAR        0.22\n",
       "CDLXSIDEGAP3METHODS    0.22\n",
       "CDLINVERTEDHAMMER      0.17\n",
       "CDLHIKKAKEMOD          0.12\n",
       "CDL3LINESTRIKE         0.10\n",
       "CDLRISEFALL3METHODS    0.02\n",
       "CDLEVENINGDOJISTAR     0.01\n",
       "CDL3WHITESOLDIERS      0.01\n",
       "CDLHOMINGPIGEON        0.01\n",
       "Name: weekly_alerts, dtype: float64"
      ]
     },
     "execution_count": 78,
     "metadata": {},
     "output_type": "execute_result"
    }
   ],
   "source": [
    "df_matic = pd.read_csv('matic_patterns_4h.csv')\n",
    "stat_patterns_coin(matic50['name'].tolist(), df_matic)"
   ]
  },
  {
   "cell_type": "markdown",
   "id": "eafa342a",
   "metadata": {},
   "source": [
    "## Results <a id='5-bullet'></a>\n",
    "\n",
    "The most popular patterns are found on almost all coins: Hikkake and Hanging Man, while 10 of the selected patterns perform well on only one coin. Most patterns will be searched for FTT, while BTC is in the top three coins with the least number of patterns.\n",
    "&nbsp;<br>\n",
    "&nbsp;<br>"
   ]
  },
  {
   "cell_type": "code",
   "execution_count": 79,
   "id": "57a98473",
   "metadata": {},
   "outputs": [
    {
     "data": {
      "text/plain": [
       "CDLHIKKAKE         12\n",
       "CDLHANGINGMAN      12\n",
       "CDL3LINESTRIKE     11\n",
       "CDLSHOOTINGSTAR     9\n",
       "CDLMATCHINGLOW      9\n",
       "Name: name, dtype: int64"
      ]
     },
     "execution_count": 79,
     "metadata": {},
     "output_type": "execute_result"
    }
   ],
   "source": [
    "pdList = [one50, sol50, near50, doge50, btc50, \n",
    "          eth50, bnb50, xrp50, ada50, dot50, \n",
    "          atom50, ftt50, ltc50, avax50, matic50]\n",
    "\n",
    "new_df_all_50 = pd.concat(pdList)\n",
    "\n",
    "new_df_all_50['name'].value_counts().head()"
   ]
  },
  {
   "cell_type": "code",
   "execution_count": 80,
   "id": "b6267fac",
   "metadata": {},
   "outputs": [
    {
     "name": "stdout",
     "output_type": "stream",
     "text": [
      "Total number of patterns selected: 47\n"
     ]
    }
   ],
   "source": [
    "print(f\"Total number of patterns selected: {len(new_df_all_50['name'].value_counts().index)}\")"
   ]
  },
  {
   "cell_type": "code",
   "execution_count": 81,
   "id": "c7bf0105",
   "metadata": {},
   "outputs": [
    {
     "data": {
      "application/vnd.plotly.v1+json": {
       "config": {
        "linkText": "Export to plot.ly",
        "plotlyServerURL": "https://plot.ly",
        "showLink": false
       },
       "data": [
        {
         "type": "bar",
         "x": [
          "CDLHIKKAKE",
          "CDLHANGINGMAN",
          "CDL3LINESTRIKE",
          "CDLSHOOTINGSTAR",
          "CDLMATCHINGLOW",
          "CDLDOJISTAR",
          "CDLINVERTEDHAMMER",
          "CDLXSIDEGAP3METHODS",
          "CDLRICKSHAWMAN",
          "CDLEVENINGSTAR",
          "CDLHARAMI",
          "CDLEVENINGDOJISTAR",
          "CDLMORNINGSTAR",
          "CDLHARAMICROSS",
          "CDLSTALLEDPATTERN",
          "CDLDOJI",
          "CDLGAPSIDESIDEWHITE",
          "CDLMARUBOZU",
          "CDLHAMMER",
          "CDLMORNINGDOJISTAR",
          "CDLHIGHWAVE",
          "CDLSEPARATINGLINES",
          "CDLHIKKAKEMOD",
          "CDL3WHITESOLDIERS",
          "CDLIDENTICAL3CROWS",
          "CDLLONGLEGGEDDOJI",
          "CDLGRAVESTONEDOJI",
          "CDLCLOSINGMARUBOZU",
          "CDL3INSIDE",
          "CDLSPINNINGTOP",
          "CDLHOMINGPIGEON",
          "CDLADVANCEBLOCK",
          "CDLDRAGONFLYDOJI",
          "CDLRISEFALL3METHODS",
          "CDLTAKURI",
          "CDLTASUKIGAP",
          "CDLLONGLINE",
          "CDLTHRUSTING",
          "CDLLADDERBOTTOM",
          "CDLPIERCING",
          "CDLSHORTLINE",
          "CDL3BLACKCROWS",
          "CDLBELTHOLD",
          "CDLSTICKSANDWICH",
          "CDLINNECK",
          "CDLDARKCLOUDCOVER",
          "CDL3OUTSIDE"
         ],
         "y": [
          12,
          12,
          11,
          9,
          9,
          8,
          7,
          7,
          7,
          7,
          7,
          6,
          6,
          6,
          6,
          5,
          5,
          5,
          5,
          5,
          5,
          4,
          4,
          4,
          4,
          4,
          4,
          4,
          4,
          3,
          3,
          2,
          2,
          2,
          2,
          2,
          2,
          1,
          1,
          1,
          1,
          1,
          1,
          1,
          1,
          1,
          1
         ]
        }
       ],
       "layout": {
        "template": {
         "data": {
          "bar": [
           {
            "error_x": {
             "color": "#2a3f5f"
            },
            "error_y": {
             "color": "#2a3f5f"
            },
            "marker": {
             "line": {
              "color": "#E5ECF6",
              "width": 0.5
             },
             "pattern": {
              "fillmode": "overlay",
              "size": 10,
              "solidity": 0.2
             }
            },
            "type": "bar"
           }
          ],
          "barpolar": [
           {
            "marker": {
             "line": {
              "color": "#E5ECF6",
              "width": 0.5
             },
             "pattern": {
              "fillmode": "overlay",
              "size": 10,
              "solidity": 0.2
             }
            },
            "type": "barpolar"
           }
          ],
          "carpet": [
           {
            "aaxis": {
             "endlinecolor": "#2a3f5f",
             "gridcolor": "white",
             "linecolor": "white",
             "minorgridcolor": "white",
             "startlinecolor": "#2a3f5f"
            },
            "baxis": {
             "endlinecolor": "#2a3f5f",
             "gridcolor": "white",
             "linecolor": "white",
             "minorgridcolor": "white",
             "startlinecolor": "#2a3f5f"
            },
            "type": "carpet"
           }
          ],
          "choropleth": [
           {
            "colorbar": {
             "outlinewidth": 0,
             "ticks": ""
            },
            "type": "choropleth"
           }
          ],
          "contour": [
           {
            "colorbar": {
             "outlinewidth": 0,
             "ticks": ""
            },
            "colorscale": [
             [
              0,
              "#0d0887"
             ],
             [
              0.1111111111111111,
              "#46039f"
             ],
             [
              0.2222222222222222,
              "#7201a8"
             ],
             [
              0.3333333333333333,
              "#9c179e"
             ],
             [
              0.4444444444444444,
              "#bd3786"
             ],
             [
              0.5555555555555556,
              "#d8576b"
             ],
             [
              0.6666666666666666,
              "#ed7953"
             ],
             [
              0.7777777777777778,
              "#fb9f3a"
             ],
             [
              0.8888888888888888,
              "#fdca26"
             ],
             [
              1,
              "#f0f921"
             ]
            ],
            "type": "contour"
           }
          ],
          "contourcarpet": [
           {
            "colorbar": {
             "outlinewidth": 0,
             "ticks": ""
            },
            "type": "contourcarpet"
           }
          ],
          "heatmap": [
           {
            "colorbar": {
             "outlinewidth": 0,
             "ticks": ""
            },
            "colorscale": [
             [
              0,
              "#0d0887"
             ],
             [
              0.1111111111111111,
              "#46039f"
             ],
             [
              0.2222222222222222,
              "#7201a8"
             ],
             [
              0.3333333333333333,
              "#9c179e"
             ],
             [
              0.4444444444444444,
              "#bd3786"
             ],
             [
              0.5555555555555556,
              "#d8576b"
             ],
             [
              0.6666666666666666,
              "#ed7953"
             ],
             [
              0.7777777777777778,
              "#fb9f3a"
             ],
             [
              0.8888888888888888,
              "#fdca26"
             ],
             [
              1,
              "#f0f921"
             ]
            ],
            "type": "heatmap"
           }
          ],
          "heatmapgl": [
           {
            "colorbar": {
             "outlinewidth": 0,
             "ticks": ""
            },
            "colorscale": [
             [
              0,
              "#0d0887"
             ],
             [
              0.1111111111111111,
              "#46039f"
             ],
             [
              0.2222222222222222,
              "#7201a8"
             ],
             [
              0.3333333333333333,
              "#9c179e"
             ],
             [
              0.4444444444444444,
              "#bd3786"
             ],
             [
              0.5555555555555556,
              "#d8576b"
             ],
             [
              0.6666666666666666,
              "#ed7953"
             ],
             [
              0.7777777777777778,
              "#fb9f3a"
             ],
             [
              0.8888888888888888,
              "#fdca26"
             ],
             [
              1,
              "#f0f921"
             ]
            ],
            "type": "heatmapgl"
           }
          ],
          "histogram": [
           {
            "marker": {
             "pattern": {
              "fillmode": "overlay",
              "size": 10,
              "solidity": 0.2
             }
            },
            "type": "histogram"
           }
          ],
          "histogram2d": [
           {
            "colorbar": {
             "outlinewidth": 0,
             "ticks": ""
            },
            "colorscale": [
             [
              0,
              "#0d0887"
             ],
             [
              0.1111111111111111,
              "#46039f"
             ],
             [
              0.2222222222222222,
              "#7201a8"
             ],
             [
              0.3333333333333333,
              "#9c179e"
             ],
             [
              0.4444444444444444,
              "#bd3786"
             ],
             [
              0.5555555555555556,
              "#d8576b"
             ],
             [
              0.6666666666666666,
              "#ed7953"
             ],
             [
              0.7777777777777778,
              "#fb9f3a"
             ],
             [
              0.8888888888888888,
              "#fdca26"
             ],
             [
              1,
              "#f0f921"
             ]
            ],
            "type": "histogram2d"
           }
          ],
          "histogram2dcontour": [
           {
            "colorbar": {
             "outlinewidth": 0,
             "ticks": ""
            },
            "colorscale": [
             [
              0,
              "#0d0887"
             ],
             [
              0.1111111111111111,
              "#46039f"
             ],
             [
              0.2222222222222222,
              "#7201a8"
             ],
             [
              0.3333333333333333,
              "#9c179e"
             ],
             [
              0.4444444444444444,
              "#bd3786"
             ],
             [
              0.5555555555555556,
              "#d8576b"
             ],
             [
              0.6666666666666666,
              "#ed7953"
             ],
             [
              0.7777777777777778,
              "#fb9f3a"
             ],
             [
              0.8888888888888888,
              "#fdca26"
             ],
             [
              1,
              "#f0f921"
             ]
            ],
            "type": "histogram2dcontour"
           }
          ],
          "mesh3d": [
           {
            "colorbar": {
             "outlinewidth": 0,
             "ticks": ""
            },
            "type": "mesh3d"
           }
          ],
          "parcoords": [
           {
            "line": {
             "colorbar": {
              "outlinewidth": 0,
              "ticks": ""
             }
            },
            "type": "parcoords"
           }
          ],
          "pie": [
           {
            "automargin": true,
            "type": "pie"
           }
          ],
          "scatter": [
           {
            "fillpattern": {
             "fillmode": "overlay",
             "size": 10,
             "solidity": 0.2
            },
            "type": "scatter"
           }
          ],
          "scatter3d": [
           {
            "line": {
             "colorbar": {
              "outlinewidth": 0,
              "ticks": ""
             }
            },
            "marker": {
             "colorbar": {
              "outlinewidth": 0,
              "ticks": ""
             }
            },
            "type": "scatter3d"
           }
          ],
          "scattercarpet": [
           {
            "marker": {
             "colorbar": {
              "outlinewidth": 0,
              "ticks": ""
             }
            },
            "type": "scattercarpet"
           }
          ],
          "scattergeo": [
           {
            "marker": {
             "colorbar": {
              "outlinewidth": 0,
              "ticks": ""
             }
            },
            "type": "scattergeo"
           }
          ],
          "scattergl": [
           {
            "marker": {
             "colorbar": {
              "outlinewidth": 0,
              "ticks": ""
             }
            },
            "type": "scattergl"
           }
          ],
          "scattermapbox": [
           {
            "marker": {
             "colorbar": {
              "outlinewidth": 0,
              "ticks": ""
             }
            },
            "type": "scattermapbox"
           }
          ],
          "scatterpolar": [
           {
            "marker": {
             "colorbar": {
              "outlinewidth": 0,
              "ticks": ""
             }
            },
            "type": "scatterpolar"
           }
          ],
          "scatterpolargl": [
           {
            "marker": {
             "colorbar": {
              "outlinewidth": 0,
              "ticks": ""
             }
            },
            "type": "scatterpolargl"
           }
          ],
          "scatterternary": [
           {
            "marker": {
             "colorbar": {
              "outlinewidth": 0,
              "ticks": ""
             }
            },
            "type": "scatterternary"
           }
          ],
          "surface": [
           {
            "colorbar": {
             "outlinewidth": 0,
             "ticks": ""
            },
            "colorscale": [
             [
              0,
              "#0d0887"
             ],
             [
              0.1111111111111111,
              "#46039f"
             ],
             [
              0.2222222222222222,
              "#7201a8"
             ],
             [
              0.3333333333333333,
              "#9c179e"
             ],
             [
              0.4444444444444444,
              "#bd3786"
             ],
             [
              0.5555555555555556,
              "#d8576b"
             ],
             [
              0.6666666666666666,
              "#ed7953"
             ],
             [
              0.7777777777777778,
              "#fb9f3a"
             ],
             [
              0.8888888888888888,
              "#fdca26"
             ],
             [
              1,
              "#f0f921"
             ]
            ],
            "type": "surface"
           }
          ],
          "table": [
           {
            "cells": {
             "fill": {
              "color": "#EBF0F8"
             },
             "line": {
              "color": "white"
             }
            },
            "header": {
             "fill": {
              "color": "#C8D4E3"
             },
             "line": {
              "color": "white"
             }
            },
            "type": "table"
           }
          ]
         },
         "layout": {
          "annotationdefaults": {
           "arrowcolor": "#2a3f5f",
           "arrowhead": 0,
           "arrowwidth": 1
          },
          "autotypenumbers": "strict",
          "coloraxis": {
           "colorbar": {
            "outlinewidth": 0,
            "ticks": ""
           }
          },
          "colorscale": {
           "diverging": [
            [
             0,
             "#8e0152"
            ],
            [
             0.1,
             "#c51b7d"
            ],
            [
             0.2,
             "#de77ae"
            ],
            [
             0.3,
             "#f1b6da"
            ],
            [
             0.4,
             "#fde0ef"
            ],
            [
             0.5,
             "#f7f7f7"
            ],
            [
             0.6,
             "#e6f5d0"
            ],
            [
             0.7,
             "#b8e186"
            ],
            [
             0.8,
             "#7fbc41"
            ],
            [
             0.9,
             "#4d9221"
            ],
            [
             1,
             "#276419"
            ]
           ],
           "sequential": [
            [
             0,
             "#0d0887"
            ],
            [
             0.1111111111111111,
             "#46039f"
            ],
            [
             0.2222222222222222,
             "#7201a8"
            ],
            [
             0.3333333333333333,
             "#9c179e"
            ],
            [
             0.4444444444444444,
             "#bd3786"
            ],
            [
             0.5555555555555556,
             "#d8576b"
            ],
            [
             0.6666666666666666,
             "#ed7953"
            ],
            [
             0.7777777777777778,
             "#fb9f3a"
            ],
            [
             0.8888888888888888,
             "#fdca26"
            ],
            [
             1,
             "#f0f921"
            ]
           ],
           "sequentialminus": [
            [
             0,
             "#0d0887"
            ],
            [
             0.1111111111111111,
             "#46039f"
            ],
            [
             0.2222222222222222,
             "#7201a8"
            ],
            [
             0.3333333333333333,
             "#9c179e"
            ],
            [
             0.4444444444444444,
             "#bd3786"
            ],
            [
             0.5555555555555556,
             "#d8576b"
            ],
            [
             0.6666666666666666,
             "#ed7953"
            ],
            [
             0.7777777777777778,
             "#fb9f3a"
            ],
            [
             0.8888888888888888,
             "#fdca26"
            ],
            [
             1,
             "#f0f921"
            ]
           ]
          },
          "colorway": [
           "#636efa",
           "#EF553B",
           "#00cc96",
           "#ab63fa",
           "#FFA15A",
           "#19d3f3",
           "#FF6692",
           "#B6E880",
           "#FF97FF",
           "#FECB52"
          ],
          "font": {
           "color": "#2a3f5f"
          },
          "geo": {
           "bgcolor": "white",
           "lakecolor": "white",
           "landcolor": "#E5ECF6",
           "showlakes": true,
           "showland": true,
           "subunitcolor": "white"
          },
          "hoverlabel": {
           "align": "left"
          },
          "hovermode": "closest",
          "mapbox": {
           "style": "light"
          },
          "paper_bgcolor": "white",
          "plot_bgcolor": "#E5ECF6",
          "polar": {
           "angularaxis": {
            "gridcolor": "white",
            "linecolor": "white",
            "ticks": ""
           },
           "bgcolor": "#E5ECF6",
           "radialaxis": {
            "gridcolor": "white",
            "linecolor": "white",
            "ticks": ""
           }
          },
          "scene": {
           "xaxis": {
            "backgroundcolor": "#E5ECF6",
            "gridcolor": "white",
            "gridwidth": 2,
            "linecolor": "white",
            "showbackground": true,
            "ticks": "",
            "zerolinecolor": "white"
           },
           "yaxis": {
            "backgroundcolor": "#E5ECF6",
            "gridcolor": "white",
            "gridwidth": 2,
            "linecolor": "white",
            "showbackground": true,
            "ticks": "",
            "zerolinecolor": "white"
           },
           "zaxis": {
            "backgroundcolor": "#E5ECF6",
            "gridcolor": "white",
            "gridwidth": 2,
            "linecolor": "white",
            "showbackground": true,
            "ticks": "",
            "zerolinecolor": "white"
           }
          },
          "shapedefaults": {
           "line": {
            "color": "#2a3f5f"
           }
          },
          "ternary": {
           "aaxis": {
            "gridcolor": "white",
            "linecolor": "white",
            "ticks": ""
           },
           "baxis": {
            "gridcolor": "white",
            "linecolor": "white",
            "ticks": ""
           },
           "bgcolor": "#E5ECF6",
           "caxis": {
            "gridcolor": "white",
            "linecolor": "white",
            "ticks": ""
           }
          },
          "title": {
           "x": 0.05
          },
          "xaxis": {
           "automargin": true,
           "gridcolor": "white",
           "linecolor": "white",
           "ticks": "",
           "title": {
            "standoff": 15
           },
           "zerolinecolor": "white",
           "zerolinewidth": 2
          },
          "yaxis": {
           "automargin": true,
           "gridcolor": "white",
           "linecolor": "white",
           "ticks": "",
           "title": {
            "standoff": 15
           },
           "zerolinecolor": "white",
           "zerolinewidth": 2
          }
         }
        },
        "title": {
         "text": "Selected patterns"
        },
        "xaxis": {
         "tickangle": 45,
         "tickfont": {
          "family": "Rockwell",
          "size": 14
         }
        }
       }
      },
      "text/html": [
       "<div>                            <div id=\"4046dde0-c12d-4616-b78c-ee938132132d\" class=\"plotly-graph-div\" style=\"height:525px; width:100%;\"></div>            <script type=\"text/javascript\">                require([\"plotly\"], function(Plotly) {                    window.PLOTLYENV=window.PLOTLYENV || {};                                    if (document.getElementById(\"4046dde0-c12d-4616-b78c-ee938132132d\")) {                    Plotly.newPlot(                        \"4046dde0-c12d-4616-b78c-ee938132132d\",                        [{\"x\":[\"CDLHIKKAKE\",\"CDLHANGINGMAN\",\"CDL3LINESTRIKE\",\"CDLSHOOTINGSTAR\",\"CDLMATCHINGLOW\",\"CDLDOJISTAR\",\"CDLINVERTEDHAMMER\",\"CDLXSIDEGAP3METHODS\",\"CDLRICKSHAWMAN\",\"CDLEVENINGSTAR\",\"CDLHARAMI\",\"CDLEVENINGDOJISTAR\",\"CDLMORNINGSTAR\",\"CDLHARAMICROSS\",\"CDLSTALLEDPATTERN\",\"CDLDOJI\",\"CDLGAPSIDESIDEWHITE\",\"CDLMARUBOZU\",\"CDLHAMMER\",\"CDLMORNINGDOJISTAR\",\"CDLHIGHWAVE\",\"CDLSEPARATINGLINES\",\"CDLHIKKAKEMOD\",\"CDL3WHITESOLDIERS\",\"CDLIDENTICAL3CROWS\",\"CDLLONGLEGGEDDOJI\",\"CDLGRAVESTONEDOJI\",\"CDLCLOSINGMARUBOZU\",\"CDL3INSIDE\",\"CDLSPINNINGTOP\",\"CDLHOMINGPIGEON\",\"CDLADVANCEBLOCK\",\"CDLDRAGONFLYDOJI\",\"CDLRISEFALL3METHODS\",\"CDLTAKURI\",\"CDLTASUKIGAP\",\"CDLLONGLINE\",\"CDLTHRUSTING\",\"CDLLADDERBOTTOM\",\"CDLPIERCING\",\"CDLSHORTLINE\",\"CDL3BLACKCROWS\",\"CDLBELTHOLD\",\"CDLSTICKSANDWICH\",\"CDLINNECK\",\"CDLDARKCLOUDCOVER\",\"CDL3OUTSIDE\"],\"y\":[12,12,11,9,9,8,7,7,7,7,7,6,6,6,6,5,5,5,5,5,5,4,4,4,4,4,4,4,4,3,3,2,2,2,2,2,2,1,1,1,1,1,1,1,1,1,1],\"type\":\"bar\"}],                        {\"template\":{\"data\":{\"barpolar\":[{\"marker\":{\"line\":{\"color\":\"#E5ECF6\",\"width\":0.5},\"pattern\":{\"fillmode\":\"overlay\",\"size\":10,\"solidity\":0.2}},\"type\":\"barpolar\"}],\"bar\":[{\"error_x\":{\"color\":\"#2a3f5f\"},\"error_y\":{\"color\":\"#2a3f5f\"},\"marker\":{\"line\":{\"color\":\"#E5ECF6\",\"width\":0.5},\"pattern\":{\"fillmode\":\"overlay\",\"size\":10,\"solidity\":0.2}},\"type\":\"bar\"}],\"carpet\":[{\"aaxis\":{\"endlinecolor\":\"#2a3f5f\",\"gridcolor\":\"white\",\"linecolor\":\"white\",\"minorgridcolor\":\"white\",\"startlinecolor\":\"#2a3f5f\"},\"baxis\":{\"endlinecolor\":\"#2a3f5f\",\"gridcolor\":\"white\",\"linecolor\":\"white\",\"minorgridcolor\":\"white\",\"startlinecolor\":\"#2a3f5f\"},\"type\":\"carpet\"}],\"choropleth\":[{\"colorbar\":{\"outlinewidth\":0,\"ticks\":\"\"},\"type\":\"choropleth\"}],\"contourcarpet\":[{\"colorbar\":{\"outlinewidth\":0,\"ticks\":\"\"},\"type\":\"contourcarpet\"}],\"contour\":[{\"colorbar\":{\"outlinewidth\":0,\"ticks\":\"\"},\"colorscale\":[[0.0,\"#0d0887\"],[0.1111111111111111,\"#46039f\"],[0.2222222222222222,\"#7201a8\"],[0.3333333333333333,\"#9c179e\"],[0.4444444444444444,\"#bd3786\"],[0.5555555555555556,\"#d8576b\"],[0.6666666666666666,\"#ed7953\"],[0.7777777777777778,\"#fb9f3a\"],[0.8888888888888888,\"#fdca26\"],[1.0,\"#f0f921\"]],\"type\":\"contour\"}],\"heatmapgl\":[{\"colorbar\":{\"outlinewidth\":0,\"ticks\":\"\"},\"colorscale\":[[0.0,\"#0d0887\"],[0.1111111111111111,\"#46039f\"],[0.2222222222222222,\"#7201a8\"],[0.3333333333333333,\"#9c179e\"],[0.4444444444444444,\"#bd3786\"],[0.5555555555555556,\"#d8576b\"],[0.6666666666666666,\"#ed7953\"],[0.7777777777777778,\"#fb9f3a\"],[0.8888888888888888,\"#fdca26\"],[1.0,\"#f0f921\"]],\"type\":\"heatmapgl\"}],\"heatmap\":[{\"colorbar\":{\"outlinewidth\":0,\"ticks\":\"\"},\"colorscale\":[[0.0,\"#0d0887\"],[0.1111111111111111,\"#46039f\"],[0.2222222222222222,\"#7201a8\"],[0.3333333333333333,\"#9c179e\"],[0.4444444444444444,\"#bd3786\"],[0.5555555555555556,\"#d8576b\"],[0.6666666666666666,\"#ed7953\"],[0.7777777777777778,\"#fb9f3a\"],[0.8888888888888888,\"#fdca26\"],[1.0,\"#f0f921\"]],\"type\":\"heatmap\"}],\"histogram2dcontour\":[{\"colorbar\":{\"outlinewidth\":0,\"ticks\":\"\"},\"colorscale\":[[0.0,\"#0d0887\"],[0.1111111111111111,\"#46039f\"],[0.2222222222222222,\"#7201a8\"],[0.3333333333333333,\"#9c179e\"],[0.4444444444444444,\"#bd3786\"],[0.5555555555555556,\"#d8576b\"],[0.6666666666666666,\"#ed7953\"],[0.7777777777777778,\"#fb9f3a\"],[0.8888888888888888,\"#fdca26\"],[1.0,\"#f0f921\"]],\"type\":\"histogram2dcontour\"}],\"histogram2d\":[{\"colorbar\":{\"outlinewidth\":0,\"ticks\":\"\"},\"colorscale\":[[0.0,\"#0d0887\"],[0.1111111111111111,\"#46039f\"],[0.2222222222222222,\"#7201a8\"],[0.3333333333333333,\"#9c179e\"],[0.4444444444444444,\"#bd3786\"],[0.5555555555555556,\"#d8576b\"],[0.6666666666666666,\"#ed7953\"],[0.7777777777777778,\"#fb9f3a\"],[0.8888888888888888,\"#fdca26\"],[1.0,\"#f0f921\"]],\"type\":\"histogram2d\"}],\"histogram\":[{\"marker\":{\"pattern\":{\"fillmode\":\"overlay\",\"size\":10,\"solidity\":0.2}},\"type\":\"histogram\"}],\"mesh3d\":[{\"colorbar\":{\"outlinewidth\":0,\"ticks\":\"\"},\"type\":\"mesh3d\"}],\"parcoords\":[{\"line\":{\"colorbar\":{\"outlinewidth\":0,\"ticks\":\"\"}},\"type\":\"parcoords\"}],\"pie\":[{\"automargin\":true,\"type\":\"pie\"}],\"scatter3d\":[{\"line\":{\"colorbar\":{\"outlinewidth\":0,\"ticks\":\"\"}},\"marker\":{\"colorbar\":{\"outlinewidth\":0,\"ticks\":\"\"}},\"type\":\"scatter3d\"}],\"scattercarpet\":[{\"marker\":{\"colorbar\":{\"outlinewidth\":0,\"ticks\":\"\"}},\"type\":\"scattercarpet\"}],\"scattergeo\":[{\"marker\":{\"colorbar\":{\"outlinewidth\":0,\"ticks\":\"\"}},\"type\":\"scattergeo\"}],\"scattergl\":[{\"marker\":{\"colorbar\":{\"outlinewidth\":0,\"ticks\":\"\"}},\"type\":\"scattergl\"}],\"scattermapbox\":[{\"marker\":{\"colorbar\":{\"outlinewidth\":0,\"ticks\":\"\"}},\"type\":\"scattermapbox\"}],\"scatterpolargl\":[{\"marker\":{\"colorbar\":{\"outlinewidth\":0,\"ticks\":\"\"}},\"type\":\"scatterpolargl\"}],\"scatterpolar\":[{\"marker\":{\"colorbar\":{\"outlinewidth\":0,\"ticks\":\"\"}},\"type\":\"scatterpolar\"}],\"scatter\":[{\"fillpattern\":{\"fillmode\":\"overlay\",\"size\":10,\"solidity\":0.2},\"type\":\"scatter\"}],\"scatterternary\":[{\"marker\":{\"colorbar\":{\"outlinewidth\":0,\"ticks\":\"\"}},\"type\":\"scatterternary\"}],\"surface\":[{\"colorbar\":{\"outlinewidth\":0,\"ticks\":\"\"},\"colorscale\":[[0.0,\"#0d0887\"],[0.1111111111111111,\"#46039f\"],[0.2222222222222222,\"#7201a8\"],[0.3333333333333333,\"#9c179e\"],[0.4444444444444444,\"#bd3786\"],[0.5555555555555556,\"#d8576b\"],[0.6666666666666666,\"#ed7953\"],[0.7777777777777778,\"#fb9f3a\"],[0.8888888888888888,\"#fdca26\"],[1.0,\"#f0f921\"]],\"type\":\"surface\"}],\"table\":[{\"cells\":{\"fill\":{\"color\":\"#EBF0F8\"},\"line\":{\"color\":\"white\"}},\"header\":{\"fill\":{\"color\":\"#C8D4E3\"},\"line\":{\"color\":\"white\"}},\"type\":\"table\"}]},\"layout\":{\"annotationdefaults\":{\"arrowcolor\":\"#2a3f5f\",\"arrowhead\":0,\"arrowwidth\":1},\"autotypenumbers\":\"strict\",\"coloraxis\":{\"colorbar\":{\"outlinewidth\":0,\"ticks\":\"\"}},\"colorscale\":{\"diverging\":[[0,\"#8e0152\"],[0.1,\"#c51b7d\"],[0.2,\"#de77ae\"],[0.3,\"#f1b6da\"],[0.4,\"#fde0ef\"],[0.5,\"#f7f7f7\"],[0.6,\"#e6f5d0\"],[0.7,\"#b8e186\"],[0.8,\"#7fbc41\"],[0.9,\"#4d9221\"],[1,\"#276419\"]],\"sequential\":[[0.0,\"#0d0887\"],[0.1111111111111111,\"#46039f\"],[0.2222222222222222,\"#7201a8\"],[0.3333333333333333,\"#9c179e\"],[0.4444444444444444,\"#bd3786\"],[0.5555555555555556,\"#d8576b\"],[0.6666666666666666,\"#ed7953\"],[0.7777777777777778,\"#fb9f3a\"],[0.8888888888888888,\"#fdca26\"],[1.0,\"#f0f921\"]],\"sequentialminus\":[[0.0,\"#0d0887\"],[0.1111111111111111,\"#46039f\"],[0.2222222222222222,\"#7201a8\"],[0.3333333333333333,\"#9c179e\"],[0.4444444444444444,\"#bd3786\"],[0.5555555555555556,\"#d8576b\"],[0.6666666666666666,\"#ed7953\"],[0.7777777777777778,\"#fb9f3a\"],[0.8888888888888888,\"#fdca26\"],[1.0,\"#f0f921\"]]},\"colorway\":[\"#636efa\",\"#EF553B\",\"#00cc96\",\"#ab63fa\",\"#FFA15A\",\"#19d3f3\",\"#FF6692\",\"#B6E880\",\"#FF97FF\",\"#FECB52\"],\"font\":{\"color\":\"#2a3f5f\"},\"geo\":{\"bgcolor\":\"white\",\"lakecolor\":\"white\",\"landcolor\":\"#E5ECF6\",\"showlakes\":true,\"showland\":true,\"subunitcolor\":\"white\"},\"hoverlabel\":{\"align\":\"left\"},\"hovermode\":\"closest\",\"mapbox\":{\"style\":\"light\"},\"paper_bgcolor\":\"white\",\"plot_bgcolor\":\"#E5ECF6\",\"polar\":{\"angularaxis\":{\"gridcolor\":\"white\",\"linecolor\":\"white\",\"ticks\":\"\"},\"bgcolor\":\"#E5ECF6\",\"radialaxis\":{\"gridcolor\":\"white\",\"linecolor\":\"white\",\"ticks\":\"\"}},\"scene\":{\"xaxis\":{\"backgroundcolor\":\"#E5ECF6\",\"gridcolor\":\"white\",\"gridwidth\":2,\"linecolor\":\"white\",\"showbackground\":true,\"ticks\":\"\",\"zerolinecolor\":\"white\"},\"yaxis\":{\"backgroundcolor\":\"#E5ECF6\",\"gridcolor\":\"white\",\"gridwidth\":2,\"linecolor\":\"white\",\"showbackground\":true,\"ticks\":\"\",\"zerolinecolor\":\"white\"},\"zaxis\":{\"backgroundcolor\":\"#E5ECF6\",\"gridcolor\":\"white\",\"gridwidth\":2,\"linecolor\":\"white\",\"showbackground\":true,\"ticks\":\"\",\"zerolinecolor\":\"white\"}},\"shapedefaults\":{\"line\":{\"color\":\"#2a3f5f\"}},\"ternary\":{\"aaxis\":{\"gridcolor\":\"white\",\"linecolor\":\"white\",\"ticks\":\"\"},\"baxis\":{\"gridcolor\":\"white\",\"linecolor\":\"white\",\"ticks\":\"\"},\"bgcolor\":\"#E5ECF6\",\"caxis\":{\"gridcolor\":\"white\",\"linecolor\":\"white\",\"ticks\":\"\"}},\"title\":{\"x\":0.05},\"xaxis\":{\"automargin\":true,\"gridcolor\":\"white\",\"linecolor\":\"white\",\"ticks\":\"\",\"title\":{\"standoff\":15},\"zerolinecolor\":\"white\",\"zerolinewidth\":2},\"yaxis\":{\"automargin\":true,\"gridcolor\":\"white\",\"linecolor\":\"white\",\"ticks\":\"\",\"title\":{\"standoff\":15},\"zerolinecolor\":\"white\",\"zerolinewidth\":2}}},\"title\":{\"text\":\"Selected patterns\"},\"xaxis\":{\"tickangle\":45,\"tickfont\":{\"family\":\"Rockwell\",\"size\":14}}},                        {\"responsive\": true}                    ).then(function(){\n",
       "                            \n",
       "var gd = document.getElementById('4046dde0-c12d-4616-b78c-ee938132132d');\n",
       "var x = new MutationObserver(function (mutations, observer) {{\n",
       "        var display = window.getComputedStyle(gd).display;\n",
       "        if (!display || display === 'none') {{\n",
       "            console.log([gd, 'removed!']);\n",
       "            Plotly.purge(gd);\n",
       "            observer.disconnect();\n",
       "        }}\n",
       "}});\n",
       "\n",
       "// Listen for the removal of the full notebook cells\n",
       "var notebookContainer = gd.closest('#notebook-container');\n",
       "if (notebookContainer) {{\n",
       "    x.observe(notebookContainer, {childList: true});\n",
       "}}\n",
       "\n",
       "// Listen for the clearing of the current output cell\n",
       "var outputEl = gd.closest('.output');\n",
       "if (outputEl) {{\n",
       "    x.observe(outputEl, {childList: true});\n",
       "}}\n",
       "\n",
       "                        })                };                });            </script>        </div>"
      ]
     },
     "metadata": {},
     "output_type": "display_data"
    }
   ],
   "source": [
    "fig = go.Figure()\n",
    "\n",
    "fig.add_trace(go.Bar(x=new_df_all_50['name'].value_counts().index, \n",
    "                         y=new_df_all_50['name'].value_counts().values))\n",
    "\n",
    "\n",
    "fig.update_layout(title = 'Selected patterns')\n",
    "fig.update_xaxes(tickangle=45, tickfont=dict(family='Rockwell', size=14))\n",
    "iplot(fig, show_link=False)"
   ]
  },
  {
   "cell_type": "markdown",
   "id": "e0bc677a",
   "metadata": {},
   "source": [
    "![selected](https://lh4.googleusercontent.com/qJdvSy3MFe3P9x7Q2Wm-ByXmLJXGd2W3sHlenpjmPHkQv0hbaTxScHwlLbMyH9Q_F5kEayMfvVVhqdpJpAONJe5QoMZCViKI3ggmbokSMgYUCCa-d2euV2ugyUEW3IO3TjRzmP9WgqvXKv1gN9HScZQ)\n",
    "\n",
    "\n",
    "![selected](https://lh5.googleusercontent.com/XhxL-hMQNdwXLnprC7PEczaHbgd3NSxSAYiszaZ5j4jeBPybFTFMEFG8bjB0dLwvx4XNiODGfrGuoTocR_2B35sCvPPb8IY-golYOuBOgiV1By9weH2xLVn2EcwAA3CsielvmFlM34WUiSqyzKgeO7A)"
   ]
  },
  {
   "cell_type": "code",
   "execution_count": null,
   "id": "90e74487",
   "metadata": {},
   "outputs": [],
   "source": []
  }
 ],
 "metadata": {
  "hide_input": false,
  "kernelspec": {
   "display_name": "firstEnv",
   "language": "python",
   "name": "firstenv"
  },
  "language_info": {
   "codemirror_mode": {
    "name": "ipython",
    "version": 3
   },
   "file_extension": ".py",
   "mimetype": "text/x-python",
   "name": "python",
   "nbconvert_exporter": "python",
   "pygments_lexer": "ipython3",
   "version": "3.10.4"
  }
 },
 "nbformat": 4,
 "nbformat_minor": 5
}
